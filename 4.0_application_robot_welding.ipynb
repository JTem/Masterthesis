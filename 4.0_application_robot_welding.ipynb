{
 "cells": [
  {
   "cell_type": "code",
   "execution_count": 1,
   "id": "7332fbf8-e307-4892-beba-026235193ae5",
   "metadata": {},
   "outputs": [],
   "source": [
    "from helper import *\n",
    "from Simulation.WaitTime import WaitTime\n",
    "from Simulation.MoveJoint import MoveJoint\n",
    "from Simulation.MoveLinear import MoveLinear\n",
    "from Simulation.Simulation import Simulation\n",
    "from neura_dual_quaternions import DualQuaternion, Quaternion"
   ]
  },
  {
   "cell_type": "code",
   "execution_count": 2,
   "id": "1c519008-7fbd-48f3-a748-43c8592d9353",
   "metadata": {
    "tags": []
   },
   "outputs": [
    {
     "name": "stdout",
     "output_type": "stream",
     "text": [
      "DualQuaternion(Real: Quaternion(0.156, 0.000, 0.988, 0.000), Dual: Quaternion(0.000, -0.070, 0.000, 0.517))\n",
      "DualQuaternion(Real: Quaternion(0.309, 0.951, 0.000, 0.000), Dual: Quaternion(-0.476, 0.155, 0.315, -0.161))\n"
     ]
    }
   ],
   "source": [
    "q2 = np.array([0, deg2rad(-60), 0, deg2rad(-60), 0, deg2rad(-60), 0])\n",
    "q3 = -q2\n",
    "\n",
    "q4 = np.array([deg2rad(-180), deg2rad(-90), deg2rad(-180), deg2rad(-150), deg2rad(-180), deg2rad(-120), deg2rad(-180)])\n",
    "q5 = -q4\n",
    "\n",
    "x1 = DualQuaternion.fromQuatPos(Quaternion.fromAxisAngle(np.pi*0.9, np.array([0,1,0])), np.array([1,0,0.3]))\n",
    "x2 = DualQuaternion.fromQuatPos(Quaternion.fromAxisAngle(np.pi*0.8, np.array([1,0,0])), np.array([1,0.5,0.5]))     \n",
    "print(x1)\n",
    "print(x2)\n",
    "task_list = np.array([WaitTime(2), MoveJoint(q3, 3), MoveLinear(x1, 2), MoveLinear(x2, 2)])"
   ]
  },
  {
   "cell_type": "code",
   "execution_count": 3,
   "id": "fad5affb-9b80-46b7-a565-4ca19389a0fd",
   "metadata": {
    "tags": []
   },
   "outputs": [],
   "source": [
    "sim = Simulation(task_list)\n",
    "\n"
   ]
  },
  {
   "cell_type": "code",
   "execution_count": 4,
   "id": "7e6d8154-08ce-4e75-a520-67a70639488c",
   "metadata": {
    "tags": []
   },
   "outputs": [
    {
     "name": "stdout",
     "output_type": "stream",
     "text": [
      "Done!\n"
     ]
    }
   ],
   "source": [
    "sim.start()"
   ]
  },
  {
   "cell_type": "code",
   "execution_count": null,
   "id": "3756514e-3b29-4cf5-a415-1017140053fc",
   "metadata": {},
   "outputs": [],
   "source": []
  }
 ],
 "metadata": {
  "citation-manager": {
   "items": {}
  },
  "kernelspec": {
   "display_name": "Python 3 (ipykernel)",
   "language": "python",
   "name": "python3"
  },
  "language_info": {
   "codemirror_mode": {
    "name": "ipython",
    "version": 3
   },
   "file_extension": ".py",
   "mimetype": "text/x-python",
   "name": "python",
   "nbconvert_exporter": "python",
   "pygments_lexer": "ipython3",
   "version": "3.11.4"
  }
 },
 "nbformat": 4,
 "nbformat_minor": 5
}
