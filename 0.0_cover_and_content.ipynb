{
 "cells": [
  {
   "cell_type": "markdown",
   "id": "13b14673-89ba-4b55-9f85-7c0b0670036b",
   "metadata": {
    "tags": []
   },
   "source": [
    "<!-- BIBLIOGRAPHY START -->\n",
    "<div class=\"csl-bib-body\">\n",
    "</div>\n",
    "<!-- BIBLIOGRAPHY END -->\n",
    "<!-- Logo -->\n",
    "<div style=\"margin-top: 40px;display: flex;\">\n",
    "    <!-- Using the logo from the data folder and making it bigger -->\n",
    "    <img src=\"./Resources/rwth_igmr_de_rgb.png\" alt=\"Neura Robotics Logo\" style=\"max-width: 600px; width: 100%;margin-left: auto\">\n",
    "</div>\n",
    "    \n",
    "<div style=\"margin-bottom: 40px;\">\n",
    "    <p style = \"text-align: center\">This Thesis was submitted to the Institute of Mechanism Theory, Machine Dynamics and Robotics\n",
    "</div>\n",
    "    \n",
    "\n",
    "<div style=\"max-width: 1200px; font-family: 'Helvetica Neue', Arial, sans-serif; text-align: center;\">\n",
    "    <h2 style=\"margin-bottom: 20px;\">Exploiting Redundancies with Predictive Differential Kinematics in Dual-Quaternion-Space for Configuration-optimized and Singularity-robust Trajectory Tracking\n",
    "</h2>\n",
    "</div>\n",
    "\n",
    "<div style=\"margin-top: 80px;\">\n",
    "    <h3 style = \"text-align: center\"> Masterthesis </h3>\n",
    "    <p style = \"text-align: center\"> by: \n",
    "    <p style = \"text-align: center\"> Jens Temminghoff B.Sc. </p>\n",
    "    <p style = \"text-align: center\"> Student number: 357491 </p>\n",
    "</div>\n",
    "\n",
    "<div style=\"margin-top: 80px;\">\n",
    "    <h4 style = \"text-align: center\"> supervised by: </h4>\n",
    "    <p style = \"text-align: center\"> Dr.-Ing. Markus Schmitz </p>\n",
    "    <p style = \"text-align: center\"> Prof. Dr.-Ing. Marcel Huptych </p>\n",
    "    <p style = \"text-align: center\"> Dr.-Ing. Jörn Malzahn </p>\n",
    "</div>\n",
    "    \n",
    "<div style=\"margin-top: 80px;\">\n",
    "    <h4 style = \"text-align: center\"> Examiner: </h4>\n",
    "    <p style = \"text-align: center\"> Univ.-Prof. Dr.-Ing. Dr. h.c. Burkhard Corves </p>\n",
    "    <p style = \"text-align: center\"> Prof. Dr.-Ing. Mathias Hüsing </p>\n",
    "</div>\n",
    "\n",
    "<div style=\"margin-top: 80px;\">\n",
    "    <p style = \"text-align: center\"> Aachen, 15 December 2023 </p>\n",
    "</div>\n",
    "\n",
    "\n"
   ]
  },
  {
   "cell_type": "markdown",
   "id": "b3ee3aa1-b042-436a-aaa7-00d2aad2e5c6",
   "metadata": {},
   "source": [
    "<h3> Contents </h3>\n",
    "<ul>\n",
    "    <li><a href=\"./1.0_introduction.ipynb\">1.0 Introduction</a></li>\n",
    "    <li><a href=\"./2.0_state_of_the_art.ipynb\">2.0 State of the Art</a></li>\n",
    "    <li><a href=\"./3.0_introduction_quaternions.ipynb\">3.0 Introduction to Quaternions</a></li>\n",
    "    <li><a href=\"./3.1_introduction_dual_quaternions.ipynb\">3.1 Introduction to Dual Quaternions</a></li>\n",
    "    <li><a href=\"./3.2_dual_quaternion_differential_kinematics.ipynb\">3.2 Dual Quaternion Differential Kinematics</a></li>\n",
    "    <li><a href=\"./3.3_model_predictive_differential_kinematics.ipynb\">3.3 Model Predictive Differential Kinematics</a></li>\n",
    "    <li><a href=\"./3.4_dual_quaternion_interpolation.ipynb\">3.4 Dual Quaternion Interpolation</a></li>\n",
    "    <li><a href=\"./4.0_application_robot_welding.ipynb\">4.0 Application: Robot Welding</a></li>\n",
    "    <li><a href=\"./5.0_simulation_results.ipynb\">5.0 Simulation Results</a></li>\n",
    "    <li><a href=\"./5.1_experimental_results.ipynb\">5.1 Experimental Results</a></li>\n",
    "    <li><a href=\"./6.0_conclusion.ipynb\">6.0 Conclusion</a></li>\n",
    "</ul>"
   ]
  },
  {
   "cell_type": "code",
   "execution_count": 1,
   "id": "d99da477-b9ff-482a-8245-e54ee24a589f",
   "metadata": {
    "tags": []
   },
   "outputs": [
    {
     "data": {
      "text/html": [
       "\n",
       "<link href=\"https://fonts.googleapis.com/css2?family=Computer+Modern\" rel=\"stylesheet\">\n",
       "\n",
       "<style>\n",
       ".jp-MarkdownCell h1 {\n",
       "    font-size: 34pt;\n",
       "    color: #003366;\n",
       "    border-bottom: 2px solid #003366;\n",
       "    padding-bottom: 5px;\n",
       "    margin-top: 20px;\n",
       "    margin-bottom: 15px;\n",
       "}\n",
       "\n",
       ".jp-MarkdownCell h2 {\n",
       "    font-size: 20pt;\n",
       "    color: #003366;\n",
       "    margin-top: 15px;\n",
       "    margin-bottom: 10px;\n",
       "}\n",
       "\n",
       ".jp-MarkdownCell h3 {\n",
       "    font-size: 16pt;\n",
       "    color: #003366;\n",
       "    margin-top: 10px;\n",
       "    margin-bottom: 5px;\n",
       "}\n",
       "\n",
       ".jp-MarkdownCell p {\n",
       "    font-size: 14pt;\n",
       "    /*font-family: 'Computer Modern', 'Latin Modern', serif;/**/\n",
       "    color: #000000;\n",
       "    text-align: justify;\n",
       "    line-height: 1.5;\n",
       "}\n",
       "\n",
       ".jp-MarkdownCell li {\n",
       "    font-size: 14pt;\n",
       "    /*font-family: 'Computer Modern', 'Latin Modern', serif;/**/\n",
       "    color: #000000;\n",
       "    /*text-align: justify;*/\n",
       "    /*line-height: 1.5;*/\n",
       "}\n",
       "\n",
       ".jp-CodeCell {\n",
       "    background-color: #ffffff; \n",
       "    color: #000000;\n",
       "    /*border: 1px solid #eaeaea;*/\n",
       "}\n",
       "\n",
       ".jp-CodeMirrorEditor .CodeMirror {\n",
       "    font-family: 'Consolas', monospace;\n",
       "    font-size: 11pt;\n",
       "    /*max-width: 994px; /* Setting max width for code editor */\n",
       "    /*margin-left: 20px; /* Center align the editor */\n",
       "}\n",
       "\n",
       ".jp-RenderedText, .jp-OutputArea-output, .jp-CodeCell, .jp-MarkdownCell {\n",
       "    background-color: #ffffff; \n",
       "    max-width: 994px; /* A4 width in pixels */\n",
       "    margin-left: 20px; /* Center align the block */\n",
       "    /*margin-right: auto; /* Center align the block */\n",
       "}\n",
       "\n",
       ".jp-OutputArea-output img {\n",
       "    max-width: 100%;\n",
       "    height: auto;\n",
       "}\n",
       "\n",
       ".jp-RenderedHTMLCommon table {\n",
       "    border-collapse: collapse;\n",
       "    width: 100%;\n",
       "}\n",
       "\n",
       ".jp-RenderedHTMLCommon th, .jp-RenderedHTMLCommon td {\n",
       "    border: 1px solid #dddddd;\n",
       "    text-align: justify;\n",
       "    padding: 8px;\n",
       "}\n",
       "\n",
       ".jp-RenderedHTMLCommon tr:nth-child(even) {\n",
       "    background-color: #f2f2f2;\n",
       "}\n",
       "</style>"
      ],
      "text/plain": [
       "<IPython.core.display.HTML object>"
      ]
     },
     "execution_count": 1,
     "metadata": {},
     "output_type": "execute_result"
    }
   ],
   "source": [
    "from IPython.display import HTML\n",
    "\n",
    "\n",
    "def css_styling():\n",
    "    styles = open(\"./styles/custom.css\", \"r\").read()\n",
    "    return HTML(styles)\n",
    "css_styling()"
   ]
  },
  {
   "cell_type": "code",
   "execution_count": 15,
   "id": "7ee635fc-f6e7-4afa-a386-75fdd763131f",
   "metadata": {},
   "outputs": [
    {
     "name": "stdout",
     "output_type": "stream",
     "text": [
      "Requirement already satisfied: neura-dual-quaternions in c:\\users\\jens\\anaconda3\\lib\\site-packages (0.0.2)\n",
      "Requirement already satisfied: numpy in c:\\users\\jens\\anaconda3\\lib\\site-packages (from neura-dual-quaternions) (1.24.3)\n",
      "Note: you may need to restart the kernel to use updated packages.\n"
     ]
    }
   ],
   "source": [
    "pip install neura-dual-quaternions"
   ]
  },
  {
   "cell_type": "code",
   "execution_count": 16,
   "id": "6d3e0059-5dd7-4834-80c9-d20bf1076a10",
   "metadata": {
    "tags": []
   },
   "outputs": [
    {
     "name": "stdout",
     "output_type": "stream",
     "text": [
      "Requirement already satisfied: ipympl in c:\\users\\jens\\anaconda3\\lib\\site-packages (0.9.3)Note: you may need to restart the kernel to use updated packages.\n",
      "\n",
      "Requirement already satisfied: ipython<9 in c:\\users\\jens\\anaconda3\\lib\\site-packages (from ipympl) (8.12.0)\n",
      "Requirement already satisfied: numpy in c:\\users\\jens\\anaconda3\\lib\\site-packages (from ipympl) (1.24.3)\n",
      "Requirement already satisfied: ipython-genutils in c:\\users\\jens\\anaconda3\\lib\\site-packages (from ipympl) (0.2.0)\n",
      "Requirement already satisfied: pillow in c:\\users\\jens\\anaconda3\\lib\\site-packages (from ipympl) (9.4.0)\n",
      "Requirement already satisfied: traitlets<6 in c:\\users\\jens\\anaconda3\\lib\\site-packages (from ipympl) (5.7.1)\n",
      "Requirement already satisfied: ipywidgets<9,>=7.6.0 in c:\\users\\jens\\anaconda3\\lib\\site-packages (from ipympl) (8.0.4)\n",
      "Requirement already satisfied: matplotlib<4,>=3.4.0 in c:\\users\\jens\\anaconda3\\lib\\site-packages (from ipympl) (3.7.1)\n",
      "Requirement already satisfied: backcall in c:\\users\\jens\\anaconda3\\lib\\site-packages (from ipython<9->ipympl) (0.2.0)\n",
      "Requirement already satisfied: decorator in c:\\users\\jens\\anaconda3\\lib\\site-packages (from ipython<9->ipympl) (5.1.1)\n",
      "Requirement already satisfied: jedi>=0.16 in c:\\users\\jens\\anaconda3\\lib\\site-packages (from ipython<9->ipympl) (0.18.1)\n",
      "Requirement already satisfied: matplotlib-inline in c:\\users\\jens\\anaconda3\\lib\\site-packages (from ipython<9->ipympl) (0.1.6)\n",
      "Requirement already satisfied: pickleshare in c:\\users\\jens\\anaconda3\\lib\\site-packages (from ipython<9->ipympl) (0.7.5)\n",
      "Requirement already satisfied: prompt-toolkit!=3.0.37,<3.1.0,>=3.0.30 in c:\\users\\jens\\anaconda3\\lib\\site-packages (from ipython<9->ipympl) (3.0.36)\n",
      "Requirement already satisfied: pygments>=2.4.0 in c:\\users\\jens\\anaconda3\\lib\\site-packages (from ipython<9->ipympl) (2.15.1)\n",
      "Requirement already satisfied: stack-data in c:\\users\\jens\\anaconda3\\lib\\site-packages (from ipython<9->ipympl) (0.2.0)\n",
      "Requirement already satisfied: colorama in c:\\users\\jens\\anaconda3\\lib\\site-packages (from ipython<9->ipympl) (0.4.6)\n",
      "Requirement already satisfied: ipykernel>=4.5.1 in c:\\users\\jens\\anaconda3\\lib\\site-packages (from ipywidgets<9,>=7.6.0->ipympl) (6.19.2)\n",
      "Requirement already satisfied: widgetsnbextension~=4.0 in c:\\users\\jens\\anaconda3\\lib\\site-packages (from ipywidgets<9,>=7.6.0->ipympl) (4.0.5)\n",
      "Requirement already satisfied: jupyterlab-widgets~=3.0 in c:\\users\\jens\\anaconda3\\lib\\site-packages (from ipywidgets<9,>=7.6.0->ipympl) (3.0.5)\n",
      "Requirement already satisfied: contourpy>=1.0.1 in c:\\users\\jens\\anaconda3\\lib\\site-packages (from matplotlib<4,>=3.4.0->ipympl) (1.0.5)\n",
      "Requirement already satisfied: cycler>=0.10 in c:\\users\\jens\\anaconda3\\lib\\site-packages (from matplotlib<4,>=3.4.0->ipympl) (0.11.0)\n",
      "Requirement already satisfied: fonttools>=4.22.0 in c:\\users\\jens\\anaconda3\\lib\\site-packages (from matplotlib<4,>=3.4.0->ipympl) (4.25.0)\n",
      "Requirement already satisfied: kiwisolver>=1.0.1 in c:\\users\\jens\\anaconda3\\lib\\site-packages (from matplotlib<4,>=3.4.0->ipympl) (1.4.4)\n",
      "Requirement already satisfied: packaging>=20.0 in c:\\users\\jens\\anaconda3\\lib\\site-packages (from matplotlib<4,>=3.4.0->ipympl) (23.0)\n",
      "Requirement already satisfied: pyparsing>=2.3.1 in c:\\users\\jens\\anaconda3\\lib\\site-packages (from matplotlib<4,>=3.4.0->ipympl) (3.0.9)\n",
      "Requirement already satisfied: python-dateutil>=2.7 in c:\\users\\jens\\anaconda3\\lib\\site-packages (from matplotlib<4,>=3.4.0->ipympl) (2.8.2)\n",
      "Requirement already satisfied: comm>=0.1.1 in c:\\users\\jens\\anaconda3\\lib\\site-packages (from ipykernel>=4.5.1->ipywidgets<9,>=7.6.0->ipympl) (0.1.2)\n",
      "Requirement already satisfied: debugpy>=1.0 in c:\\users\\jens\\anaconda3\\lib\\site-packages (from ipykernel>=4.5.1->ipywidgets<9,>=7.6.0->ipympl) (1.6.7)\n",
      "Requirement already satisfied: jupyter-client>=6.1.12 in c:\\users\\jens\\anaconda3\\lib\\site-packages (from ipykernel>=4.5.1->ipywidgets<9,>=7.6.0->ipympl) (7.4.9)\n",
      "Requirement already satisfied: nest-asyncio in c:\\users\\jens\\anaconda3\\lib\\site-packages (from ipykernel>=4.5.1->ipywidgets<9,>=7.6.0->ipympl) (1.5.6)\n",
      "Requirement already satisfied: psutil in c:\\users\\jens\\anaconda3\\lib\\site-packages (from ipykernel>=4.5.1->ipywidgets<9,>=7.6.0->ipympl) (5.9.0)\n",
      "Requirement already satisfied: pyzmq>=17 in c:\\users\\jens\\anaconda3\\lib\\site-packages (from ipykernel>=4.5.1->ipywidgets<9,>=7.6.0->ipympl) (23.2.0)\n",
      "Requirement already satisfied: tornado>=6.1 in c:\\users\\jens\\anaconda3\\lib\\site-packages (from ipykernel>=4.5.1->ipywidgets<9,>=7.6.0->ipympl) (6.3.2)\n",
      "Requirement already satisfied: parso<0.9.0,>=0.8.0 in c:\\users\\jens\\anaconda3\\lib\\site-packages (from jedi>=0.16->ipython<9->ipympl) (0.8.3)\n",
      "Requirement already satisfied: wcwidth in c:\\users\\jens\\anaconda3\\lib\\site-packages (from prompt-toolkit!=3.0.37,<3.1.0,>=3.0.30->ipython<9->ipympl) (0.2.5)\n",
      "Requirement already satisfied: six>=1.5 in c:\\users\\jens\\anaconda3\\lib\\site-packages (from python-dateutil>=2.7->matplotlib<4,>=3.4.0->ipympl) (1.16.0)\n",
      "Requirement already satisfied: executing in c:\\users\\jens\\anaconda3\\lib\\site-packages (from stack-data->ipython<9->ipympl) (0.8.3)\n",
      "Requirement already satisfied: asttokens in c:\\users\\jens\\anaconda3\\lib\\site-packages (from stack-data->ipython<9->ipympl) (2.0.5)\n",
      "Requirement already satisfied: pure-eval in c:\\users\\jens\\anaconda3\\lib\\site-packages (from stack-data->ipython<9->ipympl) (0.2.2)\n",
      "Requirement already satisfied: entrypoints in c:\\users\\jens\\anaconda3\\lib\\site-packages (from jupyter-client>=6.1.12->ipykernel>=4.5.1->ipywidgets<9,>=7.6.0->ipympl) (0.4)\n",
      "Requirement already satisfied: jupyter-core>=4.9.2 in c:\\users\\jens\\anaconda3\\lib\\site-packages (from jupyter-client>=6.1.12->ipykernel>=4.5.1->ipywidgets<9,>=7.6.0->ipympl) (5.3.0)\n",
      "Requirement already satisfied: platformdirs>=2.5 in c:\\users\\jens\\anaconda3\\lib\\site-packages (from jupyter-core>=4.9.2->jupyter-client>=6.1.12->ipykernel>=4.5.1->ipywidgets<9,>=7.6.0->ipympl) (2.5.2)\n",
      "Requirement already satisfied: pywin32>=300 in c:\\users\\jens\\anaconda3\\lib\\site-packages (from jupyter-core>=4.9.2->jupyter-client>=6.1.12->ipykernel>=4.5.1->ipywidgets<9,>=7.6.0->ipympl) (305.1)\n"
     ]
    }
   ],
   "source": [
    "pip install ipympl"
   ]
  },
  {
   "cell_type": "code",
   "execution_count": null,
   "id": "dfb2a6b2-0a67-490f-84d0-9380135ef0cd",
   "metadata": {},
   "outputs": [],
   "source": [
    "pip install neura-roboticstoolbox"
   ]
  }
 ],
 "metadata": {
  "citation-manager": {
   "items": {}
  },
  "kernelspec": {
   "display_name": "Python 3 (ipykernel)",
   "language": "python",
   "name": "python3"
  },
  "language_info": {
   "codemirror_mode": {
    "name": "ipython",
    "version": 3
   },
   "file_extension": ".py",
   "mimetype": "text/x-python",
   "name": "python",
   "nbconvert_exporter": "python",
   "pygments_lexer": "ipython3",
   "version": "3.11.5"
  }
 },
 "nbformat": 4,
 "nbformat_minor": 5
}
