{
 "cells": [
  {
   "cell_type": "markdown",
   "id": "610b0f15-8be1-4afe-b7e3-1c3fbe21e122",
   "metadata": {},
   "source": [
    "# State of the Art\n",
    "\n",
    "write a bit about state of the art"
   ]
  }
 ],
 "metadata": {
  "citation-manager": {
   "items": {}
  },
  "kernelspec": {
   "display_name": "Python 3 (ipykernel)",
   "language": "python",
   "name": "python3"
  },
  "language_info": {
   "codemirror_mode": {
    "name": "ipython",
    "version": 3
   },
   "file_extension": ".py",
   "mimetype": "text/x-python",
   "name": "python",
   "nbconvert_exporter": "python",
   "pygments_lexer": "ipython3",
   "version": "3.11.5"
  }
 },
 "nbformat": 4,
 "nbformat_minor": 5
}
