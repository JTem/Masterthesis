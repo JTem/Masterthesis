{
 "cells": [
  {
   "cell_type": "code",
   "execution_count": 2,
   "id": "c4e0001a-5db3-4e28-b21c-9fc47a565bdf",
   "metadata": {
    "editable": true,
    "slideshow": {
     "slide_type": ""
    },
    "tags": []
   },
   "outputs": [],
   "source": [
    "%matplotlib widget\n",
    "from helper import *"
   ]
  },
  {
   "cell_type": "markdown",
   "id": "85f1f7b3-8dc3-42bb-b669-8cf22d6f3cc2",
   "metadata": {
    "citation-manager": {
     "citations": {
      "3zekn": [
       {
        "id": "16222978/AGXR4PGH",
        "source": "zotero"
       }
      ],
      "9zmqf": [
       {
        "id": "16222978/7MLS2H2W",
        "source": "zotero"
       }
      ],
      "lunr8": [
       {
        "id": "16222978/H9XC4M77",
        "source": "zotero"
       }
      ],
      "ndpzf": [
       {
        "id": "16222978/M23ULJLX",
        "source": "zotero"
       }
      ],
      "rbr1d": [
       {
        "id": "16222978/ZV86QVV9",
        "source": "zotero"
       }
      ]
     }
    },
    "editable": true,
    "slideshow": {
     "slide_type": ""
    },
    "tags": []
   },
   "source": [
    "<h1> Rotation with Quaternions</h1>\n",
    "\n",
    "This section aims to give insight into some mathematical foundations used throughout the thesis. More specifically, it presents the main concepts and operations of quaternions, which are later extended to unit dual quaternions to use the benefits of quaternions in the realm of transformations.\n",
    "\n",
    "Hamilton introduced quaternions in the nineteenth century, which can be viewed as an extension of the complex number theory. Instead of only one imaginary unit as for a complex number, quaternions are defined with three imaginary components $i$, $j$, and $k$, which possess the following properties <cite id=\"lunr8\"><a href=\"#zotero%7C16222978%2FH9XC4M77\">(Hamilton, 1844)</a></cite>:\n",
    "\n",
    "$$\n",
    "-ji = ij = k, \\qquad -kj = jk = i, \\qquad -ik = ki = j, \\\\\n",
    "i^2 = j^2 = k^2 = -1\n",
    "$$\n",
    "\n",
    "When discovered by Hamilton, quaternions were just a theoretical concept. However, in recent years they have been broadly used to represent both orientation and rotation in three-dimensional space due to their advantages over classical Euler angle representations <cite id=\"9zmqf\"><a href=\"#zotero%7C16222978%2F7MLS2H2W\">(Perumal, 2011)</a></cite>, <cite id=\"rbr1d\"><a href=\"#zotero%7C16222978%2FZV86QVV9\">(Alaimo et al., 2013)</a></cite>. Unlike traditional vector rotations that suffer from issues like gimbal lock, quaternions offer a robust and efficient way to represent spatial orientations and rotations. Their ability to interpolate between orientations <cite id=\"ndpzf\"><a href=\"#zotero%7C16222978%2FM23ULJLX\">(Shoemake, 1985)</a></cite> and the ease with which they handle compound rotations make them indispensable in modern robotics.\n",
    "\n",
    "A single quaternion is expressed as: \n",
    "\n",
    "$$\n",
    "q = q_w + q_xi + q_yj + q_zk\n",
    "$$\n",
    "\n",
    "where $q_w$, $q_x$, $q_y$ and $q_z$ are real numbers and $i$, $j$ and $k$ are the quaternion units. Similar to complex numbers, a quaternion can be divided into <i>real</i> and <i>complex</i> parts. Here, $q_x$, $q_y$ and $q_z$ are the complex parts, whereas $q_w = Re(q)$ is called real part. Different notations are common and used throughout the thesis. The most common is the vector notation, where the complex part of the quaternion is condensed into the so-called <i>complex vector</i> $\\vec{v} = Im(q) = (q_x, q_y, q_z)$. The following list will give a short overview:\n",
    "\n",
    "<h4>Different Quaternion Notations:</h4>\n",
    "<ul>\n",
    "    <li>Quaternion: $q = q_w + q_xi + q_yj + q_zk$</li>\n",
    "    <li>Quaternion: $q = (q_w, q_x, q_y, q_z)$</li>\n",
    "    <li>Quaternion: $q = (q_w, \\vec{v}) $</li>\n",
    "    <li>Quaternion Vector Notation: $q_{[vec]} = [q_w, q_x, q_y, q_z]^T $</li>\n",
    "</ul>\n",
    "\n",
    "In the scope of this thesis, a quaternion package was developed <cite id=\"3zekn\"><a href=\"#zotero%7C16222978%2FAGXR4PGH\">(Temminghoff, 2023)</a></cite> to be able to use quaternions in the further context of the thesis. To introduce this package, a small example of the basic constructor of a quaternion is given:"
   ]
  },
  {
   "cell_type": "code",
   "execution_count": 3,
   "id": "d3402f54-4b45-4819-bb56-c8f6b21f9f71",
   "metadata": {
    "tags": []
   },
   "outputs": [
    {
     "name": "stdout",
     "output_type": "stream",
     "text": [
      "Quaternion(1.000, 0.000, 0.000, 0.000)\n"
     ]
    }
   ],
   "source": [
    "#Example: identity quaternion\n",
    "quat = Quaternion(1,0,0,0)\n",
    "\n",
    "print(quat)"
   ]
  },
  {
   "cell_type": "markdown",
   "id": "018c2883-513d-45e2-9008-5bd81c843c0f",
   "metadata": {
    "citation-manager": {
     "citations": {
      "k5rsm": [
       {
        "id": "16222978/NBCBMNVY",
        "source": "zotero"
       }
      ]
     }
    },
    "tags": []
   },
   "source": [
    "Quaternion multiplication is associative and distributive but commutative, which means that the order of multiplication matters to the final product.\n",
    "\n",
    "$$\n",
    "    q_a \\otimes q_b \\neq q_b \\otimes q_a\n",
    "$$\n",
    "\n",
    "Note: $\\otimes$ denotes the quaternion multiplication <cite id=\"k5rsm\"><a href=\"#zotero%7C16222978%2FNBCBMNVY\">(Baek et al., 2017)</a></cite>.<br>\n",
    "The basic quaternion multiplication can also be expressed as a matrix multiplication $q \\otimes p = [q]_{L} \\cdot p_{[vec]} = [p]_{R} \\cdot q_{[vec]}$. These matrices, where $[q] \\in \\mathbb{R}^{4 \\times 4}$, are followingly called Hamilton operators and can be constructed as follows:\n",
    "\n",
    "$$\n",
    "[q]_L = \\left(\\begin{array}{rrrr}\n",
    "            q_w & -q_x & -q_y & -q_z\\\\ \n",
    "            q_x & q_w & -q_z & q_y\\\\ \n",
    "            q_y & q_z & q_w & -q_x\\\\ \n",
    "            q_z & -q_y & q_x & q_w \n",
    "            \\end{array}\\right)\n",
    "$$\n",
    "\n",
    "$$\n",
    "[q]_R = \\left(\\begin{array}{rrrr}\n",
    "            q_w & -q_x & -q_y & -q_z\\\\ \n",
    "            q_x & q_w & q_z & -q_y\\\\ \n",
    "            q_y & -q_z & q_w & q_x\\\\ \n",
    "            q_z & q_y & -q_x & q_w \n",
    "            \\end{array}\\right)\n",
    "$$\n",
    "\n",
    "These Hamilton operators, represented by $[q]_{L}$ and $[q]_R $, offer a powerful tool for quaternion manipulation in 3D space, enabling complex rotations and transformations to be performed in a concise and computationally efficient manner. "
   ]
  },
  {
   "cell_type": "markdown",
   "id": "cfc7ab2e-d52b-445b-a02b-f99e07cccec8",
   "metadata": {
    "citation-manager": {
     "citations": {
      "col8e": [
       {
        "id": "16222978/AFEHQ7QJ",
        "source": "zotero"
       }
      ],
      "tamzf": [
       {
        "id": "16222978/GF7XZFAM",
        "source": "zotero"
       }
      ]
     }
    },
    "tags": []
   },
   "source": [
    "<h2>Orientation and Rotation representation with Unit Quaternions </h2>\n",
    "\n",
    "A quaternion must be unit length to represent orientation and rotation, meaning $\\|\\hat{q}\\| = 1$. The unit length property is denoted by $\\hat{\\bullet}$. The Euclidean norm of a quaternion is defined as: \n",
    "\n",
    "$$\n",
    "\\|\\hat{q}\\| = \\sqrt{q_w^2 + q_x^2 + q_y^2 + q_z^2}.\n",
    "$$\n",
    "\n",
    "Quaternions with unit length are called <strong>Unit Quaternions</strong> and can be thought of as points on the unit four-dimensional hypersphere surface, which spans the curved space of $\\mathcal{S}^3$. This characteristic allows unit quaternions to represent orientations and rotations as they lose their ability to scale. The unit length characteristic is analog to the fact that the determinant of a rotation matrix is one. \n",
    "\n",
    "Quaternions for orientation representation most commonly use the axis angle representation of rotation/orientation. Here, a unit quaternion $\\hat{q} \\in \\mathcal{S}^3$ is associated with $\\theta \\tilde{r} \\in \\mathbb{R}^3$ and can be derived via the so-called <i>exponential map</i> as,\n",
    "\n",
    "$$\n",
    "\\hat{q} := e^{\\frac{\\theta}{2}\\tilde{r}} = \\cos\\frac{\\theta}{2} + \\left(\\sin\\frac{\\theta}{2} \\right) \\tilde{r}.\n",
    "$$\n",
    "\n",
    "For this intuitive way to describe rotation, the angle $\\theta$ describes the rotation angle around the unit-length rotation axis $\\tilde{r}$. The exponential map is a <i>Lie Theoretic</i> concept and can be further studied with great detail in the excellent work <cite id=\"tamzf\"><a href=\"#zotero%7C16222978%2FGF7XZFAM\">(Shahidi, 2023)</a></cite>. Delving too deep into the mathematical foundations of Lie theory and Clifford algebra would exceed the scope of this thesis. Only the operations that are used later throughout the thesis are introduced and shown to generate a natural understanding of the key concepts used later. <br>\n",
    "In practice, $\\frac{\\theta}{2}\\tilde{r}$ is often not given separately as required by the above definition, meaning that both angle and rotation axis are not given independently to the constructer but are given as single vector $\\vec{w} = \\frac{\\theta}{2}\\tilde{r} \\in \\mathbb{R}^3$, which requires another definition of the exponential map constructor.\n",
    "\n",
    "$$ \n",
    " e^{\\vec{w}} = \\cos(\\|\\vec{w}\\|) + \\frac{\\vec{w}}{\\|\\vec{w}\\|} \\sin(\\|\\vec{w}\\|)\n",
    "$$\n",
    "\n",
    "This computation is analog but here, the half angle $\\frac{\\theta}{2}$ has to be extracted via computation of the magnitude of the vector $\\vec{w}$ and the rotation axis $\\tilde{r} = \\frac{\\vec{w}}{\\|\\vec{w}\\|}$ has to be found via renormalization of the exponent $\\vec{w}$. This contemplation leads to the introduction of a singularity, in the case of $\\|\\vec{w}\\| = 0$, which is called <i>zero-angle singularity</i>. \n",
    "\n",
    "The inverse mapping $\\mathcal{S}^3 \\to \\mathbb{R}^3$ is called the <i>logarithmic map</i>. This operation extracts the axis angle $\\vec{w} = \\frac{\\theta}{2}\\tilde{r}$ from any unit quaternion $\\hat{q} = (q_w, \\vec{v})$ and is defined as:\n",
    "\n",
    "$$ \n",
    "    \\log(\\hat{q}) =  \\arccos\\left(q_w\\right)\\frac{\\vec{v}}{\\|\\vec{v}\\|}\n",
    "$$\n",
    "\n",
    "Again, a zero-angle singularity can be seen in case the vector part of the quaternion has no magnitude. To handle these singularities, the Maclaurin series expansions can be extended and reformulated as shown in <cite id=\"col8e\"><a href=\"#zotero%7C16222978%2FAFEHQ7QJ\">(Dantam, 2021)</a></cite>. This singularity handling can also be seen in the implementation of the quaternion Python package.\n",
    "\n",
    "Both exponential and logarithmic maps are useful as they give a direct mapping between the curved $\\mathcal{S}^3$ and the flat $\\mathbb{R}^3$ space, which simplifies many computations needed in robotics. Besides that, the axis angle rotation representation of $\\vec{w} = \\frac{\\theta}{2}\\tilde{r}$ is physically meaningful and can be used to compute the orientation error for inverse kinematics computation later.\n",
    "\n",
    "An interactive code example is given to explain the exponential mapping in more detail. Here, a rotation axis can be manipulated, and a coordinate system, subsequently called <i>frame</i> can be rotated around the rotation axis $\\tilde{r}$ via the setting of an angle $\\theta$."
   ]
  },
  {
   "cell_type": "code",
   "execution_count": 4,
   "id": "e0df2f36-92f6-4f46-af71-62855390b226",
   "metadata": {
    "tags": []
   },
   "outputs": [
    {
     "data": {
      "application/vnd.jupyter.widget-view+json": {
       "model_id": "cc180754edc4429a9b1ee26356c3b579",
       "version_major": 2,
       "version_minor": 0
      },
      "text/plain": [
       "AppLayout(children=(VBox(children=(Text(value='', description='Quaternion', layout=Layout(width='98%')), Float…"
      ]
     },
     "execution_count": 4,
     "metadata": {},
     "output_type": "execute_result"
    }
   ],
   "source": [
    "fig, ax = create_3d_plot()\n",
    "\n",
    "quaternion_display = create_textbox(\"Quaternion\")\n",
    "angle_slider = create_slider(\"theta\", 0, -2*np.pi, 2*np.pi)\n",
    "azimuth_slider = create_slider(\"azimuth\", 0, -2*np.pi, 2*np.pi)\n",
    "elevation_slider = create_slider(\"elevation\", 0, -np.pi, np.pi)\n",
    "\n",
    "rotation_axis = create_quiver(ax, [0,0,0], [1,0,0],1, 'grey', 'rotation axis')\n",
    "imaginary_part = create_quiver(ax, [0,0,0], [0,0,0], 3, 'k', 'complex vector')\n",
    "x_axis, y_axis, z_axis = draw_frame(ax, [0,0,0], np.eye(3))\n",
    "point_w = ax.scatter(0,0,1,s = 30, c = 'k', label = \"real part\")\n",
    "ax.legend()\n",
    "\n",
    "# Update function for the sliders\n",
    "def update_plot(change):\n",
    "    global rotation_axis, imaginary_part, x_axis, y_axis, z_axis, point_w\n",
    "\n",
    "    rotation_axis.remove()\n",
    "    imaginary_part.remove()\n",
    "    x_axis.remove()\n",
    "    y_axis.remove()\n",
    "    z_axis.remove()\n",
    "    point_w.remove()\n",
    "    \n",
    "    angle = angle_slider.value\n",
    "    direction = spherical_coordinates(azimuth_slider.value, elevation_slider.value)\n",
    "    \n",
    "    # construct unit quaternion from exponential mapping\n",
    "    quaternion = Quaternion.exp(Quaternion(0, *0.5*angle*direction))    \n",
    "    \n",
    "    # update displays\n",
    "    quaternion_display.value = str(quaternion)\n",
    "    \n",
    "    # update the drawn vectors\n",
    "    rotation_axis = create_quiver(ax, [0,0,0], direction, 1, 'grey', 'rotation axis')\n",
    "    imaginary_part = create_quiver(ax, [0,0,0], [quaternion.x, quaternion.y, quaternion.z], 3, 'k', 'complex vector')\n",
    "    x_axis, y_axis, z_axis = draw_frame(ax, [0,0,0], quaternion.asRotationMatrix())\n",
    "    \n",
    "    point_w = ax.scatter(0,0,quaternion.w, s = 30, c = \"k\", label = \"real part\")\n",
    "    fig.canvas.draw()\n",
    "    fig.canvas.flush_events()\n",
    "\n",
    "    \n",
    "angle_slider.observe(update_plot, names = 'value')\n",
    "azimuth_slider.observe(update_plot, names='value')\n",
    "elevation_slider.observe(update_plot, names='value')\n",
    "\n",
    "widgets.AppLayout(\n",
    "    center=fig.canvas,\n",
    "    footer=widgets.VBox([quaternion_display, angle_slider, azimuth_slider, elevation_slider]),\n",
    "    pane_heights=[0, 3, 1]\n",
    ")"
   ]
  },
  {
   "cell_type": "markdown",
   "id": "1c624071-8c2d-446f-8e4a-9180fdf7d5fe",
   "metadata": {
    "citation-manager": {
     "citations": {
      "b0oxg": [
       {
        "id": "16222978/AGXR4PGH",
        "source": "zotero"
       }
      ]
     }
    },
    "tags": []
   },
   "source": [
    "As seen in the plot, the complex vector of the quaternion is the scaled rotation axis, which is dependent on the angle of rotation, and the real part moves according to the angle s.t. the unit length property is satisfied. This gives an intuitive way to think about quaternions, as they are often deemed too complex to be visualized properly and unintuitive in application. Besides an interactive visualization and intuitive understanding of the Lie-theoretic exponential map, another important characteristic of quaternions can be seen: The <strong>antipodal property</strong>. <br>\n",
    "\n",
    "This property is described by the fact the a quaternion $\\hat{q} = (q_w, q_x, q_y, q_z)$ and its antipodal counterpart $-\\hat{q} = (-q_w, -q_x, -q_y, -q_z)$ show the same orientation, i.e. $R(\\hat{q}) = R(-\\hat{q})$. Note that conversion from a quaternion to rotation matrix is omitted in this thesis; a detailed and robust implementation and can be found in the package: <cite id=\"b0oxg\"><a href=\"#zotero%7C16222978%2FAGXR4PGH\">(Temminghoff, 2023)</a></cite>. \n",
    "\n",
    "Even though the final orientation of the given quaternion $\\hat{q}$ matches with $-\\hat{q}$, the rotation to reach this orientation differs. To show what is meant, the given examples interpolated from the identity orientation to a given target quaternion $\\hat{q}_{target}$, and it is given antipodal quaternion $-\\hat{q}_{target}$."
   ]
  },
  {
   "cell_type": "code",
   "execution_count": 1,
   "id": "e73021f7-ed35-4f0f-9dcf-4cba4f816c81",
   "metadata": {
    "editable": true,
    "slideshow": {
     "slide_type": ""
    },
    "tags": []
   },
   "outputs": [
    {
     "ename": "NameError",
     "evalue": "name 'Quaternion' is not defined",
     "output_type": "error",
     "traceback": [
      "\u001b[1;31m---------------------------------------------------------------------------\u001b[0m",
      "\u001b[1;31mNameError\u001b[0m                                 Traceback (most recent call last)",
      "Cell \u001b[1;32mIn[1], line 2\u001b[0m\n\u001b[0;32m      1\u001b[0m \u001b[38;5;66;03m#Example: Antipodal Property\u001b[39;00m\n\u001b[1;32m----> 2\u001b[0m q_start \u001b[38;5;241m=\u001b[39m Quaternion(\u001b[38;5;241m1\u001b[39m,\u001b[38;5;241m0\u001b[39m,\u001b[38;5;241m0\u001b[39m,\u001b[38;5;241m0\u001b[39m)\n\u001b[0;32m      3\u001b[0m q_target \u001b[38;5;241m=\u001b[39m Quaternion(\u001b[38;5;241m.900\u001b[39m, \u001b[38;5;241m0.150\u001b[39m, \u001b[38;5;241m0.000\u001b[39m, \u001b[38;5;241m0.15\u001b[39m)\u001b[38;5;241m.\u001b[39mnormalize()\n\u001b[0;32m      4\u001b[0m q_target_antipodal \u001b[38;5;241m=\u001b[39m \u001b[38;5;241m-\u001b[39m\u001b[38;5;241m1.0\u001b[39m\u001b[38;5;241m*\u001b[39mq_target\n",
      "\u001b[1;31mNameError\u001b[0m: name 'Quaternion' is not defined"
     ]
    }
   ],
   "source": [
    "#Example: Antipodal Property\n",
    "q_start = Quaternion(1,0,0,0)\n",
    "q_target = Quaternion(.900, 0.150, 0.000, 0.15).normalize()\n",
    "q_target_antipodal = -1.0*q_target\n",
    "\n",
    "fig, ax = create_3d_plot(q_target)\n",
    "\n",
    "s_slider = create_slider(\"s\", 0, 0, 1)\n",
    "x_axis1, y_axis1, z_axis1 = draw_frame(ax, [0,0,0], q_start.asRotationMatrix())\n",
    "x_axis2, y_axis2, z_axis2 = draw_frame(ax, [0,0,0], q_start.asRotationMatrix())\n",
    "\n",
    "def update_plot(change):\n",
    "    global x_axis1, y_axis1, z_axis1\n",
    "    global x_axis2, y_axis2, z_axis2\n",
    "    \n",
    "    x_axis1.remove()\n",
    "    y_axis1.remove()\n",
    "    z_axis1.remove()\n",
    "\n",
    "    x_axis2.remove()\n",
    "    y_axis2.remove()\n",
    "    z_axis2.remove()\n",
    "    \n",
    "    q_interpolated1 = Quaternion.slerp(q_start, q_target, s_slider.value)    \n",
    "    q_interpolated2 = Quaternion.slerp(q_start, q_target_antipodal, s_slider.value)  \n",
    "    \n",
    "    x_axis1, y_axis1, z_axis1 = draw_frame(ax, [0,0,0], q_interpolated1.asRotationMatrix())\n",
    "    x_axis2, y_axis2, z_axis2 = draw_frame(ax, [0,0,0], q_interpolated2.asRotationMatrix())\n",
    "\n",
    "    fig.canvas.draw()\n",
    "    fig.canvas.flush_events()\n",
    "\n",
    "    \n",
    "s_slider.observe(update_plot, names = 'value')\n",
    "\n",
    "widgets.AppLayout(\n",
    "    center=fig.canvas,\n",
    "    footer=widgets.VBox([s_slider]),\n",
    "    pane_heights=[0, 3, 1]\n",
    ")"
   ]
  },
  {
   "cell_type": "markdown",
   "id": "434c0bcd-65ef-4113-8f1e-9b691aaa57b9",
   "metadata": {
    "citation-manager": {
     "citations": {
      "107qq": [
       {
        "id": "16222978/TPTTZSUA",
        "source": "zotero"
       }
      ],
      "3p88j": [
       {
        "id": "16222978/GF7XZFAM",
        "source": "zotero"
       }
      ],
      "lk96a": [
       {
        "id": "16222978/98FQA85Y",
        "source": "zotero"
       }
      ]
     }
    },
    "editable": true,
    "slideshow": {
     "slide_type": ""
    },
    "tags": []
   },
   "source": [
    "The interactive plot shows that both quaternions start and end in the same orientation but take different paths to reach this point. The rotation $\\hat{q}_{start} \\to \\hat{q}_{target}$ takes the shortest path around the apparent, constant rotation axis, whereas $\\hat{q}_{start} \\to -\\hat{q}_{target}$ takes the long path to reach the target orientation. It can be explained by the fact that a negative rotation around the inverted rotation axis yields the same orientation as a positive orientation around the normal rotation axis, i.e. $\\theta \\tilde{r} = (-\\theta)(-\\tilde{r})$, which means that the quaternions $\\hat{q}_{target}$ and $-\\hat{q}_{target}$ lie on different hemispheres on the hypersphere surface $\\mathcal{S}^3.$ This property is unique to unit quaternions and can be leveraged in robotic motion planning for more complex and dexterous motions.\n",
    "\n",
    "<h2>Pure Quaternions</h2>\n",
    "\n",
    "Besides representing orientation and rotation in three-dimensional space, Unit Quaternions can be used to rotate vectors in $\\mathbb{R}^3$. For this, another form of quaternion´is introduced, called <strong>Pure Quaternion</strong>.\n",
    "\n",
    "Pure Quaternions, denoted by a vertical bar $\\bar{\\bullet}$, are characterized by the absence of the real part. The pure quaternions complex part, which is homeomorphic to $\\mathbb{R}^3$, is then used to represent any vector $\\vec{x} \\in \\mathbb{R}^3$. <br>\n",
    "In mathematical terms, a pure quaternion $\\bar{p}$ is defined as:\n",
    "\n",
    "$$\n",
    "\\bar{p} = (0, \\vec{x}) = (0, x_1, x_2, x_3)\n",
    "$$\n",
    "\n",
    "In contrast to unit quaternions, pure quaternions are not required to have unit length and thus can take any magnitude.\n",
    "\n",
    "<h2>Point Transformation</h2>\n",
    "\n",
    "To rotate a point (or vector) $\\vec{x} \\in \\mathbb{R}^3$ in three-dimensional space with quaternions, the vector has to be represented as a pure quaternion relative to the frame it is defined in. For the shown example, the vector is defined in the base frame (frame $0$), which leads to the notation of the pure quaternion ${}_0\\bar{p}$.\n",
    "\n",
    "$$\n",
    "{}_b\\bar{p} = {}_a\\hat{q}^b \\otimes {}_a\\bar{p} \\otimes {}_a\\hat{q}^{b*} \n",
    "$$\n",
    "\n",
    "In the given formula, the pure quaternion ${}_0\\bar{p}$ is expressed in the base frame $0$ and is rotated into frame $1$ by the quaternion ${}_0\\hat{q}^1$, which defines the orientation of frame $1$ relative to frame $0$. Here, a multiplication is done from the left and the right side, with the original quaternion ${}_0q^1$ and its conjugate ${}_0\\hat{q}^{1*} $. The quaternion conjugate, similar to the conjugate of the complex numbers, is defined as the negation of the complex part:\n",
    "\n",
    "$$\n",
    "    \\hat{q}^* = (w, -\\vec{v}) = w - xi - yj - zk\n",
    "$$\n",
    "\n",
    "For unit quaternions, the conjugate is equivalent to the inverse, meaning $\\hat{q}^* = \\hat{q}^{-1}$. This property simplifies many calculations and is particularly useful in rotations, as it ensures that the magnitude of the vector is preserved during the rotation.\n",
    "\n",
    "<h2>Comparison to Rotation Matrices</h2>\n",
    "\n",
    "Rotation matrices are most commonly used in robotics to describe spatial orientation. They are widely recognized for their intuitive structure and straightforward implementation. Rotation matrices are part of the special orthogonal group $\\mathcal{SO}(3)$ and can be divided into two sub-categories <cite id=\"lk96a\"><a href=\"#zotero%7C16222978%2F98FQA85Y\">(Hashim, 2019)</a></cite>:\n",
    "\n",
    "<ul>\n",
    "    <li><strong>Euler Angles</strong>: All rotation matrices constructed by three subsequent basis rotations are part of the Euler angle category. These rotations take part around the basis axes of the apparent coordinate system X, Y, Z. They are a minimal representation as they only require three parameters to define a rotation. All three parameter representations of $\\mathcal{SO}(3)$ are proven to suffer from the well known gimbal lock singularity <cite id=\"107qq\"><a href=\"#zotero%7C16222978%2FTPTTZSUA\">(Stuelpnagel, 1964)</a></cite>.</li>\n",
    "<li><strong>Axis Angle</strong>: Construction of Rotation matrices with the <i>Rodriguez Formula</i> are similar to quaternions in the way that they are described as axis angle rotation. They are a four-parameter representation and do not suffer from gimbal lock. However, in contrary to quaternions, they do not have the antipodal property, thus lack the extra information content of directionality quaternions provide. More details can be again found in <cite id=\"3p88j\"><a href=\"#zotero%7C16222978%2FGF7XZFAM\">(Shahidi, 2023)</a></cite>.</li>\n",
    "</ul>\n",
    "\n",
    "To show the singularity robustness on a practical example, we construct an orientation quaternion $\\hat{q}_{RPY} = \\hat{q}_x \\otimes \\hat{q}_y \\otimes \\hat{q}_z$ with Euler angles XYZ convention, called Roll-Pitch-Yaw. The loss of a degree of freedom in the rotation can be observed by setting the pitch angle close to $\\frac{1}{2}\\pi$. To give more insight into the singularity problems that arise from the computation with Euler angles, we do the inverse operation to retrieve the Euler angles back from the rotation matrix $R(\\hat{q}_{RPY})$, and do the same to retrieve the axis angle information $\\vec{w} = \\log(\\hat{q}_{RPY})$. The following code block will give an interactive plot:\n",
    " "
   ]
  },
  {
   "cell_type": "code",
   "execution_count": 6,
   "id": "b5f40a20-e763-45c4-bbef-ceadf986786b",
   "metadata": {
    "tags": []
   },
   "outputs": [
    {
     "data": {
      "application/vnd.jupyter.widget-view+json": {
       "model_id": "66c04e4a45a54160b61a0b55968acdb5",
       "version_major": 2,
       "version_minor": 0
      },
      "text/plain": [
       "AppLayout(children=(VBox(children=(FloatSlider(value=0.0, description='rX', layout=Layout(width='98%'), max=6.…"
      ]
     },
     "execution_count": 6,
     "metadata": {},
     "output_type": "execute_result"
    }
   ],
   "source": [
    "fig, ax3d, lines, deques = create_gimble_lock_demo_plot()\n",
    "\n",
    "rx_slider = create_slider(\"rX\", 0, -6.28, 6.28)\n",
    "ry_slider = create_slider(\"rY\", 0, -6.28, 6.28)\n",
    "rz_slider = create_slider(\"rZ\", 0, -6.28, 6.28)\n",
    "\n",
    "x_axis, y_axis, z_axis = draw_frame(ax3d, [0,0,0], np.eye(3))\n",
    "# Update function for the sliders\n",
    "def update_plot(change):\n",
    "\n",
    "    global x_axis\n",
    "    global y_axis\n",
    "    global z_axis\n",
    "    \n",
    "    x_axis.remove()\n",
    "    y_axis.remove()\n",
    "    z_axis.remove()\n",
    "    \n",
    "    # Create quaternions for each rotation\n",
    "    qx = Quaternion.fromAxisAngle(rx_slider.value, np.array([1,0,0]))\n",
    "    qy = Quaternion.fromAxisAngle(ry_slider.value, np.array([0,1,0]))\n",
    "    qz = Quaternion.fromAxisAngle(rz_slider.value, np.array([0,0,1]))\n",
    "    \n",
    "    #RPY as quaternion\n",
    "    q = qx * qy * qz\n",
    "\n",
    "    log = q.log()\n",
    "    roll, pitch, yaw = rpy_from_R(q.asRotationMatrix())\n",
    "    \n",
    "    update_gimble_lock_demo(lines, deques, roll, pitch, yaw, log)\n",
    "    \n",
    "    # Update the drawn vectors using the combined quaternion rotation\n",
    "    x_axis, y_axis, z_axis = draw_frame(ax3d, [0, 0, 0], q.asRotationMatrix())\n",
    "\n",
    "    fig.canvas.draw()\n",
    "    fig.canvas.flush_events()\n",
    "\n",
    "rx_slider.observe(update_plot, names='value')\n",
    "ry_slider.observe(update_plot, names='value')\n",
    "rz_slider.observe(update_plot, names='value')\n",
    "\n",
    "widgets.AppLayout(\n",
    "    center=fig.canvas,\n",
    "    footer=widgets.VBox([rx_slider, ry_slider, rz_slider]),\n",
    "    pane_heights=[0, 4, 1]\n",
    ")"
   ]
  },
  {
   "cell_type": "markdown",
   "id": "e3c9aa55-e500-4682-921a-416a32cb04a5",
   "metadata": {
    "tags": []
   },
   "source": [
    "The example shows that the RPY-inverse operation is not useful for a robotic controller. The motion range of $(-2\\pi, 2\\pi)$ is widespread for cobots and causes the inverse RPY-angle computation to jump due to the multiple singularities of gimbal lock and the surpassing of the usual rotation matrix interval. On the contrary, the quaternion logarithm is always well defined without taking special care as quaternions are simply singularity free and well-defined on the typical motion range of a modern serial manipulator.\n",
    "Besides the apparent benefit that quaternions do not suffer from singularities like gimbal lock and that quaternions contain useful rotation information with their antipodal property, other advantages are:\n",
    "\n",
    "<ul>\n",
    "    <li><strong>Composition Efficiency</strong>: Quaternion multiplication is more efficient than rotation matrix composition.</li>\n",
    "    <li><strong>Memory Usage</strong>: Quaternions are defined with four real numbers instead of nine in the case of rotation matrices.</li>\n",
    "    <li><strong>Normalization Efficiency</strong>: Quaternion renormalization is more efficient than rotation matrix orthonormalization.</li>\n",
    "    <li><strong>Interpolation</strong>: Quaternion interpolation is straightforward, whereas rotation matrix interpolation is usually not.</li>\n",
    "    <li><strong>Area of Definition</strong>: Quaternion rotation is defined from $[-2\\pi, 2\\pi)$, whereas rotation matrix representations are only defined on an interval of $[-\\pi, \\pi)$.</li>\n",
    "    <li><strong>Elegancy</strong>: Quaternions are usually more elegant as they provide better solutions with less code.</li>\n",
    "</ul>\n",
    "\n",
    "All in all, these benefits make quaternions a well-suited choice for robotics. Especially the antipodal property that gives direction information and allows one to discern and plan with different directions of interpolation and the large area of definition, as well as the lack of singularities, make them a supreme choice for robotics.\n"
   ]
  },
  {
   "cell_type": "markdown",
   "id": "bc5a5654-8220-41a0-9da3-fd862bd4804c",
   "metadata": {},
   "source": [
    "<h1> Literature</h1>\n",
    "<!-- BIBLIOGRAPHY START -->\n",
    "<div class=\"csl-bib-body\">\n",
    "  <div class=\"csl-entry\"><i id=\"zotero|16222978/ZV86QVV9\"></i>Alaimo, A., Artale, V., Milazzo, C., &#38; Ricciardello, A. (2013). Comparison between Euler and Quaternion Parametrization in UAV Dynamics. <i>AIP Conference Proceedings</i>, <i>1558</i>, 1228–1231. <a href=\"https://doi.org/10.1063/1.4825732\">https://doi.org/10.1063/1.4825732</a></div>\n",
    "  <div class=\"csl-entry\"><i id=\"zotero|16222978/NBCBMNVY\"></i>Baek, J., Jeon, H., Kim, G., &#38; Han, S. (2017). Visualizing Quaternion Multiplication. <i>IEEE Access</i>, <i>5</i>, 8948–8955. <a href=\"https://doi.org/10.1109/ACCESS.2017.2705196\">https://doi.org/10.1109/ACCESS.2017.2705196</a></div>\n",
    "  <div class=\"csl-entry\"><i id=\"zotero|16222978/AFEHQ7QJ\"></i>Dantam, N. T. (2021). Robust and efficient forward, differential, and inverse kinematics using dual quaternions. <i>The International Journal of Robotics Research</i>, <i>40</i>(10–11), 1087–1105. <a href=\"https://doi.org/10.1177/0278364920931948\">https://doi.org/10.1177/0278364920931948</a></div>\n",
    "  <div class=\"csl-entry\"><i id=\"zotero|16222978/H9XC4M77\"></i>Hamilton, W. R. (1844). <i>ON QUATERNIONS, OR ON A NEW SYSTEM OF IMAGINARIES IN ALGEBRA</i>.</div>\n",
    "  <div class=\"csl-entry\"><i id=\"zotero|16222978/98FQA85Y\"></i>Hashim, H. A. (2019). <i>Special Orthogonal Group SO(3), Euler Angles, Angle-axis, Rodriguez Vector and Unit-Quaternion: Overview, Mapping and Challenges</i>. <a href=\"https://doi.org/10.48550/ARXIV.1909.06669\">https://doi.org/10.48550/ARXIV.1909.06669</a></div>\n",
    "  <div class=\"csl-entry\"><i id=\"zotero|16222978/7MLS2H2W\"></i>Perumal, L. (2011). <i>Quaternion and Its Application in Rotation Using Sets of Regions</i>. <i>1</i>(1).</div>\n",
    "  <div class=\"csl-entry\"><i id=\"zotero|16222978/GF7XZFAM\"></i>Shahidi, S. A. (2023). <i>Efficient motion planning and control for robotic systems in dynamic situations</i> [RWTH Aachen University]. <a href=\"https://doi.org/10.18154/RWTH-2023-06832\">https://doi.org/10.18154/RWTH-2023-06832</a></div>\n",
    "  <div class=\"csl-entry\"><i id=\"zotero|16222978/M23ULJLX\"></i>Shoemake, K. (1985). Animating rotation with quaternion curves. <i>Proceedings of the 12th Annual Conference on Computer Graphics and Interactive Techniques  - SIGGRAPH ’85</i>, 245–254. <a href=\"https://doi.org/10.1145/325334.325242\">https://doi.org/10.1145/325334.325242</a></div>\n",
    "  <div class=\"csl-entry\"><i id=\"zotero|16222978/TPTTZSUA\"></i>Stuelpnagel, J. (1964). On the Parametrization of the Three-Dimensional Rotation Group. <i>SIAM Review</i>, <i>6</i>(4), 422–430. <a href=\"https://doi.org/10.1137/1006093\">https://doi.org/10.1137/1006093</a></div>\n",
    "  <div class=\"csl-entry\"><i id=\"zotero|16222978/AGXR4PGH\"></i>Temminghoff, J. (2023). <i>JTem/neura_dual_quaternions</i>. <a href=\"https://github.com/JTem/neura_dual_quaternions\">https://github.com/JTem/neura_dual_quaternions</a></div>\n",
    "</div>\n",
    "<!-- BIBLIOGRAPHY END -->"
   ]
  },
  {
   "cell_type": "code",
   "execution_count": null,
   "id": "d9642c4c-51d6-4a95-b020-2cfac80c671d",
   "metadata": {},
   "outputs": [],
   "source": []
  }
 ],
 "metadata": {
  "citation-manager": {
   "items": {
    "zotero": {
     "16222978/7MLS2H2W": {
      "abstract": "This paper is written to aid the readers to understand application of Euler angles and quaternion in representing rotation of a body in 3-dimensional Euclidean space, ℜ3 . Application of quaternion would later require conversion of the quaternion to Euler angles. This is to enable quaternion to be compatible with other applications which use Euler rotation sequence to represent rotation. Thus, a framework to convert a quaternion, which is produced from a random rotation sequence to Euler angles with any specified rotation sequence is proposed and demonstrated here, to aid practitioners to use quaternion in their applications. This will also enable quaternion to be applied in arbitrary sequence onto applications developed using certain rotation sequence of Euler angles. Finally, a program is developed using Matlab-simulink software to demonstrate application of quaternion in maneuvering orientation of a missile flying in 3D space. Six degree of freedom (6DoF) block, which employs Euler rotation sequence of XYZ, is used to aid users to graphically see the maneuvering of the missile’s orientation as it flies in 3-dimensional Euclidean space. Quaternion, which is produced from random rotation sequence keyed in by the user, is converted to Euler angles with rotation sequence XYZ by using the proposed method.",
      "author": [
       {
        "family": "Perumal",
        "given": "Logah"
       }
      ],
      "id": "16222978/7MLS2H2W",
      "issue": "1",
      "issued": {
       "date-parts": [
        [
         2011
        ]
       ]
      },
      "language": "en",
      "system_id": "zotero|16222978/7MLS2H2W",
      "title": "Quaternion and Its Application in Rotation Using Sets of Regions",
      "type": "article-journal",
      "volume": "1"
     },
     "16222978/98FQA85Y": {
      "DOI": "10.48550/ARXIV.1909.06669",
      "URL": "https://arxiv.org/abs/1909.06669",
      "abstract": "The attitude of a rigid-body in the three dimensional space has a unique and global definition on the Special Orthogonal Group SO (3). This paper gives an overview of the rotation matrix, attitude kinematics and parameterization. The four most frequently used methods of attitude representations are discussed with detailed derivations, namely Euler angles, angle-axis parameterization, Rodriguez vector, and unit-quaternion. The mapping from one representation to others including SO (3) is given. Also, important results which could be useful for the process of filter and/or control design are given. The main weaknesses of attitude parameterization using Euler angles, angle-axis parameterization, Rodriguez vector, and unit-quaternion are illustrated. Keywords: Special Orthogonal Group 3, Euler angles, Angle-axis, Rodriguez Vector, Unit-quaternion, SO(3), Mapping, Parameterization, Attitude, Control, Filter, Observer, Estimator, Rotation, Rotational matrix, Transformation matrix, Orientation, Transformation, Roll, Pitch, Yaw, Quad-rotor, Unmanned aerial vehicle, Robot, spacecraft, satellite, UAV, Underwater vehicle, autonomous, system, Pose, literature review, survey, overview, comparison, comparative study, body frame, identity, origin, dynamics, kinematics, Lie group, inertial frame, zero, filter, control, estimate, observation, measurement, 3D, three dimensional space, advantage, disadvantage.",
      "accessed": {
       "date-parts": [
        [
         2023,
         11,
         19
        ]
       ]
      },
      "author": [
       {
        "family": "Hashim",
        "given": "Hashim A."
       }
      ],
      "id": "16222978/98FQA85Y",
      "issued": {
       "date-parts": [
        [
         2019
        ]
       ]
      },
      "shortTitle": "Special Orthogonal Group SO(3), Euler Angles, Angle-axis, Rodriguez Vector and Unit-Quaternion",
      "system_id": "zotero|16222978/98FQA85Y",
      "title": "Special Orthogonal Group SO(3), Euler Angles, Angle-axis, Rodriguez Vector and Unit-Quaternion: Overview, Mapping and Challenges",
      "type": "article-journal"
     },
     "16222978/AFEHQ7QJ": {
      "DOI": "10.1177/0278364920931948",
      "URL": "http://journals.sagepub.com/doi/10.1177/0278364920931948",
      "abstract": "Modern approaches for robot kinematics employ the product of exponentials formulation, represented using homogeneous transformation matrices. Quaternions over dual numbers are an established alternative representation; however, their use presents certain challenges: the dual quaternion exponential and logarithm contain a zero-angle singularity, and many common operations are less efficient using dual quaternions than with matrices. We present a new derivation of the dual quaternion exponential and logarithm that removes the singularity, we show an implicit representation of dual quaternions offers analytical and empirical efficiency advantages compared with both matrices and explicit dual quaternions, and we derive efficient dual quaternion forms of differential and inverse position kinematics. Analytically, implicit dual quaternions are more compact and require fewer arithmetic instructions for common operations, including chaining and exponentials. Empirically, we demonstrate a 30–40% speedup on forward kinematics and a 300–500% speedup on inverse position kinematics. This work relates dual quaternions with modern exponential coordinates and demonstrates that dual quaternions are a robust and efficient representation for robot kinematics.",
      "accessed": {
       "date-parts": [
        [
         2023,
         11,
         19
        ]
       ]
      },
      "author": [
       {
        "family": "Dantam",
        "given": "Neil T"
       }
      ],
      "container-title": "The International Journal of Robotics Research",
      "id": "16222978/AFEHQ7QJ",
      "issue": "10-11",
      "issued": {
       "date-parts": [
        [
         "2021"
        ]
       ]
      },
      "journalAbbreviation": "The International Journal of Robotics Research",
      "language": "en",
      "page": "1087-1105",
      "system_id": "zotero|16222978/AFEHQ7QJ",
      "title": "Robust and efficient forward, differential, and inverse kinematics using dual quaternions",
      "type": "article-journal",
      "volume": "40"
     },
     "16222978/AGXR4PGH": {
      "URL": "https://github.com/JTem/neura_dual_quaternions",
      "accessed": {
       "date-parts": [
        [
         2023,
         11,
         19
        ]
       ]
      },
      "author": [
       {
        "family": "Temminghoff",
        "given": "Jens"
       }
      ],
      "id": "16222978/AGXR4PGH",
      "issued": {
       "date-parts": [
        [
         2023
        ]
       ]
      },
      "system_id": "zotero|16222978/AGXR4PGH",
      "title": "JTem/neura_dual_quaternions",
      "type": "webpage"
     },
     "16222978/GF7XZFAM": {
      "URL": "https://publications.rwth-aachen.de/record/961409",
      "abstract": "The cooperation of several mobile and stationary robots in consensus is considered as one of the most important enablers for efficient, agile, and freely networked assembly systems. In this sense, the dynamic transformation of production lines requires especial modelling and control strategies for robotic manipulators, in order to provide them with reliable and feasible motions that are efficiently optimal. Therefore, the essential differences of the systems' models should be considered individually when planning their motions. At the same time, the modelling of the system should provide the control systems with an intuitive and unambiguous framework to guide them optimally through the planned motion.In the present work, optimal modelling strategies for multibody systems with tree-topology, of which open-chain robotic manipulators can be considered as a subcategory, are discussed and developed. The optimality of a modelling strategy is understood as computational efficiency, singularity-free representation, and compactness. To this end, a unit dual quaternionic representation of the system's configuration is presented and comprehensively discussed. Based on this representation, the geometry, kinetostatics, and dynamics of the multibody systems with tree-topology are developed. In order to facilitate the modelling and achieve an intuitive formulation, the geometric framework of screw theory is discussed on the analytical basis of Lie theory. This foundation can be employed to model control strategies that fulfil the premises of reliable and efficient motion control.In order to enable efficient motion planning for open-chain robotic manipulators, the essential differences between the cardinalities of their configuration manifold and their work space are considered, leading to the construction of a data structure in the form of a graph, dubbed Kinematic Graph. Using this graph, it is possible to efficiently apply the well-developed motion planning Algorithms, such as the sampling-based motion planning Algorithm, in the case study of robotic manipulators with open chains. These Algorithms were originally developed for low dimensional problems and are generally not suitable for the case study of robotic manipulators. Such Algorithms allow the application of planning strategies with theoretical optimality guarantees in the planning. This leads to the planning of an efficiently optimal motion for open-chain robotic manipulators with decoupled geometry, where the planning for the regional and the local structures should be conducted in conjunction with each other. Developments already exist for these optimal Algorithms to solve problems where conditions (such as the environment) are subject to change. The enabled application of these Algorithms to robotic manipulators makes it possible to plan motion for such systems in dynamic situations.",
      "accessed": {
       "date-parts": [
        [
         2023,
         11,
         19
        ]
       ]
      },
      "author": [
       {
        "family": "Shahidi",
        "given": "Seyed Amirreza"
       }
      ],
      "id": "16222978/GF7XZFAM",
      "issued": {
       "date-parts": [
        [
         2023
        ]
       ]
      },
      "language": "en",
      "note": "DOI: 10.18154/RWTH-2023-06832",
      "publisher": "RWTH Aachen University",
      "system_id": "zotero|16222978/GF7XZFAM",
      "title": "Efficient motion planning and control for robotic systems in dynamic situations",
      "type": "thesis"
     },
     "16222978/H9XC4M77": {
      "author": [
       {
        "family": "Hamilton",
        "given": "William Rowan"
       }
      ],
      "id": "16222978/H9XC4M77",
      "issued": {
       "date-parts": [
        [
         1844
        ]
       ]
      },
      "language": "en",
      "system_id": "zotero|16222978/H9XC4M77",
      "title": "ON QUATERNIONS, OR ON A NEW SYSTEM OF IMAGINARIES IN ALGEBRA",
      "type": "article-journal"
     },
     "16222978/M23ULJLX": {
      "DOI": "10.1145/325334.325242",
      "URL": "http://portal.acm.org/citation.cfm?doid=325334.325242",
      "abstract": "Solid bodies roll and tumble through space. In computer animation, so do cameras. The rotations of these objects are best described using a four coordinate system, quaternions, as is shown in this paper. Of all quaternions, those on the unit sphere are most suitable for animation, but the question of how to construct curves on spheres has not been much explored. This paper gives one answer by presenting a new kind of spline curve, created on a sphere, suitable for smoothly in-betweening (i.e. interpolating) sequences of arbitrary rotations. Both theory and experiment show that the motion generated is smooth and natural, without quirks found in earlier methods.",
      "accessed": {
       "date-parts": [
        [
         2023,
         11,
         18
        ]
       ]
      },
      "author": [
       {
        "family": "Shoemake",
        "given": "Ken"
       }
      ],
      "container-title": "Proceedings of the 12th annual conference on Computer graphics and interactive techniques  - SIGGRAPH '85",
      "id": "16222978/M23ULJLX",
      "issued": {
       "date-parts": [
        [
         1985
        ]
       ]
      },
      "language": "en",
      "page": "245-254",
      "system_id": "zotero|16222978/M23ULJLX",
      "title": "Animating rotation with quaternion curves",
      "type": "article-journal"
     },
     "16222978/NBCBMNVY": {
      "DOI": "10.1109/ACCESS.2017.2705196",
      "URL": "https://ieeexplore.ieee.org/document/7930375/",
      "accessed": {
       "date-parts": [
        [
         2023,
         11,
         19
        ]
       ]
      },
      "author": [
       {
        "family": "Baek",
        "given": "Jongchan"
       },
       {
        "family": "Jeon",
        "given": "Hayeong"
       },
       {
        "family": "Kim",
        "given": "Gwangjin"
       },
       {
        "family": "Han",
        "given": "Soohee"
       }
      ],
      "container-title": "IEEE Access",
      "id": "16222978/NBCBMNVY",
      "issued": {
       "date-parts": [
        [
         2017
        ]
       ]
      },
      "journalAbbreviation": "IEEE Access",
      "page": "8948-8955",
      "system_id": "zotero|16222978/NBCBMNVY",
      "title": "Visualizing Quaternion Multiplication",
      "type": "article-journal",
      "volume": "5"
     },
     "16222978/TPTTZSUA": {
      "DOI": "10.1137/1006093",
      "URL": "http://epubs.siam.org/doi/10.1137/1006093",
      "accessed": {
       "date-parts": [
        [
         2023,
         11,
         19
        ]
       ]
      },
      "author": [
       {
        "family": "Stuelpnagel",
        "given": "John"
       }
      ],
      "container-title": "SIAM Review",
      "id": "16222978/TPTTZSUA",
      "issue": "4",
      "issued": {
       "date-parts": [
        [
         "1964"
        ]
       ]
      },
      "journalAbbreviation": "SIAM Rev.",
      "language": "en",
      "page": "422-430",
      "system_id": "zotero|16222978/TPTTZSUA",
      "title": "On the Parametrization of the Three-Dimensional Rotation Group",
      "type": "article-journal",
      "volume": "6"
     },
     "16222978/ZV86QVV9": {
      "DOI": "10.1063/1.4825732",
      "abstract": "The main topic addressed in this paper is a comparison between Euler parametrization and Quaternion one in the description of the dynamics of a Unmanned Aerial Vehicle assumed as a rigid body. In details Newton Euler equations are re-written in terms of quaternions due to the singularities that the Euler angles lead. This formulation not only avoids the gimbal lock but also allows a better performance in numerical implementation thanks to the linearity of quaternion algebra. This kind of analysis, proved by some numerical results presented, has a great importance due to the applicability of quaternion to drone control. Indeed, this latter requires a time response as quick as possible, in order to be reliable.",
      "author": [
       {
        "family": "Alaimo",
        "given": "Andrea"
       },
       {
        "family": "Artale",
        "given": "V."
       },
       {
        "family": "Milazzo",
        "given": "C."
       },
       {
        "family": "Ricciardello",
        "given": "Angela"
       }
      ],
      "container-title": "AIP Conference Proceedings",
      "id": "16222978/ZV86QVV9",
      "issued": {
       "date-parts": [
        [
         2013,
         10,
         1
        ]
       ]
      },
      "journalAbbreviation": "AIP Conference Proceedings",
      "page": "1228-1231",
      "system_id": "zotero|16222978/ZV86QVV9",
      "title": "Comparison between Euler and Quaternion Parametrization in UAV Dynamics",
      "type": "article-journal",
      "volume": "1558"
     }
    }
   }
  },
  "kernelspec": {
   "display_name": "Python 3 (ipykernel)",
   "language": "python",
   "name": "python3"
  },
  "language_info": {
   "codemirror_mode": {
    "name": "ipython",
    "version": 3
   },
   "file_extension": ".py",
   "mimetype": "text/x-python",
   "name": "python",
   "nbconvert_exporter": "python",
   "pygments_lexer": "ipython3",
   "version": "3.11.5"
  }
 },
 "nbformat": 4,
 "nbformat_minor": 5
}
