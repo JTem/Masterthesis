{
 "cells": [
  {
   "cell_type": "markdown",
   "id": "ba1f856c-b8ee-48b0-b5ad-54a6b8c5bcfa",
   "metadata": {},
   "source": [
    "# Content:\n",
    "- [1.0 Introduction](./1.0_introduction.ipynb)\n",
    "- [2.0 State of the Art](./2.0_state_of_the_art.ipynb)\n",
    "- [3.0 Introduction to Quaternions](./3.0_introduction_quaternions.ipynb)\n",
    "- [3.1 Introduction to Dual Quaternions](./3.1_introduction_dual_quaternions.ipynb)\n",
    "- [3.2 Dual Quaternion Differential Kinematics](./3.2_dual_quaternion_differential_kinematics.ipynb)\n",
    "- [3.3 Model Predictive Differential Kinematics](./3.3_model_predictive_differential_kinematics.ipynb)\n",
    "- [3.4 Dual Quaternion Interpolation](./3.4_dual_quaternion_interpolation.ipynb)"
   ]
  },
  {
   "cell_type": "code",
   "execution_count": null,
   "id": "d99da477-b9ff-482a-8245-e54ee24a589f",
   "metadata": {},
   "outputs": [],
   "source": []
  }
 ],
 "metadata": {
  "kernelspec": {
   "display_name": "Python 3 (ipykernel)",
   "language": "python",
   "name": "python3"
  },
  "language_info": {
   "codemirror_mode": {
    "name": "ipython",
    "version": 3
   },
   "file_extension": ".py",
   "mimetype": "text/x-python",
   "name": "python",
   "nbconvert_exporter": "python",
   "pygments_lexer": "ipython3",
   "version": "3.11.4"
  }
 },
 "nbformat": 4,
 "nbformat_minor": 5
}
