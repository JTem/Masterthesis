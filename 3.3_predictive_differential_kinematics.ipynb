{
 "cells": [
  {
   "cell_type": "code",
   "execution_count": 1,
   "id": "517fbdfb-4b44-4f88-95f3-acdeb40097dc",
   "metadata": {},
   "outputs": [],
   "source": [
    "%matplotlib widget\n",
    "from helper import *\n",
    "fk = ForwardKinematics()"
   ]
  },
  {
   "cell_type": "markdown",
   "id": "9e78eb7d-0585-4d4a-853c-7c220fc0508d",
   "metadata": {
    "citation-manager": {
     "citations": {
      "g1d7n": [
       {
        "id": "16222978/PIMK7NG3",
        "source": "zotero"
       }
      ],
      "wp0tt": [
       {
        "id": "16222978/B7SE9C3S",
        "source": "zotero"
       }
      ]
     }
    },
    "tags": []
   },
   "source": [
    "<h1>Predictive Differential Kinematics</h1>\n",
    "\n",
    "The goal of this chapter is to derive the differential model that has increased robustness to singularities. This increased robustness is realized by a predictive manipulability optimization that optimizes the manipulability of the cobot in **task direction**. For this first an new manipulability gradient is derived. After the gradient is derived, the QP problem introduced in the state of the art is extended to not only optimize the manipulability in task direction, but also take the joint position and joint velocity limits into account. To make sure the QP is feasible under all circumstances, a scaling $s$ is introduced, that scales the task velocity in case the tracking of the disired reference position is infeasible. Besides the theoretical foundations, the model is also setup in Python in parallel with the help of the OSQP optimization library <cite id=\"g1d7n\"><a href=\"#zotero%7C16222978%2FPIMK7NG3\">(Stellato et al., 2017)</a></cite>.\n",
    "\n",
    "## Directional Manipulability Gradient\n",
    "\n",
    "The manipulability measue $m(\\theta)$ which was introduced by Yoshikawa <cite id=\"wp0tt\"><a href=\"#zotero%7C16222978%2FB7SE9C3S\">(Yoshikawa, 1985)</a></cite> gives a general metric to evaulate the manipulability of the manipulator. In singular configuration, when the jacobian degenerates and the cobot loses one or more degrees of freedom in the end-effector motion, the manipulability index is zero. "
   ]
  },
  {
   "cell_type": "code",
   "execution_count": 2,
   "id": "1577b92f-41e3-4a3d-901e-302f96698646",
   "metadata": {
    "tags": []
   },
   "outputs": [
    {
     "name": "stdout",
     "output_type": "stream",
     "text": [
      "manipulability of example joint position:  0.0\n"
     ]
    }
   ],
   "source": [
    "def manipulability(q):\n",
    "            \n",
    "    J = fk.getBodyJacobian(q)\n",
    "\n",
    "    return np.sqrt(max(0, np.linalg.det(J@J.T)))\n",
    "\n",
    "# singular joint position \n",
    "q_example = [0,0,0,1.5708,0,0,0]\n",
    "print(\"manipulability of example joint position: \", manipulability(q_example))"
   ]
  },
  {
   "cell_type": "markdown",
   "id": "69936858-a052-4407-98f6-373af501c15f",
   "metadata": {},
   "source": [
    "The computation of the manipulability index is done with the body jacobian $J_b$. It expresses the cartesian end-effector velocities in the end-effector frame. This will later give an intuative way to compute apply the directionality feature to the gradient. To make use of the manipulability index, a gradient w.r.t the joint angles has to be computed. Practically this is often done via numerical differentiation as shown in the following code block. "
   ]
  },
  {
   "cell_type": "code",
   "execution_count": 3,
   "id": "626f099d-53c4-45a7-826d-191c0f945131",
   "metadata": {
    "tags": []
   },
   "outputs": [
    {
     "name": "stdout",
     "output_type": "stream",
     "text": [
      "manipulability of example joint position:  0.0\n",
      "numerical manipulability gradient: \n",
      "[   0.000    0.485    0.000    0.000    0.000    0.485    0.000]\n"
     ]
    }
   ],
   "source": [
    "def manipulability_gradient(q):\n",
    "\n",
    "    w0 = manipulability(q)\n",
    "    h = 0.00001\n",
    "    grad = []\n",
    "    for i in range(fk.dof):\n",
    "        q_temp = q.copy()\n",
    "        q_temp[i] += h\n",
    "        grad.append((manipulability(q_temp) - w0)/h)\n",
    "\n",
    "    return np.array(grad)\n",
    "\n",
    "# non singular joint position\n",
    "q_example = [0,0,0,1.5708,0,0,0]\n",
    "\n",
    "print(\"manipulability of example joint position: \", manipulability(q_example))\n",
    "print(\"numerical manipulability gradient: \")\n",
    "print(manipulability_gradient(q_example))"
   ]
  },
  {
   "cell_type": "markdown",
   "id": "fe70e2e6-4350-49fa-9c46-3121f5021012",
   "metadata": {
    "citation-manager": {
     "citations": {
      "12vfl": [
       {
        "id": "16222978/N5B2VN4U",
        "source": "zotero"
       }
      ]
     }
    },
    "tags": []
   },
   "source": [
    "An analytical approach is to compute the gradient via the manipulator hessian, this is a third order tensor that describes the second derivative of the forward kinematics w.r.t. the joint angles. it is closely related to the derivative of the jacobian w.r.t. time $\\dot{J}$.\n",
    "\n",
    "$$\n",
    "\\begin{align*}\n",
    "\\dot{J} &= \\frac{d J(\\theta)}{dt} \\\\\n",
    "&= \\frac{\\partial J(\\theta)}{\\partial \\theta} \\frac{d\\theta}{dt}\\\\\n",
    "&= H(\\theta) \\dot{\\theta}\n",
    "\\end{align*}\n",
    "$$\n",
    "\n",
    "where the manipulator hessian $H(\\theta) \\in \\mathbb{R}^{6 \\times DoF \\times DoF}$ is a third order tensor. In practical applications it is often computed as the partial derviative of the chosen manipulator jacobian w.r.t. the joint angles. Haviland and Corke <cite id=\"12vfl\"><a href=\"#zotero%7C16222978%2FN5B2VN4U\">(Haviland &#38; Corke, 2022)</a></cite> proposed a fast computation method, which is applicable for the geometric Jacobian, but not the body or space jacobian. For this reason within this thesis we fall back to the numerical computation method of the hessian. Again it is based on the body jacobian for the easy and intuative application of the directional aspect later."
   ]
  },
  {
   "cell_type": "code",
   "execution_count": 4,
   "id": "668f0285-df22-4ad6-b2f9-146650f329de",
   "metadata": {
    "tags": []
   },
   "outputs": [
    {
     "name": "stdout",
     "output_type": "stream",
     "text": [
      "manipulator Hessian: \n",
      "[[[   0.000   -0.412    0.000   -0.412    0.827   -0.412    0.128]\n",
      "  [   0.000    0.000    0.412   -0.000   -0.225    0.000   -0.416]\n",
      "  [   0.000    0.000    0.000   -0.412    0.827   -0.412    0.128]\n",
      "  [   0.000    0.000    0.000    0.000   -0.225   -0.000   -0.416]\n",
      "  [   0.000    0.000    0.000    0.000    0.000    0.225    0.765]\n",
      "  [   0.000    0.000    0.000    0.000    0.000    0.000   -0.416]\n",
      "  [   0.000    0.000    0.000    0.000    0.000    0.000    0.000]]\n",
      "\n",
      " [[   0.000   -0.900    0.000   -0.900   -0.378   -0.900   -0.059]\n",
      "  [   0.000    0.000    0.900   -0.000   -0.491   -0.000   -0.909]\n",
      "  [   0.000    0.000    0.000   -0.900   -0.378   -0.900   -0.059]\n",
      "  [   0.000    0.000    0.000    0.000   -0.491   -0.000   -0.909]\n",
      "  [   0.000    0.000    0.000    0.000    0.000    0.491   -0.350]\n",
      "  [   0.000    0.000    0.000    0.000    0.000    0.000   -0.909]\n",
      "  [   0.000    0.000    0.000    0.000    0.000    0.000    0.000]]\n",
      "\n",
      " [[   0.000   -0.141   -0.000   -0.141    0.000   -0.141    0.000]\n",
      "  [   0.000    0.000    0.141    0.000    0.841    0.000    0.000]\n",
      "  [   0.000    0.000    0.000   -0.141    0.000   -0.141    0.000]\n",
      "  [   0.000    0.000    0.000    0.000    0.841    0.000    0.000]\n",
      "  [   0.000    0.000    0.000    0.000    0.000   -0.841   -0.000]\n",
      "  [   0.000    0.000    0.000    0.000    0.000    0.000    0.000]\n",
      "  [   0.000    0.000    0.000    0.000    0.000    0.000    0.000]]\n",
      "\n",
      " [[   0.000    0.268    0.000   -0.368   -0.187   -0.104   -0.272]\n",
      "  [   0.000    0.000   -0.268    0.041   -0.428    0.286    0.182]\n",
      "  [   0.000    0.000    0.000   -0.368   -0.187   -0.104   -0.272]\n",
      "  [   0.000    0.000    0.000    0.000   -0.693    0.245   -0.448]\n",
      "  [   0.000    0.000    0.000    0.000    0.000    0.056   -0.040]\n",
      "  [   0.000    0.000    0.000    0.000    0.000    0.000   -0.105]\n",
      "  [   0.000    0.000    0.000    0.000    0.000    0.000    0.000]]\n",
      "\n",
      " [[   0.000   -0.123    0.000    0.169   -0.408    0.047   -0.594]\n",
      "  [   0.000    0.000    0.123    0.090    0.196    0.625   -0.083]\n",
      "  [   0.000    0.000    0.000    0.169   -0.408    0.047   -0.594]\n",
      "  [   0.000    0.000    0.000    0.000    0.317    0.536    0.205]\n",
      "  [   0.000    0.000    0.000    0.000    0.000   -0.026   -0.088]\n",
      "  [   0.000    0.000    0.000    0.000    0.000    0.000    0.048]\n",
      "  [   0.000    0.000    0.000    0.000    0.000    0.000    0.000]]\n",
      "\n",
      " [[   0.000    0.000    0.000    0.000    0.536    0.000    0.000]\n",
      "  [   0.000    0.000   -0.000   -0.693   -0.000   -0.315   -0.000]\n",
      "  [   0.000    0.000    0.000    0.000    0.536    0.000    0.000]\n",
      "  [   0.000    0.000    0.000    0.000   -0.000    0.378    0.000]\n",
      "  [   0.000    0.000    0.000    0.000    0.000    0.000    0.000]\n",
      "  [   0.000    0.000    0.000    0.000    0.000    0.000    0.000]\n",
      "  [   0.000    0.000    0.000    0.000    0.000    0.000    0.000]]]\n"
     ]
    }
   ],
   "source": [
    "def getHessian(q):\n",
    "    h = 0.000001\n",
    "    J = fk.getBodyJacobian(q)\n",
    "\n",
    "    # Initialize the Hessian tensor\n",
    "    H = np.zeros((6, fk.dof, fk.dof))\n",
    "\n",
    "    for i in range(fk.dof):\n",
    "        q_temp = q.copy()\n",
    "        q_temp[i] += h\n",
    "        J_temp = fk.getBodyJacobian(q_temp)\n",
    "        H[:, :, i] = (J_temp - J) / h\n",
    "\n",
    "    return H\n",
    "\n",
    "# non singular joint position\n",
    "q_example = [0,0,0,2,0,1,2]\n",
    "\n",
    "print(\"manipulator Hessian: \")\n",
    "print(getHessian(q_example))"
   ]
  },
  {
   "cell_type": "markdown",
   "id": "78afe4b3-5fad-4d8f-8a37-ed49c27de6dc",
   "metadata": {},
   "source": [
    "Following the derivaion of the manipulability gradient $J_m$ from (quelle) the hessian is used in combination with the body jacobian to have an analytical representation of the manipulability gradient which was just before computed numerically.\n",
    "\n",
    "$$\n",
    "J_m(\\theta) = \\sqrt{ \\det \\left( J(\\theta)J(\\theta)^T \\right)}\n",
    "\\begin{bmatrix}\n",
    "\\text{vec}(J(\\theta)H_1(\\theta)^T) & \\text{vec}((J(\\theta)J(\\theta)^T)^{-1}) \\\\\n",
    "\\text{vec}(J(\\theta)H_2(\\theta)^T) & \\text{vec}((J(\\theta)J(\\theta)^T)^{-1}) \\\\\n",
    "\\vdots & \\vdots \\\\\n",
    "\\text{vec}(J(\\theta)H_{DoF}(\\theta)^T) & \\text{vec}((J(\\theta)J(\\theta)^T)^{-1})\n",
    "\\end{bmatrix}\n",
    "$$\n",
    "\n",
    "is the manipulability Jacobian $J_m \\in \\mathbb{R}^{DoF}$ and where the matrix vector operation $\\text{vec}(\\cdot) : \\mathbb{R}^{a \\times b} \\rightarrow \\mathbb{R}^{ab}$ converts a matrix column-wise into a vector, and $H_i \\in \\mathbb{R}^{6 \\times DoF}$ is the $i^{th}$ component of the manipulator Hessian tensor $H \\in \\mathbb{R}^{6 \\times DoF \\times DoF}$."
   ]
  },
  {
   "cell_type": "code",
   "execution_count": 5,
   "id": "b2cd2b87-9067-4db6-a481-2d83cafcd6a9",
   "metadata": {
    "tags": []
   },
   "outputs": [
    {
     "name": "stdout",
     "output_type": "stream",
     "text": [
      "manipulator Hessian: \n",
      "[   0.000    0.000    0.000    0.000    0.000    0.000    0.000]\n"
     ]
    }
   ],
   "source": [
    "def analytic_manipulability_gradient(q):\n",
    "\n",
    "    J = fk.getBodyJacobian(q)\n",
    "    H = fk.getHessian(q)\n",
    "    m = manipulability(q)\n",
    "\n",
    "    b = np.linalg.inv(J@J.T)\n",
    "\n",
    "    Jm = np.zeros(fk.dof)\n",
    "    for i in range(fk.dof):\n",
    "        c = J @ H[:,:,i].T\n",
    "        Jm[i] = m*(c.flatten().T)@b.flatten()\n",
    "\n",
    "    return Jm\n",
    "\n",
    "# non singular joint position\n",
    "q_example = [0,0,0,1.5708,0,0,0]\n",
    "\n",
    "print(\"manipulator Hessian: \")\n",
    "print(analytic_manipulability_gradient(q_example))"
   ]
  },
  {
   "cell_type": "markdown",
   "id": "3bcfbb06-7231-4eda-a6f2-d18a646a39a3",
   "metadata": {},
   "source": [
    "The manipulability gradient $J_m$ can later be used as gradient in the Quadratic programming problemn to maximize the manipulability of the manipulator.\n",
    "\n",
    "$$\n",
    "\\dot{m} = J^T_m(q) \\dot{q}\n",
    "$$\n",
    "\n",
    "as can be seen by moving the robot in a singular position, the gradient degenerates to zero in the analyticase, and moves in an usuitable direction in the numerical computation case. In bad cases. e.g. $q_4 = 0$, the inversion of $J(\\theta)J(\\theta)^T$ even becomes infeasible. To counter this undesirable behavior and to make sure that optimization is also possible in singular configuration, as well as to incoorperate the directional dependancy a new manipulability gradient is formulated.\n",
    "\n",
    "$$\n",
    "J_{dir}(\\theta) = \n",
    "\\begin{bmatrix}\n",
    "\\text{vec}(W_{dir} J(\\theta)H_1(\\theta)^T) & \\text{vec}((J(\\theta)J(\\theta)^T  + \\lambda I)^{-1}) \\\\\n",
    "\\text{vec}(W_{dir} J(\\theta)H_2(\\theta)^T) & \\text{vec}((J(\\theta)J(\\theta)^T + \\lambda I)^{-1}) \\\\\n",
    "\\vdots & \\vdots \\\\\n",
    "\\text{vec}(W_{dir} J(\\theta)H_{DoF}(\\theta)^T) & \\text{vec}((J(\\theta)J(\\theta)^T + \\lambda I)^{-1})\n",
    "\\end{bmatrix}\n",
    "$$\n",
    "\n",
    "Where the weighting matrix $W_{dir} \\in \\mathbb{R}^{6 \\times 6}$ has the directional components of the desired task directions on its diagonal. The task directions matching to the body Jacobian and body Hessian $J_b(\\theta)$ and $H_b(\\theta)$ are defined in the end-effector frame, and can be written like this:\n",
    "\n",
    "$$\n",
    " dir = \\left( o_x, o_y, o_z, t_x, t_y, t_z \\right)\n",
    "$$\n",
    "\n",
    "where $o$ describes the orientational directions and $t$ the translational directions.\n",
    "The dampening factor $\\lambda$ is chosen to be a small value that adequatly dampens the inversion of $J(\\theta)J(\\theta)^T$ so that the gradient is well defined at all times. "
   ]
  },
  {
   "cell_type": "code",
   "execution_count": 6,
   "id": "92fe1c07-800f-4b0e-b6f8-44cb83c5be21",
   "metadata": {
    "tags": []
   },
   "outputs": [
    {
     "name": "stdout",
     "output_type": "stream",
     "text": [
      "[   0.000    0.000    0.000    0.000    0.000   -0.000    0.000]\n"
     ]
    }
   ],
   "source": [
    "def dir_manipulability_gradient(q, direction):\n",
    "\n",
    "    J = fk.getBodyJacobian(q)\n",
    "    H = fk.getHessian(q)\n",
    "    W = np.diag(direction)\n",
    "\n",
    "    b = np.linalg.inv(J@J.T + np.eye(6)*0.01)\n",
    "\n",
    "    Jm = np.zeros(fk.dof)\n",
    "    for i in range(fk.dof):\n",
    "        c = W @ J @ H[:,:,i].T\n",
    "        Jm[i] = (c.flatten().T)@b.flatten()\n",
    "\n",
    "    return Jm\n",
    "\n",
    "\n",
    "# non singular joint position\n",
    "q_example = [0,0,0,np.pi*0.5,0,0,0]\n",
    "\n",
    "direction = np.array([0,0,1, 0,0,0])\n",
    "\n",
    "\n",
    "print(dir_manipulability_gradient(q_example, direction))"
   ]
  },
  {
   "cell_type": "markdown",
   "id": "ec90227e-483e-4d9b-857d-54bb0513731b",
   "metadata": {
    "citation-manager": {
     "citations": {
      "eig9g": [
       {
        "id": "16222978/PIMK7NG3",
        "source": "zotero"
       }
      ]
     }
    },
    "tags": []
   },
   "source": [
    "## Quadratic Program Formulation\n",
    "\n",
    "The Quadratic program formulation used in this thesis differs from the common standard appraoch seen in most literature.The inverse differential kinematics problem will be formulated as closed loop and scalable IDK  to be sure that the problem is feasible at all times. If the problem is not scalable and the robot is in singular configurations it is often the case that the QP is not solvable. \n",
    "First, the standard OSQP <cite id=\"eig9g\"><a href=\"#zotero%7C16222978%2FPIMK7NG3\">(Stellato et al., 2017)</a></cite> formulation of a QP is shown: \n",
    "\n",
    "$$\n",
    "\\begin{align*}\n",
    "\\min_{x}& \\; f(x) = \\frac{1}{2} x^T P x + q^T x \\\\\n",
    "\\textrm{subject to}& \\; l \\leq Ax \\leq u \\\\\n",
    "\\end{align*}\n",
    "$$\n",
    "\n",
    "Where $P$ is a positive semi-definit weighting matrix, $q$ is the gradient, $A$ is the constraint matrix and $l$ and $u$ are the lower and upper bounds respectively. The variables $x$ are the variables which are optimized during the optimization algorithm.\n",
    "Besides that, instead of the standard twist or geometric jacobians the earlier introduced dual quaternioin jacobian $J_\\mathbb{H}$ to follow the reference, which is given as the vectorized unit dual quaternion derivative $[\\dot{\\underline{\\xi}}_{des}]_{vec}$. To incoorperate the time scaling, we extend the variable vector $x$, which consists of the joint velocities by the scaling factor $s$ and reformulate the constraint matrix $A$. \n",
    "\n",
    "\n",
    "$$\n",
    "\\begin{align*}\n",
    "J_\\mathbb{H}(\\theta)\\dot{\\theta}  &= s[\\dot{\\underline{\\xi}}_{des}]_{vec}\\\\\n",
    "J_\\mathbb{H}(\\theta)\\dot{\\theta} - s[\\dot{\\underline{\\xi}}_{des}]_{vec} &= 0 \\\\\n",
    "\\begin{bmatrix}\n",
    "J_\\mathbb{H}(\\theta) & -[\\dot{\\underline{\\xi}}_{des}]_{vec}\\\\\n",
    "\\end{bmatrix}\n",
    "\\begin{bmatrix}\n",
    "\\dot{\\theta}\\\\\n",
    "s\n",
    "\\end{bmatrix} &= 0 \\\\\n",
    "Ax &= 0\n",
    "\\end{align*}\n",
    "$$\n",
    "\n",
    "Where $J_\\mathbb{H}(\\theta) \\in \\mathbb{R}^{8 \\times DoF}$, $[\\dot{\\underline{\\xi}}_{des}]_{vec} \\in \\mathbb{R}^{8 \\times 1}$ and $s \\in [0, 1]$.\n",
    "\n",
    "The respective manipulability gradient can be set as the gradient in the minization function. Note that the sign is negative, as the manipulability should be maximized. Consideration of joint velocity, position and timescale boundaries is realized by the extension of the constraint matrix in the case of the joint velocity limits and the time scaling, and the formulation of a nonlinear joint position dependant gradient. The position limit gradient is the superposition of the common joint posiiton gradient which tries to minimize the joint angles of each joint $J_p = W_p \\theta$ and the non-linear gradient which acts only in the vacinity of the joint position limit. This area is defined with a threshhold factor $u \\in [0, 1]$ that defines a percentage of the joint range where the gradient applies. This gradient $J_l$ is defined per joint as follows:\n",
    "\n",
    "\n",
    "$$\n",
    "J_{l,i}(\\theta_i) = \\left\\{ \\begin{array}{cl}\n",
    "\\frac{ \\theta_i - u \\theta_{M_i}}{| \\theta_{M_i} - \\theta_i | + \\lambda} & \\theta_i \\geq u \\theta_{M_i} \\\\\n",
    "\\frac{\\theta_i - u \\theta_{m_i}}{|\\theta_{m_i} - \\theta_i | + \\lambda} & \\theta_i \\leq u \\theta_{m_i} \\\\\n",
    "0 & \\text{otherwise}\n",
    "\\end{array} \\right.\n",
    "$$\n",
    "\n",
    "Where $\\theta_i$ is the joint angle of the respective joint, $\\theta_{M_i}$ is the maximum joint position of the $i^{th}$ joint and $\\theta_{m_i}$ is the minumum joint angle respectively. With decreasing distance to the joint angles the gradient tends to a value of $\\frac{(1-u)\\theta_{M_i}}{\\lambda}$, which can be arbitrary high depending on the choice of $\\lambda$ and $u$. "
   ]
  },
  {
   "cell_type": "code",
   "execution_count": 7,
   "id": "26924231-9609-49d4-b035-735e719f35c7",
   "metadata": {
    "tags": []
   },
   "outputs": [],
   "source": [
    "def velocity_damper(q, q_min, q_max):\n",
    "    grad = np.zeros(fk.dof)\n",
    "\n",
    "    thresh = 0.9\n",
    "    for i in range(fk.dof):\n",
    "\n",
    "        if q[i] > thresh*q_max[i]:\n",
    "            grad[i] = (q[i] - thresh*q_max[i])/(abs(q[i] - q_max[i]) + 0.01)\n",
    "\n",
    "        if q[i] < thresh*q_min[i]:\n",
    "            grad[i] = (q[i] - thresh*q_min[i])/(abs(q[i] - q_min[i]) + 0.01)\n",
    "\n",
    "    return grad"
   ]
  },
  {
   "cell_type": "markdown",
   "id": "6afe9d49-26bb-49ee-ab52-adc45d1f4d00",
   "metadata": {},
   "source": [
    "The QP is extended with the joint acceleration to be able to smooth the trajectory and self-motion of the robot. Here the basic euler integration formula is used.\n",
    "\n",
    "$$\n",
    "\\dot{\\theta}_k = \\dot{\\theta}_{k-1} + \\Delta t \\ddot{\\theta}_k\n",
    "$$\n",
    "\n",
    "Reformulation will allow the incoorperation in the quadratic program formulation. Both $\\dot{\\theta}_k$ and $\\ddot{\\theta}_k$ will be part of the variable vector, and $\\dot{\\theta}_{k-1}$, which is the velocity of the last cycle, will be set in the bounds.\n",
    "\n",
    "With the earlier introduced components and the extention with the time scale, the new QP formulation can be written as:\n",
    "\n",
    "$$\n",
    "\\begin{align*}\n",
    "\\min_{x} \\; f(x) = &\\frac{1}{2} \n",
    "\\begin{bmatrix}\n",
    "\\dot{\\theta}\\\\\n",
    "\\ddot{\\theta}\\\\\n",
    "s\n",
    "\\end{bmatrix}^T \n",
    "\\begin{bmatrix}\n",
    "W_{\\dot{\\theta}} & 0 & 0\\\\\n",
    "0 & W_{\\ddot{\\theta}} & 0\\\\\n",
    "0 & 0 & \\lambda_s\n",
    "\\end{bmatrix}\n",
    "\\begin{bmatrix}\n",
    "\\dot{\\theta}\\\\\n",
    "\\ddot{\\theta}\\\\\n",
    "s\n",
    "\\end{bmatrix} + \n",
    "\\begin{bmatrix}\n",
    "(W_p \\theta + \\lambda_l J_l(\\theta) - \\lambda_{dir}J_{dir}(\\theta, dir))\\\\\n",
    "W_v \\dot{\\theta} \\\\\n",
    "-2\\lambda_s\n",
    "\\end{bmatrix}^T \n",
    "\\begin{bmatrix}\n",
    "\\dot{\\theta}\\\\\n",
    "\\ddot{\\theta}\\\\\n",
    "s\n",
    "\\end{bmatrix}\\\\\n",
    "\\\\\n",
    "\\textrm{subject to}& \\; \n",
    "\\begin{bmatrix}\n",
    "0_{8 \\times 1}\\\\\n",
    "\\dot{\\theta}_{k-1}\\\\\n",
    "\\dot{\\theta}_m\\\\\n",
    "-inf\\\\\n",
    "0\n",
    "\\end{bmatrix} \n",
    "\\leq \n",
    "\\begin{bmatrix}\n",
    "J_\\mathbb{H}(\\theta) & 0_{8 \\times DoF} &-[\\dot{\\underline{\\xi}}_{des} + k_p\\left(\\underline{\\xi}_{des} - fk(\\theta)\\right)]_{vec}\\\\\n",
    "I_{DoF \\times DoF} & -\\Delta t I_{DoF \\times DoF} & 0_{DoF \\times 1}\\\\\n",
    "I_{DoF \\times DoF} & 0_{DoF \\times DoF} & 0_{DoF \\times 1}\\\\\n",
    "0_{DoF \\times DoF} & I_{DoF \\times DoF} & 0_{DoF \\times 1}\\\\\n",
    "0_{1 \\times DoF} & 0_{1 \\times DoF} & 1\\\\\n",
    "\\end{bmatrix} \n",
    "\\begin{bmatrix}\n",
    "\\dot{\\theta}\\\\\n",
    "\\ddot{\\theta}\\\\\n",
    "s\n",
    "\\end{bmatrix} \\leq \n",
    "\\begin{bmatrix}\n",
    "0_{8 \\times 1}\\\\\n",
    "\\dot{\\theta}_{k-1}\\\\\n",
    "\\dot{\\theta}_M\\\\\n",
    "inf\\\\\n",
    "1\n",
    "\\end{bmatrix} \n",
    "\\end{align*}\n",
    "$$\n",
    "\n",
    "Where the closed loop term $k_p\\left(\\underline{\\xi}_{des} - fk(\\theta)\\right)$ was added to compensate any possible drift. Similarly to the centering of joint positions, the gradient $J_v = W_v \\dot{\\theta}$ was added on the acceleration level to prevent possible acceleration optimization based undulations in the nullspace of the robot.\n",
    "\n",
    "The predictive aspect of the controller is given by predictive describtion of the direction vector. Here, we evaluate the task in future timesteps and sum up the cartesian directions given by the dual quaternionic expression the computes the twist in the end-effector frame of the robot.\n",
    "\n",
    "$$\n",
    "dir_{pred}(t) = \\frac{ dir_0 + 2 \\sum_{i=0}^{n} \\left| \\left[ \\underline{\\xi}_{des}^*(t + i \\Delta t)\\otimes \\underline{\\dot{\\xi}}_{des}(t + i \\Delta t)\\right]_{6vec}\\right|}{ \\left\\| dir_0 + 2 \\sum_{i=0}^{n} \\left[ \\underline{\\xi}_{des}^*(t + i \\Delta t)\\otimes \\underline{\\dot{\\xi}}_{des}(t + i \\Delta t)\\right]_{6vec}\\right\\|} \n",
    "$$\n",
    "\n",
    "To cover the QP formulation in python code, the following code block will show the needed matrices and the gradients. The full implementation can be found in the simulation folder which will be used in the following chapters."
   ]
  },
  {
   "cell_type": "code",
   "execution_count": 8,
   "id": "8feba210-a4d2-44ce-9119-eba8443fba57",
   "metadata": {},
   "outputs": [
    {
     "name": "stdout",
     "output_type": "stream",
     "text": [
      "Weighting matrix P:\n",
      "[[   2.500    0.000    0.000    0.000    0.000    0.000    0.000    0.000    0.000    0.000    0.000    0.000    0.000    0.000    0.000]\n",
      " [   0.000    2.500    0.000    0.000    0.000    0.000    0.000    0.000    0.000    0.000    0.000    0.000    0.000    0.000    0.000]\n",
      " [   0.000    0.000    5.000    0.000    0.000    0.000    0.000    0.000    0.000    0.000    0.000    0.000    0.000    0.000    0.000]\n",
      " [   0.000    0.000    0.000    0.250    0.000    0.000    0.000    0.000    0.000    0.000    0.000    0.000    0.000    0.000    0.000]\n",
      " [   0.000    0.000    0.000    0.000    0.250    0.000    0.000    0.000    0.000    0.000    0.000    0.000    0.000    0.000    0.000]\n",
      " [   0.000    0.000    0.000    0.000    0.000    0.250    0.000    0.000    0.000    0.000    0.000    0.000    0.000    0.000    0.000]\n",
      " [   0.000    0.000    0.000    0.000    0.000    0.000    0.250    0.000    0.000    0.000    0.000    0.000    0.000    0.000    0.000]\n",
      " [   0.000    0.000    0.000    0.000    0.000    0.000    0.000    0.001    0.000    0.000    0.000    0.000    0.000    0.000    0.000]\n",
      " [   0.000    0.000    0.000    0.000    0.000    0.000    0.000    0.000    0.001    0.000    0.000    0.000    0.000    0.000    0.000]\n",
      " [   0.000    0.000    0.000    0.000    0.000    0.000    0.000    0.000    0.000    0.001    0.000    0.000    0.000    0.000    0.000]\n",
      " [   0.000    0.000    0.000    0.000    0.000    0.000    0.000    0.000    0.000    0.000    0.001    0.000    0.000    0.000    0.000]\n",
      " [   0.000    0.000    0.000    0.000    0.000    0.000    0.000    0.000    0.000    0.000    0.000    0.001    0.000    0.000    0.000]\n",
      " [   0.000    0.000    0.000    0.000    0.000    0.000    0.000    0.000    0.000    0.000    0.000    0.000    0.001    0.000    0.000]\n",
      " [   0.000    0.000    0.000    0.000    0.000    0.000    0.000    0.000    0.000    0.000    0.000    0.000    0.000    0.001    0.000]\n",
      " [   0.000    0.000    0.000    0.000    0.000    0.000    0.000    0.000    0.000    0.000    0.000    0.000    0.000    0.000   45.000]]\n",
      "\n",
      "Constraint matrix A (with placeholders for Jacobian and reference):\n",
      "[[   2.000    2.000    2.000    2.000    2.000    2.000    2.000    0.000    0.000    0.000    0.000    0.000    0.000    0.000   -3.000]\n",
      " [   2.000    2.000    2.000    2.000    2.000    2.000    2.000    0.000    0.000    0.000    0.000    0.000    0.000    0.000   -3.000]\n",
      " [   2.000    2.000    2.000    2.000    2.000    2.000    2.000    0.000    0.000    0.000    0.000    0.000    0.000    0.000   -3.000]\n",
      " [   2.000    2.000    2.000    2.000    2.000    2.000    2.000    0.000    0.000    0.000    0.000    0.000    0.000    0.000   -3.000]\n",
      " [   2.000    2.000    2.000    2.000    2.000    2.000    2.000    0.000    0.000    0.000    0.000    0.000    0.000    0.000   -3.000]\n",
      " [   2.000    2.000    2.000    2.000    2.000    2.000    2.000    0.000    0.000    0.000    0.000    0.000    0.000    0.000   -3.000]\n",
      " [   2.000    2.000    2.000    2.000    2.000    2.000    2.000    0.000    0.000    0.000    0.000    0.000    0.000    0.000   -3.000]\n",
      " [   2.000    2.000    2.000    2.000    2.000    2.000    2.000    0.000    0.000    0.000    0.000    0.000    0.000    0.000   -3.000]\n",
      " [   1.000    0.000    0.000    0.000    0.000    0.000    0.000   -0.005   -0.000   -0.000   -0.000   -0.000   -0.000   -0.000    0.000]\n",
      " [   0.000    1.000    0.000    0.000    0.000    0.000    0.000   -0.000   -0.005   -0.000   -0.000   -0.000   -0.000   -0.000    0.000]\n",
      " [   0.000    0.000    1.000    0.000    0.000    0.000    0.000   -0.000   -0.000   -0.005   -0.000   -0.000   -0.000   -0.000    0.000]\n",
      " [   0.000    0.000    0.000    1.000    0.000    0.000    0.000   -0.000   -0.000   -0.000   -0.005   -0.000   -0.000   -0.000    0.000]\n",
      " [   0.000    0.000    0.000    0.000    1.000    0.000    0.000   -0.000   -0.000   -0.000   -0.000   -0.005   -0.000   -0.000    0.000]\n",
      " [   0.000    0.000    0.000    0.000    0.000    1.000    0.000   -0.000   -0.000   -0.000   -0.000   -0.000   -0.005   -0.000    0.000]\n",
      " [   0.000    0.000    0.000    0.000    0.000    0.000    1.000   -0.000   -0.000   -0.000   -0.000   -0.000   -0.000   -0.005    0.000]\n",
      " [   1.000    0.000    0.000    0.000    0.000    0.000    0.000    0.000    0.000    0.000    0.000    0.000    0.000    0.000    0.000]\n",
      " [   0.000    1.000    0.000    0.000    0.000    0.000    0.000    0.000    0.000    0.000    0.000    0.000    0.000    0.000    0.000]\n",
      " [   0.000    0.000    1.000    0.000    0.000    0.000    0.000    0.000    0.000    0.000    0.000    0.000    0.000    0.000    0.000]\n",
      " [   0.000    0.000    0.000    1.000    0.000    0.000    0.000    0.000    0.000    0.000    0.000    0.000    0.000    0.000    0.000]\n",
      " [   0.000    0.000    0.000    0.000    1.000    0.000    0.000    0.000    0.000    0.000    0.000    0.000    0.000    0.000    0.000]\n",
      " [   0.000    0.000    0.000    0.000    0.000    1.000    0.000    0.000    0.000    0.000    0.000    0.000    0.000    0.000    0.000]\n",
      " [   0.000    0.000    0.000    0.000    0.000    0.000    1.000    0.000    0.000    0.000    0.000    0.000    0.000    0.000    0.000]\n",
      " [   0.000    0.000    0.000    0.000    0.000    0.000    0.000    1.000    0.000    0.000    0.000    0.000    0.000    0.000    0.000]\n",
      " [   0.000    0.000    0.000    0.000    0.000    0.000    0.000    0.000    1.000    0.000    0.000    0.000    0.000    0.000    0.000]\n",
      " [   0.000    0.000    0.000    0.000    0.000    0.000    0.000    0.000    0.000    1.000    0.000    0.000    0.000    0.000    0.000]\n",
      " [   0.000    0.000    0.000    0.000    0.000    0.000    0.000    0.000    0.000    0.000    1.000    0.000    0.000    0.000    0.000]\n",
      " [   0.000    0.000    0.000    0.000    0.000    0.000    0.000    0.000    0.000    0.000    0.000    1.000    0.000    0.000    0.000]\n",
      " [   0.000    0.000    0.000    0.000    0.000    0.000    0.000    0.000    0.000    0.000    0.000    0.000    1.000    0.000    0.000]\n",
      " [   0.000    0.000    0.000    0.000    0.000    0.000    0.000    0.000    0.000    0.000    0.000    0.000    0.000    1.000    0.000]\n",
      " [   0.000    0.000    0.000    0.000    0.000    0.000    0.000    0.000    0.000    0.000    0.000    0.000    0.000    0.000    1.000]]\n",
      "\n",
      "the gradient (where the introduced gradients are not applied yet):\n",
      "[   0.000    0.000    0.000    0.000    0.000    0.000    0.000    0.000    0.000    0.000    0.000    0.000    0.000    0.000  -90.000]\n",
      "\n",
      "constant lower bound:\n",
      "[   0.000    0.000    0.000    0.000    0.000    0.000    0.000    0.000    5.000    5.000    5.000    5.000    5.000    5.000    5.000   -2.094   -2.094   -2.094   -2.094   -2.094   -2.094   -2.094\n",
      "     -inf     -inf     -inf     -inf     -inf     -inf     -inf    0.000]\n",
      "\n",
      "constant upper bound:\n",
      "[   0.000    0.000    0.000    0.000    0.000    0.000    0.000    0.000    5.000    5.000    5.000    5.000    5.000    5.000    5.000    2.094    2.094    2.094    2.094    2.094    2.094    2.094\n",
      "      inf      inf      inf      inf      inf      inf      inf    1.000]\n"
     ]
    }
   ],
   "source": [
    "from Simulation.QP_DifferentialKinematics import QP_DifferentialKinematics\n",
    "\n",
    "idk = QP_DifferentialKinematics(verbose = True)"
   ]
  },
  {
   "cell_type": "markdown",
   "id": "979c75cd-4cbf-4097-bbc5-91ee50466a1d",
   "metadata": {},
   "source": [
    "Calling the constructor will print the respective matrices that are needed to setup the osqp QP problem. First the diagonal matrix $P$, which is weighting the minimization of the joint velocities, joint accelerations and the error on the time scaling factor $s - 1 = 0$. Then the constraint matrix $A$ where the Jacobian $J_\\mathbb{H}$ is replaced by a blockmatrix with constant value of 2, and the reference $[\\dot{\\underline{\\xi}}_{des} + k_p\\left(\\underline{\\xi}_{des} - fk(\\theta)\\right)]_{vec}$ which was replaced with constant values of $-3$ for easy visualization purposes. The time step is set to $5ms$ in the inegration term of the joint acceleration.\n",
    "\n",
    "The gradients which are used are not applied in the setup, only the value of $-2\\lambda_s = -20$ can be seen. The constant lower and upper bounds show the joint velocity limits of $\\dot{\\theta}_i \\in [-\\frac{\\pi}{2}, \\frac{\\pi}{2}]$ and $s \\in [0,1]$. Note, that the joint acceleration is not bound, but only minimized. This was done to increase the robustness of the controller as tight bounds will often cause solution infeasibility.\n",
    "\n",
    "During the task execution, the Jacobian $J_\\mathbb{H}$, the reference $[\\dot{\\underline{\\xi}}_{des} + k_p\\left(\\underline{\\xi}_{des} - fk(\\theta)\\right)]_{vec}$, and the gradients will be updated based on the current joint position and task progression. The upper and lower bounds will be updated with the last joint velocity command. The update functions that replace the respective blocks in the gradient and constraint matrix can be found in the <a href=\"./Simulation/QP_DifferentialKinematics.py\">QP_DifferentialKinematics.py</a>."
   ]
  },
  {
   "cell_type": "code",
   "execution_count": 9,
   "id": "ff708a0a-268a-4c5a-bbb2-35f8df5b9ad3",
   "metadata": {
    "tags": []
   },
   "outputs": [],
   "source": [
    "fk = ForwardKinematics()\n",
    "\n",
    "q1 = np.array([deg2rad(20), deg2rad(0), deg2rad(-20), deg2rad(90), deg2rad(0), deg2rad(-90), deg2rad(0)])\n",
    "\n",
    "quat0 = Quaternion.fromAxisAngle(np.pi*0.5, np.array([0,1,0]))\n",
    "quat1 = Quaternion.fromAxisAngle(np.pi*0.5, np.array([0,0,1]))\n",
    "\n",
    "x1 = DualQuaternion.fromQuatPos(quat0, np.array([0.350, 0, 1.138]))\n",
    "x2 = DualQuaternion.fromQuatPos(quat0, np.array([0.815, 0, 1.138]))\n",
    "x3 = DualQuaternion.fromQuatPos(quat1*quat0, np.array([0.815, 0, 1.138]))     \n",
    "\n",
    "task_list = np.array([MoveJoint(q1, 2), MoveLinear(fk.getFK(q1), x1, 2), MoveLinear(x1, x2, 2), MoveLinear(x2, x3, 2), WaitTime(3)])\n",
    "\n",
    "sim = Simulation(task_list, method = \"qp\")\n",
    "\n",
    "sim.start()"
   ]
  },
  {
   "cell_type": "markdown",
   "id": "3a011eba-8c0b-44b6-895f-f968d61103c2",
   "metadata": {
    "tags": []
   },
   "source": [
    "As visible from the above example, the robot is capable to avoid singularity related velocity jumps and has robust, feasible solutions for the QP problem. The predictive direction computation allows the robot to self-optimize its configuration within the nullspace, without interference of the end-effector pose. Changing the rotation direction of $x3$ by adjustment of the rotation axis of $quat1$ in the code block will show significantly different behavior of the robot, as can be seen in the next example. The reader is encouraged to do further tests to see the effect of the predictive optimization on their behalf."
   ]
  },
  {
   "cell_type": "code",
   "execution_count": 10,
   "id": "e72b27ba-31e1-4c83-b80a-a819709b9b33",
   "metadata": {
    "tags": []
   },
   "outputs": [],
   "source": [
    "fk = ForwardKinematics()\n",
    "\n",
    "q1 = np.array([deg2rad(20), deg2rad(0), deg2rad(-20), deg2rad(90), deg2rad(0), deg2rad(-90), deg2rad(0)])\n",
    "\n",
    "quat0 = Quaternion.fromAxisAngle(np.pi*0.5, np.array([0,1,0]))\n",
    "quat1 = Quaternion.fromAxisAngle(np.pi*0.5, np.array([0,1,0]))\n",
    "\n",
    "x1 = DualQuaternion.fromQuatPos(quat0, np.array([0.350, 0, 1.138]))\n",
    "x2 = DualQuaternion.fromQuatPos(quat0, np.array([0.815, 0, 1.138]))\n",
    "x3 = DualQuaternion.fromQuatPos(quat1*quat0, np.array([0.815, 0, 1.138]))     \n",
    "\n",
    "task_list = np.array([MoveJoint(q1, 2), MoveLinear(fk.getFK(q1), x1, 2), MoveLinear(x1, x2, 2), MoveLinear(x2, x3, 2), WaitTime(3)])\n",
    "\n",
    "sim = Simulation(task_list, method = \"qp\")\n",
    "\n",
    "sim.start()"
   ]
  },
  {
   "cell_type": "markdown",
   "id": "f42682e9-31f0-411f-a9c8-1dd5b7e6271f",
   "metadata": {},
   "source": [
    "<h1>Literature</h1>\n",
    "\n",
    "<!-- BIBLIOGRAPHY START -->\n",
    "<div class=\"csl-bib-body\">\n",
    "  <div class=\"csl-entry\"><i id=\"zotero|16222978/N5B2VN4U\"></i>Haviland, J., &#38; Corke, P. (2022). <i>Manipulator Differential Kinematics: Part 2: Acceleration and Advanced Applications</i>. <a href=\"https://doi.org/10.48550/ARXIV.2207.01794\">https://doi.org/10.48550/ARXIV.2207.01794</a></div>\n",
    "  <div class=\"csl-entry\"><i id=\"zotero|16222978/PIMK7NG3\"></i>Stellato, B., Banjac, G., Goulart, P., Bemporad, A., &#38; Boyd, S. (2017). <i>OSQP: An Operator Splitting Solver for Quadratic Programs</i>. <a href=\"https://doi.org/10.48550/ARXIV.1711.08013\">https://doi.org/10.48550/ARXIV.1711.08013</a></div>\n",
    "  <div class=\"csl-entry\"><i id=\"zotero|16222978/B7SE9C3S\"></i>Yoshikawa, T. (1985). Manipulability of Robotic Mechanisms. <i>The International Journal of Robotics Research</i>, <i>4</i>(2), 3–9. <a href=\"https://doi.org/10.1177/027836498500400201\">https://doi.org/10.1177/027836498500400201</a></div>\n",
    "</div>\n",
    "<!-- BIBLIOGRAPHY END -->\n"
   ]
  }
 ],
 "metadata": {
  "citation-manager": {
   "items": {
    "zotero": {
     "16222978/B7SE9C3S": {
      "DOI": "10.1177/027836498500400201",
      "URL": "http://journals.sagepub.com/doi/10.1177/027836498500400201",
      "abstract": "This paper discusses the manipulating ability of robotic mechanisms in positioning and orienting end-effectors and proposes a measure of manipulability. Some properties of this measure are obtained, the best postures of various types of manipulators are given, and a four-degree-of-freedom finger is considered from the viewpoint of the measure. The pos tures somewhat resemble those of human arms and fingers.",
      "accessed": {
       "date-parts": [
        [
         2023,
         12,
         14
        ]
       ]
      },
      "author": [
       {
        "family": "Yoshikawa",
        "given": "Tsuneo"
       }
      ],
      "container-title": "The International Journal of Robotics Research",
      "id": "16222978/B7SE9C3S",
      "issue": "2",
      "issued": {
       "date-parts": [
        [
         "1985"
        ]
       ]
      },
      "journalAbbreviation": "The International Journal of Robotics Research",
      "language": "en",
      "page": "3-9",
      "system_id": "zotero|16222978/B7SE9C3S",
      "title": "Manipulability of Robotic Mechanisms",
      "type": "article-journal",
      "volume": "4"
     },
     "16222978/N5B2VN4U": {
      "DOI": "10.48550/ARXIV.2207.01794",
      "URL": "https://arxiv.org/abs/2207.01794",
      "abstract": "This is the second and final article on the tutorial on manipulator differential kinematics. In Part 1, we described a method of modelling kinematics using the elementary transform sequence (ETS), before formulating forward kinematics and the manipulator Jacobian. We then described some basic applications of the manipulator Jacobian including resolved-rate motion control (RRMC), inverse kinematics (IK), and some manipulator performance measures. In this article, we formulate the second-order differential kinematics, leading to a definition of manipulator Hessian. We then describe the differential kinematics' analytical forms, which are essential to dynamics applications. Subsequently, we provide a general formula for higher-order derivatives. The first application we consider is advanced velocity control. In this section, we extend resolved-rate motion control to perform sub-tasks while still achieving the goal before redefining the algorithm as a quadratic program to enable greater flexibility and additional constraints. We then take another look at numerical inverse kinematics with an emphasis on adding constraints. Finally, we analyse how the manipulator Hessian can help to escape singularities. We have provided Jupyter Notebooks to accompany each section within this tutorial. The Notebooks are written in Python code and use the Robotics Toolbox for Python, and the Swift Simulator to provide examples and implementations of algorithms. While not absolutely essential, for the most engaging and informative experience, we recommend working through the Jupyter Notebooks while reading this article. The Notebooks and setup instructions can be accessed at https://github.com/jhavl/dkt.",
      "accessed": {
       "date-parts": [
        [
         2023,
         12,
         14
        ]
       ]
      },
      "author": [
       {
        "family": "Haviland",
        "given": "Jesse"
       },
       {
        "family": "Corke",
        "given": "Peter"
       }
      ],
      "id": "16222978/N5B2VN4U",
      "issued": {
       "date-parts": [
        [
         2022
        ]
       ]
      },
      "shortTitle": "Manipulator Differential Kinematics",
      "system_id": "zotero|16222978/N5B2VN4U",
      "title": "Manipulator Differential Kinematics: Part 2: Acceleration and Advanced Applications",
      "type": "article-journal"
     },
     "16222978/PIMK7NG3": {
      "DOI": "10.48550/ARXIV.1711.08013",
      "URL": "https://arxiv.org/abs/1711.08013",
      "abstract": "We present a general-purpose solver for convex quadratic programs based on the alternating direction method of multipliers, employing a novel operator splitting technique that requires the solution of a quasi-definite linear system with the same coefficient matrix at almost every iteration. Our algorithm is very robust, placing no requirements on the problem data such as positive definiteness of the objective function or linear independence of the constraint functions. It can be configured to be division-free once an initial matrix factorization is carried out, making it suitable for real-time applications in embedded systems. In addition, our technique is the first operator splitting method for quadratic programs able to reliably detect primal and dual infeasible problems from the algorithm iterates. The method also supports factorization caching and warm starting, making it particularly efficient when solving parametrized problems arising in finance, control, and machine learning. Our open-source C implementation OSQP has a small footprint, is library-free, and has been extensively tested on many problem instances from a wide variety of application areas. It is typically ten times faster than competing interior-point methods, and sometimes much more when factorization caching or warm start is used. OSQP has already shown a large impact with tens of thousands of users both in academia and in large corporations.",
      "accessed": {
       "date-parts": [
        [
         2023,
         12,
         13
        ]
       ]
      },
      "author": [
       {
        "family": "Stellato",
        "given": "Bartolomeo"
       },
       {
        "family": "Banjac",
        "given": "Goran"
       },
       {
        "family": "Goulart",
        "given": "Paul"
       },
       {
        "family": "Bemporad",
        "given": "Alberto"
       },
       {
        "family": "Boyd",
        "given": "Stephen"
       }
      ],
      "id": "16222978/PIMK7NG3",
      "issued": {
       "date-parts": [
        [
         2017
        ]
       ]
      },
      "shortTitle": "OSQP",
      "system_id": "zotero|16222978/PIMK7NG3",
      "title": "OSQP: An Operator Splitting Solver for Quadratic Programs",
      "type": "article-journal"
     }
    }
   }
  },
  "kernelspec": {
   "display_name": "Python 3 (ipykernel)",
   "language": "python",
   "name": "python3"
  },
  "language_info": {
   "codemirror_mode": {
    "name": "ipython",
    "version": 3
   },
   "file_extension": ".py",
   "mimetype": "text/x-python",
   "name": "python",
   "nbconvert_exporter": "python",
   "pygments_lexer": "ipython3",
   "version": "3.11.4"
  }
 },
 "nbformat": 4,
 "nbformat_minor": 5
}
