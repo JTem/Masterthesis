{
 "cells": [
  {
   "cell_type": "markdown",
   "id": "226b4b53-3769-4174-bf9c-603f30aa955f",
   "metadata": {
    "citation-manager": {
     "citations": {
      "4dc8o": [
       {
        "id": "16222978/N5B2VN4U",
        "source": "zotero"
       }
      ]
     }
    },
    "tags": []
   },
   "source": [
    "# Conclusion and Future Work\n",
    "\n",
    "\n",
    "In summary, the comparative analysis across various motion control methods, alongside the detailed efficiency comparison of computational effort, culminates in a nuanced understanding of the current landscape in robotic motion control. The presented data underscores the increased singularity robustness, the heightened intuit for the non-expert user during hand-guided setup and significant computational advantages of unit dual quaternion methods over the traditional Denavit-Hartenberg transformations or other matrix-based approaches, particularly within a C++ environment where these benefits are magnified due to the lower-level language efficiencies.\n",
    "\n",
    "The empirical results of this thesis, presented in <a href=\"./5.0_results.ipynb\">Chapter 5.0</a>, indicate that applying dual quaternionic methods to forward and inverse kinematics and Jacobian computations yields substantial speed improvements. Such improvements are not merely incremental; they indicate a transformative potential in real-time robotic applications. When considering robots with high degrees of freedom, these **speed enhancements, which range between 42 – 76%**, dramatically increase efficiency and performance. These efficiency improvements results in a **computation time of less than 300µs** for the proposed motion control algorithm which clearly enables the algorithm to be real-time applicable.\n",
    "\n",
    "Another valuable characteristic of the dual quaternionic formulation is the singularity robustness of the representation. The double cover property provides significant advantages over homogenous transformation matrices, which are especially useful for the hand-guided teaching of cobots, which is preferred by non-expert users for their intuitive nature. Here, representation singularities, which often arise during the teaching of complex motion paths, no longer appear, which enables a heightened intuition during the teaching process.\n",
    "\n",
    "<table>\n",
    "    <thead>\n",
    "      <tr>\n",
    "        <th style=\"width: 200px\";>Feature</th>\n",
    "        <th>analytic IK</th>\n",
    "        <th>iterative IK</th>\n",
    "        <th>IDK (classic)</th>\n",
    "        <th>IDK (QP)</th>\n",
    "        <th>MPC</th>\n",
    "        <th>NMPC</th>\n",
    "        <th>Proposed Method</th>\n",
    "      </tr>\n",
    "    </thead>\n",
    "    <tbody>\n",
    "      <tr>\n",
    "        <td>real-time applicable</td>\n",
    "        <td>yes</td>\n",
    "        <td>no</td>\n",
    "        <td>yes</td>\n",
    "        <td>yes</td>\n",
    "        <td>no</td>\n",
    "        <td>no</td>\n",
    "        <td>yes</td>\n",
    "      </tr>\n",
    "      <tr>\n",
    "        <td>predictive approach</td>\n",
    "        <td>no</td>\n",
    "        <td>no</td>\n",
    "        <td>no</td>\n",
    "        <td>no</td>\n",
    "        <td>yes</td>\n",
    "        <td>yes</td>\n",
    "        <td>yes</td>\n",
    "      </tr>\n",
    "      <tr>\n",
    "        <td>nullspace projection</td>\n",
    "        <td>no</td>\n",
    "        <td>yes</td>\n",
    "        <td>yes</td>\n",
    "        <td>yes</td>\n",
    "        <td>yes</td>\n",
    "        <td>yes</td>\n",
    "        <td>yes</td>\n",
    "      </tr>\n",
    "      <tr>\n",
    "        <td>extra constraints</td>\n",
    "        <td>no</td>\n",
    "        <td>no</td>\n",
    "        <td>no</td>\n",
    "        <td>yes</td>\n",
    "        <td>yes</td>\n",
    "        <td>yes</td>\n",
    "        <td>yes</td>\n",
    "      </tr>\n",
    "      <tr>\n",
    "        <td>locally smooth</td>\n",
    "        <td>no</td>\n",
    "        <td>no</td>\n",
    "        <td>yes</td>\n",
    "        <td>yes</td>\n",
    "        <td>yes</td>\n",
    "        <td>yes</td>\n",
    "        <td>yes</td>\n",
    "      </tr>\n",
    "    </tbody>\n",
    "  </table>\n",
    "  \n",
    "<p style=\"text-align: center;\"><strong>Table 6.1</strong>: Comparison of introduced inverse kinematic methods and the proposed motion controller.</p>\n",
    "\n",
    "The proposed real-time applicable motion controller, based on the predictive and task-directional manipulability optimization and the formulation via Quadratic Programming, is able to predict an optimized configuration state to smoothly transition into the following motion command. This is a clear advantage over standard methods that are not able to predict, only generally optimize the robot's joint configuration, or are not able to be run in real-time environments. It also offers the advantage of smoother trajectory execution as the norm of possible velocity spikes during rapid reconfiguration is **reduced by up to 17%** when compared to the classical method.\n",
    "\n",
    "The combination with the proposed unit dual quaternion interpolation scheme, which can interpolate multipoint trajectories, which define motion profiles in a decoupled way, provides a powerful tool for intuitive, safe, and efficient trajectory tracking. The proposed method seems especially useful in robot welding, grinding, or spray painting. The proposed DQQB Interpolation method is able to achieve all defined KPIs, which were defined in <a href=\"./2.0_state_of_the_art.ipynb\">Chapter 2.0</a>.\n",
    "\n",
    "\n",
    "<table>\n",
    "    <thead>\n",
    "      <tr>\n",
    "        <th style=\"width: 200px\";>Feature</th>\n",
    "        <th>DLB</th>\n",
    "        <th>ScLERP</th>\n",
    "        <th>SEP(LERP)</th>\n",
    "        <th>Bezier</th>\n",
    "        <th>SCB</th>\n",
    "        <th>DQQB</th>\n",
    "      </tr>\n",
    "    </thead>\n",
    "    <tbody>\n",
    "      <tr>\n",
    "        <td>decoupled interpolation</td>\n",
    "        <td>no</td>\n",
    "        <td>no</td>\n",
    "        <td>yes</td>\n",
    "        <td>no</td>\n",
    "        <td>-</td>\n",
    "        <td>yes</td>\n",
    "      </tr>\n",
    "      <tr>\n",
    "        <td>multipoint interpolation</td>\n",
    "        <td>no</td>\n",
    "        <td>no</td>\n",
    "        <td>no</td>\n",
    "        <td>yes</td>\n",
    "        <td>yes</td>\n",
    "        <td>yes</td>\n",
    "      </tr>\n",
    "      <tr>\n",
    "        <td>definable motion profiles</td>\n",
    "        <td>no</td>\n",
    "        <td>no</td>\n",
    "        <td>yes</td>\n",
    "        <td>no</td>\n",
    "        <td>-</td>\n",
    "        <td>yes</td>\n",
    "      </tr>\n",
    "      <tr>\n",
    "        <td>constant velocity</td>\n",
    "        <td>no</td>\n",
    "        <td>yes</td>\n",
    "        <td>yes</td>\n",
    "        <td>yes</td>\n",
    "        <td>yes</td>\n",
    "        <td>yes</td>\n",
    "      </tr>\n",
    "      <tr>\n",
    "        <td>$\\mathcal{C}^2$ continuity</td>\n",
    "        <td>no</td>\n",
    "        <td>no</td>\n",
    "        <td>no</td>\n",
    "        <td>no</td>\n",
    "        <td>yes</td>\n",
    "        <td>yes</td>\n",
    "      </tr>\n",
    "      <tr>\n",
    "        <td>translation interpolation</td>\n",
    "        <td>yes</td>\n",
    "        <td>yes</td>\n",
    "        <td>yes</td>\n",
    "        <td>yes</td>\n",
    "        <td>no</td>\n",
    "        <td>yes</td>\n",
    "      </tr>\n",
    "      <tr>\n",
    "        <td>orientation interpolation</td>\n",
    "        <td>yes</td>\n",
    "        <td>yes</td>\n",
    "        <td>yes</td>\n",
    "        <td>yes</td>\n",
    "        <td>yes</td>\n",
    "        <td>yes</td>\n",
    "      </tr>\n",
    "    </tbody>\n",
    "  </table>\n",
    "  \n",
    "  <p style=\"text-align: center\"><strong>Table 6.2</strong>: Comparison of introduced dual quaternion interpolation methods and the proposed DQQB method</p>\n",
    "\n",
    "These findings affirm the central thesis of this research: that the adoption of dual quaternion algebra within robotic motion control systems presents a compelling alternative to traditional methods, characterized by enhanced efficiency and additional information content when compared to homogeneous transformation matrices. Besides the obvious advantages, another less quantative, advantage is **the elegant implementation of dual quaternion solutions** and the straight forward and easy application of the dual quaternion gradient. Once the dual quaternion algebra library is implemented, the application enables the robotics engineer to solve complex problems with very little and efficient code. This helps to improve readability and clearity of the software.\n",
    "\n",
    "The implications of these results are far-reaching, indicating a future in which robots are not only more capable in terms of physical performance but are also more accessible and easier to set up due to the heightened intuit and the lack of singularity-related problems, which burden the non-expert user. During the development of the proposed methods, a few ideas were generated that could potentially improve the performance. \n",
    "\n",
    "These ideas include:\n",
    "\n",
    "- Decoupling the position and orientation differential kinematics to enable precise position tracking and flexible orientation tracking. This would allow the joint configuration of the robot to be reconfigured for further optimality in singularity robustness instead of following both orientation and position without allowing for acceptable orientation error.\n",
    "- Rework of the directional manipulability gradient, potentially with the introduction of Machine Learning or Reinforcement Learning models.\n",
    "- The reformulation of the Hessian computation for higher efficiency, similar to the geometric approach from <cite id=\"4dc8o\"><a href=\"#zotero%7C16222978%2FN5B2VN4U\">(Haviland &#38; Corke, 2022)</a></cite> but for twist Jacobians. The current speed in C++ is on average $18\\mu s$, where as the reported computation speed form Haviland and Corke is $1\\mu s$.\n",
    "- extension to an efficient Model Predictive Controller so that the joint states are smoothed further, but to still allow real-time applicability.\n",
    "\n",
    "As the field moves forward, integrating these advanced computational methods with the previously discussed kinematic and interpolation approaches holds promise for developing more sophisticated, adaptable, and intuitive robotic systems. As outlined in this thesis, the continued evolution of these technologies will no doubt play a pivotal role in shaping the next generation of robotic applications, driving innovation and progress across various industries."
   ]
  },
  {
   "cell_type": "markdown",
   "id": "e8574f34-2d58-4a36-8484-81f66eb5d45d",
   "metadata": {},
   "source": [
    "# Literature\n",
    "\n",
    "<!-- BIBLIOGRAPHY START -->\n",
    "<div class=\"csl-bib-body\">\n",
    "  <div class=\"csl-entry\"><i id=\"zotero|16222978/N5B2VN4U\"></i>Haviland, J., &#38; Corke, P. (2022). <i>Manipulator Differential Kinematics: Part 2: Acceleration and Advanced Applications</i>. <a href=\"https://doi.org/10.48550/ARXIV.2207.01794\">https://doi.org/10.48550/ARXIV.2207.01794</a></div>\n",
    "</div>\n",
    "<!-- BIBLIOGRAPHY END -->"
   ]
  },
  {
   "cell_type": "code",
   "execution_count": null,
   "id": "9cdfb466-f72a-42de-beba-63a8ace04d54",
   "metadata": {},
   "outputs": [],
   "source": []
  }
 ],
 "metadata": {
  "citation-manager": {
   "items": {
    "zotero": {
     "16222978/N5B2VN4U": {
      "DOI": "10.48550/ARXIV.2207.01794",
      "URL": "https://arxiv.org/abs/2207.01794",
      "abstract": "This is the second and final article on the tutorial on manipulator differential kinematics. In Part 1, we described a method of modelling kinematics using the elementary transform sequence (ETS), before formulating forward kinematics and the manipulator Jacobian. We then described some basic applications of the manipulator Jacobian including resolved-rate motion control (RRMC), inverse kinematics (IK), and some manipulator performance measures. In this article, we formulate the second-order differential kinematics, leading to a definition of manipulator Hessian. We then describe the differential kinematics' analytical forms, which are essential to dynamics applications. Subsequently, we provide a general formula for higher-order derivatives. The first application we consider is advanced velocity control. In this section, we extend resolved-rate motion control to perform sub-tasks while still achieving the goal before redefining the algorithm as a quadratic program to enable greater flexibility and additional constraints. We then take another look at numerical inverse kinematics with an emphasis on adding constraints. Finally, we analyse how the manipulator Hessian can help to escape singularities. We have provided Jupyter Notebooks to accompany each section within this tutorial. The Notebooks are written in Python code and use the Robotics Toolbox for Python, and the Swift Simulator to provide examples and implementations of algorithms. While not absolutely essential, for the most engaging and informative experience, we recommend working through the Jupyter Notebooks while reading this article. The Notebooks and setup instructions can be accessed at https://github.com/jhavl/dkt.",
      "accessed": {
       "date-parts": [
        [
         2023,
         12,
         14
        ]
       ]
      },
      "author": [
       {
        "family": "Haviland",
        "given": "Jesse"
       },
       {
        "family": "Corke",
        "given": "Peter"
       }
      ],
      "id": "16222978/N5B2VN4U",
      "issued": {
       "date-parts": [
        [
         2022
        ]
       ]
      },
      "shortTitle": "Manipulator Differential Kinematics",
      "system_id": "zotero|16222978/N5B2VN4U",
      "title": "Manipulator Differential Kinematics: Part 2: Acceleration and Advanced Applications",
      "type": "article-journal"
     }
    }
   }
  },
  "kernelspec": {
   "display_name": "Python 3 (ipykernel)",
   "language": "python",
   "name": "python3"
  },
  "language_info": {
   "codemirror_mode": {
    "name": "ipython",
    "version": 3
   },
   "file_extension": ".py",
   "mimetype": "text/x-python",
   "name": "python",
   "nbconvert_exporter": "python",
   "pygments_lexer": "ipython3",
   "version": "3.11.4"
  }
 },
 "nbformat": 4,
 "nbformat_minor": 5
}
