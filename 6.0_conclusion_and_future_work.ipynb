{
 "cells": [
  {
   "cell_type": "markdown",
   "id": "226b4b53-3769-4174-bf9c-603f30aa955f",
   "metadata": {
    "citation-manager": {
     "citations": {
      "4dc8o": [
       {
        "id": "16222978/N5B2VN4U",
        "source": "zotero"
       }
      ]
     }
    },
    "tags": []
   },
   "source": [
    "# Conclusion and Future Work\n",
    "\n",
    "### Conclusion\n",
    "\n",
    "In summary, the comparative analysis across various motion control methods, alongside the detailed efficiency comparison of computational effort, culminates in a nuanced understanding of the current landscape in robotic motion control. The presented data underscores the increased singularity robustness, the heightened intuit for the non-expert user during handguided set up and significant computational advantages of unit dual quaternion methods over the traditional Denavit-Hartenberg transformations or other matrix-based approaches, particularly within a C++ environment where these benefits are magnified due to the lower-level language efficiencies.\n",
    "\n",
    "The empirical results demonstrated within this thesis, presented in chapter 5.0, indicate that the application of dual quaternionic methods to forward and inverse kinematics and Jacobian computations yields substantial speed improvements. Such improvements are not merely incremental; they indicate a transformative potential in real-time robotic applications. When considering robots with high degrees of freedom, **these speed enhancements, which range between 42 – 76%, could dramatically increase efficiency and performance**.\n",
    "\n",
    "Another valuable characteristic of the dual quaternionic formulation is the singularity robustness of the representation. The double cover property provides significant advantages over homogenous transformation matrices, which are especially useful for the hand-guided teaching of cobots, which is preferred by non-expert users for their intuitive nature. **Here, representation singularities, which often arise during the teaching of complex motion paths, no longer appear, which enables a heightened intuition during the teaching process.**\n",
    "\n",
    "**The proposed real-time applicable motion controller, based on the predictive and task-directional manipulability optimization** and uses the formulation via Quadratic Programming, is **able to predict an optimized configuration state to smoothly transition into the following motion command.** This is a clear advantage over standard methods that are not able to predict, only generally optimize the robot's joint configuration, or are not able to be run in real-time environments.\n",
    "\n",
    "**The combination with the proposed unit dual quaternion interpolation scheme**, which can interpolate multipoint trajectories, which define motion profiles in a decoupled way, **provides a powerful tool for intuitive, safe, and efficient trajectory tracking**. The proposed method seems especially useful in robot welding, grinding, or spray painting.\n",
    "\n",
    "These findings affirm the central thesis of this research: that the adoption of dual quaternion algebra within robotic motion control systems presents a compelling alternative to traditional methods, characterized by enhanced efficiency and additional information content when compared to homogeneous transformation matrices. The implications of these results are far-reaching, indicating a future in which robots are not only more capable in terms of physical performance but are also more accessible and easier to set up due to the heightened intuit and the lack of singularity-related problems, which burden the non-expert user.\n",
    "\n",
    "### Future Work\n",
    "\n",
    "During the development of the proposed methods, a few ideas were generated that could potentially improve the performance. These ideas include:\n",
    "\n",
    "- Decoupling the position and orientation differential kinematics to enable precise position tracking and flexible orientation tracking. This would allow the joint configuration of the robot to be reconfigured for further optimality in singularity robustness, instead of following both orientation and position without allowing for acceptable orientation error.\n",
    "- Rework of the directional manipulability gradient, potentially with the introduction of Machine Learning (ML) or Reinforcement Learning (RL) models.\n",
    "- The reformulation of the Hessian computation for higher efficiency, similar to geometric approach from <cite id=\"4dc8o\"><a href=\"#zotero%7C16222978%2FN5B2VN4U\">(Haviland &#38; Corke, 2022)</a></cite> but for twist Jacobians.\n",
    "\n",
    "As the field moves forward, integrating these advanced computational methods with the previously discussed kinematic and interpolation approaches holds promise for developing more sophisticated, adaptable, and intuitive robotic systems. As outlined in this thesis, the continued evolution of these technologies will no doubt play a pivotal role in shaping the next generation of robotic applications, driving innovation and progress across various industries."
   ]
  },
  {
   "cell_type": "code",
   "execution_count": null,
   "id": "5fb0bdea-fb4f-4a49-b8a7-a1bea9c1f65b",
   "metadata": {},
   "outputs": [],
   "source": []
  }
 ],
 "metadata": {
  "citation-manager": {
   "items": {
    "zotero": {
     "16222978/N5B2VN4U": {
      "DOI": "10.48550/ARXIV.2207.01794",
      "URL": "https://arxiv.org/abs/2207.01794",
      "abstract": "This is the second and final article on the tutorial on manipulator differential kinematics. In Part 1, we described a method of modelling kinematics using the elementary transform sequence (ETS), before formulating forward kinematics and the manipulator Jacobian. We then described some basic applications of the manipulator Jacobian including resolved-rate motion control (RRMC), inverse kinematics (IK), and some manipulator performance measures. In this article, we formulate the second-order differential kinematics, leading to a definition of manipulator Hessian. We then describe the differential kinematics' analytical forms, which are essential to dynamics applications. Subsequently, we provide a general formula for higher-order derivatives. The first application we consider is advanced velocity control. In this section, we extend resolved-rate motion control to perform sub-tasks while still achieving the goal before redefining the algorithm as a quadratic program to enable greater flexibility and additional constraints. We then take another look at numerical inverse kinematics with an emphasis on adding constraints. Finally, we analyse how the manipulator Hessian can help to escape singularities. We have provided Jupyter Notebooks to accompany each section within this tutorial. The Notebooks are written in Python code and use the Robotics Toolbox for Python, and the Swift Simulator to provide examples and implementations of algorithms. While not absolutely essential, for the most engaging and informative experience, we recommend working through the Jupyter Notebooks while reading this article. The Notebooks and setup instructions can be accessed at https://github.com/jhavl/dkt.",
      "accessed": {
       "date-parts": [
        [
         2023,
         12,
         14
        ]
       ]
      },
      "author": [
       {
        "family": "Haviland",
        "given": "Jesse"
       },
       {
        "family": "Corke",
        "given": "Peter"
       }
      ],
      "id": "16222978/N5B2VN4U",
      "issued": {
       "date-parts": [
        [
         2022
        ]
       ]
      },
      "shortTitle": "Manipulator Differential Kinematics",
      "system_id": "zotero|16222978/N5B2VN4U",
      "title": "Manipulator Differential Kinematics: Part 2: Acceleration and Advanced Applications",
      "type": "article-journal"
     }
    }
   }
  },
  "kernelspec": {
   "display_name": "Python 3 (ipykernel)",
   "language": "python",
   "name": "python3"
  },
  "language_info": {
   "codemirror_mode": {
    "name": "ipython",
    "version": 3
   },
   "file_extension": ".py",
   "mimetype": "text/x-python",
   "name": "python",
   "nbconvert_exporter": "python",
   "pygments_lexer": "ipython3",
   "version": "3.11.4"
  }
 },
 "nbformat": 4,
 "nbformat_minor": 5
}
