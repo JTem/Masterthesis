{
 "cells": [
  {
   "cell_type": "code",
   "execution_count": 1,
   "id": "04734e6e-511a-4c03-ab69-57f096ed05c6",
   "metadata": {},
   "outputs": [],
   "source": [
    "from helper import *\n",
    "#from Simulation.ForwardKinematics import ForwardKinematics\n",
    "from Simulation.ForwardKinematics import ForwardKinematics\n",
    "\n",
    "from Simulation.DifferentialKinematics import DifferentialKinematics\n",
    "from Simulation.QP_DifferentialKinematics2 import QP_DifferentialKinematics\n",
    "\n",
    "from neura_dual_quaternions import DualQuaternion, Quaternion\n",
    "from Simulation.LinearInterpolator import LinearInterpolator\n",
    "\n",
    "import roboticstoolbox as rtb\n",
    "import spatialmath as sm\n",
    "import spatialgeometry as sg\n",
    "import numpy as np\n",
    "from swift import Swift\n",
    "\n",
    "import time\n",
    "#np.set_printoptions(precision=3, suppress=True, linewidth=1200, threshold=np.inf)"
   ]
  },
  {
   "cell_type": "code",
   "execution_count": 4,
   "id": "e62e02d0-f65a-42db-80a9-6686ef4b84da",
   "metadata": {
    "tags": []
   },
   "outputs": [
    {
     "name": "stdout",
     "output_type": "stream",
     "text": [
      "[[   3.000    3.000    3.000    3.000    3.000    3.000    3.000   -5.000]\n",
      " [   3.000    3.000    3.000    3.000    3.000    3.000    3.000   -5.000]\n",
      " [   3.000    3.000    3.000    3.000    3.000    3.000    3.000   -5.000]\n",
      " [   3.000    3.000    3.000    3.000    3.000    3.000    3.000   -5.000]\n",
      " [   3.000    3.000    3.000    3.000    3.000    3.000    3.000   -5.000]\n",
      " [   3.000    3.000    3.000    3.000    3.000    3.000    3.000   -5.000]\n",
      " [   3.000    3.000    3.000    3.000    3.000    3.000    3.000   -5.000]\n",
      " [   3.000    3.000    3.000    3.000    3.000    3.000    3.000   -5.000]\n",
      " [   1.000    0.000    0.000    0.000    0.000    0.000    0.000    0.000]\n",
      " [   0.000    1.000    0.000    0.000    0.000    0.000    0.000    0.000]\n",
      " [   0.000    0.000    1.000    0.000    0.000    0.000    0.000    0.000]\n",
      " [   0.000    0.000    0.000    1.000    0.000    0.000    0.000    0.000]\n",
      " [   0.000    0.000    0.000    0.000    1.000    0.000    0.000    0.000]\n",
      " [   0.000    0.000    0.000    0.000    0.000    1.000    0.000    0.000]\n",
      " [   0.000    0.000    0.000    0.000    0.000    0.000    1.000    0.000]\n",
      " [   0.000    0.000    0.000    0.000    0.000    0.000    0.000    1.000]]\n",
      "[   0.000    0.000    0.000    0.000    0.000    0.000    0.000    0.000   -1.560   -1.560   -1.560   -1.560   -1.560   -1.560   -1.560    0.000]\n",
      "[   0.000    0.000    0.000    0.000    0.000    0.000    0.000    0.000    1.560    1.560    1.560    1.560    1.560    1.560    1.560    1.000]\n",
      "[[   0.000    0.000    0.000    0.000    0.000    0.000    0.000   -1.000]\n",
      " [  -1.000    0.000    0.000    0.000    0.000    0.000    0.000   -1.000]\n",
      " [   0.000    1.000    0.000    1.000    0.000    1.000    0.000   -2.000]\n",
      " [   0.000    0.000    1.000    0.000    1.000    0.000    1.000   -0.000]\n",
      " [   0.000    0.000    0.000    0.000    0.000    0.000    0.000   -1.000]\n",
      " [   0.000    1.515    0.000    0.815    0.000    0.115    0.000   -2.000]\n",
      " [   1.515    0.000    0.000    0.000    0.000    0.000    0.000   -0.100]\n",
      " [   0.000    0.000    0.000    0.000    0.000    0.000    0.000    2.000]\n",
      " [   1.000    0.000    0.000    0.000    0.000    0.000    0.000    0.000]\n",
      " [   0.000    1.000    0.000    0.000    0.000    0.000    0.000    0.000]\n",
      " [   0.000    0.000    1.000    0.000    0.000    0.000    0.000    0.000]\n",
      " [   0.000    0.000    0.000    1.000    0.000    0.000    0.000    0.000]\n",
      " [   0.000    0.000    0.000    0.000    1.000    0.000    0.000    0.000]\n",
      " [   0.000    0.000    0.000    0.000    0.000    1.000    0.000    0.000]\n",
      " [   0.000    0.000    0.000    0.000    0.000    0.000    1.000    0.000]\n",
      " [   0.000    0.000    0.000    0.000    0.000    0.000    0.000    1.000]]\n"
     ]
    }
   ],
   "source": [
    "dk = QP_DifferentialKinematics()\n",
    "fk = ForwardKinematics()\n",
    "q1 = np.array([0,  np.pi*0.5,  0,  0,  0, 0, 0.0])\n",
    "ref = np.array([1, 1, 2, 0, 1, 2, 0.1, -2])\n",
    "\n",
    "J = fk.getBodyJacobian8(q1)\n",
    "\n",
    "A = dk.updateConstraintMatrix(dk.ConstraintMatrix, J, ref.reshape((8, 1))) \n",
    "print(A)"
   ]
  },
  {
   "cell_type": "code",
   "execution_count": 12,
   "id": "42ec4d97-cd74-45b9-87e1-10e30055e987",
   "metadata": {
    "tags": []
   },
   "outputs": [
    {
     "name": "stdout",
     "output_type": "stream",
     "text": [
      "0.0005277999953250401\n",
      "0.0008279000030597672\n"
     ]
    }
   ],
   "source": [
    "fk = ForwardKinematics()\n",
    "q1 = np.array([0,  np.pi*0.5,  0,  0,  0, 0, 0.0])\n",
    "#print(fk.getBodyJacobian(q1))\n",
    "#print(fk.getGeometricJacobian(q1))\n",
    "\n",
    "st = time.perf_counter()\n",
    "fk.getBodyJacobian(q1)\n",
    "et = time.perf_counter()\n",
    "print(et-st)\n",
    "\n",
    "st = time.perf_counter()\n",
    "fk.getGeometricJacobian(q1)\n",
    "et = time.perf_counter()\n",
    "print(et-st)"
   ]
  },
  {
   "cell_type": "code",
   "execution_count": 3,
   "id": "6341cc89-468e-4fe8-b922-0e7949fb1bac",
   "metadata": {
    "tags": []
   },
   "outputs": [
    {
     "ename": "AttributeError",
     "evalue": "'ForwardKinematics' object has no attribute 'jacobian_body'",
     "output_type": "error",
     "traceback": [
      "\u001b[1;31m---------------------------------------------------------------------------\u001b[0m",
      "\u001b[1;31mAttributeError\u001b[0m                            Traceback (most recent call last)",
      "Cell \u001b[1;32mIn[3], line 7\u001b[0m\n\u001b[0;32m      2\u001b[0m x2 \u001b[38;5;241m=\u001b[39m DualQuaternion\u001b[38;5;241m.\u001b[39mfromQuatPos(Quaternion\u001b[38;5;241m.\u001b[39mfromAxisAngle(np\u001b[38;5;241m.\u001b[39mpi\u001b[38;5;241m*\u001b[39m\u001b[38;5;241m0.5\u001b[39m, np\u001b[38;5;241m.\u001b[39marray([\u001b[38;5;241m0\u001b[39m,\u001b[38;5;241m1\u001b[39m,\u001b[38;5;241m0\u001b[39m])), np\u001b[38;5;241m.\u001b[39marray([\u001b[38;5;241m0.815\u001b[39m,\u001b[38;5;241m0.2\u001b[39m,\u001b[38;5;241m1.138\u001b[39m]))   \n\u001b[0;32m      4\u001b[0m q0 \u001b[38;5;241m=\u001b[39m np\u001b[38;5;241m.\u001b[39marray([np\u001b[38;5;241m.\u001b[39mpi\u001b[38;5;241m*\u001b[39m\u001b[38;5;241m0.5\u001b[39m,np\u001b[38;5;241m.\u001b[39mpi\u001b[38;5;241m*\u001b[39m\u001b[38;5;241m0.5\u001b[39m,\u001b[38;5;241m0\u001b[39m,\u001b[38;5;241m0\u001b[39m,\u001b[38;5;241m0\u001b[39m,\u001b[38;5;241m0\u001b[39m,\u001b[38;5;241m0\u001b[39m])\n\u001b[1;32m----> 7\u001b[0m J \u001b[38;5;241m=\u001b[39m fk\u001b[38;5;241m.\u001b[39mjacobian_body(q0)\n\u001b[0;32m     10\u001b[0m \u001b[38;5;66;03m# Compute the SVD\u001b[39;00m\n\u001b[0;32m     11\u001b[0m U, S, Vt \u001b[38;5;241m=\u001b[39m np\u001b[38;5;241m.\u001b[39mlinalg\u001b[38;5;241m.\u001b[39msvd(J)\n",
      "\u001b[1;31mAttributeError\u001b[0m: 'ForwardKinematics' object has no attribute 'jacobian_body'"
     ]
    }
   ],
   "source": [
    "x1 = DualQuaternion.fromQuatPos(Quaternion.fromAxisAngle(np.pi*0.5, np.array([0,1,0])), np.array([0.815,0,1.138]))\n",
    "x2 = DualQuaternion.fromQuatPos(Quaternion.fromAxisAngle(np.pi*0.5, np.array([0,1,0])), np.array([0.815,0.2,1.138]))   \n",
    "\n",
    "q0 = np.array([np.pi*0.5,np.pi*0.5,0,0,0,0,0])\n",
    "\n",
    "\n",
    "J = fk.jacobian_body(q0)\n",
    "\n",
    "\n",
    "# Compute the SVD\n",
    "U, S, Vt = np.linalg.svd(J)\n",
    "\n",
    "cartesian_direction = np.array([0,0,0, 0,0,0])  # Replace x, y, z with your direction components\n",
    "\n",
    "# Normalize the direction vector\n",
    "cartesian_direction = cartesian_direction / np.linalg.norm(cartesian_direction)\n",
    "\n",
    "# Project the Cartesian direction onto the left singular vectors and multiply by singular values\n",
    "manipulability_in_direction = np.dot(U*S,  cartesian_direction)\n",
    "print(np.linalg.norm(manipulability_in_direction))\n",
    "print(dk.dir_manipulability(q0, cartesian_direction))"
   ]
  },
  {
   "cell_type": "code",
   "execution_count": null,
   "id": "94c9bc01-5c25-4f11-b872-baadebac1aaf",
   "metadata": {
    "tags": []
   },
   "outputs": [],
   "source": [
    "pip install --upgrade neura-dual-quaternions"
   ]
  },
  {
   "cell_type": "code",
   "execution_count": null,
   "id": "b62569f1-6d62-499d-bacb-b9116246faff",
   "metadata": {
    "tags": []
   },
   "outputs": [],
   "source": [
    "q1 = np.array([-0.677,  0.208,  0.791,  1.547,  0.388, -0.141, -0.531])\n",
    "\n",
    "print(dk.dir_manipulability_gradient3(q1))\n",
    "\n",
    "print(dk.manipulability(q1))"
   ]
  },
  {
   "cell_type": "code",
   "execution_count": null,
   "id": "321f274c-d4f0-438c-898d-0d11dbed6d85",
   "metadata": {
    "tags": []
   },
   "outputs": [],
   "source": [
    "q1 = np.array([-0.677,  0.208,  0.791,  1.547,  0.388, -0.141, -0.531])\n",
    "q2 = np.array([-0.687,  0.21,   0.804,  1.547,  0.393, -0.142, -0.54])\n",
    "q3 = (q1 + q2)*0.5\n",
    "v = [1, 0, 0, 0, 1, 0]\n",
    "print(dk.dir_manipulability(q1, v))\n",
    "print(dk.dir_manipulability(q3, v))\n",
    "print(dk.dir_manipulability(q2, v))\n",
    "\n",
    "print(dk.dir_manipulability_gradient(q1, v))\n",
    "print(dk.dir_manipulability_gradient(q3, v))\n",
    "print(dk.dir_manipulability_gradient(q2, v))\n",
    "\n",
    "Jb = fk.jacobian_body(q1)\n",
    "U, S, Vh = np.linalg.svd(Jb@Jb.T)\n",
    "print(U)\n",
    "print(S)\n",
    "\n",
    "Jb = fk.jacobian_body(q3)\n",
    "U, S, Vh = np.linalg.svd(Jb@Jb.T)\n",
    "print(U)\n",
    "print(S)\n",
    "\n",
    "Jb = fk.jacobian_body(q2)\n",
    "U, S, Vh = np.linalg.svd(Jb@Jb.T)\n",
    "print(U)\n",
    "print(S)"
   ]
  },
  {
   "cell_type": "code",
   "execution_count": null,
   "id": "ffe61dea-e080-411c-9b78-1faddfae014f",
   "metadata": {
    "tags": []
   },
   "outputs": [],
   "source": [
    "# env = Swift()\n",
    "# robot = rtb.models.URDF.Maira7M()\n",
    "\n",
    "# env.launch(realtime=True, browser=\"notebook\")\n",
    "# env.add(robot)\n",
    "\n",
    "# # end-effector axes\n",
    "# ee_axes = sg.Axes(0.1)\n",
    "\n",
    "# env.add(ee_axes)\n",
    "# np.set_printoptions(suppress=True, precision=3)\n",
    "\n",
    "# # Change the robot configuration to the ready position\n",
    "# robot.q = np.array([0, 0.0, 0, np.pi / 2, 0.00, -0.0, 0])\n",
    "# robot.qd = np.zeros(robot.n)\n",
    "\n",
    "\n",
    "\n",
    "\n",
    "# # Step the sim to view the robot in this configuration\n",
    "# env.step(0)\n",
    "\n",
    "# # Specify our desired end-effector velocity\n",
    "# ev = [0, 0.0, 0.0, 0, 0.0, 0]\n",
    "# ev2 = [1, 0.0, 0.0, 0.0, 0.0, 0.0]\n",
    "# # Specify our timestep\n",
    "# dt = 0.005\n",
    "\n",
    "\n",
    "# # Run the simulation for 4 seconds\n",
    "# for i in range(1000):\n",
    "\n",
    "#     # Work out the manipulator Jacobian, Hessian using the\n",
    "#     # current robot configuration\n",
    "#     J = fk.jacobian_body(robot.q)\n",
    "#     grad = dk.manipulability_gradient(robot.q)\n",
    "#     grad2 = dk.dir_manipulability_gradient(robot.q, ev2)\n",
    "#     print(dk.manipulability(robot.q), dk.dir_manipulability(robot.q, ev2))\n",
    "#     # Calculate δq, the change to qd\n",
    "#     pinv = np.linalg.pinv(J)\n",
    "#     v = pinv @ ev + 20*(np.eye(7) - pinv@J)@grad2\n",
    "\n",
    "#     #robot.qd = qd - δq\n",
    "#     robot.q += v*dt\n",
    "    \n",
    "#     # Update the ee axes\n",
    "#     ee_axes.T = fk.forward_kinematics(robot.q).asTransformation()\n",
    "\n",
    "#     # Step the simulator by dt seconds\n",
    "#     env.step(dt)"
   ]
  },
  {
   "cell_type": "code",
   "execution_count": null,
   "id": "c7c87cac-0925-4bd1-b8eb-6acabd30091e",
   "metadata": {},
   "outputs": [],
   "source": []
  },
  {
   "cell_type": "code",
   "execution_count": null,
   "id": "f5bd0f6c-1040-4f1e-88cf-a4419e2c2c12",
   "metadata": {},
   "outputs": [],
   "source": []
  }
 ],
 "metadata": {
  "citation-manager": {
   "items": {}
  },
  "kernelspec": {
   "display_name": "Python 3 (ipykernel)",
   "language": "python",
   "name": "python3"
  },
  "language_info": {
   "codemirror_mode": {
    "name": "ipython",
    "version": 3
   },
   "file_extension": ".py",
   "mimetype": "text/x-python",
   "name": "python",
   "nbconvert_exporter": "python",
   "pygments_lexer": "ipython3",
   "version": "3.11.5"
  }
 },
 "nbformat": 4,
 "nbformat_minor": 5
}
