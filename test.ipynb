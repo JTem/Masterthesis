{
 "cells": [
  {
   "cell_type": "code",
   "execution_count": 1,
   "id": "04734e6e-511a-4c03-ab69-57f096ed05c6",
   "metadata": {},
   "outputs": [],
   "source": [
    "from helper import *\n",
    "from Simulation.ForwardKinematics import ForwardKinematics\n",
    "from Simulation.DifferentialKinematics import DifferentialKinematics\n",
    "\n",
    "from neura_dual_quaternions import DualQuaternion, Quaternion\n",
    "from Simulation.LinearInterpolator import LinearInterpolator\n",
    "\n",
    "import roboticstoolbox as rtb\n",
    "import spatialmath as sm\n",
    "import spatialgeometry as sg\n",
    "import numpy as np\n",
    "from swift import Swift\n",
    "\n",
    "import time\n",
    "np.set_printoptions(precision=6, suppress=True, linewidth=1200, threshold=np.inf)"
   ]
  },
  {
   "cell_type": "code",
   "execution_count": 2,
   "id": "6341cc89-468e-4fe8-b922-0e7949fb1bac",
   "metadata": {
    "tags": []
   },
   "outputs": [
    {
     "name": "stdout",
     "output_type": "stream",
     "text": [
      "[[-1.     0.    -1.     0.     0.     0.     0.   ]\n",
      " [ 0.     1.     0.     1.     0.     1.     0.   ]\n",
      " [ 0.     0.     0.     0.     1.     0.     1.   ]\n",
      " [ 0.     0.815  0.     0.815  0.     0.115  0.   ]\n",
      " [ 0.815  0.     0.815  0.     0.     0.     0.   ]\n",
      " [ 0.     0.7    0.     0.     0.     0.     0.   ]]\n",
      "[[-1.  0. -1.  0.  0.  0.  0.]\n",
      " [ 0.  1.  0.  1.  0.  1.  0.]\n",
      " [ 0.  0.  0.  0.  1.  0.  1.]]\n",
      "[[ 0.        0.775165  0.        0.        0.        0.631759]\n",
      " [-0.819717  0.       -0.        0.491969  0.293309  0.      ]\n",
      " [-0.        0.       -1.       -0.        0.        0.      ]\n",
      " [-0.525233  0.        0.       -0.44139  -0.727533  0.      ]\n",
      " [ 0.       -0.631759  0.        0.        0.        0.775165]\n",
      " [-0.22846   0.        0.       -0.750427  0.620213  0.      ]]\n",
      "[2.076825 1.824404 1.414214 0.605517 0.389646 0.      ]\n",
      "0.775\n"
     ]
    }
   ],
   "source": [
    "x1 = DualQuaternion.fromQuatPos(Quaternion.fromAxisAngle(np.pi*0.5, np.array([0,1,0])), np.array([0.815,0,1.138]))\n",
    "x2 = DualQuaternion.fromQuatPos(Quaternion.fromAxisAngle(np.pi*0.5, np.array([0,1,0])), np.array([0.815,0.2,1.138]))   \n",
    "\n",
    "q0 = np.array([0,0.0,0,np.pi*0.5,0,0,0])\n",
    "fk = ForwardKinematics()\n",
    "traj = LinearInterpolator(x1, x2, 3)\n",
    "dk = DifferentialKinematics()\n",
    "\n",
    "J = fk.jacobian6(q0)\n",
    "Jb = fk.jacobian_body(q0)\n",
    "print(Jb)\n",
    "Jo = Jb[:3]\n",
    "Jp = Jb[3:]\n",
    "#print(J6[:3])\n",
    "#print(J6[3:])\n",
    "\n",
    "axes = [True, True, True, False, False, False]\n",
    "\n",
    "print(Jb[axes, :])\n",
    "# U, S, Vh = np.linalg.svd(Jb@Jb.T)\n",
    "\n",
    "# print(U)\n",
    "# print(S)\n",
    "\n",
    "U, S, Vh = np.linalg.svd(Jb)\n",
    "\n",
    "\n",
    "print(U)\n",
    "print(S)\n",
    "#print(Vh)\n",
    "\n",
    "u6 = np.array([0.63, 0., 0., 0., 0.775, 0.])\n",
    "vd =  np.array([0, 0., 0., 0., 1, 0.])\n",
    "\n",
    "res = np.dot(u6, vd)\n",
    "print(res)\n"
   ]
  },
  {
   "cell_type": "code",
   "execution_count": 3,
   "id": "b62569f1-6d62-499d-bacb-b9116246faff",
   "metadata": {
    "tags": []
   },
   "outputs": [
    {
     "name": "stdout",
     "output_type": "stream",
     "text": [
      "[1. 1. 1. 1. 1. 1. 1.]\n",
      "(6, 7, 7)\n",
      "[[ 2.398773  0.498709  0.000278 -0.226345  2.354829  0.107815]\n",
      " [ 0.498709  2.350096  0.43987  -2.162534 -0.12623   0.708818]\n",
      " [ 0.000278  0.43987   2.251132 -0.548341 -0.316257  0.352575]\n",
      " [-0.226345 -2.162534 -0.548341  2.191454  0.268836 -0.747534]\n",
      " [ 2.354829 -0.12623  -0.316257  0.268836  2.630473 -0.161609]\n",
      " [ 0.107815  0.708818  0.352575 -0.747534 -0.161609  0.499574]]\n",
      "[[ 0.      ]\n",
      " [ 0.065284]\n",
      " [ 0.00122 ]\n",
      " [-0.041684]\n",
      " [-0.000729]\n",
      " [-0.02374 ]\n",
      " [-0.001047]]\n",
      "[-0.        0.35944  -0.025166  0.005984 -0.031129 -0.170192 -0.      ]\n"
     ]
    }
   ],
   "source": [
    "q1 = np.array([-0.677,  0.208,  0.791,  1.547,  0.388, -0.141, -0.531])\n",
    "qd = np.ones(7)\n",
    "print(qd)\n",
    "\n",
    "H = fk.hessian(q1)\n",
    "J = fk.jacobian6(q1)\n",
    "\n",
    "print(H.shape)\n",
    "\n",
    "W = np.diag([1,1,1,1,1,1])\n",
    "manipulability = np.linalg.det(J@J.T)\n",
    "\n",
    "print(J@J.T)\n",
    "b = np.linalg.pinv(J@J.T)\n",
    "Jm = np.zeros((7, 1))\n",
    "\n",
    "for i in range(7):\n",
    "    #print(H[:,i,:].T)\n",
    "    c = W@J@H[:,:,i].T\n",
    "    #print(c)\n",
    "    Jm[i,0] = manipulability*(c.flatten().T)@b.flatten()\n",
    "    \n",
    "print(Jm)\n",
    "print(dk.manipulability_gradient(q1))\n",
    "\n"
   ]
  },
  {
   "cell_type": "code",
   "execution_count": 4,
   "id": "321f274c-d4f0-438c-898d-0d11dbed6d85",
   "metadata": {
    "tags": []
   },
   "outputs": [
    {
     "name": "stdout",
     "output_type": "stream",
     "text": [
      "1.6903383455160006\n",
      "1.5173263542385491\n",
      "1.5821155398748201\n",
      "[ 0.       -6.668876  7.50717   4.017953 -2.83828   3.544385 -1.889526]\n",
      "[  0.       -86.416601 -96.089278 -47.177078 -95.924938   4.83087   -1.779227]\n",
      "[ -0.        30.92397   -1.49334   -1.994111  24.239465 -10.270669  -1.709053]\n",
      "[[ 0.002858  0.767771  0.014095 -0.061606  0.415122  0.483942]\n",
      " [ 0.692729 -0.157546  0.404186  0.500268  0.014395  0.285419]\n",
      " [ 0.470483 -0.001957 -0.875844  0.070411  0.075415 -0.029891]\n",
      " [ 0.492441 -0.033193  0.241136 -0.726192  0.287896 -0.296671]\n",
      " [-0.196489 -0.619898 -0.096665 -0.177246  0.473892  0.558376]\n",
      " [ 0.13288   0.018102 -0.042904 -0.426858 -0.717162  0.532584]]\n",
      "[3.767832 3.756263 2.100892 0.226468 0.190467 0.008089]\n",
      "[[ 0.491415  0.590226 -0.014414  0.072163  0.415946  0.481371]\n",
      " [ 0.431243 -0.561918 -0.407549 -0.499077  0.028328  0.286882]\n",
      " [ 0.364733 -0.304235  0.87341  -0.068311  0.077504 -0.029887]\n",
      " [ 0.357298 -0.338784 -0.243833  0.7332    0.267819 -0.297993]\n",
      " [-0.546809 -0.351587  0.097773  0.189623  0.472636  0.555415]\n",
      " [ 0.113352 -0.070246  0.042865  0.40928  -0.724616  0.536471]]\n",
      "[3.7621   3.757986 2.101508 0.225156 0.190805 0.00816 ]\n",
      "[[-0.724727 -0.254965 -0.014723  0.083796  0.416282  0.478785]\n",
      " [-0.080568  0.701589 -0.410917 -0.497407  0.043426  0.288322]\n",
      " [-0.158476  0.4525    0.87094  -0.065946  0.079694 -0.029882]\n",
      " [-0.132358  0.473007 -0.246543  0.74026   0.245772 -0.299289]\n",
      " [ 0.649556  0.020392  0.098879  0.203168  0.47055   0.552439]\n",
      " [-0.061019  0.117723  0.042821  0.389812 -0.732565  0.540351]]\n",
      "[3.764498 3.751579 2.102103 0.223891 0.191105 0.008232]\n"
     ]
    }
   ],
   "source": [
    "q1 = np.array([-0.677,  0.208,  0.791,  1.547,  0.388, -0.141, -0.531])\n",
    "q2 = np.array([-0.687,  0.21,   0.804,  1.547,  0.393, -0.142, -0.54])\n",
    "q3 = (q1 + q2)*0.5\n",
    "v = [1, 0, 0, 0, 1, 0]\n",
    "print(dk.dir_manipulability(q1, v))\n",
    "print(dk.dir_manipulability(q3, v))\n",
    "print(dk.dir_manipulability(q2, v))\n",
    "\n",
    "print(dk.dir_manipulability_gradient(q1, v))\n",
    "print(dk.dir_manipulability_gradient(q3, v))\n",
    "print(dk.dir_manipulability_gradient(q2, v))\n",
    "\n",
    "Jb = fk.jacobian_body(q1)\n",
    "U, S, Vh = np.linalg.svd(Jb@Jb.T)\n",
    "print(U)\n",
    "print(S)\n",
    "\n",
    "Jb = fk.jacobian_body(q3)\n",
    "U, S, Vh = np.linalg.svd(Jb@Jb.T)\n",
    "print(U)\n",
    "print(S)\n",
    "\n",
    "Jb = fk.jacobian_body(q2)\n",
    "U, S, Vh = np.linalg.svd(Jb@Jb.T)\n",
    "print(U)\n",
    "print(S)"
   ]
  },
  {
   "cell_type": "code",
   "execution_count": null,
   "id": "ffe61dea-e080-411c-9b78-1faddfae014f",
   "metadata": {
    "tags": []
   },
   "outputs": [
    {
     "data": {
      "text/html": [
       "\n",
       "        <iframe\n",
       "            width=\"600\"\n",
       "            height=\"400\"\n",
       "            src=\"http://localhost:52012/?53012\"\n",
       "            frameborder=\"0\"\n",
       "            allowfullscreen\n",
       "            \n",
       "        ></iframe>\n",
       "        "
      ],
      "text/plain": [
       "<IPython.lib.display.IFrame at 0x14a2e7b6590>"
      ]
     },
     "metadata": {},
     "output_type": "display_data"
    }
   ],
   "source": [
    "env = Swift()\n",
    "robot = rtb.models.URDF.Maira7M()\n",
    "\n",
    "env.launch(realtime=True, browser=\"notebook\")\n",
    "env.add(robot)\n",
    "\n",
    "# end-effector axes\n",
    "ee_axes = sg.Axes(0.1)\n",
    "\n",
    "env.add(ee_axes)\n",
    "np.set_printoptions(suppress=True, precision=3)\n",
    "\n",
    "# Change the robot configuration to the ready position\n",
    "robot.q = np.array([0, 0.0, 0, np.pi / 2, 0.00, -0.0, 0])\n",
    "robot.qd = np.zeros(robot.n)\n",
    "\n",
    "\n",
    "\n",
    "\n",
    "# Step the sim to view the robot in this configuration\n",
    "env.step(0)\n",
    "\n",
    "# Specify our desired end-effector velocity\n",
    "ev = [0, 0.0, 0.0, 0, 0.0, 0]\n",
    "ev2 = [1, 0.0, 0.0, 0.0, 0.0, 0.0]\n",
    "# Specify our timestep\n",
    "dt = 0.005\n",
    "\n",
    "\n",
    "# Run the simulation for 4 seconds\n",
    "for i in range(1000):\n",
    "\n",
    "    # Work out the manipulator Jacobian, Hessian using the\n",
    "    # current robot configuration\n",
    "    J = fk.jacobian_body(robot.q)\n",
    "    grad = dk.manipulability_gradient(robot.q)\n",
    "    grad2 = dk.dir_manipulability_gradient(robot.q, ev2)\n",
    "    print(dk.manipulability(robot.q), dk.dir_manipulability(robot.q, ev2))\n",
    "    # Calculate δq, the change to qd\n",
    "    pinv = np.linalg.pinv(J)\n",
    "    v = pinv @ ev + 20*(np.eye(7) - pinv@J)@grad2\n",
    "\n",
    "    #robot.qd = qd - δq\n",
    "    robot.q += v*dt\n",
    "    \n",
    "    # Update the ee axes\n",
    "    ee_axes.T = fk.forward_kinematics(robot.q).asTransformation()\n",
    "\n",
    "    # Step the simulator by dt seconds\n",
    "    env.step(dt)"
   ]
  },
  {
   "cell_type": "code",
   "execution_count": null,
   "id": "c7c87cac-0925-4bd1-b8eb-6acabd30091e",
   "metadata": {},
   "outputs": [],
   "source": []
  },
  {
   "cell_type": "code",
   "execution_count": null,
   "id": "f5bd0f6c-1040-4f1e-88cf-a4419e2c2c12",
   "metadata": {},
   "outputs": [],
   "source": []
  }
 ],
 "metadata": {
  "citation-manager": {
   "items": {}
  },
  "kernelspec": {
   "display_name": "Python 3 (ipykernel)",
   "language": "python",
   "name": "python3"
  },
  "language_info": {
   "codemirror_mode": {
    "name": "ipython",
    "version": 3
   },
   "file_extension": ".py",
   "mimetype": "text/x-python",
   "name": "python",
   "nbconvert_exporter": "python",
   "pygments_lexer": "ipython3",
   "version": "3.11.4"
  }
 },
 "nbformat": 4,
 "nbformat_minor": 5
}
