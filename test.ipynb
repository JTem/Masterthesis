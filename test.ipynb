{
 "cells": [
  {
   "cell_type": "code",
   "execution_count": 1,
   "id": "7920c77c-4ae0-4783-89c3-2d4362b62460",
   "metadata": {
    "tags": []
   },
   "outputs": [],
   "source": [
    "from Simulation.ForwardKinematics import ForwardKinematics\n",
    "import numpy as np\n",
    "np.set_printoptions(precision=1, suppress=True, linewidth=200, formatter={'float': '{:8.5f}'.format})"
   ]
  },
  {
   "cell_type": "code",
   "execution_count": 2,
   "id": "c2d5742e-b6ea-4ab8-ac74-549f8507a603",
   "metadata": {
    "tags": []
   },
   "outputs": [
    {
     "name": "stdout",
     "output_type": "stream",
     "text": [
      "[[ 0.00000  0.00000 -0.00000 -0.00000 -0.00000  0.00000  0.00000]\n",
      " [ 0.00000 -0.54026 -0.41619  1.02365 -2.29001  1.78045 -0.82952]\n",
      " [ 0.00000 -0.84150  0.90923 -0.80474 -0.58761  1.68593 -2.73818]\n",
      " [ 0.00000  0.00000 -0.84150  0.90923 -0.80474 -0.58761  1.68593]\n",
      " [ 0.00000  0.00000  0.00000 -0.00000  0.00000 -0.00000 -0.00000]\n",
      " [ 0.00000  0.36858 -0.39824  1.50481  0.59549 -1.58675  4.49115]\n",
      " [ 0.00000 -0.23663 -0.18229  1.16491 -1.51132  3.05552  0.41254]\n",
      " [ 0.00000  0.00000  0.00000 -0.29133  0.80334 -2.11130  0.04283]]\n",
      "[[ 0.00000  0.00000  0.00000  0.00000  0.00000  0.00000  0.00000]\n",
      " [ 0.00000 -0.54030 -0.41615  1.02357 -2.29004  1.78050 -0.82973]\n",
      " [ 0.00000 -0.84147  0.90930 -0.80477 -0.58746  1.68595 -2.73812]\n",
      " [ 0.00000  0.00000 -0.84147  0.90930 -0.80477 -0.58746  1.68595]\n",
      " [ 0.00000  0.00000  0.00000  0.00000 -0.00000  0.00000 -0.00000]\n",
      " [ 0.00000  0.36856 -0.39827  1.50486  0.59536 -1.58656  4.49113]\n",
      " [ 0.00000 -0.23665 -0.18227  1.16482 -1.51135  3.05554  0.41236]\n",
      " [ 0.00000  0.00000 -0.00000 -0.29130  0.80340 -2.11134  0.04307]]\n"
     ]
    }
   ],
   "source": [
    "fk = ForwardKinematics()\n",
    "\n",
    "theta = np.array([1.0,1.0,1.0,1.0,1.0,1.0,1.0])\n",
    "theta_dot = np.array([1,1,1,1,1,1,1])\n",
    "print(fk.hessian2(theta, theta_dot))\n",
    "print(fk.jacobian_dot(theta, theta_dot))"
   ]
  },
  {
   "cell_type": "code",
   "execution_count": 3,
   "id": "7feb2b04-5e05-489f-af37-a0f8e55e96a1",
   "metadata": {},
   "outputs": [],
   "source": [
    "from neura_dual_quaternions import Quaternion\n",
    "\n",
    "q1 = Quaternion(1,0,0,0)\n",
    "q2 = Quaternion(1,0,0,0)\n",
    "qm = Quaternion.slerp(q1, q2, 0)"
   ]
  },
  {
   "cell_type": "code",
   "execution_count": null,
   "id": "26d8691d-12c1-4c4e-9e72-3564245aae34",
   "metadata": {},
   "outputs": [],
   "source": []
  }
 ],
 "metadata": {
  "citation-manager": {
   "items": {}
  },
  "kernelspec": {
   "display_name": "Python 3 (ipykernel)",
   "language": "python",
   "name": "python3"
  },
  "language_info": {
   "codemirror_mode": {
    "name": "ipython",
    "version": 3
   },
   "file_extension": ".py",
   "mimetype": "text/x-python",
   "name": "python",
   "nbconvert_exporter": "python",
   "pygments_lexer": "ipython3",
   "version": "3.11.4"
  }
 },
 "nbformat": 4,
 "nbformat_minor": 5
}
