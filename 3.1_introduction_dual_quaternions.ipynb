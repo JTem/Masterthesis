{
 "cells": [
  {
   "cell_type": "code",
   "execution_count": 1,
   "id": "b81be082-7a07-453e-9202-19d7301ec45f",
   "metadata": {
    "tags": []
   },
   "outputs": [],
   "source": [
    "%matplotlib widget\n",
    "from helper import *"
   ]
  },
  {
   "cell_type": "markdown",
   "id": "1987a1a8-189d-4e6c-9d52-fdde06a463eb",
   "metadata": {},
   "source": [
    "<h1>Introduction to Dual Quaternions</h1>\n",
    "\n",
    "Dual quaternons are a compact representation that offers useful analytic properties. They were introduced by Clifford in 1873 (quelle). They are dual numbers in which the real and dual parts are quaternions:\n",
    "\n",
    "$$\n",
    "    \\underline{\\xi} = \\hat{q}_r + \\epsilon \\hat{q}_d\n",
    "$$\n",
    "\n",
    "with $\\underline{\\xi} \\in \\mathbb{H}$ and the dual unit $\\epsilon^2 = 0$ and $\\epsilon \\neq 0$.<br>\n",
    "Similarly to <i>Homogeneours Transformation Matrices</i>, which are part of the <i>Special Euclidean Group</i> $\\mathcal{SE}(3)$, dual quaternions can be used to represent spatial transformations. Dual quaternions used for spatial transformations are called <strong>unit dual quaternions</strong>. Here, the real part of the dual quaternion $Re(\\underline{\\xi}) =  \\underline{\\xi}_r = \\hat{q}_r$ is a unit quaternion, which represents the orientation and rotation of the dual quaternion transformation. The dual part $Du(\\underline{\\xi}) =  \\underline{\\xi}_d = \\hat{q}_d$ is not required to satisfy the unit magnitude requirement, as it represents the translation of the transformation. "
   ]
  },
  {
   "cell_type": "code",
   "execution_count": 3,
   "id": "c646b451-ece5-4ed2-830c-797c29ab0149",
   "metadata": {
    "tags": []
   },
   "outputs": [
    {
     "name": "stdout",
     "output_type": "stream",
     "text": [
      "DualQuaternion(Real: Quaternion(1.000, 0.000, 0.000, 0.000), Dual: Quaternion(0.000, 1.000, 2.000, 0.000))\n"
     ]
    }
   ],
   "source": [
    "real = Quaternion(1, 0, 0, 0)\n",
    "dual = Quaternion(0, 1, 2, 0)\n",
    "\n",
    "dual_quaternion = DualQuaternion(real, dual)\n",
    "print(dual_quaternion)"
   ]
  },
  {
   "cell_type": "markdown",
   "id": "df313c17-9a3b-4605-b989-2e5a5592467d",
   "metadata": {
    "citation-manager": {
     "citations": {
      "4u137": [
       {
        "id": "16222978/AGXR4PGH",
        "source": "zotero"
       }
      ]
     }
    },
    "tags": []
   },
   "source": [
    "\n",
    "Multiplication of dual quaternions follows the same rules as for dual numbers, but also respects the rules of the quaternion multiplication:\n",
    "\n",
    "$$\n",
    "\\begin{align*}\n",
    "\\underline{\\xi}^{(1)} \\otimes \\underline{\\xi}^{(2)} &= (q_r^{(1)} + \\epsilon q_d^{(1)}) \\otimes (q_r^{(2)} + \\epsilon q_d^{(2)}) \\\\\n",
    "&= (q_r^{(1)} \\otimes q_r^{(2)}) + \\epsilon(q_r^{(1)} \\otimes q_d^{(2)} + q_d^{(1)} \\otimes q_r^{(2)}) + \\epsilon^2(q_d^{(1)} \\otimes q_d^{(2)})\n",
    "\\end{align*}\n",
    "$$\n",
    "\n",
    "then, with $ \\epsilon^2 = 0 $:\n",
    "\n",
    "$$\n",
    "\\begin{equation}\n",
    "\\underline{\\xi}^{(1)} \\otimes \\underline{\\xi}^{(2)} = (q_r^{(1)} \\otimes q_r^{(2)}) + \\epsilon(q_r^{(1)} \\otimes q_d^{(2)} + q_d^{(1)} \\otimes q_r^{(2)}) \\tag{1}\n",
    "\\end{equation}\n",
    "$$\n",
    "\n",
    "In the context of the thesis, dual quaternions are written with an underline $\\underline{\\bullet}$, and both quaternion and dualquaternion multiplication can are denoted as $\\otimes$. The detailed and robust implementation of the dual quaternion algebra can once again be found in the created python package <cite id=\"4u137\"><a href=\"#zotero%7C16222978%2FAGXR4PGH\">(Temminghoff, 2023)</a></cite>.<br>\n",
    "Similary to homogeneous transformations, the dual quaternion mulitplication can be used to compute successive transforms.\n",
    "\n",
    "$$\n",
    "{}_a\\underline{\\xi}^{c} = {}_a\\underline{\\xi}^{b} \\otimes {}_b\\underline{\\xi}^{c}\n",
    "$$\n",
    "\n",
    "with the inverse transformation is defined as the conjugate of the dual quaternion, which is the conjugation of both dual and real part. It is analog to the inverse transformation from $\\mathcal{SE}(3)$:\n",
    "\n",
    "$$\n",
    "{}_b\\underline{\\xi}^{a} = {}_a\\underline{\\xi}^{b*} = \\hat{q}_r^* + \\epsilon \\hat{q}_d^*\n",
    "$$\n",
    "\n",
    "This multiplication can be written as matrix multiplication via the quaternion hamilton operators.\n",
    "For this we first need to define the dual quaternion, analog as is the case for the quaternions, as vector $\\underline{\\xi}_{[vec]} \\in \\mathbb{R}^8$.\n",
    "\n",
    "$$\n",
    "\\underline{\\xi}_{[vec]} = [q_{r,w}, q_{r,x}, q_{r,y}, q_{r,z}, q_{d,w}, q_{d,x}, q_{d,y}, q_{d,z}]^T\n",
    "$$\n",
    "\n",
    "To construct the multiplication matrices $[\\underline{\\xi}]_{L}$ and $[\\underline{\\xi}]_{R}$, with $[\\underline{\\xi}] \\in \\mathbb{R}^{8 \\times 8}$ the quaternion hamilton operators are recalled, and arranged blockwise to represent the dual quaternion basic multiplication. Once again there is a right and left matrix representation:\n",
    "\n",
    "$$\n",
    "\\begin{align*}\n",
    "\\underline{\\xi} \\otimes \\underline{\\eta} &= \n",
    "\\begin{bmatrix}\n",
    "([\\underline{\\xi}_r]_L) & 0_{4x4} \\\\\n",
    "([\\underline{\\xi}_d]_L) & ([\\underline{\\xi}_r]_L)\n",
    "\\end{bmatrix}_L \\underline{\\eta}_{[vec]} \\\\\n",
    "&= \n",
    "\\begin{bmatrix}\n",
    "([\\underline{\\eta}_r]_R) & 0_{4x4} \\\\\n",
    "([\\underline{\\eta}_d]_R) & ([\\underline{\\eta}_r]_R)\n",
    "\\end{bmatrix}_R \\underline{\\xi}_{[vec]}\n",
    "\\end{align*}\n",
    "$$\n",
    "\n",
    "Even though it might be suggested that $q_d$ is a pure quaternion, as it represents the position of the spatial transformation $\\vec{p} \\in \\mathbb{R}^3$, it is not neccessarily the case. The dimensionality of the dual part depends on the cartesian translation $\\bar{t} = (0, \\vec{t}) = (0, t_x, t_y, t_z)$, which is a pure quaternion and the real part, representing the orientation and rotation, which is a unit quaternion. Depending on the orientation of the frame, the dual part $\\hat{q}_d$ can take any form. The basic transformation which adheres to the rule of first translation, then translation is written as follows:\n",
    "\n",
    "$$\n",
    "    \\underline{\\xi} = q_r + \\epsilon \\frac{1}{2} \\bar{t} \\otimes q_r\n",
    "$$\n",
    "\n",
    "Inversely, with this relation, the extraction of $\\vec{t}$ from a dual quaternion is possible. This operation is often neccessary as the dual quaternion position $\\hat{q}_d$ is not phyically meaningful in euclidean space, but is defined in the dual quaternion space $\\mathbb{H}$. \n",
    "\n",
    "$$\n",
    "    \\vec{t} = Im(2 \\hat{q}_d \\otimes \\hat{q}_r^*)\n",
    "$$\n",
    "\n",
    "The following interactive demo shows this concept closer: We define the orientation of the spatial transformation $\\hat{q}$ via axis angle and set the position vector $\\vec{t}$ via three sliders to set the cartesian position. From this the dual quaternion $\\underline{\\xi}$ is constructed and printed, so that the structure of the dual quaternion can be examined.\n"
   ]
  },
  {
   "cell_type": "code",
   "execution_count": 11,
   "id": "7bf507e4-371a-4fc8-aa63-5e17416c498a",
   "metadata": {
    "tags": []
   },
   "outputs": [
    {
     "data": {
      "application/vnd.jupyter.widget-view+json": {
       "model_id": "89bd546b068741d9a0160ab423e11954",
       "version_major": 2,
       "version_minor": 0
      },
      "text/plain": [
       "AppLayout(children=(VBox(children=(Text(value='', description='Dual Quaternion', layout=Layout(width='98%')), …"
      ]
     },
     "execution_count": 11,
     "metadata": {},
     "output_type": "execute_result"
    }
   ],
   "source": [
    "fig, ax = create_3d_plot(Quaternion(1,0,0,0))\n",
    "dual_quaternion_display = create_textbox(\"Dual Quaternion\")\n",
    "\n",
    "angle_slider = create_slider(\"theta\", 0, -2*np.pi, 2*np.pi)\n",
    "azimuth_slider = create_slider(\"azimuth\", 0, -2*np.pi, 2*np.pi)\n",
    "elevation_slider = create_slider(\"elevation\", 0, -np.pi, np.pi)\n",
    "\n",
    "x_slider = create_slider(\"x\", 0, -1, 1)\n",
    "y_slider = create_slider(\"y\", 0, -1, 1)\n",
    "z_slider = create_slider(\"z\", 0, -1, 1)\n",
    "\n",
    "rotation_axis = create_quiver(ax, [0,0,0], [1,0,0], 1, 'k', \"rotation axis\")\n",
    "x_axis, y_axis, z_axis = draw_frame(ax, [0,0,0], np.eye(3))\n",
    "\n",
    "# Update function for the sliders\n",
    "def update_plot(change):\n",
    "    global rotation_axis, x_axis, y_axis, z_axis\n",
    "\n",
    "    rotation_axis.remove()\n",
    "    x_axis.remove()\n",
    "    y_axis.remove()\n",
    "    z_axis.remove()\n",
    "    \n",
    "    direction = spherical_coordinates(azimuth_slider.value, elevation_slider.value)\n",
    "    \n",
    "    # construct unit quaternion from axis angle\n",
    "    q_r = Quaternion.fromAxisAngle(angle_slider.value, direction)\n",
    "    \n",
    "    # set position vector\n",
    "    pos = [x_slider.value, y_slider.value, z_slider.value]\n",
    "    \n",
    "    dq = DualQuaternion.fromQuatPos(q_r, pos)\n",
    "    \n",
    "    # update displays\n",
    "    dual_quaternion_display.value = str(dq)\n",
    "    \n",
    "    # update the drawn vectors and the arc\n",
    "    rotation_axis = create_quiver(ax, dq.getPosition().flatten(), direction,1, 'grey', \"rotation axis\")\n",
    "    x_axis, y_axis, z_axis = draw_frame(ax, dq.getPosition().flatten(), q_r.asRotationMatrix())\n",
    "    \n",
    "    fig.canvas.draw()\n",
    "    fig.canvas.flush_events()\n",
    "\n",
    "    \n",
    "angle_slider.observe(update_plot, names = 'value')\n",
    "azimuth_slider.observe(update_plot, names='value')\n",
    "elevation_slider.observe(update_plot, names='value')\n",
    "x_slider.observe(update_plot, names='value')\n",
    "y_slider.observe(update_plot, names='value')\n",
    "z_slider.observe(update_plot, names='value')\n",
    "\n",
    "widgets.AppLayout(\n",
    "    center=fig.canvas,\n",
    "    footer=widgets.VBox([dual_quaternion_display, angle_slider, azimuth_slider, elevation_slider, x_slider, y_slider, z_slider]),\n",
    "    pane_heights=[0, 2, 1]\n",
    ")"
   ]
  },
  {
   "cell_type": "markdown",
   "id": "1d91e623-871f-4dd2-b466-469cc7a7d025",
   "metadata": {
    "citation-manager": {
     "citations": {
      "7c5rg": [
       {
        "id": "16222978/ZZC2ARLA",
        "source": "zotero"
       }
      ]
     }
    },
    "tags": []
   },
   "source": [
    "<h3>Pure Dual Quaternions and the Line Transformation</h3>\n",
    "\n",
    "Any arbitrary real vector $\\vec{x} \\in \\mathbb{R}^6$ can be expressed as pure dual quaternion $\\bar{\\underline{\\zeta}} = (0 + x_1i + x_2k + x_3j) + \\epsilon(0 + x_4i + x_5k + x_6j)$, which can be transformed by any dual-quaternion $\\underline{\\xi}$.\n",
    "\n",
    "$$ \n",
    "{}_b\\bar{\\underline{\\zeta}} = {}_a\\underline{\\xi}^b \\otimes {}_a\\bar{\\underline{\\zeta}} \\otimes {}_a\\underline{\\xi}^{b*} \n",
    "$$\n",
    "\n",
    "This transformation formula is particularly powerful in robotics, where it can be used to manipulate and interpret the position and orientation of robotic elements in a three-dimensional space efficiently. It can be leveraged in areas where angular and linear velocities and accelerations have to be computed or transformed into different frames, such as in the <i>Recursive Newton Euler Algorithm</i>. In the classic algorithm both rotational and translational components have to be computed seperately. With the dual quaternion representation of the dual velocity and acceleration, where the dual velocity and acceleration ecapsules both rotational and translational terms <cite id=\"7c5rg\"><a href=\"#zotero%7C16222978%2FZZC2ARLA\">(Miranda De Farias et al., 2019)</a></cite>.\n"
   ]
  },
  {
   "cell_type": "markdown",
   "id": "70ae2219-d105-4bb8-980e-2f8b12ec10d4",
   "metadata": {},
   "source": [
    "<a id=\"test\"></a>"
   ]
  },
  {
   "cell_type": "markdown",
   "id": "0efd7529-55b2-4389-bc79-faa69bfa4d88",
   "metadata": {},
   "source": [
    "<!-- BIBLIOGRAPHY START -->\n",
    "<div class=\"csl-bib-body\">\n",
    "  <div class=\"csl-entry\"><i id=\"zotero|16222978/ZZC2ARLA\"></i>Miranda De Farias, C., Da Cruz Figueredo, L. F., &#38; Yoshiyuki Ishihara, J. (2019). Performance Study on dqRNEA – A Novel Dual Quaternion Based Recursive Newton-Euler Inverse Dynamics Algorithms. <i>2019 Third IEEE International Conference on Robotic Computing (IRC)</i>, 94–101. <a href=\"https://doi.org/10.1109/IRC.2019.00022\">https://doi.org/10.1109/IRC.2019.00022</a></div>\n",
    "  <div class=\"csl-entry\"><i id=\"zotero|16222978/AGXR4PGH\"></i>Temminghoff, J. (2023). <i>JTem/neura_dual_quaternions</i>. <a href=\"https://github.com/JTem/neura_dual_quaternions\">https://github.com/JTem/neura_dual_quaternions</a></div>\n",
    "</div>\n",
    "<!-- BIBLIOGRAPHY END -->"
   ]
  },
  {
   "cell_type": "code",
   "execution_count": null,
   "id": "58b32a90-5de5-4dee-86b1-09493cd10aac",
   "metadata": {},
   "outputs": [],
   "source": []
  }
 ],
 "metadata": {
  "citation-manager": {
   "items": {
    "zotero": {
     "16222978/AGXR4PGH": {
      "URL": "https://github.com/JTem/neura_dual_quaternions",
      "accessed": {
       "date-parts": [
        [
         2023,
         11,
         19
        ]
       ]
      },
      "author": [
       {
        "family": "Temminghoff",
        "given": "Jens"
       }
      ],
      "id": "16222978/AGXR4PGH",
      "issued": {
       "date-parts": [
        [
         2023
        ]
       ]
      },
      "system_id": "zotero|16222978/AGXR4PGH",
      "title": "JTem/neura_dual_quaternions",
      "type": "webpage"
     },
     "16222978/ZZC2ARLA": {
      "DOI": "10.1109/IRC.2019.00022",
      "ISBN": "9781538692455",
      "URL": "https://ieeexplore.ieee.org/document/8675687/",
      "accessed": {
       "date-parts": [
        [
         2023,
         11,
         20
        ]
       ]
      },
      "author": [
       {
        "family": "Miranda De Farias",
        "given": "Cristiana"
       },
       {
        "family": "Da Cruz Figueredo",
        "given": "Luis Felipe"
       },
       {
        "family": "Yoshiyuki Ishihara",
        "given": "Joao"
       }
      ],
      "container-title": "2019 Third IEEE International Conference on Robotic Computing (IRC)",
      "event": "2019 Third IEEE International Conference on Robotic Computing (IRC)",
      "event-place": "Naples, Italy",
      "id": "16222978/ZZC2ARLA",
      "issued": {
       "date-parts": [
        [
         "2019"
        ]
       ]
      },
      "page": "94-101",
      "publisher": "IEEE",
      "publisher-place": "Naples, Italy",
      "system_id": "zotero|16222978/ZZC2ARLA",
      "title": "Performance Study on dqRNEA – A Novel Dual Quaternion Based Recursive Newton-Euler Inverse Dynamics Algorithms",
      "type": "paper-conference"
     }
    }
   }
  },
  "kernelspec": {
   "display_name": "Python 3 (ipykernel)",
   "language": "python",
   "name": "python3"
  },
  "language_info": {
   "codemirror_mode": {
    "name": "ipython",
    "version": 3
   },
   "file_extension": ".py",
   "mimetype": "text/x-python",
   "name": "python",
   "nbconvert_exporter": "python",
   "pygments_lexer": "ipython3",
   "version": "3.11.4"
  }
 },
 "nbformat": 4,
 "nbformat_minor": 5
}
