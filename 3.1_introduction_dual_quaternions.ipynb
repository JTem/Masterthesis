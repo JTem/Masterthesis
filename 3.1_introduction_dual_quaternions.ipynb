{
 "cells": [
  {
   "cell_type": "markdown",
   "id": "df313c17-9a3b-4605-b989-2e5a5592467d",
   "metadata": {
    "citation-manager": {
     "citations": {
      "4u137": [
       {
        "id": "16222978/AGXR4PGH",
        "source": "zotero"
       }
      ]
     }
    },
    "tags": []
   },
   "source": [
    "# Introduction to Dual Quaternions\n",
    "- add matrix multiplication / conversion to matrix\n",
    "\n",
    "Dual quaternons are a compact representation that offers useful analytic properties. They were introduced by Clifford in 1873 (quelle). They are dual numbers in which the real and dual parts are quternions:\n",
    "\n",
    "$$\n",
    "    \\underline{\\xi} = q_r + \\epsilon q_d\n",
    "$$\n",
    "\n",
    "with $\\underline{\\xi} \\in \\mathbb{H}$ and the dual unit $\\epsilon^2 = 0$ and $\\epsilon \\neq 0$.<br>\n",
    "Similarly to <i>Homogeneours Transformation Matrices</i>, which are part of the <i>Special Euclidean Group</i> $SE(3)$, dual quaternions can be used to represent spatial transformations. dual quaternions used for spatial transformations are called <strong>unit dual quaternions</strong>. Here, the real part of the dual quaternion $Re(\\underline{\\xi}) =  \\underline{\\xi}_r = q_r$ is a unit quaternion, which represents the orientation and rotation of the dual quaternion transformation. The dual part $Du(\\underline{\\xi}) =  \\underline{\\xi}_d = q_d$ is not required to satisfy the unit magnitude requirement, as it represents the translation of the transformation. <br>\n",
    "Multiplication of dual quaternions follows the same rules as for dual numbers, but also respects the rules of the quaternion multiplication:\n",
    "\n",
    "$$\n",
    "\\begin{align*}\n",
    "\\underline{\\xi}^{(1)} \\otimes \\underline{\\xi}^{(2)} &= (q_r^{(1)} + \\epsilon q_d^{(1)}) \\otimes (q_r^{(2)} + \\epsilon q_d^{(2)}) \\\\\n",
    "&= (q_r^{(1)} \\otimes q_r^{(2)}) + \\epsilon(q_r^{(1)} \\otimes q_d^{(2)} + q_d^{(1)} \\otimes q_r^{(2)}) + \\epsilon^2(q_d^{(1)} \\otimes q_d^{(2)})\n",
    "\\end{align*}\n",
    "$$\n",
    "then, with $ \\epsilon^2 = 0 $:\n",
    "\n",
    "\n",
    "\n",
    "$$\n",
    "\\begin{equation}\n",
    "\\underline{\\xi}^{(1)} \\otimes \\underline{\\xi}^{(2)} = (q_r^{(1)} \\otimes q_r^{(2)}) + \\epsilon(q_r^{(1)} \\otimes q_d^{(2)} + q_d^{(1)} \\otimes q_r^{(2)}) \\tag{1}\n",
    "\\end{equation}\n",
    "$$\n",
    "\n",
    "In the context of the thesis, dual quaternions are written with an underline $\\underline{\\bullet}$, and both quaternion and dualquaternion multiplication can are denoted as $\\otimes$. The detailed and robust implementation of the dual quaternion algebra can once again be found in the created python package <cite id=\"4u137\"><a href=\"#zotero%7C16222978%2FAGXR4PGH\">(Temminghoff, 2023)</a></cite>.<br>\n",
    "Similary to homogeneous transformations, the dual quaternion mulitplication can be used to compute successive transforms.\n",
    "\n",
    "$$\n",
    "{}_0\\underline{\\xi}^{2} = {}_0\\underline{\\xi}^{1} \\otimes {}_1\\underline{\\xi}^{2}\n",
    "$$\n",
    "\n",
    "Similary this multiplication can be written as matrix multiplication via the quaternion hamilton operators.\n",
    "For this we first need to define the dual quaternion, analog as is the case for the quaternions, as vector $\\underline{\\xi}_{[vec]} \\in \\mathbb{R}^8$.\n",
    "\n",
    "$$\n",
    "\\underline{\\xi}_{[vec]} = [q_{r,w}, q_{r,x}, q_{r,y}, q_{r,z}, q_{d,w}, q_{d,x}, q_{d,y}, q_{d,z}]^T\n",
    "$$\n",
    "\n",
    "To construct the Multiplication matrices $[\\underline{\\xi}]_{L}$ and $[\\underline{\\xi}]_{R}$ the quaternion hamilton operators are recalled, and arranged blockwise to represent the dual quaternion basic multiplication. Once again there is a right and left matrix representation:\n",
    "\n",
    "$$\n",
    "\\begin{align*}\n",
    "\\underline{\\xi} \\otimes \\underline{\\eta} &= \n",
    "\\begin{bmatrix}\n",
    "([\\underline{\\xi}_r]_L) & 0_{4x4} \\\\\n",
    "([\\underline{\\xi}_d]_L) & ([\\underline{\\xi}_r]_L)\n",
    "\\end{bmatrix}_L \\underline{\\eta}_{[vec]} \\\\\n",
    "&= \n",
    "\\begin{bmatrix}\n",
    "([\\underline{\\eta}_r]_R) & 0_{4x4} \\\\\n",
    "([\\underline{\\eta}_d]_R) & ([\\underline{\\eta}_r]_R)\n",
    "\\end{bmatrix}_R \\underline{\\xi}_{[vec]}\n",
    "\\end{align*}\n",
    "$$\n",
    "\n",
    "\n",
    "\n",
    "Even though it might be suggested that $q_d$ is a pure quaternion, as it represents the translation $p \\in \\mathbb{R}^3$, it is not neccessarily the case. The dimensionality of the dual part depends on the cartesian translation $\\bar{t} = (0, x, y, z)$, which is a pure and the real part which is a unit quaternion."
   ]
  },
  {
   "cell_type": "code",
   "execution_count": null,
   "id": "24e4a110-2e0d-4d37-8a36-99de6baee662",
   "metadata": {},
   "outputs": [],
   "source": []
  }
 ],
 "metadata": {
  "citation-manager": {
   "items": {
    "zotero": {
     "16222978/AGXR4PGH": {
      "URL": "https://github.com/JTem/neura_dual_quaternions",
      "accessed": {
       "date-parts": [
        [
         2023,
         11,
         19
        ]
       ]
      },
      "author": [
       {
        "family": "Temminghoff",
        "given": "Jens"
       }
      ],
      "id": "16222978/AGXR4PGH",
      "issued": {
       "date-parts": [
        [
         2023
        ]
       ]
      },
      "system_id": "zotero|16222978/AGXR4PGH",
      "title": "JTem/neura_dual_quaternions",
      "type": "webpage"
     }
    }
   }
  },
  "kernelspec": {
   "display_name": "Python 3 (ipykernel)",
   "language": "python",
   "name": "python3"
  },
  "language_info": {
   "codemirror_mode": {
    "name": "ipython",
    "version": 3
   },
   "file_extension": ".py",
   "mimetype": "text/x-python",
   "name": "python",
   "nbconvert_exporter": "python",
   "pygments_lexer": "ipython3",
   "version": "3.11.4"
  }
 },
 "nbformat": 4,
 "nbformat_minor": 5
}
