{
 "cells": [
  {
   "cell_type": "markdown",
   "id": "df313c17-9a3b-4605-b989-2e5a5592467d",
   "metadata": {},
   "source": [
    "# Introduction to Dual Quaternions\n",
    "write about dualquaternions"
   ]
  }
 ],
 "metadata": {
  "kernelspec": {
   "display_name": "Python 3 (ipykernel)",
   "language": "python",
   "name": "python3"
  },
  "language_info": {
   "codemirror_mode": {
    "name": "ipython",
    "version": 3
   },
   "file_extension": ".py",
   "mimetype": "text/x-python",
   "name": "python",
   "nbconvert_exporter": "python",
   "pygments_lexer": "ipython3",
   "version": "3.11.4"
  }
 },
 "nbformat": 4,
 "nbformat_minor": 5
}
