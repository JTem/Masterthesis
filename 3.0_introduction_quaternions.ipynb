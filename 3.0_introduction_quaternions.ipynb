{
 "cells": [
  {
   "cell_type": "code",
   "execution_count": 1,
   "id": "cdc39dbf-81b7-4c62-a567-84bf7ae25247",
   "metadata": {
    "tags": []
   },
   "outputs": [],
   "source": [
    "%matplotlib widget\n",
    "import ipywidgets as widgets\n",
    "import numpy as np\n",
    "from collections import deque\n",
    "\n",
    "import matplotlib.pyplot as plt\n",
    "from mpl_toolkits.mplot3d import Axes3D\n",
    "from neura_dual_quaternions import Quaternion\n",
    "\n",
    "def create_3d_plot(qr = Quaternion(1,0,0,0)):\n",
    "    \n",
    "    plt.ioff()\n",
    "    \n",
    "    fig = plt.figure(figsize=(8, 6))\n",
    "    ax = fig.add_subplot(111, projection='3d')\n",
    "    fig.canvas.header_visible = False\n",
    "    fig.canvas.layout.min_height = '400px'\n",
    "    ax.set_xlim([-1, 1])\n",
    "    ax.set_ylim([-1, 1])\n",
    "    ax.set_zlim([-1, 1])\n",
    "    ax.set_axis_off()\n",
    "    ax.set_box_aspect([1, 1, 1])\n",
    "    ax.set_facecolor('white')\n",
    "    \n",
    "    for spine in ax.spines.values():\n",
    "        spine.set_visible(False)\n",
    "\n",
    "    plt.tight_layout()\n",
    "    \n",
    "    start_point = [0, 0, 0]\n",
    "    R_base = qr.asRotationMatrix()*1.5\n",
    "    draw_frame(ax, start_point, R_base)\n",
    "    \n",
    "    return fig, ax\n",
    "\n",
    "def draw_frame(ax, start_point, R):\n",
    "    \n",
    "    x_axis = ax.quiver(*start_point, *R[:,0], arrow_length_ratio = 0.1, linewidth = 1, color='r')\n",
    "    y_axis = ax.quiver(*start_point, *R[:,1], arrow_length_ratio = 0.1, linewidth = 1, color='g')\n",
    "    z_axis = ax.quiver(*start_point, *R[:,2], arrow_length_ratio = 0.1, linewidth = 1, color='b')\n",
    "    return x_axis, y_axis, z_axis\n",
    "\n",
    "def create_slider(name, start_val, min_val, max_val):\n",
    "    slider_width = '98%'\n",
    "\n",
    "    slider = widgets.FloatSlider(orientation='horizontal',description=name, value=start_val, min=min_val, max=max_val, step = 0.01, layout={'width': slider_width})\n",
    "    return slider\n",
    "\n",
    "def spherical_coordinates(azimuth, elevation):\n",
    "    x = np.sin(np.pi/2 -elevation) * np.cos(azimuth)\n",
    "    y = np.sin(np.pi/2 -elevation) * np.sin(azimuth)\n",
    "    z = np.cos(np.pi/2 -elevation)\n",
    "    vector = np.array([x, y, z])\n",
    "    return vector\n",
    "\n",
    "def create_textbox(name):\n",
    "    slider_width = '70%'\n",
    "    display = widgets.Text(description=name, value='', layout={'width': slider_width})\n",
    "    return display\n",
    "\n",
    "def create_quiver(ax, start_point, direction, w, c, l):\n",
    "    quiver = ax.quiver(*start_point, *direction, arrow_length_ratio=0.1, linewidth = w, color = c, label = l)\n",
    "    return quiver\n",
    "    \n",
    "def update_arc(arc, quaternion, p):\n",
    "    t_values = np.linspace(0, 1, 50)\n",
    "    arc_points = np.array([(Quaternion.slerp(Quaternion(1,0,0,0), quaternion, t)*p*Quaternion.slerp(Quaternion(1,0,0,0), quaternion, t).inverse()).getVector().flatten() for t in t_values])\n",
    "\n",
    "    arc.set_data(arc_points[:,0], arc_points[:,1])\n",
    "    arc.set_3d_properties(arc_points[:,2])\n",
    "    \n",
    "\n",
    "def rpy_from_R(R):  \n",
    "    # calculation of roll pitch yaw angles from rotation matrix\n",
    "    yaw = np.arctan2(R[1, 0], R[0, 0])\n",
    "    pitch = np.arctan2(-R[2, 0], np.sqrt(R[2, 1]**2 + R[2, 2]**2))\n",
    "    roll = np.arctan2(R[2, 1], R[2, 2])\n",
    "    \n",
    "    return roll, pitch, yaw\n",
    "\n",
    "def Rot_rpy(roll, pitch, yaw):\n",
    "    \n",
    "    # Roll matrix\n",
    "    Rx = np.array([[1, 0, 0],\n",
    "                    [0, np.cos(roll), -np.sin(roll)],\n",
    "                    [0, np.sin(roll), np.cos(roll)]])\n",
    "    \n",
    "    # Pitch matrix\n",
    "    Ry = np.array([[np.cos(pitch), 0, np.sin(pitch)],\n",
    "                    [0, 1, 0],\n",
    "                    [-np.sin(pitch), 0, np.cos(pitch)]])\n",
    "    \n",
    "    # Yaw matrix\n",
    "    Rz = np.array([[np.cos(yaw), -np.sin(yaw), 0],\n",
    "                    [np.sin(yaw), np.cos(yaw), 0],\n",
    "                    [0, 0, 1]])\n",
    "    \n",
    "    # Combined rotation matrix\n",
    "    R = Rz@Ry@Rx\n",
    "    return R\n"
   ]
  },
  {
   "cell_type": "markdown",
   "id": "85f1f7b3-8dc3-42bb-b669-8cf22d6f3cc2",
   "metadata": {
    "citation-manager": {
     "citations": {
      "9zmqf": [
       {
        "id": "16222978/7MLS2H2W",
        "source": "zotero"
       }
      ],
      "lunr8": [
       {
        "id": "16222978/H9XC4M77",
        "source": "zotero"
       }
      ],
      "ndpzf": [
       {
        "id": "16222978/M23ULJLX",
        "source": "zotero"
       }
      ],
      "qm06h": [
       {
        "id": "16222978/AGXR4PGH",
        "source": "zotero"
       }
      ],
      "rbr1d": [
       {
        "id": "16222978/ZV86QVV9",
        "source": "zotero"
       }
      ]
     }
    },
    "tags": []
   },
   "source": [
    "<h1> Introduction to Quaternions</h1>\n",
    "\n",
    "This section aims to give insight into some mathematical foundations used throughout the Thesis. More specifically, it presents the main concepts and operations of quaternions, which are later extended to unit dual quaternions to use the benefits of quaternions in the realm of Transformations.\n",
    "\n",
    "Hamilton introduced quaternions in the nineteenth century which can be viewed as an extension of the complex number theory. Instead of only one imaginary unit as for a complex number, quaternions are defined with three imaginary components $i$, $j$, and $k$, which possess the following properties <cite id=\"lunr8\"><a href=\"#zotero%7C16222978%2FH9XC4M77\">(Hamilton, 1844)</a></cite>:\n",
    "\n",
    "$$\n",
    "-ji = ij = k, \\qquad -kj = jk = i, \\qquad -ik = ki = j, \\\\\n",
    "i^2 = j^2 = k^2 = -1\n",
    "$$\n",
    "\n",
    "When discovered by Hamilton, quaternions were just a theoretical concept, but in recent years they have been broadly used to represent both orientation and rotation in three-dimensional space due to their advantages over classical Euler angle representations <cite id=\"9zmqf\"><a href=\"#zotero%7C16222978%2F7MLS2H2W\">(Perumal, 2011)</a></cite>, <cite id=\"rbr1d\"><a href=\"#zotero%7C16222978%2FZV86QVV9\">(Alaimo et al., 2013)</a></cite>. Unlike traditional vector rotations that suffer from issues like gimbal lock, quaternions offer a robust and efficient way to represent spatial orientations and rotations. Their ability to interpolate between orientations <cite id=\"ndpzf\"><a href=\"#zotero%7C16222978%2FM23ULJLX\">(Shoemake, 1985)</a></cite> and the ease with which they handle compound rotations make them indispensable in modern robotics.\n",
    "\n",
    "A single quaternion is expressed as: \n",
    "\n",
    "$$\n",
    "q = w + xi + yj + zk\n",
    "$$\n",
    "\n",
    "where $w$, $x$, $y$ and $z$ are real numbers and $i$, $j$ and $k$ are the quaternion units. Similar to complex numbers, a quaternion can be divided into <i>real</i> and <i>complex</i> parts. Here, $x$, $y$, $z$ are the complex parts, whereas $w$ is called real part. Different Notations are common and used throughout the Thesis. The most common is the vector notation, where the complex part of the quaternion is condensed into the so-called <i>complex vector</i> $\\vec{v} = (x, y, z)$. The following list will give a short overview:\n",
    "\n",
    "<h3>Different Quaternion Notations:</h3>\n",
    "<ul>\n",
    "    <li>Quaternion: $ q = w + xi + yj + zk $</li>\n",
    "    <li>Quaternion: $ q = (w, x, y, z) $</li>\n",
    "    <li>Quaternion: $ q = (w, \\vec{v}) $</li>\n",
    "</ul>\n",
    "\n",
    "In the scope of this thesis a quaternion package was developed <cite id=\"qm06h\"><a href=\"#zotero%7C16222978%2FAGXR4PGH\">(Temminghoff, 2023)</a></cite> to be able to use quaternions in the further context of the Thesis. To introduce this package a small example of the basic constructor of a quaternion is given:"
   ]
  },
  {
   "cell_type": "code",
   "execution_count": 2,
   "id": "d3402f54-4b45-4819-bb56-c8f6b21f9f71",
   "metadata": {
    "tags": []
   },
   "outputs": [
    {
     "name": "stdout",
     "output_type": "stream",
     "text": [
      "Quaternion(1.000, 0.000, 0.000, 0.000)\n"
     ]
    }
   ],
   "source": [
    "#Example: identity quaternion\n",
    "quat = Quaternion(1,0,0,0)\n",
    "\n",
    "print(quat)"
   ]
  },
  {
   "cell_type": "markdown",
   "id": "cfc7ab2e-d52b-445b-a02b-f99e07cccec8",
   "metadata": {
    "citation-manager": {
     "citations": {
      "1rst5": []
     }
    }
   },
   "source": [
    "<h2>Orientation and Rotation representation with Unit Quaternions </h2>\n",
    "\n",
    "A quaternion must be unit length to represent orientation and rotation, which is a benefit over the orientation representation with rotation matrices, meaning $\\|q\\| = 1$. The euclidean norm of a unit quaternion is defined as: \n",
    "\n",
    "$$\n",
    "\\|q\\| = \\sqrt{w^2 + x^2 + y^2 + z^2}.\n",
    "$$\n",
    "\n",
    "Quaternions with unit length are called <strong>Unit Quaternions</strong> and can be thought of as points on the unit four-dimensional hypersphere surface, which spans the curved space of $\\mathcal{S}^3$. This characteristic allows unit quaternions to represent orientations and rotations as they lose their ability to scale. This is analog to the fact that the determinant of a rotation matrix is one. Another analogy is that the concatenation of Quaternions is not commutative, which means that the order of multiplication matters to the final orientation\n",
    "\n",
    "$$\n",
    "    {}_0q^1 =q_x \\otimes q_y \\neq q_y \\otimes q_x\n",
    "$$\n",
    "\n",
    "Note: $\\otimes$ denotes the quaternion multiplication \n",
    "\n",
    "To use Quaternions for Orientation representation, most commonly the axis angle representation of rotation / orientation is used. Here a unit quaternion $q \\in \\mathcal{S}^3$ is associated with $\\theta \\tilde{r} \\in \\mathbb{R}^3$ and can be derived via the exponential map as,\n",
    "\n",
    "$$\n",
    "q := e^{\\frac{\\theta}{2}\\tilde{r}} = \\left(\\cos\\frac{\\theta}{2},  \\quad \\sin\\frac{\\theta}{2} \\tilde{r} \\right).\n",
    "$$\n",
    "\n",
    "For this intuitive way to describe rotation, the angle $\\theta$ describes the rotation angle around the unit-length rotation axis $\\tilde{r}$. The exponential map is a <i>Lie Theoretic</i> concept and can be further studied with great detail in the excellent work <cite id=\"1rst5\"><a href=\"#zotero%7C16222978%2FGF7XZFAM\">(Shahidi, 2023)</a></cite>. Delving too deep into the mathematical foundations of lie theory and Clifford algebra would exceed the scope of this Thesis.\n",
    "\n",
    "To explain the exponential mapping in more detail, an interactive code example is given, here a rotation axis can be manipulated and a coordinate system, subsequently called frame can be rotated around the rotation axis $\\tilde{r}$ via the setting of an angle $\\theta$."
   ]
  },
  {
   "cell_type": "code",
   "execution_count": 33,
   "id": "e0df2f36-92f6-4f46-af71-62855390b226",
   "metadata": {},
   "outputs": [
    {
     "data": {
      "application/vnd.jupyter.widget-view+json": {
       "model_id": "5943bb6bfbb44fc5adefa06540581356",
       "version_major": 2,
       "version_minor": 0
      },
      "text/plain": [
       "AppLayout(children=(VBox(children=(Text(value='', description='Quaternion', layout=Layout(width='70%')), Float…"
      ]
     },
     "execution_count": 33,
     "metadata": {},
     "output_type": "execute_result"
    }
   ],
   "source": [
    "fig, ax = create_3d_plot()\n",
    "quaternion_display = create_textbox(\"Quaternion\")\n",
    "angle_slider = create_slider(\"theta\", 0, -2*np.pi, 2*np.pi)\n",
    "azimuth_slider = create_slider(\"azimuth\", 0, -2*np.pi, 2*np.pi)\n",
    "elevation_slider = create_slider(\"elevation\", 0, -np.pi, np.pi)\n",
    "#angle_slider, azimuth_slider, elevation_slider = create_quaternion_sliders()\n",
    "\n",
    "rotation_axis = create_quiver(ax, [0,0,0], [1,0,0],1, 'grey', 'rotation axis')\n",
    "imaginary_part = create_quiver(ax, [0,0,0], [0,0,0], 3, 'k', 'complex vector')\n",
    "x_axis, y_axis, z_axis = draw_frame(ax, [0,0,0], np.eye(3))\n",
    "point_w = ax.scatter(0,0,1,s = 30, c = 'k', label = \"real part\")\n",
    "ax.legend()\n",
    "# Update function for the sliders\n",
    "def update_plot(change):\n",
    "    global rotation_axis, imaginary_part, x_axis, y_axis, z_axis, point_w\n",
    "\n",
    "    rotation_axis.remove()\n",
    "    imaginary_part.remove()\n",
    "    x_axis.remove()\n",
    "    y_axis.remove()\n",
    "    z_axis.remove()\n",
    "    point_w.remove()\n",
    "    \n",
    "    angle = angle_slider.value\n",
    "    direction = spherical_coordinates(azimuth_slider.value, elevation_slider.value)\n",
    "    \n",
    "    # construct unit quaternion from axis angle\n",
    "    quaternion = Quaternion.exp(Quaternion(0, *0.5*angle*direction))    \n",
    "    \n",
    "    # update displays\n",
    "    quaternion_display.value = str(quaternion)\n",
    "    \n",
    "    # update the drawn vectors\n",
    "    rotation_axis = create_quiver(ax, [0,0,0], direction, 1, 'grey', 'rotation axis')\n",
    "    imaginary_part = create_quiver(ax, [0,0,0], [quaternion.x, quaternion.y, quaternion.z], 3, 'k', 'complex vector')\n",
    "    x_axis, y_axis, z_axis = draw_frame(ax, [0,0,0], quaternion.asRotationMatrix())\n",
    "    \n",
    "    point_w = ax.scatter(0,0,quaternion.w, s = 30, c = \"k\", label = \"real part\")\n",
    "    fig.canvas.draw()\n",
    "    fig.canvas.flush_events()\n",
    "\n",
    "    \n",
    "angle_slider.observe(update_plot, names = 'value')\n",
    "azimuth_slider.observe(update_plot, names='value')\n",
    "elevation_slider.observe(update_plot, names='value')\n",
    "\n",
    "widgets.AppLayout(\n",
    "    center=fig.canvas,\n",
    "    footer=widgets.VBox([quaternion_display, angle_slider, azimuth_slider, elevation_slider]),\n",
    "    pane_heights=[0, 3, 1]\n",
    ")"
   ]
  },
  {
   "cell_type": "markdown",
   "id": "1c624071-8c2d-446f-8e4a-9180fdf7d5fe",
   "metadata": {
    "citation-manager": {
     "citations": {
      "qm06h": []
     }
    },
    "tags": []
   },
   "source": [
    "As seen in the plot, the complex vector of the quaternion is the scaled rotation axis which is dependant on the angle of rotation and the real part moves according to the angle s.t. the unit length property is satisfied. This  gives an inuitive way to think about quaternions, as they are often deemed to be too complex to be visualized properly and unintuitive in application. Besides an interactive visualization and intuitive understanding of the lie-theoretic exponential map another important characteristic of quaternions can be seen: The <strong>antipodal property</strong>. \n",
    "\n",
    "This property is described by the fact the a quaternion $q = (w, x, y, z)$ and its antipodal counterpart $-q = (-w, -x, -y, -z)$ show the same orientation, i.e. $R(q) = R(-q)$. Note that conversion from a quaternion to rotation matrix is omitted in this thesis, a detailed and robust implementation and can be found in the package:  <cite id=\"qm06h\"><a href=\"#zotero%7C16222978%2FAGXR4PGH\">(Temminghoff, 2023)</a></cite>. \n",
    "\n",
    "Even though the final orientation of the given quaternion $q$ matches with $-q$, the rotation to reach this orientation differs. To show what is meant, the given examples interpolated from the identiy orientation to a given target quaternion $q_{target}$ and its given antipodal quaternion $-q_{target}$."
   ]
  },
  {
   "cell_type": "code",
   "execution_count": 40,
   "id": "e73021f7-ed35-4f0f-9dcf-4cba4f816c81",
   "metadata": {},
   "outputs": [
    {
     "data": {
      "application/vnd.jupyter.widget-view+json": {
       "model_id": "5dbbf6dc6e784129aa4792e47e3c06e2",
       "version_major": 2,
       "version_minor": 0
      },
      "text/plain": [
       "AppLayout(children=(VBox(children=(FloatSlider(value=0.0, description='s', layout=Layout(width='98%'), max=1.0…"
      ]
     },
     "execution_count": 40,
     "metadata": {},
     "output_type": "execute_result"
    }
   ],
   "source": [
    "#Example: Antipodal Property\n",
    "q_start = Quaternion(1,0,0,0)\n",
    "q_target = Quaternion(.900, 0.150, 0.000, 0.15).normalize()\n",
    "q_target_antipodal = -1.0*q_target\n",
    "\n",
    "fig, ax = create_3d_plot(q_target)\n",
    "\n",
    "s_slider = create_slider(\"s\", 0, 0, 1)\n",
    "x_axis1, y_axis1, z_axis1 = draw_frame(ax, [0,0,0], q_start.asRotationMatrix())\n",
    "x_axis2, y_axis2, z_axis2 = draw_frame(ax, [0,0,0], q_start.asRotationMatrix())\n",
    "\n",
    "def update_plot(change):\n",
    "    global x_axis1, y_axis1, z_axis1\n",
    "    global x_axis2, y_axis2, z_axis2\n",
    "    \n",
    "    x_axis1.remove()\n",
    "    y_axis1.remove()\n",
    "    z_axis1.remove()\n",
    "\n",
    "    x_axis2.remove()\n",
    "    y_axis2.remove()\n",
    "    z_axis2.remove()\n",
    "    \n",
    "    q_interpolated1 = Quaternion.slerp(q_start, q_target, s_slider.value)    \n",
    "    q_interpolated2 = Quaternion.slerp(q_start, q_target_antipodal, s_slider.value)  \n",
    "    \n",
    "    x_axis1, y_axis1, z_axis1 = draw_frame(ax, [0,0,0], q_interpolated1.asRotationMatrix())\n",
    "    x_axis2, y_axis2, z_axis2 = draw_frame(ax, [0,0,0], q_interpolated2.asRotationMatrix())\n",
    "\n",
    "    fig.canvas.draw()\n",
    "    fig.canvas.flush_events()\n",
    "\n",
    "    \n",
    "s_slider.observe(update_plot, names = 'value')\n",
    "\n",
    "widgets.AppLayout(\n",
    "    center=fig.canvas,\n",
    "    footer=widgets.VBox([s_slider]),\n",
    "    pane_heights=[0, 3, 1]\n",
    ")"
   ]
  },
  {
   "cell_type": "markdown",
   "id": "434c0bcd-65ef-4113-8f1e-9b691aaa57b9",
   "metadata": {},
   "source": [
    "From the interactive plot it is clearly visible that both quaternions start and end in the same orientation, but take different paths to reach this point. The rotation $q_{start} \\to q_{target}$ takes she shortest path around the aperent, constant rotation axis, where as $q_{start} \\to -q_{target}$ takes the long path to reach the target orientation. It can be explained by the fact that a negative rotation around the inverted rotation axis yields the same orientation as a positive orientation around the normal rotation axis, i.e $\\theta \\tilde{r} = (-\\theta)(-\\tilde{r})$, which means that the quaternions $q_{target}$ and $-q_{target}$ lie on different hemispheres on the hypersphere surface $\\mathcal{S}^3.$ This property is unique to unit quaternions and can be leveraged in robotic motion-planning, for more complex and dexterous motions.\n",
    "\n",
    "<h2> Pure Quaternions </h2>\n",
    "\n",
    "Besides representing orientation and rotation in three dimensional space, Unit Quaternions can be used to rotate vectors in $\\mathbb{R}^3$. For this we need to introduce another form of Quaternion, called <strong>Pure Quaternion</strong>."
   ]
  },
  {
   "cell_type": "markdown",
   "id": "bc5a5654-8220-41a0-9da3-fd862bd4804c",
   "metadata": {},
   "source": [
    "<h1> Literature</h1>\n"
   ]
  },
  {
   "cell_type": "code",
   "execution_count": null,
   "id": "d5f39b21-546e-49ae-8c37-88f0b0aca097",
   "metadata": {},
   "outputs": [],
   "source": []
  }
 ],
 "metadata": {
  "citation-manager": {
   "items": {
    "zotero": {
     "16222978/7MLS2H2W": {
      "abstract": "This paper is written to aid the readers to understand application of Euler angles and quaternion in representing rotation of a body in 3-dimensional Euclidean space, ℜ3 . Application of quaternion would later require conversion of the quaternion to Euler angles. This is to enable quaternion to be compatible with other applications which use Euler rotation sequence to represent rotation. Thus, a framework to convert a quaternion, which is produced from a random rotation sequence to Euler angles with any specified rotation sequence is proposed and demonstrated here, to aid practitioners to use quaternion in their applications. This will also enable quaternion to be applied in arbitrary sequence onto applications developed using certain rotation sequence of Euler angles. Finally, a program is developed using Matlab-simulink software to demonstrate application of quaternion in maneuvering orientation of a missile flying in 3D space. Six degree of freedom (6DoF) block, which employs Euler rotation sequence of XYZ, is used to aid users to graphically see the maneuvering of the missile’s orientation as it flies in 3-dimensional Euclidean space. Quaternion, which is produced from random rotation sequence keyed in by the user, is converted to Euler angles with rotation sequence XYZ by using the proposed method.",
      "author": [
       {
        "family": "Perumal",
        "given": "Logah"
       }
      ],
      "id": "16222978/7MLS2H2W",
      "issue": "1",
      "issued": {
       "date-parts": [
        [
         2011
        ]
       ]
      },
      "language": "en",
      "system_id": "zotero|16222978/7MLS2H2W",
      "title": "Quaternion and Its Application in Rotation Using Sets of Regions",
      "type": "article-journal",
      "volume": "1"
     },
     "16222978/AGXR4PGH": {
      "URL": "https://github.com/JTem/neura_dual_quaternions",
      "accessed": {
       "date-parts": [
        [
         2023,
         11,
         19
        ]
       ]
      },
      "author": [
       {
        "family": "Temminghoff",
        "given": "Jens"
       }
      ],
      "id": "16222978/AGXR4PGH",
      "issued": {
       "date-parts": [
        [
         2023
        ]
       ]
      },
      "system_id": "zotero|16222978/AGXR4PGH",
      "title": "JTem/neura_dual_quaternions",
      "type": "webpage"
     },
     "16222978/H9XC4M77": {
      "author": [
       {
        "family": "Hamilton",
        "given": "William Rowan"
       }
      ],
      "id": "16222978/H9XC4M77",
      "issued": {
       "date-parts": [
        [
         1844
        ]
       ]
      },
      "language": "en",
      "system_id": "zotero|16222978/H9XC4M77",
      "title": "ON QUATERNIONS, OR ON A NEW SYSTEM OF IMAGINARIES IN ALGEBRA",
      "type": "article-journal"
     },
     "16222978/M23ULJLX": {
      "DOI": "10.1145/325334.325242",
      "URL": "http://portal.acm.org/citation.cfm?doid=325334.325242",
      "abstract": "Solid bodies roll and tumble through space. In computer animation, so do cameras. The rotations of these objects are best described using a four coordinate system, quaternions, as is shown in this paper. Of all quaternions, those on the unit sphere are most suitable for animation, but the question of how to construct curves on spheres has not been much explored. This paper gives one answer by presenting a new kind of spline curve, created on a sphere, suitable for smoothly in-betweening (i.e. interpolating) sequences of arbitrary rotations. Both theory and experiment show that the motion generated is smooth and natural, without quirks found in earlier methods.",
      "accessed": {
       "date-parts": [
        [
         2023,
         11,
         18
        ]
       ]
      },
      "author": [
       {
        "family": "Shoemake",
        "given": "Ken"
       }
      ],
      "container-title": "Proceedings of the 12th annual conference on Computer graphics and interactive techniques  - SIGGRAPH '85",
      "id": "16222978/M23ULJLX",
      "issued": {
       "date-parts": [
        [
         1985
        ]
       ]
      },
      "language": "en",
      "page": "245-254",
      "system_id": "zotero|16222978/M23ULJLX",
      "title": "Animating rotation with quaternion curves",
      "type": "article-journal"
     },
     "16222978/ZV86QVV9": {
      "DOI": "10.1063/1.4825732",
      "abstract": "The main topic addressed in this paper is a comparison between Euler parametrization and Quaternion one in the description of the dynamics of a Unmanned Aerial Vehicle assumed as a rigid body. In details Newton Euler equations are re-written in terms of quaternions due to the singularities that the Euler angles lead. This formulation not only avoids the gimbal lock but also allows a better performance in numerical implementation thanks to the linearity of quaternion algebra. This kind of analysis, proved by some numerical results presented, has a great importance due to the applicability of quaternion to drone control. Indeed, this latter requires a time response as quick as possible, in order to be reliable.",
      "author": [
       {
        "family": "Alaimo",
        "given": "Andrea"
       },
       {
        "family": "Artale",
        "given": "V."
       },
       {
        "family": "Milazzo",
        "given": "C."
       },
       {
        "family": "Ricciardello",
        "given": "Angela"
       }
      ],
      "container-title": "AIP Conference Proceedings",
      "id": "16222978/ZV86QVV9",
      "issued": {
       "date-parts": [
        [
         2013,
         10,
         1
        ]
       ]
      },
      "journalAbbreviation": "AIP Conference Proceedings",
      "page": "1228-1231",
      "system_id": "zotero|16222978/ZV86QVV9",
      "title": "Comparison between Euler and Quaternion Parametrization in UAV Dynamics",
      "type": "article-journal",
      "volume": "1558"
     }
    }
   }
  },
  "kernelspec": {
   "display_name": "Python 3 (ipykernel)",
   "language": "python",
   "name": "python3"
  },
  "language_info": {
   "codemirror_mode": {
    "name": "ipython",
    "version": 3
   },
   "file_extension": ".py",
   "mimetype": "text/x-python",
   "name": "python",
   "nbconvert_exporter": "python",
   "pygments_lexer": "ipython3",
   "version": "3.11.4"
  }
 },
 "nbformat": 4,
 "nbformat_minor": 5
}
