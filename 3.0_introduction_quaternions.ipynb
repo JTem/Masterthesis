{
 "cells": [
  {
   "cell_type": "markdown",
   "id": "85f1f7b3-8dc3-42bb-b669-8cf22d6f3cc2",
   "metadata": {
    "citation-manager": {
     "citations": {
      "gsu9p": [],
      "q6m6l": [],
      "rqz78": [],
      "uj55q": []
     }
    }
   },
   "source": [
    "<h1> Introduction to Quaternions</h1>\n",
    "\n",
    "This section aims to give insight into some mathematical foundations used throughout the Thesis. More specifically, it presents the main concepts and operations of quaternions, which are later extended to unit dual quaternions to use the benefits of quaternions in the realm of Transformations.\n",
    "\n",
    "Hamilton introduced quaternions in the nineteenth century which can be viewed as an extension of the complex number theory. Instead of only one imaginary unit as for a complex number, quaternions are defined with three imaginary components $i$, $j$, and $k$, which possess the following properties <cite id=\"rqz78\"><a href=\"#zotero%7C16222978%2FH9XC4M77\">(Hamilton, 1844)</a></cite>:\n",
    "\n",
    "$$\n",
    "-ji = ij = k, \\qquad -kj = jk = i, \\qquad -ik = ki = j, \\\\\n",
    "i^2 = j^2 = k^2 = -1\n",
    "$$\n",
    "\n",
    "When discovered by Hamilton, quaternions were just a theoretical concept, but in recent years they have been broadly used to represent both orientation and rotation in three-dimensional space due to their advantages over classical Euler angle representations <cite id=\"gsu9p\"><a href=\"#zotero%7C16222978%2FZV86QVV9\">(Alaimo et al., 2013)</a></cite>, <cite id=\"q6m6l\"><a href=\"#zotero%7C16222978%2F7MLS2H2W\">(Perumal, 2011)</a></cite>. Unlike traditional vector rotations that suffer from issues like gimbal lock, quaternions offer a robust and efficient way to represent spatial orientations and rotations. Their ability to interpolate between orientations <cite id=\"uj55q\"><a href=\"#zotero%7C16222978%2FM23ULJLX\">(Shoemake, 1985)</a></cite> and the ease with which they handle compound rotations make them indispensable in modern robotics.\n",
    "\n",
    "A single quaternion is expressed as: \n",
    "\n",
    "$$\n",
    "q = w + xi + yj + zk\n",
    "$$\n",
    "\n",
    "where $w$, $x$, $y$ and $z$ are real numbers and $i$, $j$ and $k$ are the quaternion units. Similar to complex numbers, a quaternion can be divided into <i>real</i> and <i>complex</i> parts. Here, $x$, $y$, $z$ are the complex parts, whereas $w$ is called real part. Different Notations are common and used throughout the Thesis. The most common is the vector notation, where the complex part of the quaternion is condensed into the so-called <i>complex vector</i> $\\vec{v} = (x, y, z)$. The following list will give a short overview:\n",
    "\n",
    "<h3>Different Quaternion Notations:</h3>\n",
    "<ul>\n",
    "    <li>Quaternion: $ q = w + xi + yj + zk $</li>\n",
    "    <li>Quaternion: $ q = (w, x, y, z) $</li>\n",
    "    <li>Quaternion: $ q = (w, \\vec{v}) $</li>\n",
    "</ul>\n",
    "\n",
    "A quaternion must be unit length to represent both orientation and rotation, which is a benefit over the orientation representation with rotation matrices, meaning $\\|q\\| = 1$. The euclidean norm of a unit quaternion is defined as: \n",
    "\n",
    "$$\n",
    "\\|q\\| = \\sqrt{w^2 + x^2 + y^2 + z^2}.\n",
    "$$\n",
    "\n",
    "Quaternions with unit length are called <strong>Unit Quaternions</strong> and can be thought of as points on the unit four-dimensional hypersphere surface, which spans the curved space of $\\mathcal{S}^3$. This characteristic allows unit quaternions to represent orientations and rotations as they lose their ability to scale. This is analog to the fact that the determinant of a rotation matrix is one.\n",
    "\n",
    "<h3>Orientation representation with Unit Quaternions </h3>\n",
    "\n",
    "To use Quaternions for Orientation representation, most commonly the axis angle representation of rotation / orientation is used. Here a unit quaternion $q \\in \\mathcal{S}^3$ is associated with $\\theta \\tilde{r} \\in \\mathbb{R}^3$ can be derived via the exponential map as,\n",
    "\n",
    "$$\n",
    "q := e^{\\frac{\\theta}{2}\\tilde{r}} = \\left(\\cos\\frac{\\theta}{2},  \\quad \\sin\\frac{\\theta}{2} \\tilde{r} \\right).\n",
    "$$\n",
    "\n",
    "For the exponential map, the angle $\\theta$ describes the rotation angle around the unit-length rotation axis $\\tilde{r}$. The exponential map is a <i>Lie Theoretic</i> concept and can be further studied in the excellent work "
   ]
  },
  {
   "cell_type": "markdown",
   "id": "04a167ab-1e54-4edd-85dd-df2839ce6bba",
   "metadata": {},
   "source": [
    "<h1> Literature </h1>\n",
    "\n",
    "<!-- BIBLIOGRAPHY START -->\n",
    "<div class=\"csl-bib-body\">\n",
    "</div>\n",
    "<!-- BIBLIOGRAPHY END -->"
   ]
  },
  {
   "cell_type": "code",
   "execution_count": null,
   "id": "1549a885-e2ef-430e-9466-5e7ba6e8b9b7",
   "metadata": {},
   "outputs": [],
   "source": []
  }
 ],
 "metadata": {
  "citation-manager": {
   "items": {}
  },
  "kernelspec": {
   "display_name": "Python 3 (ipykernel)",
   "language": "python",
   "name": "python3"
  },
  "language_info": {
   "codemirror_mode": {
    "name": "ipython",
    "version": 3
   },
   "file_extension": ".py",
   "mimetype": "text/x-python",
   "name": "python",
   "nbconvert_exporter": "python",
   "pygments_lexer": "ipython3",
   "version": "3.11.4"
  }
 },
 "nbformat": 4,
 "nbformat_minor": 5
}
