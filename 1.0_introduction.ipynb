{
 "cells": [
  {
   "cell_type": "markdown",
   "id": "8078314d-0b25-4ebe-8325-225df667af6f",
   "metadata": {
    "citation-manager": {
     "citations": {
      "3ousc": [
       {
        "id": "16222978/ZS5S2CRS",
        "source": "zotero"
       }
      ],
      "a0qap": [
       {
        "id": "16222978/5N774XLS",
        "source": "zotero"
       }
      ],
      "s387d": [
       {
        "id": "16222978/YSAMPYDF",
        "source": "zotero"
       }
      ],
      "xta67": [
       {
        "id": "16222978/F2NAG5UQ",
        "source": "zotero"
       }
      ]
     }
    },
    "tags": []
   },
   "source": [
    "# Introduction\n",
    "\n",
    "The manufacturing industry is being revolutionized by collaborative robots (cobots). Unlike traditional industrial robots, the operation of cobots near human workers does not require additional safety installations, such as fences or light barriers. Classical robots are typically used to produce large batches as they require time-consuming setup by expert users. Manufacturing steps are changing frequently in adaptive production lines for small and medium-sized batches. This is especially true for Industry 4.0 <cite id=\"xta67\"><a href=\"#zotero%7C16222978%2FF2NAG5UQ\">(Fisel et al., 2018)</a></cite>. Here, cobots can provide significant benefits as they are easily relocated due to their low weight and the lack of safety systems, and can be used flexibly for different tasks as they often possess a hand-guiding mode for easy and fast reteaching of tasks, making them especially attractive for the adaptive and always-changing environments in modern manufacturing. Cobots are easy to program and allow non-expert users to solve repetitive tasks flexibly and intuitively. These benefits, and the fact that they come at lower prices than their industrial counterparts, make them attractive for small and medium-sized businesses, which mostly do not use robotic solutions up to date. Thus, cobots are predicted to increase their market shares in the coming years with a compound growth rate of $34.3\\%$ from today until 2029 <cite id=\"a0qap\"><a href=\"#zotero%7C16222978%2F5N774XLS\">(<i>Collaborative Robot Market Size, Share, Industry Report, Revenue Trends and Growth Drivers 2030</i>, n.d.)</a></cite>, <cite id=\"3ousc\"><a href=\"#zotero%7C16222978%2FZS5S2CRS\">(Bieller et al., 2023)</a></cite>.\n",
    "\n",
    "In various applications of robotic systems, the efficient and reliable following of a commanded trajectory (Trajectory Tracking) is crucial for performance and safety. This trajectory tracking is used in a variety of applications and is often extended by more complex motion planning that also takes into account the redundancies of the robot, which are often found in cobots. This redundant Degree of Freedom (DoF) often resembles a seventh joint that enables more flexibility and dexterity in solving complex tasks. Redundant cobots with serial kinematics with seven degrees of freedom are often designed as so-called \"anthropomorphic arms,\" which means that the robot can produce self-motion of the elbow with the redundant degree of freedom. This configuration usually grants benefits in collision avoidance, machine tending, or robot welding, for example. Besides extra robot joints, the task can be \"intrinsically redundant,\" meaning that only five or fewer DoFs are needed for task execution. This is, for example, the case for robot welding or sanding, as these applications have an intrinsic symmetry that allows omitting one rotational degree of freedom in the task execution.\n",
    "\n",
    "Classical approaches in solving the trajectory tracking problem are based on analytic inverse kinematics, which are mostly not applicable for redundant robots as a standard solution does not exist because of the possible self-motion of the cobot. Therefore, numerical methods to solve the inverse kinematics are usually employed, which often suffer from limited dexterity and singularities. Singularities connected to robotics can be subdivided into two categories, representative singularities, and kinematic singularities. Representative Singularities usually come from the mathematical representation of the spatial transformation used to represent the target poses and the interpolation of these spatial transformations. Kinematic singularities occur in unique configurations of the robot and refer to a condition where the end-effector loses the ability to instantaneously move in one or more cartesian directions <cite id=\"s387d\"><a href=\"#zotero%7C16222978%2FYSAMPYDF\">(Shi et al., 2021)</a></cite>. Singularities in robotic systems can lead to excessively high joint velocities, unpredictable self-motion behavior, and loss of control, which is undesirable for both safety and task execution. Avoiding Singularities of any kind is thus crucial for satisfactory results and is possible with optimization to leverage internal robot motion enabled by the extra degree of freedom provided by redundant cobots.\n",
    "\n",
    "The proposed method aims to overcome these limitations by predictive singularity avoidance and by exploitation of the extra redundancies and the mathematical properties of Dual Quaternions. This is achieved through a novel algorithm that predicts the robot's motion in future steps, detects potential singular configurations, and proactively optimizes the cobot's joint configuration to avoid potential problems while executing the task in real time. Additionally, the developed configuration optimization algorithm ensures that the robot's path is singularity-free and optimized for other metrics like distance from joint limits, collision avoidance, energy efficiency, and joint speeds."
   ]
  },
  {
   "cell_type": "markdown",
   "id": "5fde1cda-d27d-4c31-858b-cba0c0d8d978",
   "metadata": {},
   "source": [
    "<h1> Literature </h1>\n",
    "<!-- BIBLIOGRAPHY START -->\n",
    "<div class=\"csl-bib-body\">\n",
    "  <div class=\"csl-entry\"><i id=\"zotero|16222978/ZS5S2CRS\"></i>Bieller, Dr. S., Müller, Dr. C., &#38; Kraus, Dr. W. (2023). <i>World of Robotics</i>.</div>\n",
    "  <div class=\"csl-entry\"><i id=\"zotero|16222978/5N774XLS\"></i><i>Collaborative Robot Market Size, Share, Industry Report, Revenue Trends and Growth Drivers 2030</i>. (n.d.). MarketsandMarkets. Retrieved November 18, 2023, from <a href=\"https://www.marketsandmarkets.com/Market-Reports/collaborative-robot-market-194541294.html\">https://www.marketsandmarkets.com/Market-Reports/collaborative-robot-market-194541294.html</a></div>\n",
    "  <div class=\"csl-entry\"><i id=\"zotero|16222978/F2NAG5UQ\"></i>Fisel, J., Lanza, G., Nyhuis, P., Stricker, N., Jacob, A., Schmidt, M., &#38; Nielsen, L. (2018). <i>Wandlungsfähige, menschzentrierte Strukturen in Fabriken und Netzwerken der Industrie 4.0</i>.</div>\n",
    "  <div class=\"csl-entry\"><i id=\"zotero|16222978/YSAMPYDF\"></i>Shi, X., Guo, Y., Chen, X., Chen, Z., &#38; Yang, Z. (2021). Kinematics and Singularity Analysis of a 7-DOF Redundant Manipulator. <i>Sensors</i>, <i>21</i>(21), 7257. <a href=\"https://doi.org/10.3390/s21217257\">https://doi.org/10.3390/s21217257</a></div>\n",
    "</div>\n",
    "<!-- BIBLIOGRAPHY END -->"
   ]
  },
  {
   "cell_type": "code",
   "execution_count": null,
   "id": "6958bea9-d39e-4888-95be-11e18077156c",
   "metadata": {
    "citation-manager": {
     "citations": {
      "23ry5": [
       {
        "id": "16222978/5N774XLS",
        "source": "zotero"
       }
      ]
     }
    },
    "tags": []
   },
   "outputs": [],
   "source": [
    "KIU4zTlnm2Z2gBrnwQI3Vh67"
   ]
  },
  {
   "cell_type": "code",
   "execution_count": null,
   "id": "88a8015d-bfd6-4223-ab59-23722a5e7b84",
   "metadata": {},
   "outputs": [],
   "source": [
    "test i want to test grammalry"
   ]
  }
 ],
 "metadata": {
  "citation-manager": {
   "items": {
    "zotero": {
     "16222978/5N774XLS": {
      "URL": "https://www.marketsandmarkets.com/Market-Reports/collaborative-robot-market-194541294.html",
      "abstract": "Global Collaborative Robot Market in terms of revenue was estimated to be worth $1.2 billion in 2023 and is poised to reach $6.8 billion by 2029, growing at a CAGR of 34.3% during the forecast period.",
      "accessed": {
       "date-parts": [
        [
         2023,
         11,
         18
        ]
       ]
      },
      "container-title": "MarketsandMarkets",
      "id": "16222978/5N774XLS",
      "system_id": "zotero|16222978/5N774XLS",
      "title": "Collaborative Robot Market Size, Share, Industry Report, Revenue Trends and Growth Drivers 2030",
      "type": "webpage"
     },
     "16222978/F2NAG5UQ": {
      "abstract": "Zunehmende Individualisierung und marktbedingt verstärkte Produktinnovationen führen zu Variantenvielfalt und verkürzten Produktlebens­zyklen. Für produzierende Unternehmen bedeutet dies, dass die kurz­zyklische Produktion neuer Varianten und innovativer Produkte zum Kerngeschäft wird. Um dies erfolgreich zu realisieren, wird die Fähigkeit, rasch auf Veränderungen zu reagieren, damit zu einem wesentlichen Erfolgsfaktor. Erreichen lässt sie sich durch die Integration von Wandlungsfähigkeit im Unternehmen.\n\nBereits heute leisten Technologien der Industrie 4.0 in Fabriken und Netzwerken einen zielgerichteten Beitrag zur Erhöhung der Wandlungsfähigkeit. In ihren konkreten Auswirkungen auf die Wandlungs­fähigkeit sind die Industrie 4.0 Ansätze jedoch nicht ausreichend untersucht. Interdependenzen zwischen Industrie 4.0 Technologien,\nOrganisation und Mitarbeitern sind hinsichtlich der Wandlungsfähigkeit von Unternehmen nicht abschließend beschrieben. Die Rolle des Menschen benötigt dabei besondere Aufmerksamkeit, um die Zukunft der Arbeit in Deutschland und anderen Industrieländern zu analysieren.\n\nDie menschzentrierte Wandlungsfähigkeit durch Industrie 4.0 Tech­nologien wird in dieser Studie untersucht, wobei die Arbeitsgruppe 2 „Forschung und Innovation“ der Plattform Industrie 4.0 einbezogen wurde. Die Einbindung von Wirtschaft, Wissenschaft und Politik in Form von einem Kamingespräch, verschiedenen Experteninterviews und einem abschließenden Workshop hat nicht nur die Verdeutlichung der bisherigen Defizite, sondern auch eine Vielzahl von Analyse und Lösungsmöglichkeiten aufgezeigt. Diese möchten wir Ihnen hier im Folgenden präsentieren.",
      "author": [
       {
        "family": "Fisel",
        "given": "Johannes"
       },
       {
        "family": "Lanza",
        "given": "Gisela"
       },
       {
        "family": "Nyhuis",
        "given": "Peter"
       },
       {
        "family": "Stricker",
        "given": "Nicole"
       },
       {
        "family": "Jacob",
        "given": "Alexander"
       },
       {
        "family": "Schmidt",
        "given": "Matthias"
       },
       {
        "family": "Nielsen",
        "given": "Lars"
       }
      ],
      "id": "16222978/F2NAG5UQ",
      "issued": {
       "date-parts": [
        [
         2018,
         3,
         1
        ]
       ]
      },
      "system_id": "zotero|16222978/F2NAG5UQ",
      "title": "Wandlungsfähige, menschzentrierte Strukturen in Fabriken und Netzwerken der Industrie 4.0",
      "type": "book"
     },
     "16222978/YSAMPYDF": {
      "DOI": "10.3390/s21217257",
      "URL": "https://www.mdpi.com/1424-8220/21/21/7257",
      "abstract": "A new method of kinematic analysis and singularity analysis is proposed for a 7-DOF redundant manipulator with three consecutive parallel axes. First, the redundancy angle is described according to the self-motion characteristics of the manipulator, the position and orientation of the end-effector are separated, and the inverse kinematics of this manipulator is analyzed by geometric methods with the redundancy angle as a constraint. Then, the Jacobian matrix is established to derive the conditions for the kinematic singularities of the robotic arm by using the primitive matrix method and the block matrix method. Then, the kinematic singularities conditions in the joint space are mapped to the Cartesian space, and the singular configuration is described using the end poses and redundancy angles of the robotic arm, and a singularity avoidance method based on the redundancy angles and end pose is proposed. Finally, the correctness and feasibility of the inverse kinematics algorithm and the singularity avoidance method are verified by simulation examples.",
      "accessed": {
       "date-parts": [
        [
         2023,
         12,
         12
        ]
       ]
      },
      "author": [
       {
        "family": "Shi",
        "given": "Xiaohua"
       },
       {
        "family": "Guo",
        "given": "Yu"
       },
       {
        "family": "Chen",
        "given": "Xuechan"
       },
       {
        "family": "Chen",
        "given": "Ziming"
       },
       {
        "family": "Yang",
        "given": "Zhiwei"
       }
      ],
      "container-title": "Sensors",
      "id": "16222978/YSAMPYDF",
      "issue": "21",
      "issued": {
       "date-parts": [
        [
         2021,
         10,
         31
        ]
       ]
      },
      "journalAbbreviation": "Sensors",
      "language": "en",
      "page": "7257",
      "system_id": "zotero|16222978/YSAMPYDF",
      "title": "Kinematics and Singularity Analysis of a 7-DOF Redundant Manipulator",
      "type": "article-journal",
      "volume": "21"
     },
     "16222978/ZS5S2CRS": {
      "author": [
       {
        "family": "Bieller",
        "given": "Dr. Susanne"
       },
       {
        "family": "Müller",
        "given": "Dr. Christopher"
       },
       {
        "family": "Kraus",
        "given": "Dr. Werner"
       }
      ],
      "id": "16222978/ZS5S2CRS",
      "issued": {
       "date-parts": [
        [
         2023
        ]
       ]
      },
      "language": "en",
      "system_id": "zotero|16222978/ZS5S2CRS",
      "title": "World of Robotics",
      "type": "article-journal"
     }
    }
   }
  },
  "kernelspec": {
   "display_name": "Python 3 (ipykernel)",
   "language": "python",
   "name": "python3"
  },
  "language_info": {
   "codemirror_mode": {
    "name": "ipython",
    "version": 3
   },
   "file_extension": ".py",
   "mimetype": "text/x-python",
   "name": "python",
   "nbconvert_exporter": "python",
   "pygments_lexer": "ipython3",
   "version": "3.11.5"
  }
 },
 "nbformat": 4,
 "nbformat_minor": 5
}
