{
 "cells": [
  {
   "cell_type": "markdown",
   "id": "966e7e5c-695f-49e9-859a-77f6a4581d18",
   "metadata": {},
   "source": [
    "# Master Thesis Jens Temminghoff\n",
    "\n",
    "introduction to write what the Masterthesis is about, give some context and so on"
   ]
  }
 ],
 "metadata": {
  "kernelspec": {
   "display_name": "Python 3 (ipykernel)",
   "language": "python",
   "name": "python3"
  },
  "language_info": {
   "codemirror_mode": {
    "name": "ipython",
    "version": 3
   },
   "file_extension": ".py",
   "mimetype": "text/x-python",
   "name": "python",
   "nbconvert_exporter": "python",
   "pygments_lexer": "ipython3",
   "version": "3.11.5"
  }
 },
 "nbformat": 4,
 "nbformat_minor": 5
}
