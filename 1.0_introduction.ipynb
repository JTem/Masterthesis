{
 "cells": [
  {
   "cell_type": "markdown",
   "id": "9b9cc61c-5b8b-42d3-bf99-7c310699dda4",
   "metadata": {
    "tags": []
   },
   "source": [
    "<!DOCTYPE html>\n",
    "<html>\n",
    "<head>\n",
    "    <style>\n",
    "        body {\n",
    "            font-family: Arial, sans-serif;\n",
    "            text-align: center;\n",
    "            margin-top: 100px;\n",
    "        }\n",
    "        h1 {\n",
    "            color: navy;\n",
    "            font-size: 30px;\n",
    "        }\n",
    "        h2 {\n",
    "            color: darkred;\n",
    "            font-size: 25px;\n",
    "        }\n",
    "        .author {\n",
    "            font-size: 20px;\n",
    "            font-weight: bold;\n",
    "        }\n",
    "        .details {\n",
    "            font-size: 18px;\n",
    "            margin-top: 10px;\n",
    "        }\n",
    "        .abstract {\n",
    "            text-align: justify;\n",
    "            margin: 30px 100px;\n",
    "            font-size: 16px;\n",
    "        }\n",
    "        .keywords {\n",
    "            font-style: italic;\n",
    "            margin-top: 20px;\n",
    "        }\n",
    "    </style>\n",
    "</head>\n",
    "<body>\n",
    "\n",
    "<h1>Your Thesis Title</h1>\n",
    "<h2>Master's Thesis</h2>\n",
    "\n",
    "<div class=\"author\">Author: Your Name</div>\n",
    "<div class=\"details\">Supervisor: Supervisor's Name</div>\n",
    "<div class=\"details\">Department: Department Name</div>\n",
    "<div class=\"details\">University: University Name</div>\n",
    "<div class=\"details\">Date: Submission Date</div>\n",
    "\n",
    "<div class=\"abstract\">\n",
    "    <strong>Abstract:</strong><br>\n",
    "    Your thesis abstract goes here. It should be a brief summary of your research.\n",
    "</div>\n",
    "\n",
    "<div class=\"keywords\">\n",
    "    <strong>Keywords:</strong> keyword1, keyword2, keyword3\n",
    "</div>\n",
    "\n",
    "</body>\n",
    "</html>\n"
   ]
  },
  {
   "cell_type": "code",
   "execution_count": null,
   "id": "8614248a-9def-407a-a2ad-60b421ffe25e",
   "metadata": {},
   "outputs": [],
   "source": []
  }
 ],
 "metadata": {
  "kernelspec": {
   "display_name": "Python 3 (ipykernel)",
   "language": "python",
   "name": "python3"
  },
  "language_info": {
   "codemirror_mode": {
    "name": "ipython",
    "version": 3
   },
   "file_extension": ".py",
   "mimetype": "text/x-python",
   "name": "python",
   "nbconvert_exporter": "python",
   "pygments_lexer": "ipython3",
   "version": "3.11.4"
  }
 },
 "nbformat": 4,
 "nbformat_minor": 5
}
