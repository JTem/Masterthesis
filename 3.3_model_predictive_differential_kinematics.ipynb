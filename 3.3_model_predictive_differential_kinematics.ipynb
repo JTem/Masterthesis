{
 "cells": [
  {
   "cell_type": "markdown",
   "id": "9e78eb7d-0585-4d4a-853c-7c220fc0508d",
   "metadata": {
    "tags": []
   },
   "source": [
    "# Model predictive Control for Differential Kinematics\n",
    "extend the differential kinematics with Model Predictive Control"
   ]
  },
  {
   "cell_type": "code",
   "execution_count": null,
   "id": "9b1d2a16-0d1c-4860-a8e9-a75859cebfc1",
   "metadata": {},
   "outputs": [],
   "source": []
  }
 ],
 "metadata": {
  "kernelspec": {
   "display_name": "Python 3 (ipykernel)",
   "language": "python",
   "name": "python3"
  },
  "language_info": {
   "codemirror_mode": {
    "name": "ipython",
    "version": 3
   },
   "file_extension": ".py",
   "mimetype": "text/x-python",
   "name": "python",
   "nbconvert_exporter": "python",
   "pygments_lexer": "ipython3",
   "version": "3.11.5"
  }
 },
 "nbformat": 4,
 "nbformat_minor": 5
}
