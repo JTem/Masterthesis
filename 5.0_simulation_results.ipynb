{
 "cells": [
  {
   "cell_type": "markdown",
   "id": "fee11aac-e2d3-4b8c-9279-a52fc766392c",
   "metadata": {
    "citation-manager": {
     "citations": {
      "dg5ia": [
       {
        "id": "16222978/W8EF482S",
        "source": "zotero"
       }
      ]
     }
    },
    "tags": []
   },
   "source": [
    "<cite id=\"dg5ia\"><a href=\"#zotero%7C16222978%2FW8EF482S\">(A Chennakesava Reddy, 2014)</a></cite>"
   ]
  }
 ],
 "metadata": {
  "citation-manager": {
   "items": {
    "zotero": {
     "16222978/W8EF482S": {
      "DOI": "10.13140/2.1.2012.9607",
      "URL": "http://rgdoi.net/10.13140/2.1.2012.9607",
      "accessed": {
       "date-parts": [
        [
         2023,
         12,
         12
        ]
       ]
      },
      "author": [
       {
        "family": "A Chennakesava Reddy",
        "given": ""
       }
      ],
      "id": "16222978/W8EF482S",
      "issued": {
       "date-parts": [
        [
         2014
        ]
       ]
      },
      "language": "en",
      "note": "Publisher: Unpublished",
      "system_id": "zotero|16222978/W8EF482S",
      "title": "DIFFERENCE BETWEEN DENAVIT - HARTENBERG (D-H) CLASSICAL AND MODIFIED CONVENTIONS FOR FORWARD KINEMATICS OF ROBOTS WITH CASE STUDY",
      "type": "article-journal"
     }
    }
   }
  },
  "kernelspec": {
   "display_name": "Python 3 (ipykernel)",
   "language": "python",
   "name": "python3"
  },
  "language_info": {
   "codemirror_mode": {
    "name": "ipython",
    "version": 3
   },
   "file_extension": ".py",
   "mimetype": "text/x-python",
   "name": "python",
   "nbconvert_exporter": "python",
   "pygments_lexer": "ipython3",
   "version": "3.11.4"
  }
 },
 "nbformat": 4,
 "nbformat_minor": 5
}
