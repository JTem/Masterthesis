{
 "cells": [
  {
   "cell_type": "markdown",
   "id": "fee11aac-e2d3-4b8c-9279-a52fc766392c",
   "metadata": {
    "tags": []
   },
   "source": [
    "# Simulation Results\n",
    "\n",
    "This Chapter is intended to analyse and compare the newly derived Controller to the pseudoinversed Jacobian approach, which is common in literature. "
   ]
  }
 ],
 "metadata": {
  "citation-manager": {
   "items": {}
  },
  "kernelspec": {
   "display_name": "Python 3 (ipykernel)",
   "language": "python",
   "name": "python3"
  },
  "language_info": {
   "codemirror_mode": {
    "name": "ipython",
    "version": 3
   },
   "file_extension": ".py",
   "mimetype": "text/x-python",
   "name": "python",
   "nbconvert_exporter": "python",
   "pygments_lexer": "ipython3",
   "version": "3.11.4"
  }
 },
 "nbformat": 4,
 "nbformat_minor": 5
}
