{
 "cells": [
  {
   "cell_type": "code",
   "execution_count": 3,
   "id": "b81be082-7a07-453e-9202-19d7301ec45f",
   "metadata": {
    "tags": []
   },
   "outputs": [],
   "source": [
    "%matplotlib widget\n",
    "from helper import *"
   ]
  },
  {
   "cell_type": "markdown",
   "id": "1987a1a8-189d-4e6c-9d52-fdde06a463eb",
   "metadata": {},
   "source": [
    "<h1>Introduction to Dual Quaternions</h1>\n",
    "\n",
    "- velcotiy kinematics\n",
    "- log\n",
    "- rename to Spatial Transformations with Dual Quaternions\n",
    "\n",
    "Dual quaternons are a compact representation that offers useful analytic properties. They were introduced by Clifford in 1873 (quelle). They are dual numbers in which the real and dual parts are quaternions:\n",
    "\n",
    "$$\n",
    "    \\underline{\\xi} = \\hat{q}_r + \\epsilon \\hat{q}_d\n",
    "$$\n",
    "\n",
    "with $\\underline{\\xi} \\in \\mathbb{H}$ and the dual unit $\\epsilon^2 = 0$ and $\\epsilon \\neq 0$.<br>\n",
    "Similarly to <i>Homogeneours Transformation Matrices</i>, which are part of the <i>Special Euclidean Group</i> $\\mathcal{SE}(3)$, dual quaternions can be used to represent spatial transformations. Dual quaternions used for spatial transformations are called <strong>unit dual quaternions</strong>. Here, the real part of the dual quaternion $Re(\\underline{\\xi}) =  \\underline{\\xi}_r = \\hat{q}_r$ is a unit quaternion, which represents the orientation and rotation of the unit dual quaternion transformation. The dual part $Du(\\underline{\\xi}) =  \\underline{\\xi}_d = \\hat{q}_d$ is not required to satisfy the unit magnitude requirement, and represents the translation of the transformation. "
   ]
  },
  {
   "cell_type": "code",
   "execution_count": 3,
   "id": "c646b451-ece5-4ed2-830c-797c29ab0149",
   "metadata": {
    "tags": []
   },
   "outputs": [
    {
     "name": "stdout",
     "output_type": "stream",
     "text": [
      "DualQuaternion(Real: Quaternion(1.000, 0.000, 0.000, 0.000), Dual: Quaternion(0.000, 1.000, 2.000, 0.000))\n"
     ]
    }
   ],
   "source": [
    "real = Quaternion(1, 0, 0, 0)\n",
    "dual = Quaternion(0, 1, 2, 0)\n",
    "\n",
    "dual_quaternion = DualQuaternion(real, dual)\n",
    "print(dual_quaternion)"
   ]
  },
  {
   "cell_type": "markdown",
   "id": "df313c17-9a3b-4605-b989-2e5a5592467d",
   "metadata": {
    "citation-manager": {
     "citations": {
      "4u137": [
       {
        "id": "16222978/AGXR4PGH",
        "source": "zotero"
       }
      ]
     }
    },
    "tags": []
   },
   "source": [
    "\n",
    "Multiplication of dual quaternions follows the same rules as for dual numbers, but also respects the rules of the quaternion multiplication:\n",
    "\n",
    "$$\n",
    "\\begin{align*}\n",
    "\\underline{\\xi}^{(1)} \\otimes \\underline{\\xi}^{(2)} &= (q_r^{(1)} + \\epsilon q_d^{(1)}) \\otimes (q_r^{(2)} + \\epsilon q_d^{(2)}) \\\\\n",
    "&= (q_r^{(1)} \\otimes q_r^{(2)}) + \\epsilon(q_r^{(1)} \\otimes q_d^{(2)} + q_d^{(1)} \\otimes q_r^{(2)}) + \\epsilon^2(q_d^{(1)} \\otimes q_d^{(2)})\n",
    "\\end{align*}\n",
    "$$\n",
    "\n",
    "then, with $ \\epsilon^2 = 0 $:\n",
    "\n",
    "$$\n",
    "\\begin{equation}\n",
    "\\underline{\\xi}^{(1)} \\otimes \\underline{\\xi}^{(2)} = (q_r^{(1)} \\otimes q_r^{(2)}) + \\epsilon(q_r^{(1)} \\otimes q_d^{(2)} + q_d^{(1)} \\otimes q_r^{(2)}) \\tag{1}\n",
    "\\end{equation}\n",
    "$$\n",
    "\n",
    "In the context of the thesis, dual quaternions are written with an underline $\\underline{\\bullet}$, and both quaternion and dualquaternion multiplication can are denoted as $\\otimes$. The detailed and robust implementation of the dual quaternion algebra can once again be found in the created python package <cite id=\"4u137\"><a href=\"#zotero%7C16222978%2FAGXR4PGH\">(Temminghoff, 2023)</a></cite>.<br>\n",
    "Similary to homogeneous transformations, the dual quaternion mulitplication can be used to compute successive transforms.\n",
    "\n",
    "$$\n",
    "{}_a\\underline{\\xi}^{c} = {}_a\\underline{\\xi}^{b} \\otimes {}_b\\underline{\\xi}^{c}\n",
    "$$\n",
    "\n",
    "with the inverse transformation is defined as the conjugate of the dual quaternion, which is the quaternionic conjugation of both dual and real part. It is analog to the inverse transformation from $\\mathcal{SE}(3)$:\n",
    "\n",
    "$$\n",
    "{}_b\\underline{\\xi}^{a} = {}_a\\underline{\\xi}^{b*} = \\hat{q}_r^* + \\epsilon \\hat{q}_d^*\n",
    "$$\n",
    "\n",
    "Similar to the quaternion multiplication, the dual quaternion multiplication can be written as matrix multiplication via the quaternion hamilton operators.\n",
    "For this we first need to define the dual quaternion, analog as is the case for the quaternions, as vector $\\underline{\\xi}_{[vec]} \\in \\mathbb{R}^8$.\n",
    "\n",
    "$$\n",
    "\\underline{\\xi}_{[vec]} = [q_{r,w}, q_{r,x}, q_{r,y}, q_{r,z}, q_{d,w}, q_{d,x}, q_{d,y}, q_{d,z}]^T\n",
    "$$\n",
    "\n",
    "To construct the multiplication matrices $[\\underline{\\xi}]_{L}$ and $[\\underline{\\xi}]_{R}$, with $[\\underline{\\xi}] \\in \\mathbb{R}^{8 \\times 8}$ the quaternion hamilton operators are recalled, and arranged blockwise to represent the dual quaternion basic multiplication. Once again there is a right and left matrix representation:\n",
    "\n",
    "$$\n",
    "\\begin{align*}\n",
    "\\underline{\\xi} \\otimes \\underline{\\eta} &= \n",
    "\\begin{bmatrix}\n",
    "([\\underline{\\xi}_r]_L) & 0_{4x4} \\\\\n",
    "([\\underline{\\xi}_d]_L) & ([\\underline{\\xi}_r]_L)\n",
    "\\end{bmatrix}_L \\underline{\\eta}_{[vec]} \\\\\n",
    "&= \n",
    "\\begin{bmatrix}\n",
    "([\\underline{\\eta}_r]_R) & 0_{4x4} \\\\\n",
    "([\\underline{\\eta}_d]_R) & ([\\underline{\\eta}_r]_R)\n",
    "\\end{bmatrix}_R \\underline{\\xi}_{[vec]}\n",
    "\\end{align*}\n",
    "$$\n",
    "\n",
    "Even though it might be suggested that $\\hat{q}_d$ is a pure quaternion, as it represents the position of the spatial transformation $\\vec{p} \\in \\mathbb{R}^3$, it is not neccessarily the case. The dimensionality of the dual part depends on the cartesian translation $\\bar{t} = (0, \\vec{t}) = (0, t_x, t_y, t_z)$, which is a pure quaternion and the real part, representing the orientation and rotation, which is a unit quaternion. Depending on the orientation of the frame, the dual part $\\hat{q}_d$ can take any form. The basic transformation which adheres to the rule of first translation, then rotation is written as follows:\n",
    "\n",
    "$$\n",
    "    \\underline{\\xi} = \\hat{q}_r + \\epsilon \\frac{1}{2} \\bar{t} \\otimes \\hat{q}_r\n",
    "$$\n",
    "\n",
    "Inversely, with this relation, the extraction of $\\vec{t}$ from a dual quaternion is possible. This operation is often neccessary as the dual quaternion position $\\hat{q}_d$ does not represent a physically meaningful translation in cartesian space, but is defined in the dual quaternion space $\\mathbb{H}$. \n",
    "\n",
    "$$\n",
    "    \\vec{t} = Im(2 \\hat{q}_d \\otimes \\hat{q}_r^*)\n",
    "$$\n",
    "\n",
    "The following interactive demo shows this concept closer: We define the orientation of the spatial transformation $\\hat{q}$ via axis angle and set the position vector $\\vec{t}$ via three sliders to set the cartesian position. From this the dual quaternion $\\underline{\\xi}$ is constructed and printed, so that the structure of the dual quaternion can be examined.\n"
   ]
  },
  {
   "cell_type": "code",
   "execution_count": 4,
   "id": "7bf507e4-371a-4fc8-aa63-5e17416c498a",
   "metadata": {
    "tags": []
   },
   "outputs": [
    {
     "data": {
      "application/vnd.jupyter.widget-view+json": {
       "model_id": "b61686b6d679472eab697d76cc2b09ae",
       "version_major": 2,
       "version_minor": 0
      },
      "text/plain": [
       "AppLayout(children=(VBox(children=(Text(value='', description='Dual Quaternion', layout=Layout(width='98%')), …"
      ]
     },
     "execution_count": 4,
     "metadata": {},
     "output_type": "execute_result"
    }
   ],
   "source": [
    "fig, ax = create_3d_plot(Quaternion(1,0,0,0))\n",
    "dual_quaternion_display = create_textbox(\"Dual Quaternion\")\n",
    "\n",
    "angle_slider = create_slider(\"theta\", 0, -2*np.pi, 2*np.pi)\n",
    "azimuth_slider = create_slider(\"azimuth\", 0, -2*np.pi, 2*np.pi)\n",
    "elevation_slider = create_slider(\"elevation\", 0, -np.pi, np.pi)\n",
    "\n",
    "x_slider = create_slider(\"x\", 0, -1, 1)\n",
    "y_slider = create_slider(\"y\", 0, -1, 1)\n",
    "z_slider = create_slider(\"z\", 0, -1, 1)\n",
    "\n",
    "rotation_axis = create_quiver(ax, [0,0,0], [1,0,0], 1, 'k', \"rotation axis\")\n",
    "x_axis, y_axis, z_axis = draw_frame(ax, [0,0,0], np.eye(3))\n",
    "\n",
    "# Update function for the sliders\n",
    "def update_plot(change):\n",
    "    global rotation_axis, x_axis, y_axis, z_axis\n",
    "\n",
    "    rotation_axis.remove()\n",
    "    x_axis.remove()\n",
    "    y_axis.remove()\n",
    "    z_axis.remove()\n",
    "    \n",
    "    direction = spherical_coordinates(azimuth_slider.value, elevation_slider.value)\n",
    "    \n",
    "    # construct unit quaternion from axis angle\n",
    "    q_r = Quaternion.fromAxisAngle(angle_slider.value, direction)\n",
    "    \n",
    "    # set position vector\n",
    "    pos = [x_slider.value, y_slider.value, z_slider.value]\n",
    "    \n",
    "    dq = DualQuaternion.fromQuatPos(q_r, pos)\n",
    "    \n",
    "    # update displays\n",
    "    dual_quaternion_display.value = str(dq)\n",
    "    \n",
    "    # update the drawn vectors and the arc\n",
    "    rotation_axis = create_quiver(ax, dq.getPosition().flatten(), direction,1, 'grey', \"rotation axis\")\n",
    "    x_axis, y_axis, z_axis = draw_frame(ax, dq.getPosition().flatten(), q_r.asRotationMatrix())\n",
    "    \n",
    "    fig.canvas.draw()\n",
    "    fig.canvas.flush_events()\n",
    "\n",
    "    \n",
    "angle_slider.observe(update_plot, names = 'value')\n",
    "azimuth_slider.observe(update_plot, names='value')\n",
    "elevation_slider.observe(update_plot, names='value')\n",
    "x_slider.observe(update_plot, names='value')\n",
    "y_slider.observe(update_plot, names='value')\n",
    "z_slider.observe(update_plot, names='value')\n",
    "\n",
    "widgets.AppLayout(\n",
    "    center=fig.canvas,\n",
    "    footer=widgets.VBox([dual_quaternion_display, angle_slider, azimuth_slider, elevation_slider, x_slider, y_slider, z_slider]),\n",
    "    pane_heights=[0, 2, 1]\n",
    ")"
   ]
  },
  {
   "cell_type": "markdown",
   "id": "1d91e623-871f-4dd2-b466-469cc7a7d025",
   "metadata": {
    "citation-manager": {
     "citations": {
      "7c5rg": [
       {
        "id": "16222978/ZZC2ARLA",
        "source": "zotero"
       }
      ],
      "io4em": [
       {
        "id": "16222978/UIFPWU6T",
        "source": "zotero"
       }
      ]
     }
    },
    "tags": []
   },
   "source": [
    "<h3>Pure Dual Quaternions and the Line Transformation</h3>\n",
    "\n",
    "Any arbitrary real vector $\\vec{x} \\in \\mathbb{R}^6$ can be expressed as pure dual quaternion $\\bar{\\underline{\\zeta}} = (0 + x_1i + x_2k + x_3j) + \\epsilon(0 + x_4i + x_5k + x_6j)$, which can be transformed by any dual-quaternion $\\underline{\\xi}$.\n",
    "\n",
    "$$ \n",
    "{}_b\\bar{\\underline{\\zeta}} = {}_a\\underline{\\xi}^b \\otimes {}_a\\bar{\\underline{\\zeta}} \\otimes {}_a\\underline{\\xi}^{b*} \n",
    "$$\n",
    "\n",
    "This transformation formula is particularly powerful in robotics, where it can be used to manipulate and interpret the position and orientation of robotic elements in a three-dimensional space efficiently. It can be leveraged in areas where angular and linear velocities and accelerations have to be computed or transformed into different frames, such as in the <i>Recursive Newton Euler Algorithm</i>. In the classic algorithm both rotational and translational components have to be computed seperately. With the dual quaternion representation of the dual velocity and acceleration, where the dual velocity and acceleration ecapsules both rotational and translational terms <cite id=\"7c5rg\"><a href=\"#zotero%7C16222978%2FZZC2ARLA\">(Miranda De Farias et al., 2019)</a></cite>.\n",
    "\n",
    "<h2> Spatial Transformations using Screw Motion </h2>\n",
    "\n",
    "A well known approach to express coupled rotational and translational transformations is by employing screw theory, which is well explained by <cite id=\"io4em\"><a href=\"#zotero%7C16222978%2FUIFPWU6T\">(Lynch &#38; Park, 2017)</a></cite>. The main concept of a screw displacement can be seen in the code example that shows a screw motion around an adjustable screw. Similar to the exponential mapping of axis angle parameters $\\theta \\tilde{r}$ to compute the unit quaternions representing orientation, it is possible to express screw-based coupled transformations with the exponential mapping of screw axis. This characteristic of dual quaternions to inherit the properties related to quaternions has been referred to as the <i>principle of transference</i> [41, 20, 9]. Another property that unit dual quaternions inherit from unit quaternions include the double cover of $\\mathcal{SE}(3)$. We have exploited these properties in our implementation to deal with challanges imposed by classical methods.\n",
    "\n",
    "\n",
    "A representation of spatial transformations using screw motion is composed of four parameters: $ \\theta, d, \\tilde{r} $ and $ \\vec{m} $. An axis-angle rotation is represented by a rotation $ \\theta \\in \\mathbb{R} $ around an unit-length axis $ \\tilde{r} \\in \\mathbb{R}^3 $, similar to the quaternion exponential mapping, while $ d \\in \\mathbb{R} $ denotes a displacement along the same axis. Here, $ \\vec{m} \\in \\mathbb{R}^3 $ is called the moment vector, computed from the position of the screw axis relative to the reference frame $\\vec{p}$ and the rotation axis $ \\tilde{r} $ as $ \\vec{m} = \\vec{p} \\times \\tilde{r}.$ The screw axis $\\vec{s} \\in \\mathbb{R}^6$ is then defined as a combination of the rotation axis and the moment: \n",
    "\n",
    "$$\n",
    " \\vec{s} = (\\tilde{r}, \\vec{m})\n",
    "$$\n",
    "\n",
    "In the Thesis and to leverage the elegant possibility of the line transformation with unit dual quaternions, the screw axis is often represented by the respective pure dual quaternion $\\underline{\\bar{s}} = (0, \\tilde{r}) + \\epsilon (0, \\vec{m}).$\n",
    "\n",
    "A unit dual quaternion $ \\underline{\\xi} $ can then be computed from screw parameters with exponential mapping:\n",
    "\n",
    "$$\n",
    "\\underline{\\xi} = e^{\\frac{\\underline{\\theta}}{2}\\bar{\\underline{s}}} = \\cos(\\frac{\\underline{\\theta}}{2}) + \\bar{\\underline{s}} \\sin(\\frac{\\underline{\\theta}}{2})\n",
    "$$\n",
    "\n",
    "with dual angle $\\underline{\\theta} = \\theta + \\epsilon d$ and pure dual quaternion (dual vector) $\\bar{\\underline{s}} = (0,\\tilde{r}) + \\epsilon (0,\\vec{m})$. \n",
    "\n",
    "\n",
    "\n"
   ]
  },
  {
   "cell_type": "code",
   "execution_count": 18,
   "id": "8b3c830b-cfbc-4681-99fd-7bcc2808f7ba",
   "metadata": {
    "tags": []
   },
   "outputs": [
    {
     "data": {
      "application/vnd.jupyter.widget-view+json": {
       "model_id": "011f0aaa1c7646ddb2be7868b74306bc",
       "version_major": 2,
       "version_minor": 0
      },
      "text/plain": [
       "AppLayout(children=(VBox(children=(Text(value='', description='screw', layout=Layout(width='98%')), FloatSlide…"
      ]
     },
     "execution_count": 18,
     "metadata": {},
     "output_type": "execute_result"
    }
   ],
   "source": [
    "fig, ax = create_3d_plot()\n",
    "\n",
    "quaternion_display = create_textbox(\"screw\")\n",
    "\n",
    "angle_slider = create_slider(\"theta\", 0, -2*np.pi, 2*np.pi)\n",
    "azimuth_slider = create_slider(\"azimuth\", 0.5, -2*np.pi, 2*np.pi)\n",
    "elevation_slider = create_slider(\"elevation\",1.2, -np.pi, np.pi)\n",
    "\n",
    "x_slider = create_slider(\"x\", .2, -1, 1)\n",
    "y_slider = create_slider(\"y\", .3, -1, 1)\n",
    "z_slider = create_slider(\"z\", 0, -1, 1)\n",
    "\n",
    "rotation_axis = create_quiver(ax, [0,0,0], [1,0,0], 1, 'grey', \"rotation_axis\")\n",
    "x_axis2, y_axis2, z_axis2 = draw_frame(ax, [0.1,.2,.1], np.eye(3))\n",
    "dq_frame = DualQuaternion.fromQuatPos(Quaternion(1,0,0,0), [0.1,.2,.1])\n",
    "\n",
    "rot_axis = ax.plot([-2, 2], [0,0], [0,0], \"--\", linewidth = 1, c = \"k\")\n",
    "moment = ax.plot([0,0], [0,0], [0,0], \"--\", linewidth = 1, c = \"k\")\n",
    "\n",
    "# Update function for the sliders\n",
    "def update_plot(change):\n",
    "\n",
    "    global rotation_axis, x_axis2, y_axis2, z_axis2, rot_axis, moment\n",
    "    rotation_axis.remove()\n",
    "    x_axis2.remove()\n",
    "    y_axis2.remove()\n",
    "    z_axis2.remove()\n",
    "    rot_axis[0].remove()\n",
    "    moment[0].remove()\n",
    "    \n",
    "    direction = spherical_coordinates(azimuth_slider.value, elevation_slider.value)\n",
    "    \n",
    "    # set position vector\n",
    "    pos = [x_slider.value, y_slider.value, z_slider.value]\n",
    "    \n",
    "    screw_axis = DualQuaternion.screwAxis(*direction, *pos)\n",
    "    \n",
    "    theta = angle_slider.value\n",
    "    d = 0.2*angle_slider.value\n",
    "   \n",
    "    exponent = DualQuaternion(screw_axis.real*theta, screw_axis.dual*theta + screw_axis.real*d)\n",
    "    dq = DualQuaternion.exp(0.5*exponent)*dq_frame\n",
    "    \n",
    "    # update displays\n",
    "    quaternion_display.value = str(screw_axis)\n",
    "    \n",
    "    # update the drawn vectors and the arc\n",
    "    rotation_axis = create_quiver(ax, pos, direction,1, 'grey', \"rotation_axis\")\n",
    "    \n",
    "    rot_axis = ax.plot([pos[0]-direction[0]*2, pos[0]+direction[0]*2], [pos[1]-direction[1]*2, pos[1]+direction[1]*2], [pos[2]-direction[2]*2, pos[2]+direction[2]*2], \"--\", linewidth = 1, c = \"black\")\n",
    "    moment = ax.plot([0, pos[0]], [0, pos[1]], [0, pos[2]], \"--\", linewidth = 1, c = \"k\")\n",
    " \n",
    "    x_axis2, y_axis2, z_axis2 = draw_frame(ax, dq.getPosition().flatten(), dq.real.asRotationMatrix()*0.5)\n",
    "    \n",
    "    fig.canvas.draw()\n",
    "    fig.canvas.flush_events()\n",
    "\n",
    "\n",
    "angle_slider.observe(update_plot, names = 'value')\n",
    "azimuth_slider.observe(update_plot, names='value')\n",
    "elevation_slider.observe(update_plot, names='value')\n",
    "x_slider.observe(update_plot, names='value')\n",
    "y_slider.observe(update_plot, names='value')\n",
    "z_slider.observe(update_plot, names='value')\n",
    "\n",
    "widgets.AppLayout(\n",
    "    center=fig.canvas,\n",
    "    footer=widgets.VBox([quaternion_display, angle_slider, azimuth_slider, elevation_slider, x_slider, y_slider, z_slider]),\n",
    "    pane_heights=[0, 2, 1])"
   ]
  },
  {
   "cell_type": "markdown",
   "id": "b8eb2cf3-7163-43a6-9c3d-949043940ad6",
   "metadata": {
    "citation-manager": {
     "citations": {
      "9cfjg": [
       {
        "id": "16222978/AGXR4PGH",
        "source": "zotero"
       }
      ],
      "uumhu": [
       {
        "id": "16222978/AFEHQ7QJ",
        "source": "zotero"
       }
      ]
     }
    },
    "tags": []
   },
   "source": [
    "Mutliplication of the dual angle $\\underline{\\theta}$ and the dual vector $\\bar{\\underline{s}}$ adheres to the same rules as dual quaternion multiplication and results in the expression:\n",
    "\n",
    "$$\n",
    "\\begin{align*}\n",
    "e^{\\frac{\\underline{\\theta}}{2}\\bar{\\underline{s}}} &= e^{\\frac{1}{2}(\\theta + \\epsilon d) \\cdot ((0, \\tilde{r}) + \\epsilon (0, \\vec{m}))} \\\\\n",
    "&= e^{\\frac{1}{2}((0, \\theta \\tilde{r}) + \\epsilon(0, \\theta \\vec{m} + d \\tilde{r})) }\n",
    "\\end{align*}\n",
    "$$\n",
    "\n",
    "This expression can also be found in the given example above. A detailed implemenation of both quaternion exponential and logarithmic map can be found in <cite id=\"9cfjg\"><a href=\"#zotero%7C16222978%2FAGXR4PGH\">(Temminghoff, 2023)</a></cite>. The implementation was inspired by <cite id=\"uumhu\"><a href=\"#zotero%7C16222978%2FAFEHQ7QJ\">(Dantam, 2021)</a></cite> which fixes the inherited zero-angle singularities.\n",
    "\n",
    "The screw transformation can both describe translation and rotation, or the combination of both wich manifests as helical motion as seen in the interactive plot. For the remainder of this thesis, only the rotational motion is taken into consideration as the majority of cobots exclusively use revolute joints in their kinematics. This means $d = 0$ in any case."
   ]
  },
  {
   "cell_type": "markdown",
   "id": "57bb1d60-c922-4873-95d4-1af1c8b8ed20",
   "metadata": {},
   "source": [
    "<h2> Velocity Kinematics with Dual Quaternions </h2>\n",
    "\n",
    "To compute the derivates of the unit dual quaternion, we recall the quaternion derivative. For the remainder of the thesis the already introduced space representation is used. This is a consistent choice which fits to the forward and differential kinematics representation, which will be introduced in chapter 3.3.\n",
    "The Quaternion derivative in space representation is given as: \n",
    "\n",
    "$$\n",
    " \\dot{\\hat{q}} = \\frac{1}{2} {}_0\\bar{\\omega} \\otimes \\hat{q}\n",
    "$$\n",
    "\n",
    "The first unit dual quaterion derivative is then computed in the following way\n",
    "\n",
    "$$\n",
    "\\begin{align*}\n",
    "\\dot{\\underline{\\xi}} &= \\dot{\\hat{q}}_r + \\epsilon \\dot{\\hat{q}}_d \\\\\n",
    "&= \\dot{\\hat{q}}_r + \\epsilon \\frac{1}{2}({}_0\\dot{\\bar{t}} \\otimes \\hat{q}_r + {}_0\\bar{t} \\otimes \\dot{\\hat{q}}_r)\n",
    "\\end{align*}\n",
    "$$\n",
    "\n",
    "substitution of $\\dot{\\hat{q}}$ and reformulation will yield the final result\n",
    "\n",
    "$$\n",
    "\\begin{align*}\n",
    "\\dot{\\underline{\\xi}} &= \\frac{1}{2} {}_0\\bar{\\omega} \\otimes \\hat{q}_r + \\epsilon \\frac{1}{2}\\left({}_0\\dot{\\bar{t}} \\otimes \\hat{q}_r + {}_0\\bar{t} \\otimes \\frac{1}{2}{}_0\\bar{\\omega} \\otimes \\hat{q}_r \\right) \\\\\n",
    "&= \\frac{1}{2} \\left( {}_0\\bar{\\omega} + \\epsilon \\left({}_0\\dot{\\bar{t}} + \\frac{1}{2} {}_0\\bar{t} \\otimes {}_0\\bar{\\omega} \\right)\\right) \\otimes \\hat{q}_r\n",
    "\\end{align*}\n",
    "$$\n",
    "\n",
    "where the translation position ${}_0\\bar{t}$, the translational velocity ${}_0\\dot{\\bar{t}}$ and the angular velocity ${}_0\\bar{\\omega}$ are all given as pure quaternion and are express w.r.t the base frame $0$. This relation is later used for the interpolation in dualquaternion space and for the differential kinematics as it allows to represent cartesian velocities in the dual quaternion space $\\mathbb{H}$. For a complete algorithm the acceleration is also computed. The derivation is similar to the fist derivative, the translational and angular accelerations $\\ddot{\\bar{t}}$ and $\\dot{\\omega}$ are given and the quaternion derivative $\\dot{\\hat{q}}$ is again substituted with formula X. For the sake of brevity this computation is not shown but can be found in the implementation of the Dual Quaternion Interpolation in Chapter 3.4."
   ]
  },
  {
   "cell_type": "markdown",
   "id": "0efd7529-55b2-4389-bc79-faa69bfa4d88",
   "metadata": {},
   "source": [
    "<h1> Literature </h1>\n",
    "\n",
    "<!-- BIBLIOGRAPHY START -->\n",
    "<div class=\"csl-bib-body\">\n",
    "  <div class=\"csl-entry\"><i id=\"zotero|16222978/AFEHQ7QJ\"></i>Dantam, N. T. (2021). Robust and efficient forward, differential, and inverse kinematics using dual quaternions. <i>The International Journal of Robotics Research</i>, <i>40</i>(10–11), 1087–1105. <a href=\"https://doi.org/10.1177/0278364920931948\">https://doi.org/10.1177/0278364920931948</a></div>\n",
    "  <div class=\"csl-entry\"><i id=\"zotero|16222978/UIFPWU6T\"></i>Lynch, K. M., &#38; Park, F. C. (2017). <i>Modern robotics: mechanics, planning, and control</i>. Cambridge University Press.</div>\n",
    "  <div class=\"csl-entry\"><i id=\"zotero|16222978/ZZC2ARLA\"></i>Miranda De Farias, C., Da Cruz Figueredo, L. F., &#38; Yoshiyuki Ishihara, J. (2019). Performance Study on dqRNEA – A Novel Dual Quaternion Based Recursive Newton-Euler Inverse Dynamics Algorithms. <i>2019 Third IEEE International Conference on Robotic Computing (IRC)</i>, 94–101. <a href=\"https://doi.org/10.1109/IRC.2019.00022\">https://doi.org/10.1109/IRC.2019.00022</a></div>\n",
    "  <div class=\"csl-entry\"><i id=\"zotero|16222978/AGXR4PGH\"></i>Temminghoff, J. (2023). <i>JTem/neura_dual_quaternions</i>. <a href=\"https://github.com/JTem/neura_dual_quaternions\">https://github.com/JTem/neura_dual_quaternions</a></div>\n",
    "</div>\n",
    "<!-- BIBLIOGRAPHY END -->"
   ]
  },
  {
   "cell_type": "code",
   "execution_count": null,
   "id": "58b32a90-5de5-4dee-86b1-09493cd10aac",
   "metadata": {},
   "outputs": [],
   "source": []
  }
 ],
 "metadata": {
  "citation-manager": {
   "items": {
    "zotero": {
     "16222978/AFEHQ7QJ": {
      "DOI": "10.1177/0278364920931948",
      "URL": "http://journals.sagepub.com/doi/10.1177/0278364920931948",
      "abstract": "Modern approaches for robot kinematics employ the product of exponentials formulation, represented using homogeneous transformation matrices. Quaternions over dual numbers are an established alternative representation; however, their use presents certain challenges: the dual quaternion exponential and logarithm contain a zero-angle singularity, and many common operations are less efficient using dual quaternions than with matrices. We present a new derivation of the dual quaternion exponential and logarithm that removes the singularity, we show an implicit representation of dual quaternions offers analytical and empirical efficiency advantages compared with both matrices and explicit dual quaternions, and we derive efficient dual quaternion forms of differential and inverse position kinematics. Analytically, implicit dual quaternions are more compact and require fewer arithmetic instructions for common operations, including chaining and exponentials. Empirically, we demonstrate a 30–40% speedup on forward kinematics and a 300–500% speedup on inverse position kinematics. This work relates dual quaternions with modern exponential coordinates and demonstrates that dual quaternions are a robust and efficient representation for robot kinematics.",
      "accessed": {
       "date-parts": [
        [
         2023,
         11,
         19
        ]
       ]
      },
      "author": [
       {
        "family": "Dantam",
        "given": "Neil T"
       }
      ],
      "container-title": "The International Journal of Robotics Research",
      "id": "16222978/AFEHQ7QJ",
      "issue": "10-11",
      "issued": {
       "date-parts": [
        [
         "2021"
        ]
       ]
      },
      "journalAbbreviation": "The International Journal of Robotics Research",
      "language": "en",
      "page": "1087-1105",
      "system_id": "zotero|16222978/AFEHQ7QJ",
      "title": "Robust and efficient forward, differential, and inverse kinematics using dual quaternions",
      "type": "article-journal",
      "volume": "40"
     },
     "16222978/AGXR4PGH": {
      "URL": "https://github.com/JTem/neura_dual_quaternions",
      "accessed": {
       "date-parts": [
        [
         2023,
         11,
         19
        ]
       ]
      },
      "author": [
       {
        "family": "Temminghoff",
        "given": "Jens"
       }
      ],
      "id": "16222978/AGXR4PGH",
      "issued": {
       "date-parts": [
        [
         2023
        ]
       ]
      },
      "system_id": "zotero|16222978/AGXR4PGH",
      "title": "JTem/neura_dual_quaternions",
      "type": "webpage"
     },
     "16222978/UIFPWU6T": {
      "ISBN": "9781107156302 9781316609842",
      "author": [
       {
        "family": "Lynch",
        "given": "Kevin M."
       },
       {
        "family": "Park",
        "given": "Frank C."
       }
      ],
      "call-number": "TJ211 .L96 2017",
      "event-place": "Cambridge, UK",
      "id": "16222978/UIFPWU6T",
      "issued": {
       "date-parts": [
        [
         2017
        ]
       ]
      },
      "note": "OCLC: ocn983881868",
      "number-of-pages": "528",
      "publisher": "Cambridge University Press",
      "publisher-place": "Cambridge, UK",
      "shortTitle": "Modern robotics",
      "system_id": "zotero|16222978/UIFPWU6T",
      "title": "Modern robotics: mechanics, planning, and control",
      "type": "book"
     },
     "16222978/ZZC2ARLA": {
      "DOI": "10.1109/IRC.2019.00022",
      "ISBN": "9781538692455",
      "URL": "https://ieeexplore.ieee.org/document/8675687/",
      "accessed": {
       "date-parts": [
        [
         2023,
         11,
         20
        ]
       ]
      },
      "author": [
       {
        "family": "Miranda De Farias",
        "given": "Cristiana"
       },
       {
        "family": "Da Cruz Figueredo",
        "given": "Luis Felipe"
       },
       {
        "family": "Yoshiyuki Ishihara",
        "given": "Joao"
       }
      ],
      "container-title": "2019 Third IEEE International Conference on Robotic Computing (IRC)",
      "event": "2019 Third IEEE International Conference on Robotic Computing (IRC)",
      "event-place": "Naples, Italy",
      "id": "16222978/ZZC2ARLA",
      "issued": {
       "date-parts": [
        [
         "2019"
        ]
       ]
      },
      "page": "94-101",
      "publisher": "IEEE",
      "publisher-place": "Naples, Italy",
      "system_id": "zotero|16222978/ZZC2ARLA",
      "title": "Performance Study on dqRNEA – A Novel Dual Quaternion Based Recursive Newton-Euler Inverse Dynamics Algorithms",
      "type": "paper-conference"
     }
    }
   }
  },
  "kernelspec": {
   "display_name": "Python 3 (ipykernel)",
   "language": "python",
   "name": "python3"
  },
  "language_info": {
   "codemirror_mode": {
    "name": "ipython",
    "version": 3
   },
   "file_extension": ".py",
   "mimetype": "text/x-python",
   "name": "python",
   "nbconvert_exporter": "python",
   "pygments_lexer": "ipython3",
   "version": "3.11.4"
  }
 },
 "nbformat": 4,
 "nbformat_minor": 5
}
