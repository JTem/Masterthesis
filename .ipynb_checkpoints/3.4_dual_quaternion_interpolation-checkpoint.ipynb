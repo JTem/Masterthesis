{
 "cells": [
  {
   "cell_type": "markdown",
   "id": "0371743b-a75b-439f-8c25-356a899b18ca",
   "metadata": {},
   "source": [
    "# Dual Quaternion interpolation Method for Dual Quaternions\n",
    "\n",
    "write about the new interpolation method"
   ]
  },
  {
   "cell_type": "code",
   "execution_count": 1,
   "id": "8fef9965-2958-46c7-a987-c266319934e2",
   "metadata": {
    "tags": []
   },
   "outputs": [],
   "source": [
    "from neura_dual_quaternions import DualQuaternion, Quaternion\n",
    "from DualQuaternionQuinticBlends.LineGenerator import LineGenerator\n",
    "from DualQuaternionQuinticBlends.ArcGenerator import ArcGenerator\n",
    "from DualQuaternionQuinticBlends.DQQBTrajectoryGenerator import DQQBTrajectoryGenerator\n",
    "import numpy as np"
   ]
  },
  {
   "cell_type": "code",
   "execution_count": 2,
   "id": "482c9596-6a3b-4207-9159-59589360cb28",
   "metadata": {
    "tags": []
   },
   "outputs": [],
   "source": [
    "rx = np.array([1,0,0])\n",
    "ry = np.array([0,1,0])\n",
    "rz = np.array([0,0,1])\n",
    "\n",
    "dq1 = DualQuaternion.fromQuatPos(Quaternion.fromAxisAngle(-np.pi*0.7, rx), np.array([-1,0,0]))\n",
    "dq2 = DualQuaternion.fromQuatPos(Quaternion.fromAxisAngle(-np.pi*0.7, ry), np.array([-0.7, 0.7,0 ]))\n",
    "dq3 = DualQuaternion.fromQuatPos(Quaternion.fromAxisAngle(np.pi*0.7, rx), np.array([0, 1,0 ]))\n",
    "dq4 = DualQuaternion.fromQuatPos(Quaternion.fromAxisAngle(np.pi*0.3, rx), np.array([0.7,0.8,0.1]))\n",
    "dq5 = DualQuaternion.fromQuatPos(Quaternion.fromAxisAngle(np.pi*1.1, rx), np.array([1,0,0.3]))\n",
    "dq6 = DualQuaternion.fromQuatPos(Quaternion.fromAxisAngle(np.pi*0.6, rx), np.array([1,-0.5,0]))\n",
    "\n",
    "DQ_list = [dq1, dq2, dq3, dq4, dq5, dq6]\n",
    "\n",
    "line_generator = LineGenerator()\n",
    "\n",
    "segments = line_generator.generateSegments(DQ_list, 0.2, 2)"
   ]
  },
  {
   "cell_type": "code",
   "execution_count": 3,
   "id": "d7cf09cd-7978-44c5-9f8a-bddcde865a48",
   "metadata": {},
   "outputs": [
    {
     "name": "stdout",
     "output_type": "stream",
     "text": [
      "cnt:  1\n",
      "acceleration limit for translational interpolation violated!\n",
      "acceleration limit for orientation interpolation violated!\n",
      "acceleration limit for translational interpolation violated!\n",
      "acceleration limit for orientation interpolation violated!\n",
      "acceleration limit for translational interpolation violated!\n",
      "acceleration limit for orientation interpolation violated!\n",
      "acceleration limit for translational interpolation violated!\n",
      "acceleration limit for orientation interpolation violated!\n",
      "cnt:  2\n",
      "blendphases overlapped\n",
      "blendphases overlapped\n",
      "blendphases overlapped\n",
      "blendphases overlapped\n",
      "cnt:  3\n",
      "blendphases overlapped\n",
      "blendphases overlapped\n",
      "cnt:  4\n",
      "cnt:  5\n",
      "acceleration limit for translational interpolation violated!\n",
      "cnt:  6\n",
      "cnt:  7\n",
      "acceleration limit for translational interpolation violated!\n",
      "acceleration limit for translational interpolation violated!\n",
      "cnt:  8\n",
      "cnt:  9\n",
      "acceleration limit for translational interpolation violated!\n",
      "acceleration limit for translational interpolation violated!\n",
      "cnt:  10\n"
     ]
    }
   ],
   "source": [
    "trajectory = DQQBTrajectoryGenerator(segments, 10, 100, 5, 100)"
   ]
  },
  {
   "cell_type": "code",
   "execution_count": 4,
   "id": "bf18f539-e02c-4145-b184-10c6bea5a6ec",
   "metadata": {},
   "outputs": [],
   "source": [
    "time_vec = np.arange(0, trajectory.time_vector[-1]+0.01, 0.01)\n",
    "qw = []\n",
    "qx = []\n",
    "qy = []\n",
    "qz = []\n",
    "\n",
    "x = []\n",
    "y = []\n",
    "z = []\n",
    "\n",
    "vel_norm_list = []\n",
    "acc_norm_list = []\n",
    "jerk_norm_list = []\n",
    "\n",
    "ang_vel_norm_list = []\n",
    "ang_acc_norm_list = []\n",
    "ang_jerk_norm_list = []\n",
    "\n",
    "quaternion_list = []\n",
    "\n",
    "for t in time_vec:\n",
    "    \n",
    "    pos, vel, acc, jerk, quaternion, ang_vel, ang_acc, ang_jerk = trajectory.evaluate(t)\n",
    "    \n",
    "    vel_norm_list.append(np.linalg.norm(vel))\n",
    "    acc_norm_list.append(np.linalg.norm(acc))\n",
    "    jerk_norm_list.append(np.linalg.norm(jerk))\n",
    "    \n",
    "    ang_vel_norm_list.append(np.linalg.norm(ang_vel))\n",
    "    ang_acc_norm_list.append(np.linalg.norm(ang_acc))\n",
    "    ang_jerk_norm_list.append(np.linalg.norm(ang_jerk))\n",
    "    \n",
    "    quaternion_list.append(quaternion)\n",
    "    \n",
    "    x.append(pos[0])\n",
    "    y.append(pos[1])\n",
    "    z.append(pos[2])\n",
    "    \n",
    "    qw.append(quaternion.w)\n",
    "    qx.append(quaternion.x)\n",
    "    qy.append(quaternion.y)\n",
    "    qz.append(quaternion.z)\n"
   ]
  },
  {
   "cell_type": "code",
   "execution_count": null,
   "id": "bc857943-69bb-4e74-8982-f31d96a38657",
   "metadata": {},
   "outputs": [],
   "source": [
    "fig, (ax1, ax2, ax3) = plt.subplots(3, 1, figsize=(12, 4))\n",
    "\n",
    "# Plot the quaternion values in the first subplot (ax1)\n",
    "ax1.plot(time_vec, jerk_norm_list, label = \"jerk\")\n",
    "ax1.plot(time_vec, ang_jerk_norm_list, label = \"angular jerk\")\n",
    "# ax1.plot(time_vec, jerk_norm_list, label = \"jerk\")\n",
    "# ax1.plot(time_vec, ang_jerk_norm_list, label = \"ang_jerk\")\n",
    "ax1.set_xlabel('Time')\n",
    "ax1.set_ylabel('Jerk')\n",
    "ax1.legend()\n",
    "\n",
    "#ax2.plot(time_vec, vel_norm_list, label = \"vel\")\n",
    "#ax2.plot(time_vec, acc_norm_list, label = \"acc\")\n",
    "\n",
    "# ax2.plot(time_vec, ang_vel_norm_list, label = \"ang vel\")\n",
    "# ax2.plot(time_vec, ang_acc_norm_list, label = \"ang acc\")\n",
    "ax2.plot(time_vec, qw, label = \"w\")\n",
    "ax2.plot(time_vec, qx, label = \"x\")\n",
    "ax2.plot(time_vec, qy, label = \"y\")\n",
    "ax2.plot(time_vec, qz, label = \"z\")\n",
    "\n",
    "ax2.set_xlabel('Time')\n",
    "ax2.set_ylabel('Velocity and Acceleration')\n",
    "ax2.legend()\n",
    "\n",
    "\n",
    "ax3.plot(time_vec, vel_norm_list, label = \"vel\")\n",
    "ax3.plot(time_vec, acc_norm_list, label = \"acc\")\n",
    "\n",
    "ax3.plot(time_vec, ang_vel_norm_list, label = \"ang vel\")\n",
    "ax3.plot(time_vec, ang_acc_norm_list, label = \"ang acc\")\n",
    "\n",
    "ax3.set_xlabel('Time')\n",
    "ax3.set_ylabel('Velocity and Acceleration')\n",
    "ax3.legend()\n",
    "\n",
    "# # Adjust the layout and display the plot\n",
    "plt.tight_layout()\n",
    "plt.show()"
   ]
  }
 ],
 "metadata": {
  "kernelspec": {
   "display_name": "Python 3 (ipykernel)",
   "language": "python",
   "name": "python3"
  },
  "language_info": {
   "codemirror_mode": {
    "name": "ipython",
    "version": 3
   },
   "file_extension": ".py",
   "mimetype": "text/x-python",
   "name": "python",
   "nbconvert_exporter": "python",
   "pygments_lexer": "ipython3",
   "version": "3.11.4"
  }
 },
 "nbformat": 4,
 "nbformat_minor": 5
}
