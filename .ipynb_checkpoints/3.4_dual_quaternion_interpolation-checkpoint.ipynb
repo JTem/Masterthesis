{
 "cells": [
  {
   "cell_type": "markdown",
   "id": "0371743b-a75b-439f-8c25-356a899b18ca",
   "metadata": {},
   "source": [
    "# Dual Quaternion interpolation Method for Dual Quaternions\n",
    "\n",
    "write about the new interpolation method"
   ]
  }
 ],
 "metadata": {
  "kernelspec": {
   "display_name": "Python 3 (ipykernel)",
   "language": "python",
   "name": "python3"
  },
  "language_info": {
   "codemirror_mode": {
    "name": "ipython",
    "version": 3
   },
   "file_extension": ".py",
   "mimetype": "text/x-python",
   "name": "python",
   "nbconvert_exporter": "python",
   "pygments_lexer": "ipython3",
   "version": "3.11.5"
  }
 },
 "nbformat": 4,
 "nbformat_minor": 5
}
