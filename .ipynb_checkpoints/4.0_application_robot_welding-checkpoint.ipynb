{
 "cells": [
  {
   "cell_type": "code",
   "execution_count": 1,
   "id": "7332fbf8-e307-4892-beba-026235193ae5",
   "metadata": {},
   "outputs": [],
   "source": [
    "from helper import *\n",
    "from Simulation.WaitTime import WaitTime\n",
    "from Simulation.MoveJoint import MoveJoint\n",
    "from Simulation.MoveLinear import MoveLinear\n",
    "from Simulation.MoveTrajectory import MoveTrajectory\n",
    "from Simulation.Simulation import Simulation\n",
    "from neura_dual_quaternions import DualQuaternion, Quaternion\n",
    "\n",
    "from DualQuaternionQuinticBlends.LineGenerator import LineGenerator\n",
    "from DualQuaternionQuinticBlends.ArcGenerator import ArcGenerator\n",
    "from DualQuaternionQuinticBlends.DQQBTrajectoryGenerator import DQQBTrajectoryGenerator"
   ]
  },
  {
   "cell_type": "code",
   "execution_count": 2,
   "id": "1c519008-7fbd-48f3-a748-43c8592d9353",
   "metadata": {
    "tags": []
   },
   "outputs": [
    {
     "name": "stdout",
     "output_type": "stream",
     "text": [
      "iteration:  1\n",
      "acceleration limit violated!\n",
      "acceleration limit violated!\n",
      "acceleration limit violated!\n",
      "acceleration limit violated!\n",
      "iteration:  2\n",
      "iteration:  3\n",
      "iteration:  4\n",
      "iteration:  5\n",
      "iteration:  6\n",
      "iteration:  7\n",
      "iteration:  8\n",
      "iteration:  9\n",
      "iteration:  10\n",
      "[0.1414213562373135, 0.5, 0.5, 0.14142135623731455]\n"
     ]
    }
   ],
   "source": [
    "q2 = np.array([0, deg2rad(-60), 0, deg2rad(-60), 0, deg2rad(-60), 0])\n",
    "q3 = -q2\n",
    "\n",
    "q4 = np.array([deg2rad(0), deg2rad(0), deg2rad(0), deg2rad(90), deg2rad(0), deg2rad(-90), deg2rad(0)])\n",
    "q5 = -q4\n",
    "\n",
    "x1 = DualQuaternion.fromQuatPos(Quaternion.fromAxisAngle(np.pi*0.5, np.array([0,1,0])), np.array([0.815,0,1.138]))\n",
    "x2 = DualQuaternion.fromQuatPos(Quaternion.fromAxisAngle(np.pi*0.5, np.array([0,1,0])), np.array([0.815,0.2,1.138]))     \n",
    "x3 = DualQuaternion.fromQuatPos(Quaternion.fromAxisAngle(np.pi*0.5, np.array([0,1,0])), np.array([1, 0.3, 0.8]))   \n",
    "\n",
    "# define orientation quaternions for test trajectory\n",
    "quat1 = Quaternion(1,0,0,0)\n",
    "quat2 = Quaternion(0,1,0,0)\n",
    "\n",
    "\n",
    "# define dual quaternions for linear interpolation\n",
    "dq1 = DualQuaternion.fromQuatPos(quat1, np.array([1, 0, 0.5]))\n",
    "dq2 = DualQuaternion.fromQuatPos(quat1, np.array([0.6, 0, 0.5 ]))\n",
    "dq3 = DualQuaternion.fromQuatPos(quat2, np.array([0.6, 0, 0.5 ]))\n",
    "dq4 = DualQuaternion.fromQuatPos(quat2, np.array([0.6, 0.3, 0.5 ]))\n",
    "\n",
    "# assign dual quaternions to lists\n",
    "line_DQ_list = [dq1, dq2, dq3, dq4]\n",
    "\n",
    "# initialize line and arc generators\n",
    "line_generator = LineGenerator()\n",
    "\n",
    "# define the acceleration and jerk limits\n",
    "a_cart_max = 2\n",
    "j_cart_max = 30\n",
    "a_ang_max = 3\n",
    "j_ang_max = 30\n",
    "\n",
    "# define desired cartesian velocites and maximum angular velocity\n",
    "des_cart_vel_line = 0.1\n",
    "max_ang_vel = 1\n",
    "\n",
    "# generate segments\n",
    "segments = line_generator.generateSegments(line_DQ_list, des_cart_vel_line, max_ang_vel)\n",
    "\n",
    "# generate trajectory object with the segments defined above\n",
    "trajectory1 = DQQBTrajectoryGenerator()\n",
    "trajectory1.generateDynamicTrajectory(segments, a_cart_max, j_cart_max, a_ang_max, j_ang_max)\n",
    "\n",
    "task_list = np.array([WaitTime(2), MoveJoint(q4, 3), MoveLinear(x1, 2), MoveLinear(dq1, 2), MoveTrajectory(trajectory1)])\n",
    "task_list = np.array([WaitTime(2), MoveJoint(q4, 3), MoveLinear(x1, 2), MoveLinear(x2, 2), MoveLinear(x3, 2)])\n",
    "sim = Simulation(task_list)"
   ]
  },
  {
   "cell_type": "code",
   "execution_count": 3,
   "id": "7e6d8154-08ce-4e75-a520-67a70639488c",
   "metadata": {
    "tags": []
   },
   "outputs": [
    {
     "ename": "NameError",
     "evalue": "name 'DualQauaternion' is not defined",
     "output_type": "error",
     "traceback": [
      "\u001b[1;31m---------------------------------------------------------------------------\u001b[0m",
      "\u001b[1;31mNameError\u001b[0m                                 Traceback (most recent call last)",
      "Cell \u001b[1;32mIn[3], line 1\u001b[0m\n\u001b[1;32m----> 1\u001b[0m sim\u001b[38;5;241m.\u001b[39mstart()\n",
      "File \u001b[1;32m~\\Documents\\GitHub\\Masterthesis\\Simulation\\Simulation.py:52\u001b[0m, in \u001b[0;36mSimulation.start\u001b[1;34m(self)\u001b[0m\n\u001b[0;32m     49\u001b[0m         \u001b[38;5;28;01mbreak\u001b[39;00m;\n\u001b[0;32m     50\u001b[0m         running \u001b[38;5;241m=\u001b[39m \u001b[38;5;28;01mFalse\u001b[39;00m;\n\u001b[1;32m---> 52\u001b[0m command_executor\u001b[38;5;241m.\u001b[39mrun(dt)\n\u001b[0;32m     53\u001b[0m q \u001b[38;5;241m=\u001b[39m command_executor\u001b[38;5;241m.\u001b[39mgetPosition()\n\u001b[0;32m     54\u001b[0m maira\u001b[38;5;241m.\u001b[39mq \u001b[38;5;241m=\u001b[39m q\n",
      "File \u001b[1;32m~\\Documents\\GitHub\\Masterthesis\\Simulation\\CommandExecutor.py:26\u001b[0m, in \u001b[0;36mCommandExecutor.run\u001b[1;34m(self, dt)\u001b[0m\n\u001b[0;32m     25\u001b[0m \u001b[38;5;28;01mdef\u001b[39;00m \u001b[38;5;21mrun\u001b[39m(\u001b[38;5;28mself\u001b[39m, dt):\n\u001b[1;32m---> 26\u001b[0m         \u001b[38;5;28mself\u001b[39m\u001b[38;5;241m.\u001b[39mcurrent_task\u001b[38;5;241m.\u001b[39mrun(dt)\n\u001b[0;32m     28\u001b[0m         \u001b[38;5;28;01mif\u001b[39;00m \u001b[38;5;28mself\u001b[39m\u001b[38;5;241m.\u001b[39mcurrent_task\u001b[38;5;241m.\u001b[39mdone:\n\u001b[0;32m     29\u001b[0m                 \u001b[38;5;28;01mif\u001b[39;00m \u001b[38;5;28mself\u001b[39m\u001b[38;5;241m.\u001b[39mtask_counter \u001b[38;5;241m<\u001b[39m \u001b[38;5;28mself\u001b[39m\u001b[38;5;241m.\u001b[39mnum_tasks \u001b[38;5;241m-\u001b[39m \u001b[38;5;241m1\u001b[39m:\n",
      "File \u001b[1;32m~\\Documents\\GitHub\\Masterthesis\\Simulation\\MoveLinear.py:33\u001b[0m, in \u001b[0;36mMoveLinear.run\u001b[1;34m(self, dt)\u001b[0m\n\u001b[0;32m     31\u001b[0m \u001b[38;5;28;01mif\u001b[39;00m \u001b[38;5;28mself\u001b[39m\u001b[38;5;241m.\u001b[39mtime \u001b[38;5;241m<\u001b[39m \u001b[38;5;28mself\u001b[39m\u001b[38;5;241m.\u001b[39mtotal_Time:\n\u001b[0;32m     32\u001b[0m         \u001b[38;5;28mself\u001b[39m\u001b[38;5;241m.\u001b[39mtime \u001b[38;5;241m+\u001b[39m\u001b[38;5;241m=\u001b[39m dt\n\u001b[1;32m---> 33\u001b[0m         \u001b[38;5;28mself\u001b[39m\u001b[38;5;241m.\u001b[39mDQd, \u001b[38;5;28mself\u001b[39m\u001b[38;5;241m.\u001b[39mDQd_dot, \u001b[38;5;28mself\u001b[39m\u001b[38;5;241m.\u001b[39mDQd_ddot \u001b[38;5;241m=\u001b[39m \u001b[38;5;28mself\u001b[39m\u001b[38;5;241m.\u001b[39mtrajectory\u001b[38;5;241m.\u001b[39mevaluateDQ(\u001b[38;5;28mself\u001b[39m\u001b[38;5;241m.\u001b[39mtime)\n\u001b[0;32m     35\u001b[0m         \u001b[38;5;66;03m#self.current_velocity = self.diffkin.differential_kinematics(self.current_position, self.current_velocity, self.DQd, self.DQd_dot)\u001b[39;00m\n\u001b[0;32m     36\u001b[0m         \u001b[38;5;28mself\u001b[39m\u001b[38;5;241m.\u001b[39mcurrent_velocity \u001b[38;5;241m=\u001b[39m \u001b[38;5;28mself\u001b[39m\u001b[38;5;241m.\u001b[39mdiffkin\u001b[38;5;241m.\u001b[39mquadratic_program_2(\u001b[38;5;28mself\u001b[39m\u001b[38;5;241m.\u001b[39mcurrent_position, \u001b[38;5;28mself\u001b[39m\u001b[38;5;241m.\u001b[39mcurrent_velocity, \u001b[38;5;28mself\u001b[39m\u001b[38;5;241m.\u001b[39mDQd, \u001b[38;5;28mself\u001b[39m\u001b[38;5;241m.\u001b[39mDQd_dot)\n",
      "File \u001b[1;32m~\\Documents\\GitHub\\Masterthesis\\Simulation\\LinearInterpolator.py:21\u001b[0m, in \u001b[0;36mLinearInterpolator.evaluateDQ\u001b[1;34m(self, time)\u001b[0m\n\u001b[0;32m     17\u001b[0m Qd_dot \u001b[38;5;241m=\u001b[39m DualQuaternion\u001b[38;5;241m.\u001b[39msclerp_dot(\u001b[38;5;28mself\u001b[39m\u001b[38;5;241m.\u001b[39mx0, \u001b[38;5;28mself\u001b[39m\u001b[38;5;241m.\u001b[39mx1, s, s_dot)\n\u001b[0;32m     19\u001b[0m \u001b[38;5;66;03m# currently not implemented\u001b[39;00m\n\u001b[0;32m     20\u001b[0m \u001b[38;5;66;03m# Qd_ddot = DualQuaternion.sclerp_ddot(x0, x1, s, s_dot)\u001b[39;00m\n\u001b[1;32m---> 21\u001b[0m Qd_ddot \u001b[38;5;241m=\u001b[39m DualQauaternion\u001b[38;5;241m.\u001b[39mbasicConstructor(\u001b[38;5;241m0\u001b[39m,\u001b[38;5;241m0\u001b[39m,\u001b[38;5;241m0\u001b[39m,\u001b[38;5;241m0\u001b[39m, \u001b[38;5;241m0\u001b[39m,\u001b[38;5;241m0\u001b[39m,\u001b[38;5;241m0\u001b[39m,\u001b[38;5;241m0\u001b[39m)\n\u001b[0;32m     23\u001b[0m \u001b[38;5;28;01mreturn\u001b[39;00m Qd, Qd_dot, Qd_ddot\n",
      "\u001b[1;31mNameError\u001b[0m: name 'DualQauaternion' is not defined"
     ]
    }
   ],
   "source": [
    "sim.start()"
   ]
  },
  {
   "cell_type": "code",
   "execution_count": null,
   "id": "3756514e-3b29-4cf5-a415-1017140053fc",
   "metadata": {},
   "outputs": [],
   "source": []
  },
  {
   "cell_type": "code",
   "execution_count": null,
   "id": "cb33097b-c45b-4920-8e0b-928355ae9201",
   "metadata": {},
   "outputs": [],
   "source": []
  }
 ],
 "metadata": {
  "citation-manager": {
   "items": {}
  },
  "kernelspec": {
   "display_name": "Python 3 (ipykernel)",
   "language": "python",
   "name": "python3"
  },
  "language_info": {
   "codemirror_mode": {
    "name": "ipython",
    "version": 3
   },
   "file_extension": ".py",
   "mimetype": "text/x-python",
   "name": "python",
   "nbconvert_exporter": "python",
   "pygments_lexer": "ipython3",
   "version": "3.11.4"
  }
 },
 "nbformat": 4,
 "nbformat_minor": 5
}
