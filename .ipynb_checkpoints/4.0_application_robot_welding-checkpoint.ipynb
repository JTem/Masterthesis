{
 "cells": [
  {
   "cell_type": "code",
   "execution_count": 1,
   "id": "7332fbf8-e307-4892-beba-026235193ae5",
   "metadata": {
    "tags": []
   },
   "outputs": [],
   "source": [
    "%matplotlib widget\n",
    "#import matplotlib.pyplot as plt\n",
    "from helper import *\n",
    "from Simulation.WaitTime import WaitTime\n",
    "from Simulation.MoveJoint import MoveJoint\n",
    "from Simulation.MoveLinear import MoveLinear\n",
    "from Simulation.MoveTrajectory import MoveTrajectory\n",
    "from Simulation.Simulation import Simulation\n",
    "from Simulation.ForwardKinematics import ForwardKinematics\n",
    "from neura_dual_quaternions import DualQuaternion, Quaternion\n",
    "\n",
    "from DualQuaternionQuinticBlends.LineGenerator import LineGenerator\n",
    "from DualQuaternionQuinticBlends.ArcGenerator import ArcGenerator\n",
    "from DualQuaternionQuinticBlends.DQQBTrajectoryGenerator import DQQBTrajectoryGenerator\n",
    "np.set_printoptions(precision=3, suppress=True, linewidth=1200, threshold=np.inf)"
   ]
  },
  {
   "cell_type": "code",
   "execution_count": 2,
   "id": "1c519008-7fbd-48f3-a748-43c8592d9353",
   "metadata": {
    "tags": []
   },
   "outputs": [
    {
     "name": "stdout",
     "output_type": "stream",
     "text": [
      "iteration:  1\n",
      "acceleration limit violated!\n",
      "acceleration limit violated!\n",
      "acceleration limit violated!\n",
      "acceleration limit violated!\n",
      "iteration:  2\n",
      "iteration:  3\n",
      "iteration:  4\n",
      "iteration:  5\n",
      "iteration:  6\n",
      "iteration:  7\n",
      "iteration:  8\n",
      "iteration:  9\n",
      "iteration:  10\n",
      "[0.1414213562373135, 0.5, 0.5, 0.14142135623731455]\n"
     ]
    }
   ],
   "source": [
    "robot_type = \"weld\"\n",
    "\n",
    "fk = ForwardKinematics(robot_type)\n",
    "\n",
    "q2 = np.array([0, deg2rad(-60), 0, deg2rad(-60), 0, deg2rad(-60), 0])\n",
    "q3 = -q2\n",
    "\n",
    "q4 = np.array([deg2rad(20), deg2rad(0), deg2rad(-20), deg2rad(90), deg2rad(0), deg2rad(-90), deg2rad(0)])\n",
    "q5 = np.array([deg2rad(-3), deg2rad(20), deg2rad(3), deg2rad(90), deg2rad(3), deg2rad(20), deg2rad(-3)])\n",
    "\n",
    "quat0 = Quaternion.fromAxisAngle(np.pi*0.5, np.array([0,1,0]))\n",
    "quat1 = Quaternion.fromAxisAngle(np.pi*0.5, np.array([0,0,1]))\n",
    "quat2 = Quaternion.fromAxisAngle(np.pi*1, np.array([0,1,0]))\n",
    "quat3 = Quaternion.fromAxisAngle(np.pi*1.99, np.array([0,0,1]))\n",
    "\n",
    "x1 = DualQuaternion.fromQuatPos(quat0, np.array([0.350, 0, 1.138]))\n",
    "x11 = DualQuaternion.fromQuatPos(quat0, np.array([0.815, 0, 1.138]))\n",
    "x2 = DualQuaternion.fromQuatPos(quat1*quat0, np.array([0.815, 0, 1.138]))     \n",
    "x3 = DualQuaternion.fromQuatPos(quat0, np.array([0.917, -0.2, 1.138]))   \n",
    "x5 = DualQuaternion.fromQuatPos(quat2, np.array([1.015, 0, 0.138]))\n",
    "x6 = DualQuaternion.fromQuatPos(quat2*quat3, np.array([1.315, 0, 0.138]))\n",
    "\n",
    "# define orientation quaternions for test trajectory\n",
    "quat1 = Quaternion(1,0,0,0)\n",
    "quat2 = Quaternion(0,1,0,0)\n",
    "\n",
    "# define dual quaternions for linear interpolation\n",
    "dq1 = DualQuaternion.fromQuatPos(quat1, np.array([1, 0, 0.5]))\n",
    "dq2 = DualQuaternion.fromQuatPos(quat1, np.array([0.6, 0, 0.5 ]))\n",
    "dq3 = DualQuaternion.fromQuatPos(quat2, np.array([0.6, 0, 0.5 ]))\n",
    "dq4 = DualQuaternion.fromQuatPos(quat2, np.array([0.6, 0.3, 0.5 ]))\n",
    "\n",
    "# assign dual quaternions to lists\n",
    "line_DQ_list = [dq1, dq2, dq3, dq4]\n",
    "\n",
    "# initialize line and arc generators\n",
    "line_generator = LineGenerator()\n",
    "\n",
    "# define the acceleration and jerk limits\n",
    "a_cart_max = 2\n",
    "j_cart_max = 30\n",
    "a_ang_max = 3\n",
    "j_ang_max = 30\n",
    "\n",
    "# define desired cartesian velocites and maximum angular velocity\n",
    "des_cart_vel_line = 0.1\n",
    "max_ang_vel = 1\n",
    "\n",
    "# generate segments\n",
    "segments = line_generator.generateSegments(line_DQ_list, des_cart_vel_line, max_ang_vel)\n",
    "\n",
    "# generate trajectory object with the segments defined above\n",
    "trajectory1 = DQQBTrajectoryGenerator()\n",
    "trajectory1.generateDynamicTrajectory(segments, a_cart_max, j_cart_max, a_ang_max, j_ang_max)\n",
    "\n",
    "#task_list = np.array([MoveJoint(q5, 3), WaitTime(5)])\n",
    "#task_list = np.array([MoveJoint(q4, 2), MoveLinear(fk.getFK(q4), x1, 2), MoveLinear(x1, x11, 2), MoveLinear(x11, x2, 2), MoveLinear(x2, x3, 6), MoveLinear(x3, dq1, 5)])\n",
    "task_list = np.array([MoveJoint(q4, 2), MoveLinear(fk.getFK(q4), x5, 2), MoveLinear(x5, x6, 6), WaitTime(10)])\n",
    "#task_list = np.array([MoveJoint(q4, 2), MoveLinear(fk.getFK(q4), x1, 2), MoveLinear(x1, x11, 2), WaitTime(1)])\n",
    "#task_list = np.array([WaitTime(2), MoveJoint(q2, 3),  MoveJoint(q3, 3), WaitTime(2),  MoveJoint(q4, 3),  MoveJoint(q5, 3)])\n",
    "sim = Simulation(task_list, robot_type)"
   ]
  },
  {
   "cell_type": "code",
   "execution_count": 3,
   "id": "7e6d8154-08ce-4e75-a520-67a70639488c",
   "metadata": {
    "tags": []
   },
   "outputs": [
    {
     "name": "stdout",
     "output_type": "stream",
     "text": [
      "[[0. 0. 0. 0. 0. 0. 0. 0.]\n",
      " [0. 0. 0. 0. 0. 0. 0. 0.]\n",
      " [0. 0. 0. 0. 0. 0. 0. 0.]\n",
      " [0. 0. 0. 0. 0. 0. 0. 0.]\n",
      " [0. 0. 0. 0. 0. 0. 0. 0.]\n",
      " [0. 0. 0. 0. 0. 0. 0. 0.]\n",
      " [0. 0. 0. 0. 0. 0. 0. 0.]\n",
      " [0. 0. 0. 0. 0. 0. 0. 0.]\n",
      " [1. 0. 0. 0. 0. 0. 0. 0.]\n",
      " [0. 1. 0. 0. 0. 0. 0. 0.]\n",
      " [0. 0. 1. 0. 0. 0. 0. 0.]\n",
      " [0. 0. 0. 1. 0. 0. 0. 0.]\n",
      " [0. 0. 0. 0. 1. 0. 0. 0.]\n",
      " [0. 0. 0. 0. 0. 1. 0. 0.]\n",
      " [0. 0. 0. 0. 0. 0. 1. 0.]\n",
      " [0. 0. 0. 0. 0. 0. 0. 1.]]\n",
      "[ 0.    0.    0.    0.    0.    0.    0.    0.   -1.56 -1.56 -1.56 -1.56 -1.56 -1.56 -1.56  0.05]\n",
      "[0.   0.   0.   0.   0.   0.   0.   0.   1.56 1.56 1.56 1.56 1.56 1.56 1.56 1.  ]\n",
      "[0.002, 0.002, 0.0060160000000000005, 0.010064, 0.014144, 0.018256, 0.0224, 0.026576000000000002, 0.030784, 0.035024, 0.039296000000000005]\n",
      "[0, 2, 4, 10, 20]\n"
     ]
    },
    {
     "ename": "ValueError",
     "evalue": "operands could not be broadcast together with shapes (8,) (7,) ",
     "output_type": "error",
     "traceback": [
      "\u001b[1;31m---------------------------------------------------------------------------\u001b[0m",
      "\u001b[1;31mValueError\u001b[0m                                Traceback (most recent call last)",
      "Cell \u001b[1;32mIn[3], line 1\u001b[0m\n\u001b[1;32m----> 1\u001b[0m sim\u001b[38;5;241m.\u001b[39mstart()\n",
      "File \u001b[1;32m~\\Documents\\GitHub\\Masterthesis\\Simulation\\Simulation.py:55\u001b[0m, in \u001b[0;36mSimulation.start\u001b[1;34m(self)\u001b[0m\n\u001b[0;32m     52\u001b[0m dt \u001b[38;5;241m=\u001b[39m \u001b[38;5;241m0.005\u001b[39m\n\u001b[0;32m     53\u001b[0m \u001b[38;5;28;01mwhile\u001b[39;00m running:\n\u001b[1;32m---> 55\u001b[0m         task_executor\u001b[38;5;241m.\u001b[39mrun(dt)\n\u001b[0;32m     57\u001b[0m         q \u001b[38;5;241m=\u001b[39m task_executor\u001b[38;5;241m.\u001b[39mq[:\u001b[38;5;241m7\u001b[39m]\n\u001b[0;32m     58\u001b[0m         maira\u001b[38;5;241m.\u001b[39mq \u001b[38;5;241m=\u001b[39m q\n",
      "File \u001b[1;32m~\\Documents\\GitHub\\Masterthesis\\Simulation\\TaskExecutor.py:152\u001b[0m, in \u001b[0;36mTaskExecutor.run\u001b[1;34m(self, dt)\u001b[0m\n\u001b[0;32m    150\u001b[0m                 task\u001b[38;5;241m.\u001b[39mq0_set \u001b[38;5;241m=\u001b[39m \u001b[38;5;28;01mTrue\u001b[39;00m\n\u001b[0;32m    151\u001b[0m                 task\u001b[38;5;241m.\u001b[39mq0 \u001b[38;5;241m=\u001b[39m \u001b[38;5;28mself\u001b[39m\u001b[38;5;241m.\u001b[39mq\n\u001b[1;32m--> 152\u001b[0m         \u001b[38;5;28mself\u001b[39m\u001b[38;5;241m.\u001b[39mq, \u001b[38;5;28mself\u001b[39m\u001b[38;5;241m.\u001b[39mq_dot \u001b[38;5;241m=\u001b[39m task\u001b[38;5;241m.\u001b[39mevaluate(\u001b[38;5;28mself\u001b[39m\u001b[38;5;241m.\u001b[39mtime \u001b[38;5;241m-\u001b[39m \u001b[38;5;28mself\u001b[39m\u001b[38;5;241m.\u001b[39mtime_vector[cnt])\n\u001b[0;32m    153\u001b[0m         \u001b[38;5;28mself\u001b[39m\u001b[38;5;241m.\u001b[39mx_des \u001b[38;5;241m=\u001b[39m \u001b[38;5;28mself\u001b[39m\u001b[38;5;241m.\u001b[39mfk\u001b[38;5;241m.\u001b[39mgetFK(\u001b[38;5;28mself\u001b[39m\u001b[38;5;241m.\u001b[39mq)\n\u001b[0;32m    155\u001b[0m \u001b[38;5;28;01melse\u001b[39;00m:\n",
      "File \u001b[1;32m~\\Documents\\GitHub\\Masterthesis\\Simulation\\MoveJoint.py:18\u001b[0m, in \u001b[0;36mMoveJoint.evaluate\u001b[1;34m(self, time)\u001b[0m\n\u001b[0;32m     16\u001b[0m \u001b[38;5;28;01mdef\u001b[39;00m \u001b[38;5;21mevaluate\u001b[39m(\u001b[38;5;28mself\u001b[39m, time):\n\u001b[0;32m     17\u001b[0m         \u001b[38;5;28;01mif\u001b[39;00m time \u001b[38;5;241m<\u001b[39m \u001b[38;5;28mself\u001b[39m\u001b[38;5;241m.\u001b[39mtotal_Time:\n\u001b[1;32m---> 18\u001b[0m                 \u001b[38;5;28mself\u001b[39m\u001b[38;5;241m.\u001b[39mq, \u001b[38;5;28mself\u001b[39m\u001b[38;5;241m.\u001b[39mq_dot, \u001b[38;5;28mself\u001b[39m\u001b[38;5;241m.\u001b[39mq_ddot \u001b[38;5;241m=\u001b[39m \u001b[38;5;28mself\u001b[39m\u001b[38;5;241m.\u001b[39minterpolateJoint(\u001b[38;5;28mself\u001b[39m\u001b[38;5;241m.\u001b[39mq0, \u001b[38;5;28mself\u001b[39m\u001b[38;5;241m.\u001b[39mq1, \u001b[38;5;28mself\u001b[39m\u001b[38;5;241m.\u001b[39mtotal_Time, time)\n\u001b[0;32m     19\u001b[0m         \u001b[38;5;28;01melse\u001b[39;00m:\n\u001b[0;32m     20\u001b[0m                 \u001b[38;5;28mself\u001b[39m\u001b[38;5;241m.\u001b[39mq \u001b[38;5;241m=\u001b[39m \u001b[38;5;28mself\u001b[39m\u001b[38;5;241m.\u001b[39mq1\n",
      "File \u001b[1;32m~\\Documents\\GitHub\\Masterthesis\\Simulation\\MoveJoint.py:30\u001b[0m, in \u001b[0;36mMoveJoint.interpolateJoint\u001b[1;34m(self, q0, q1, total_Time, time)\u001b[0m\n\u001b[0;32m     27\u001b[0m \u001b[38;5;28;01mdef\u001b[39;00m \u001b[38;5;21minterpolateJoint\u001b[39m(\u001b[38;5;28mself\u001b[39m, q0, q1, total_Time, time):\n\u001b[0;32m     28\u001b[0m         s, s_dot, s_ddot \u001b[38;5;241m=\u001b[39m \u001b[38;5;28mself\u001b[39m\u001b[38;5;241m.\u001b[39mscurve\u001b[38;5;241m.\u001b[39mevaluate(\u001b[38;5;241m0\u001b[39m, \u001b[38;5;241m1\u001b[39m, total_Time, \u001b[38;5;241m0.4\u001b[39m, \u001b[38;5;241m0.3\u001b[39m, time)\n\u001b[1;32m---> 30\u001b[0m         dq \u001b[38;5;241m=\u001b[39m q1 \u001b[38;5;241m-\u001b[39m q0\n\u001b[0;32m     31\u001b[0m         q_interpolated \u001b[38;5;241m=\u001b[39m q0 \u001b[38;5;241m+\u001b[39m dq\u001b[38;5;241m*\u001b[39ms\n\u001b[0;32m     32\u001b[0m         q_dot_interpolated \u001b[38;5;241m=\u001b[39m dq\u001b[38;5;241m*\u001b[39ms_dot\n",
      "\u001b[1;31mValueError\u001b[0m: operands could not be broadcast together with shapes (8,) (7,) "
     ]
    }
   ],
   "source": [
    "sim.start()"
   ]
  },
  {
   "cell_type": "code",
   "execution_count": null,
   "id": "eece2c4f-7df7-46f7-99ae-a0a54a110bc8",
   "metadata": {
    "tags": []
   },
   "outputs": [],
   "source": [
    "%matplotlib widget\n",
    "plt.plot(sim.q_dot_list)\n",
    "plt.show()"
   ]
  },
  {
   "cell_type": "code",
   "execution_count": null,
   "id": "5656bcec-ae68-4288-ac41-343a168af727",
   "metadata": {},
   "outputs": [],
   "source": []
  },
  {
   "cell_type": "code",
   "execution_count": null,
   "id": "028a0e1a-c8b7-492c-9871-347821c7d3a2",
   "metadata": {},
   "outputs": [],
   "source": []
  }
 ],
 "metadata": {
  "citation-manager": {
   "items": {}
  },
  "kernelspec": {
   "display_name": "Python 3 (ipykernel)",
   "language": "python",
   "name": "python3"
  },
  "language_info": {
   "codemirror_mode": {
    "name": "ipython",
    "version": 3
   },
   "file_extension": ".py",
   "mimetype": "text/x-python",
   "name": "python",
   "nbconvert_exporter": "python",
   "pygments_lexer": "ipython3",
   "version": "3.11.5"
  }
 },
 "nbformat": 4,
 "nbformat_minor": 5
}
