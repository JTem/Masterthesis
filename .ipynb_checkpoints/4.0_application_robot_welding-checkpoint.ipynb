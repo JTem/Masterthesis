{
 "cells": [
  {
   "cell_type": "code",
   "execution_count": 1,
   "id": "7332fbf8-e307-4892-beba-026235193ae5",
   "metadata": {},
   "outputs": [
    {
     "ename": "SyntaxError",
     "evalue": "invalid syntax. Perhaps you forgot a comma? (MPC_DifferentialKinematics.py, line 51)",
     "output_type": "error",
     "traceback": [
      "Traceback \u001b[1;36m(most recent call last)\u001b[0m:\n",
      "\u001b[0m  File \u001b[0;32m~\\anaconda3\\Lib\\site-packages\\IPython\\core\\interactiveshell.py:3505\u001b[0m in \u001b[0;35mrun_code\u001b[0m\n    exec(code_obj, self.user_global_ns, self.user_ns)\u001b[0m\n",
      "\u001b[0m  Cell \u001b[0;32mIn[1], line 1\u001b[0m\n    from helper import *\u001b[0m\n",
      "\u001b[0m  File \u001b[0;32m~\\Documents\\GitHub\\Masterthesis\\helper.py:13\u001b[0m\n    from Simulation.MoveLinear import MoveLinear\u001b[0m\n",
      "\u001b[1;36m  File \u001b[1;32m~\\Documents\\GitHub\\Masterthesis\\Simulation\\MoveLinear.py:6\u001b[1;36m\n\u001b[1;33m    from Simulation.MPC_DifferentialKinematics import MPC_DifferentialKinematics\u001b[1;36m\n",
      "\u001b[1;36m  File \u001b[1;32m~\\Documents\\GitHub\\Masterthesis\\Simulation\\MPC_DifferentialKinematics.py:51\u001b[1;36m\u001b[0m\n\u001b[1;33m    ref_list.append(dq_dot.asVector().flatten()\u001b[0m\n\u001b[1;37m                    ^\u001b[0m\n\u001b[1;31mSyntaxError\u001b[0m\u001b[1;31m:\u001b[0m invalid syntax. Perhaps you forgot a comma?\n"
     ]
    }
   ],
   "source": [
    "from helper import *\n",
    "from Simulation.WaitTime import WaitTime\n",
    "from Simulation.MoveJoint import MoveJoint\n",
    "from Simulation.MoveLinear import MoveLinear\n",
    "from Simulation.MoveTrajectory import MoveTrajectory\n",
    "from Simulation.Simulation import Simulation\n",
    "from neura_dual_quaternions import DualQuaternion, Quaternion\n",
    "\n",
    "from DualQuaternionQuinticBlends.LineGenerator import LineGenerator\n",
    "from DualQuaternionQuinticBlends.ArcGenerator import ArcGenerator\n",
    "from DualQuaternionQuinticBlends.DQQBTrajectoryGenerator import DQQBTrajectoryGenerator"
   ]
  },
  {
   "cell_type": "code",
   "execution_count": null,
   "id": "1c519008-7fbd-48f3-a748-43c8592d9353",
   "metadata": {
    "tags": []
   },
   "outputs": [],
   "source": [
    "q2 = np.array([0, deg2rad(-60), 0, deg2rad(-60), 0, deg2rad(-60), 0])\n",
    "q3 = -q2\n",
    "\n",
    "q4 = np.array([deg2rad(0), deg2rad(0), deg2rad(0), deg2rad(90), deg2rad(0), deg2rad(-90), deg2rad(0)])\n",
    "q5 = -q4\n",
    "\n",
    "x1 = DualQuaternion.fromQuatPos(Quaternion.fromAxisAngle(np.pi*0.5, np.array([0,1,0])), np.array([0.815,0,1.138]))\n",
    "x2 = DualQuaternion.fromQuatPos(Quaternion.fromAxisAngle(np.pi*0.5, np.array([0,1,0])), np.array([0.815,0.2,1.138]))     \n",
    "x3 = DualQuaternion.fromQuatPos(Quaternion.fromAxisAngle(np.pi*0.5, np.array([0,1,0])), np.array([1, 0.3, 0.8]))   \n",
    "\n",
    "# define orientation quaternions for test trajectory\n",
    "quat1 = Quaternion(1,0,0,0)\n",
    "quat2 = Quaternion(0,1,0,0)\n",
    "\n",
    "\n",
    "# define dual quaternions for linear interpolation\n",
    "dq1 = DualQuaternion.fromQuatPos(quat1, np.array([1, 0, 0.5]))\n",
    "dq2 = DualQuaternion.fromQuatPos(quat1, np.array([0.6, 0, 0.5 ]))\n",
    "dq3 = DualQuaternion.fromQuatPos(quat2, np.array([0.6, 0, 0.5 ]))\n",
    "dq4 = DualQuaternion.fromQuatPos(quat2, np.array([0.6, 0.3, 0.5 ]))\n",
    "\n",
    "# assign dual quaternions to lists\n",
    "line_DQ_list = [dq1, dq2, dq3, dq4]\n",
    "\n",
    "# initialize line and arc generators\n",
    "line_generator = LineGenerator()\n",
    "\n",
    "# define the acceleration and jerk limits\n",
    "a_cart_max = 2\n",
    "j_cart_max = 30\n",
    "a_ang_max = 3\n",
    "j_ang_max = 30\n",
    "\n",
    "# define desired cartesian velocites and maximum angular velocity\n",
    "des_cart_vel_line = 0.1\n",
    "max_ang_vel = 1\n",
    "\n",
    "# generate segments\n",
    "segments = line_generator.generateSegments(line_DQ_list, des_cart_vel_line, max_ang_vel)\n",
    "\n",
    "# generate trajectory object with the segments defined above\n",
    "trajectory1 = DQQBTrajectoryGenerator()\n",
    "trajectory1.generateDynamicTrajectory(segments, a_cart_max, j_cart_max, a_ang_max, j_ang_max)\n",
    "\n",
    "task_list = np.array([WaitTime(2), MoveJoint(q4, 3), MoveLinear(x1, 2), MoveLinear(dq1, 2), MoveTrajectory(trajectory1)])\n",
    "task_list = np.array([WaitTime(2), MoveJoint(q4, 3), MoveLinear(x1, 2), MoveLinear(x2, 2), MoveLinear(x3, 2)])\n",
    "sim = Simulation(task_list)"
   ]
  },
  {
   "cell_type": "code",
   "execution_count": null,
   "id": "7e6d8154-08ce-4e75-a520-67a70639488c",
   "metadata": {
    "tags": []
   },
   "outputs": [],
   "source": [
    "sim.start()"
   ]
  },
  {
   "cell_type": "code",
   "execution_count": null,
   "id": "3756514e-3b29-4cf5-a415-1017140053fc",
   "metadata": {},
   "outputs": [],
   "source": []
  },
  {
   "cell_type": "code",
   "execution_count": null,
   "id": "cb33097b-c45b-4920-8e0b-928355ae9201",
   "metadata": {},
   "outputs": [],
   "source": []
  }
 ],
 "metadata": {
  "citation-manager": {
   "items": {}
  },
  "kernelspec": {
   "display_name": "Python 3 (ipykernel)",
   "language": "python",
   "name": "python3"
  },
  "language_info": {
   "codemirror_mode": {
    "name": "ipython",
    "version": 3
   },
   "file_extension": ".py",
   "mimetype": "text/x-python",
   "name": "python",
   "nbconvert_exporter": "python",
   "pygments_lexer": "ipython3",
   "version": "3.11.4"
  }
 },
 "nbformat": 4,
 "nbformat_minor": 5
}
