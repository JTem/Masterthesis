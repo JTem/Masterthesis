{
 "cells": [
  {
   "cell_type": "markdown",
   "id": "1cce811d-5946-4116-8845-c43a95599def",
   "metadata": {},
   "source": [
    "<div>\n",
    "<h1> Introduction </h1>\n",
    "\n",
    "<p>\n",
    "Robotic welding is an important application of industrial robots that has gained significant attention in recent years. Welding is a complex task that requires high precision and accuracy to achieve reliable and high-quality welds. Redundant serial manipulators are commonly used in robotic welding to provide additional degrees of freedom that enable the manipulator to reach difficult-to-access locations and to maintain the welding tool's orientation during the welding process. However, controlling the redundant degrees of freedom of the manipulator can be challenging, as it requires accurate modeling of the manipulator's kinematics and dynamics, and the development of efficient control algorithms that can handle the additional degrees of freedom.\n",
    "</p>\n",
    "<p>\n",
    "Dual quaternion differential kinematics is a promising approach for controlling redundant serial manipulators in robotic welding applications. This approach provides a unified framework for handling both the kinematic and dynamic equations of the manipulator, and it has been shown to be effective in achieving accurate and efficient control of manipulators with redundant degrees of freedom. Dual quaternion differential kinematics uses dual quaternions to represent the rotation and translation of the manipulator, which enables the use of the dual quaternion algebra to derive the manipulator's kinematic and dynamic equations.\n",
    "</p>\n",
    "<p>\n",
    "However, to further improve the performance of robotic welding systems, it is necessary to develop approaches that can optimize the manipulator's joint positions and velocities to minimize the deviation between the desired and actual welding trajectories. Redundant pose optimization is a promising approach for this task, as it enables the optimization of the manipulator's joint positions and velocities to achieve the desired welding trajectory while ensuring that the manipulator remains within its joint limits and avoids collisions with the workpiece.\n",
    "</p>\n",
    "<p>\n",
    "This paper proposes an improved approach that combines dual quaternion differential kinematics with redundant pose optimization to further enhance the performance of robotic welding systems. The proposed approach optimizes the manipulator's joint positions and velocities to minimize the deviation between the desired and actual welding trajectories, while ensuring that the manipulator remains within its joint limits and avoids collisions with the workpiece. The proposed approach is implemented and tested using both simulation and experimental studies, and the results demonstrate the effectiveness of the proposed approach in achieving accurate and efficient robotic welding with redundant serial manipulators.\n",
    "</p>\n",
    "<p>\n",
    "In conclusion, the proposed approach is a promising approach for achieving accurate and efficient robotic welding with redundant serial manipulators. The approach combines dual quaternion differential kinematics with redundant pose optimization to optimize the manipulator's joint positions and velocities to achieve the desired welding trajectory while ensuring the safety of the manipulator and the workpiece. The proposed approach has the potential to significantly improve the performance of robotic welding systems, particularly in applications that require high precision and flexibility.\n",
    "</p>"
   ]
  },
  {
   "cell_type": "markdown",
   "id": "5a64b55d-5586-42fd-ae77-c1ae96ea59e3",
   "metadata": {},
   "source": [
    "<h1>Abstract</h1>\n",
    "\n",
    "In robotic systems, efficient and reliable trajectory tracking is crucial for the performance and safety of various applications. This paper introduces a novel approach that exploits the redundancies in robotic mechanisms using predictive differential kinematics in dual-quaternion space. Our method aims to optimize the configuration and enhance the robustness against singularities in trajectory tracking tasks. We begin by establishing the theoretical framework of dual-quaternion algebra as it applies to robotic kinematics, emphasizing its advantages in handling spatial transformations and rotations seamlessly. Following this, we introduce our predictive differential kinematic model that integrates the dual-quaternion representation. This model is designed to effectively utilize the inherent redundancies in robotic systems, allowing for more flexible and efficient motion planning.\n",
    "\n",
    "A key aspect of our approach is its focus on singularity robustness. Singularities in robotic systems can lead to unpredictable behavior and loss of control, which our method addresses by predictive singularity avoidance. This is achieved through a novel algorithm that anticipates potential singular configurations and proactively adjusts the trajectory in real-time. Additionally, our configuration optimization algorithm ensures that the robot's path is not only singularity-free but also optimized for energy efficiency and task effectiveness.\n",
    "\n",
    "We validate our approach through a series of experiments and simulations. These include complex trajectory tracking tasks in environments that challenge the robot's kinematic limits and require high precision. The results demonstrate a significant improvement in trajectory tracking performance, singularity avoidance, and overall efficiency compared to traditional methods. Our method's applicability extends to various types of robotic systems, including industrial manipulators and mobile robots.\n",
    "\n",
    "In conclusion, the proposed approach leveraging predictive differential kinematics in dual-quaternion space presents a significant advancement in robotic trajectory tracking. It offers a robust, efficient, and flexible solution, particularly in scenarios where traditional methods fall short. This research opens new possibilities for complex robotic applications, ranging from precision manufacturing to autonomous exploration."
   ]
  },
  {
   "cell_type": "markdown",
   "id": "e232c254-361f-4ad9-8686-14eaaaabc233",
   "metadata": {},
   "source": [
    "# Introduction\n",
    "\n",
    "Collaborative robots (cobots) are revolutionizing the manufacturing industry. Unlike traditional industrial robots, cobots can be operated in the vicinity of human workers without additional safety installations, such as fences or light barries. Classical robots are typically employed in the production of large batches as they require time consuming setup by expert users. In adaptive production lines for small and medium sized batches manufacturing steps are changing frequently. Here, cobots can provide large benefits as they are easily relocateable. Cobots are easy to program and allow non-expert users to solve repetitive tasks flexibly and in an intuitive fashion. These benefits and the fact that they come at lower prices as their industrial counterparts make them attractive for small and medium sized businesses, which mostly dont use robotic solutions up to date. Thus cobots are predicted to increase their marketshares in the coming years with a compound growth rate of $41.8 \\%$ from today until 2028 [] and reach a share of estimated 30% of the total robot market by 2030[].\n",
    "\n",
    "In robotic systems, efficient and reliable trajectory tracking is crucial for the performance and safety of various applications. This trajactory tracking is used in a variety of applications and often extended by more complex motionplanning that also takes into account the redundancies of the robot, which are often found in cobots. This redundant degree of freedom often resembles a seventh joint that enables more flexibility and dexterity in solving complex tasks. Redundant cobots with 7 Degrees of Freedom (DoF) are often designed as so called <i>anthropromorphic arms</i>. This configuration usually grants benefits in collision avoidance, machine tending or robot welding for example. Besides extra robot joints, the task can be <i>intrinsically redundant</i>, meaning that only five or less DoF are needed for task execution. This is for example the case for robot welding or sanding, as these applications have an intrinsic symmetry that allows to ommit one rotational degree of freedom in the task execution.\n",
    "\n",
    "Classical approaches in solving the trajectory tracking problem often suffer from limited dexterity and singularities. Singularities connected to robotics can be subdivided into two categories, representative singularities and kinematic singularities. Singularities in robotic systems can lead to unpredictable behavior and loss of control, which is undesirable for both safety and task execution. Avoiding Singularities of any kind is thus important for satisfactory results and possible with optimization with internal robot motion, enabled by the extra degree of freedom provided by redundant cobots.\n",
    "\n",
    "Another issue faced in robotics is the limitation through joint limits and with the limit violations connected sudden changes in joint velocities which cause jerky motions and high accelerations on the robotic manipulator. These limits need to be avoided and the distance to the joint limits can also be increased by careful consideration of the extra DoF given in the case of redundant cobots.\n",
    "\n",
    "The proposed Method aims to overcome these limitations by predictive singularity avoidance and by exploitation of the extra redundancies and the mathematical properties of <i>Dual Quaternions</i>. This is achieved through a novel algorithm that predicts the robots motion in future steps and detects potential singular configurations and proactively optimizes the cobots joint configuration to avoid potential problems while executing the task in real-time. Additionally, our configuration optimization algorithm ensures that the robot's path is not only singularity-free but also optimized for other metrics like distance from joint limits, collision avoidance, energy efficiency and joint speeds."
   ]
  },
  {
   "cell_type": "code",
   "execution_count": null,
   "id": "656f4cd3-089d-4f8a-aa68-b303e2b48919",
   "metadata": {},
   "outputs": [],
   "source": [
    "\n"
   ]
  }
 ],
 "metadata": {
  "kernelspec": {
   "display_name": "Python 3 (ipykernel)",
   "language": "python",
   "name": "python3"
  },
  "language_info": {
   "codemirror_mode": {
    "name": "ipython",
    "version": 3
   },
   "file_extension": ".py",
   "mimetype": "text/x-python",
   "name": "python",
   "nbconvert_exporter": "python",
   "pygments_lexer": "ipython3",
   "version": "3.11.4"
  }
 },
 "nbformat": 4,
 "nbformat_minor": 5
}
