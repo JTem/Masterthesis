{
 "cells": [
  {
   "cell_type": "markdown",
   "id": "e232c254-361f-4ad9-8686-14eaaaabc233",
   "metadata": {
    "citation-manager": {
     "citations": {
      "5qm78": [
       {
        "id": "16222978/5N774XLS",
        "source": "zotero"
       }
      ]
     }
    },
    "tags": []
   },
   "source": [
    "# Introduction\n",
    "\n",
    "Collaborative robots (cobots) are revolutionizing the manufacturing industry. Unlike traditional industrial robots, cobots can be operated in the vicinity of human workers without additional safety installations, such as fences or light barries. Classical robots are typically employed in the production of large batches as they require time consuming setup by expert users. In adaptive production lines for small and medium sized batches manufacturing steps are changing frequently. Here, cobots can provide large benefits as they are easily relocateable. Cobots are easy to program and allow non-expert users to solve repetitive tasks flexibly and in an intuitive fashion. These benefits and the fact that they come at lower prices as their industrial counterparts make them attractive for small and medium sized businesses, which mostly dont use robotic solutions up to date. Thus cobots are predicted to increase their marketshares in the coming years with a compound growth rate of $34.3\\%$ from today until 2029 <cite id=\"5qm78\"><a href=\"#zotero%7C16222978%2F5N774XLS\">(<i>Collaborative Robot Market Size, Share, Industry Report, Revenue Trends and Growth Drivers 2030</i>, n.d.)</a></cite>.\n",
    "\n",
    "In robotic systems, efficient and reliable trajectory tracking is crucial for the performance and safety of various applications. This trajactory tracking is used in a variety of applications and often extended by more complex motionplanning that also takes into account the redundancies of the robot, which are often found in cobots. This redundant degree of freedom often resembles a seventh joint that enables more flexibility and dexterity in solving complex tasks. Redundant cobots with seven Degrees of Freedom (DoF) are often designed as so called <i>anthropromorphic arms</i>. This configuration usually grants benefits in collision avoidance, machine tending or robot welding for example. Besides extra robot joints, the task can be <i>intrinsically redundant</i>, meaning that only five or less DoF are needed for task execution. This is for example the case for robot welding or sanding, as these applications have an intrinsic symmetry that allows to ommit one rotational degree of freedom in the task execution.\n",
    "\n",
    "Classical approaches in solving the trajectory tracking problem are based on differntial kinematics and often suffer from limited dexterity and singularities. Singularities connected to robotics can be subdivided into two categories, representative singularities and kinematic singularities. Singularities in robotic systems can lead to unpredictable behavior and loss of control, which is undesirable for both safety and task execution. Avoiding Singularities of any kind is thus important for satisfactory results and possible with optimization with internal robot motion, enabled by the extra degree of freedom provided by redundant cobots.\n",
    "\n",
    "Another issue faced in robotics is the limitation through joint limits and with limit violations connected sudden changes in joint velocities which cause jerky motions and high accelerations on the robotic manipulator. These limits need to be avoided and the distance to the joint limits can also be increased by careful consideration of the extra DoF given in the case of redundant cobots.\n",
    "\n",
    "The proposed Method aims to overcome these limitations by predictive singularity avoidance and by exploitation of the extra redundancies and the mathematical properties of <i>Dual Quaternions</i>. This is achieved through a novel algorithm that predicts the robots motion in future steps and detects potential singular configurations and proactively optimizes the cobots joint configuration to avoid potential problems while executing the task in real-time. Additionally, our configuration optimization algorithm ensures that the robot's path is not only singularity-free but also optimized for other metrics like distance from joint limits, collision avoidance, energy efficiency and joint speeds."
   ]
  },
  {
   "cell_type": "markdown",
   "id": "5fde1cda-d27d-4c31-858b-cba0c0d8d978",
   "metadata": {},
   "source": [
    "<h1> Literature </h1>\n",
    "<!-- BIBLIOGRAPHY START -->\n",
    "<div class=\"csl-bib-body\">\n",
    "  <div class=\"csl-entry\"><i id=\"zotero|16222978/5N774XLS\"></i><i>Collaborative Robot Market Size, Share, Industry Report, Revenue Trends and Growth Drivers 2030</i>. (n.d.). MarketsandMarkets. Retrieved November 18, 2023, from <a href=\"https://www.marketsandmarkets.com/Market-Reports/collaborative-robot-market-194541294.html\">https://www.marketsandmarkets.com/Market-Reports/collaborative-robot-market-194541294.html</a></div>\n",
    "</div>\n",
    "<!-- BIBLIOGRAPHY END -->"
   ]
  },
  {
   "cell_type": "code",
   "execution_count": null,
   "id": "6958bea9-d39e-4888-95be-11e18077156c",
   "metadata": {
    "citation-manager": {
     "citations": {
      "23ry5": [
       {
        "id": "16222978/5N774XLS",
        "source": "zotero"
       }
      ]
     }
    },
    "tags": []
   },
   "outputs": [],
   "source": [
    "KIU4zTlnm2Z2gBrnwQI3Vh67"
   ]
  }
 ],
 "metadata": {
  "citation-manager": {
   "items": {
    "zotero": {
     "16222978/5N774XLS": {
      "URL": "https://www.marketsandmarkets.com/Market-Reports/collaborative-robot-market-194541294.html",
      "abstract": "Global Collaborative Robot Market in terms of revenue was estimated to be worth $1.2 billion in 2023 and is poised to reach $6.8 billion by 2029, growing at a CAGR of 34.3% during the forecast period.",
      "accessed": {
       "date-parts": [
        [
         2023,
         11,
         18
        ]
       ]
      },
      "container-title": "MarketsandMarkets",
      "id": "16222978/5N774XLS",
      "system_id": "zotero|16222978/5N774XLS",
      "title": "Collaborative Robot Market Size, Share, Industry Report, Revenue Trends and Growth Drivers 2030",
      "type": "webpage"
     }
    }
   }
  },
  "kernelspec": {
   "display_name": "Python 3 (ipykernel)",
   "language": "python",
   "name": "python3"
  },
  "language_info": {
   "codemirror_mode": {
    "name": "ipython",
    "version": 3
   },
   "file_extension": ".py",
   "mimetype": "text/x-python",
   "name": "python",
   "nbconvert_exporter": "python",
   "pygments_lexer": "ipython3",
   "version": "3.11.4"
  }
 },
 "nbformat": 4,
 "nbformat_minor": 5
}
