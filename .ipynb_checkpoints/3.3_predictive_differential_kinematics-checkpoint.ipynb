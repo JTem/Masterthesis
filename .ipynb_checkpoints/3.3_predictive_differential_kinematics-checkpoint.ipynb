{
 "cells": [
  {
   "cell_type": "code",
   "execution_count": null,
   "id": "517fbdfb-4b44-4f88-95f3-acdeb40097dc",
   "metadata": {},
   "outputs": [],
   "source": [
    "%matplotlib widget\n",
    "from helper import *"
   ]
  },
  {
   "cell_type": "markdown",
   "id": "9e78eb7d-0585-4d4a-853c-7c220fc0508d",
   "metadata": {
    "tags": []
   },
   "source": [
    "<h1>Predictive Differential Kinematics</h1>\n",
    "\n",
    "- formulate the differential kinematics as quadratic program\n",
    "- set up state space representation of the problem (single integrator)\n",
    "    - discretize state space matrices\n",
    "- extend the qp to predict future time steps\n",
    "- introduce different time steps to extend prediction horizon\n",
    "\n",
    "Before we develop the model predictive control model, as a first step the formulation of the differential kinematics as Quadratic Program (QP) is shown. "
   ]
  },
  {
   "cell_type": "code",
   "execution_count": null,
   "id": "1cb4aed0-5346-421f-9f3a-39b97dbf4e0e",
   "metadata": {},
   "outputs": [],
   "source": []
  },
  {
   "cell_type": "code",
   "execution_count": null,
   "id": "67f6d594-13a0-4c20-a60a-f857b7a02fdd",
   "metadata": {},
   "outputs": [],
   "source": []
  },
  {
   "cell_type": "code",
   "execution_count": null,
   "id": "10cbece7-72f8-4d5e-9fb7-a1ddcf30d066",
   "metadata": {},
   "outputs": [],
   "source": []
  },
  {
   "cell_type": "code",
   "execution_count": null,
   "id": "3c8f96aa-5003-4467-97a3-06ea8e4fafe3",
   "metadata": {},
   "outputs": [],
   "source": []
  },
  {
   "cell_type": "code",
   "execution_count": null,
   "id": "a2f9c843-95db-4034-8321-dccd579ca295",
   "metadata": {},
   "outputs": [],
   "source": []
  },
  {
   "cell_type": "code",
   "execution_count": null,
   "id": "8acfbfbc-f143-4557-83c4-b02a15f4c92d",
   "metadata": {},
   "outputs": [],
   "source": []
  },
  {
   "cell_type": "code",
   "execution_count": null,
   "id": "8feba210-a4d2-44ce-9119-eba8443fba57",
   "metadata": {},
   "outputs": [],
   "source": []
  }
 ],
 "metadata": {
  "citation-manager": {
   "items": {}
  },
  "kernelspec": {
   "display_name": "Python 3 (ipykernel)",
   "language": "python",
   "name": "python3"
  },
  "language_info": {
   "codemirror_mode": {
    "name": "ipython",
    "version": 3
   },
   "file_extension": ".py",
   "mimetype": "text/x-python",
   "name": "python",
   "nbconvert_exporter": "python",
   "pygments_lexer": "ipython3",
   "version": "3.11.4"
  }
 },
 "nbformat": 4,
 "nbformat_minor": 5
}
