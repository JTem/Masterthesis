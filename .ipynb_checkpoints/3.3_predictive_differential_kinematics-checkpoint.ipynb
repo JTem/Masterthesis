{
 "cells": [
  {
   "cell_type": "code",
   "execution_count": 1,
   "id": "517fbdfb-4b44-4f88-95f3-acdeb40097dc",
   "metadata": {},
   "outputs": [],
   "source": [
    "%matplotlib widget\n",
    "from helper import *\n",
    "fk = ForwardKinematics()"
   ]
  },
  {
   "cell_type": "markdown",
   "id": "9e78eb7d-0585-4d4a-853c-7c220fc0508d",
   "metadata": {
    "citation-manager": {
     "citations": {
      "g1d7n": [
       {
        "id": "16222978/PIMK7NG3",
        "source": "zotero"
       }
      ],
      "wp0tt": [
       {
        "id": "16222978/B7SE9C3S",
        "source": "zotero"
       }
      ]
     }
    },
    "tags": []
   },
   "source": [
    "<h1>Predictive Differential Kinematics</h1>\n",
    "\n",
    "The goal of this chapter is to derive the differential model that has increased robustness to singularities. This increased robustness is realized by a predictive manipulability optimization that optimizes the manipulability of the cobot in **task direction**. For this first an new manipulability gradient is derived. After the gradient is derived, the QP problem introduced in the state of the art is extended to not only optimize the manipulability in task direction, but also take the joint position and joint velocity limits into account. To make sure the QP is feasible under all circumstances, a scaling $s$ is introduced, that scales the task velocity in case the tracking of the disired reference position is infeasible. Besides the theoretical foundations, the model is also setup in Python in parallel with the help of the OSQP optimization library <cite id=\"g1d7n\"><a href=\"#zotero%7C16222978%2FPIMK7NG3\">(Stellato et al., 2017)</a></cite>.\n",
    "\n",
    "## Directional Manipulability Gradient\n",
    "\n",
    "The manipulability measue $m(\\theta)$ which was introduced by Yoshikawa <cite id=\"wp0tt\"><a href=\"#zotero%7C16222978%2FB7SE9C3S\">(Yoshikawa, 1985)</a></cite> gives a general metric to evaulate the manipulability of the manipulator. In singular configuration, when the jacobian degenerates and the cobot loses one or more degrees of freedom in the end-effector motion, the manipulability index is zero. "
   ]
  },
  {
   "cell_type": "code",
   "execution_count": 54,
   "id": "1577b92f-41e3-4a3d-901e-302f96698646",
   "metadata": {
    "tags": []
   },
   "outputs": [
    {
     "name": "stdout",
     "output_type": "stream",
     "text": [
      "manipulability of example joint position:  0.0\n"
     ]
    }
   ],
   "source": [
    "def manipulability(q):\n",
    "            \n",
    "    J = fk.getBodyJacobian(q)\n",
    "\n",
    "    return np.sqrt(max(0, np.linalg.det(J@J.T)))\n",
    "\n",
    "# singular joint position \n",
    "q_example = [0,0,0,1.5708,0,0,0]\n",
    "print(\"manipulability of example joint position: \", manipulability(q_example))"
   ]
  },
  {
   "cell_type": "markdown",
   "id": "69936858-a052-4407-98f6-373af501c15f",
   "metadata": {},
   "source": [
    "The computation of the manipulability index is done with the body jacobian $J_b$. It expresses the cartesian end-effector velocities in the end-effector frame. This will later give an intuative way to compute apply the directionality feature to the gradient. To make use of the manipulability index, a gradient w.r.t the joint angles has to be computed. Practically this is often done via numerical differentiation as shown in the following code block. "
   ]
  },
  {
   "cell_type": "code",
   "execution_count": 55,
   "id": "626f099d-53c4-45a7-826d-191c0f945131",
   "metadata": {
    "tags": []
   },
   "outputs": [
    {
     "name": "stdout",
     "output_type": "stream",
     "text": [
      "manipulability of example joint position:  0.0\n",
      "numerical manipulability gradient: \n",
      "[   0.000    0.485    0.000    0.000    0.000    0.485    0.000]\n"
     ]
    }
   ],
   "source": [
    "def manipulability_gradient(q):\n",
    "\n",
    "    w0 = manipulability(q)\n",
    "    h = 0.00001\n",
    "    grad = []\n",
    "    for i in range(fk.dof):\n",
    "        q_temp = q.copy()\n",
    "        q_temp[i] += h\n",
    "        grad.append((manipulability(q_temp) - w0)/h)\n",
    "\n",
    "    return np.array(grad)\n",
    "\n",
    "# non singular joint position\n",
    "q_example = [0,0,0,1.5708,0,0,0]\n",
    "\n",
    "print(\"manipulability of example joint position: \", manipulability(q_example))\n",
    "print(\"numerical manipulability gradient: \")\n",
    "print(manipulability_gradient(q_example))"
   ]
  },
  {
   "cell_type": "markdown",
   "id": "fe70e2e6-4350-49fa-9c46-3121f5021012",
   "metadata": {},
   "source": [
    "An analytical approach is to compute the gradient via the manipulator hessian, this is a third order tensor that describes the second derivative of the forward kinematics w.r.t. the joint angles. it is closely related to the derivative of the jacobian w.r.t. time $\\dot{J}$.\n",
    "\n",
    "$$\n",
    "\\begin{align*}\n",
    "\\dot{J} &= \\frac{d J(\\theta)}{dt} \\\\\n",
    "&= \\frac{\\partial J(\\theta)}{\\partial \\theta} \\frac{d\\theta}{dt}\\\\\n",
    "&= H(\\theta) \\dot{\\theta}\n",
    "\\end{align*}\n",
    "$$\n",
    "\n",
    "where the manipulator hessian $H(\\theta) \\in \\mathbb{R}^{6 \\times DoF \\times DoF}$ is a third order tensor. In practical applications it is often computed as the partial derviative of the chosen manipulator jacobian w.r.t. the joint angles. Haviland and Corke proposed a fast computation method which is applicable for the geometric Jacobian, but not the body or space jacobian. For this reason within this thesis we fall back to the numerical computation method of the hessian. Again it is based on the body jacobian for the easy and intuative application of the directional aspect later."
   ]
  },
  {
   "cell_type": "code",
   "execution_count": 56,
   "id": "668f0285-df22-4ad6-b2f9-146650f329de",
   "metadata": {
    "tags": []
   },
   "outputs": [
    {
     "name": "stdout",
     "output_type": "stream",
     "text": [
      "manipulator Hessian: \n",
      "[[[   0.000   -0.412    0.000   -0.412    0.827   -0.412    0.128]\n",
      "  [   0.000    0.000    0.412   -0.000   -0.225    0.000   -0.416]\n",
      "  [   0.000    0.000    0.000   -0.412    0.827   -0.412    0.128]\n",
      "  [   0.000    0.000    0.000    0.000   -0.225   -0.000   -0.416]\n",
      "  [   0.000    0.000    0.000    0.000    0.000    0.225    0.765]\n",
      "  [   0.000    0.000    0.000    0.000    0.000    0.000   -0.416]\n",
      "  [   0.000    0.000    0.000    0.000    0.000    0.000    0.000]]\n",
      "\n",
      " [[   0.000   -0.900    0.000   -0.900   -0.378   -0.900   -0.059]\n",
      "  [   0.000    0.000    0.900   -0.000   -0.491   -0.000   -0.909]\n",
      "  [   0.000    0.000    0.000   -0.900   -0.378   -0.900   -0.059]\n",
      "  [   0.000    0.000    0.000    0.000   -0.491   -0.000   -0.909]\n",
      "  [   0.000    0.000    0.000    0.000    0.000    0.491   -0.350]\n",
      "  [   0.000    0.000    0.000    0.000    0.000    0.000   -0.909]\n",
      "  [   0.000    0.000    0.000    0.000    0.000    0.000    0.000]]\n",
      "\n",
      " [[   0.000   -0.141   -0.000   -0.141    0.000   -0.141    0.000]\n",
      "  [   0.000    0.000    0.141    0.000    0.841    0.000    0.000]\n",
      "  [   0.000    0.000    0.000   -0.141    0.000   -0.141    0.000]\n",
      "  [   0.000    0.000    0.000    0.000    0.841    0.000    0.000]\n",
      "  [   0.000    0.000    0.000    0.000    0.000   -0.841   -0.000]\n",
      "  [   0.000    0.000    0.000    0.000    0.000    0.000    0.000]\n",
      "  [   0.000    0.000    0.000    0.000    0.000    0.000    0.000]]\n",
      "\n",
      " [[   0.000    0.268    0.000   -0.368   -0.187   -0.104   -0.272]\n",
      "  [   0.000    0.000   -0.268    0.041   -0.428    0.286    0.182]\n",
      "  [   0.000    0.000    0.000   -0.368   -0.187   -0.104   -0.272]\n",
      "  [   0.000    0.000    0.000    0.000   -0.693    0.245   -0.448]\n",
      "  [   0.000    0.000    0.000    0.000    0.000    0.056   -0.040]\n",
      "  [   0.000    0.000    0.000    0.000    0.000    0.000   -0.105]\n",
      "  [   0.000    0.000    0.000    0.000    0.000    0.000    0.000]]\n",
      "\n",
      " [[   0.000   -0.123    0.000    0.169   -0.408    0.047   -0.594]\n",
      "  [   0.000    0.000    0.123    0.090    0.196    0.625   -0.083]\n",
      "  [   0.000    0.000    0.000    0.169   -0.408    0.047   -0.594]\n",
      "  [   0.000    0.000    0.000    0.000    0.317    0.536    0.205]\n",
      "  [   0.000    0.000    0.000    0.000    0.000   -0.026   -0.088]\n",
      "  [   0.000    0.000    0.000    0.000    0.000    0.000    0.048]\n",
      "  [   0.000    0.000    0.000    0.000    0.000    0.000    0.000]]\n",
      "\n",
      " [[   0.000    0.000    0.000    0.000    0.536    0.000    0.000]\n",
      "  [   0.000    0.000   -0.000   -0.693   -0.000   -0.315   -0.000]\n",
      "  [   0.000    0.000    0.000    0.000    0.536    0.000    0.000]\n",
      "  [   0.000    0.000    0.000    0.000   -0.000    0.378    0.000]\n",
      "  [   0.000    0.000    0.000    0.000    0.000    0.000    0.000]\n",
      "  [   0.000    0.000    0.000    0.000    0.000    0.000    0.000]\n",
      "  [   0.000    0.000    0.000    0.000    0.000    0.000    0.000]]]\n"
     ]
    }
   ],
   "source": [
    "def getHessian(q):\n",
    "    h = 0.000001\n",
    "    J = fk.getBodyJacobian(q)\n",
    "\n",
    "    # Initialize the Hessian tensor\n",
    "    H = np.zeros((6, fk.dof, fk.dof))\n",
    "\n",
    "    for i in range(fk.dof):\n",
    "        q_temp = q.copy()\n",
    "        q_temp[i] += h\n",
    "        J_temp = fk.getBodyJacobian(q_temp)\n",
    "        H[:, :, i] = (J_temp - J) / h\n",
    "\n",
    "    return H\n",
    "\n",
    "# non singular joint position\n",
    "q_example = [0,0,0,2,0,1,2]\n",
    "\n",
    "print(\"manipulator Hessian: \")\n",
    "print(getHessian(q_example))"
   ]
  },
  {
   "cell_type": "markdown",
   "id": "78afe4b3-5fad-4d8f-8a37-ed49c27de6dc",
   "metadata": {},
   "source": [
    "Following the derivaion of the manipulability gradient $J_m$ from (quelle) the hessian is used in combination with the body jacobian to have an analytical representation of the manipulability gradient which was just before computed numerically.\n",
    "\n",
    "$$\n",
    "J_m(\\theta) = \\sqrt{ \\det \\left( J(\\theta)J(\\theta)^T \\right)}\n",
    "\\begin{bmatrix}\n",
    "\\text{vec}(J(\\theta)H_1(\\theta)^T) & \\text{vec}((J(\\theta)J(\\theta)^T)^{-1}) \\\\\n",
    "\\text{vec}(J(\\theta)H_2(\\theta)^T) & \\text{vec}((J(\\theta)J(\\theta)^T)^{-1}) \\\\\n",
    "\\vdots & \\vdots \\\\\n",
    "\\text{vec}(J(\\theta)H_{DoF}(\\theta)^T) & \\text{vec}((J(\\theta)J(\\theta)^T)^{-1})\n",
    "\\end{bmatrix}\n",
    "$$\n",
    "\n",
    "is the manipulability Jacobian $J_m \\in \\mathbb{R}^{DoF}$ and where the matrix vector operation $\\text{vec}(\\cdot) : \\mathbb{R}^{a \\times b} \\rightarrow \\mathbb{R}^{ab}$ converts a matrix column-wise into a vector, and $H_i \\in \\mathbb{R}^{6 \\times DoF}$ is the $i^{th}$ component of the manipulator Hessian tensor $H \\in \\mathbb{R}^{6 \\times DoF \\times DoF}$."
   ]
  },
  {
   "cell_type": "code",
   "execution_count": 57,
   "id": "b2cd2b87-9067-4db6-a481-2d83cafcd6a9",
   "metadata": {
    "tags": []
   },
   "outputs": [
    {
     "name": "stdout",
     "output_type": "stream",
     "text": [
      "manipulator Hessian: \n",
      "[   0.000    0.000    0.000    0.000    0.000    0.000    0.000]\n"
     ]
    }
   ],
   "source": [
    "def analytic_manipulability_gradient(q):\n",
    "\n",
    "    J = fk.getBodyJacobian(q)\n",
    "    H = fk.getHessian(q)\n",
    "    m = manipulability(q)\n",
    "\n",
    "    b = np.linalg.inv(J@J.T)\n",
    "\n",
    "    Jm = np.zeros(fk.dof)\n",
    "    for i in range(fk.dof):\n",
    "        c = J @ H[:,:,i].T\n",
    "        Jm[i] = m*(c.flatten().T)@b.flatten()\n",
    "\n",
    "    return Jm\n",
    "\n",
    "# non singular joint position\n",
    "q_example = [0,0,0,1.5708,0,0,0]\n",
    "\n",
    "print(\"manipulator Hessian: \")\n",
    "print(analytic_manipulability_gradient(q_example))"
   ]
  },
  {
   "cell_type": "markdown",
   "id": "3bcfbb06-7231-4eda-a6f2-d18a646a39a3",
   "metadata": {},
   "source": [
    "The manipulability gradient $J_m$ can later be used as gradient in the Quadratic programming problemn to maximize the manipulability of the manipulator.\n",
    "\n",
    "$$\n",
    "\\dot{m} = J^T_m(q) \\dot{q}\n",
    "$$\n",
    "\n",
    "as can be seen by moving the robot in a singular position, the gradient degenerates to zero in the analyticase, and moves in an usuitable direction in the numerical computation case. In bad cases. e.g. $q_4 = 0$, the inversion of $J(\\theta)J(\\theta)^T$ even becomes infeasible. To counter this undesirable behavior and to make sure that optimization is also possible in singular configuration, as well as to incoorperate the directional dependancy a new manipulability gradient is formulated.\n",
    "\n",
    "$$\n",
    "J_{dir}(\\theta) = \n",
    "\\begin{bmatrix}\n",
    "\\text{vec}(W_{dir} J(\\theta)H_1(\\theta)^T) & \\text{vec}((J(\\theta)J(\\theta)^T  + \\lambda I)^{-1}) \\\\\n",
    "\\text{vec}(W_{dir} J(\\theta)H_2(\\theta)^T) & \\text{vec}((J(\\theta)J(\\theta)^T + \\lambda I)^{-1}) \\\\\n",
    "\\vdots & \\vdots \\\\\n",
    "\\text{vec}(W_{dir} J(\\theta)H_{DoF}(\\theta)^T) & \\text{vec}((J(\\theta)J(\\theta)^T + \\lambda I)^{-1})\n",
    "\\end{bmatrix}\n",
    "$$\n",
    "\n",
    "where the weighting matrix $W_{dir} \\in \\mathbb{R}^{6 \\times 6}$ has the directional components of the desired task directions on its diagonal. The task directions matching to the body Jacobian and body Hessian $J_b(\\theta)$ and $H_b(\\theta)$ are defined in the end-effector frame, and can be written like this:\n",
    "\n",
    "$$\n",
    " dir = \\left( o_x, o_y, o_z, t_x, t_y, t_z \\right)\n",
    "$$\n",
    "\n",
    "where $o$ describes the orientational directions and $t$ the translational directions.\n",
    "The dampening factor $\\lambda$ is chosen to be a small value that adequatly dampens the inversion of $J(\\theta)J(\\theta)^T$ so that the gradient is well defined at all times. "
   ]
  },
  {
   "cell_type": "code",
   "execution_count": 58,
   "id": "92fe1c07-800f-4b0e-b6f8-44cb83c5be21",
   "metadata": {
    "tags": []
   },
   "outputs": [
    {
     "name": "stdout",
     "output_type": "stream",
     "text": [
      "[   0.000    0.000    0.000    0.000    0.000   -0.000    0.000]\n"
     ]
    }
   ],
   "source": [
    "def dir_manipulability_gradient(q, direction):\n",
    "\n",
    "    J = fk.getBodyJacobian(q)\n",
    "    H = fk.getHessian(q)\n",
    "    W = np.diag(direction)\n",
    "\n",
    "    b = np.linalg.inv(J@J.T + np.eye(6)*0.01)\n",
    "\n",
    "    Jm = np.zeros(fk.dof)\n",
    "    for i in range(fk.dof):\n",
    "        c = W @ J @ H[:,:,i].T\n",
    "        Jm[i] = (c.flatten().T)@b.flatten()\n",
    "\n",
    "    return Jm\n",
    "\n",
    "\n",
    "# non singular joint position\n",
    "q_example = [0,0,0,np.pi*0.5,0,0,0]\n",
    "\n",
    "direction = np.array([0,0,1, 0,0,0])\n",
    "\n",
    "\n",
    "print(dir_manipulability_gradient(q_example, direction))"
   ]
  },
  {
   "cell_type": "markdown",
   "id": "ec90227e-483e-4d9b-857d-54bb0513731b",
   "metadata": {},
   "source": [
    "The code block above shows the implementation in Python.\n",
    "\n",
    "\n",
    "## Quadratic Program Formulation\n",
    "\n",
    "The Quadratic program formulation differs from the common standard appraoch seen in most literature. First of all, we will formulate it as closed loop and scalable differential kinematics to be sure that the problem is feasible at all times. If the problem is not scalable and the robot is in singular configurations it is often common that the QP is not solvable.\n",
    "\n",
    "$$\n",
    "\\begin{align*}\n",
    "\\min_{x}& \\; f(x) = \\frac{1}{2} x^T P x + q^T x \\\\\n",
    "\\textrm{s. t. }& \\; Jx = v \\\\\n",
    "& \\; l \\leq Ax \\leq u \\\\\n",
    "\\end{align*}\n",
    "$$\n",
    "\n",
    "Besides that, instead of the standard twist or geometric jacobians the earlier introduces dual quaternioin jacobian $J_\\mathbb{H}$. To incoorperate joint velocity limits we extend the A matrix"
   ]
  },
  {
   "cell_type": "markdown",
   "id": "31746c9b-9d9b-49f1-89bf-9e5a7944de99",
   "metadata": {},
   "source": [
    "The QP formulation can be expressed as:\n",
    "\n",
    "$$\n",
    "\\begin{align*}\n",
    "\\min_{x}& \\; f(x) = \\frac{1}{2} x^T P x + q^T x \\\\\n",
    "\\textrm{s. t. }& \\; Jx = v \\\\\n",
    "& \\; l \\leq Ax \\leq u \\\\\n",
    "\\end{align*}\n",
    "$$\n"
   ]
  },
  {
   "cell_type": "code",
   "execution_count": null,
   "id": "67f6d594-13a0-4c20-a60a-f857b7a02fdd",
   "metadata": {},
   "outputs": [],
   "source": []
  },
  {
   "cell_type": "code",
   "execution_count": null,
   "id": "10cbece7-72f8-4d5e-9fb7-a1ddcf30d066",
   "metadata": {},
   "outputs": [],
   "source": []
  },
  {
   "cell_type": "code",
   "execution_count": null,
   "id": "3c8f96aa-5003-4467-97a3-06ea8e4fafe3",
   "metadata": {},
   "outputs": [],
   "source": []
  },
  {
   "cell_type": "code",
   "execution_count": null,
   "id": "a2f9c843-95db-4034-8321-dccd579ca295",
   "metadata": {},
   "outputs": [],
   "source": []
  },
  {
   "cell_type": "code",
   "execution_count": null,
   "id": "8acfbfbc-f143-4557-83c4-b02a15f4c92d",
   "metadata": {},
   "outputs": [],
   "source": []
  },
  {
   "cell_type": "code",
   "execution_count": null,
   "id": "8feba210-a4d2-44ce-9119-eba8443fba57",
   "metadata": {},
   "outputs": [],
   "source": []
  }
 ],
 "metadata": {
  "citation-manager": {
   "items": {
    "zotero": {
     "16222978/B7SE9C3S": {
      "DOI": "10.1177/027836498500400201",
      "URL": "http://journals.sagepub.com/doi/10.1177/027836498500400201",
      "abstract": "This paper discusses the manipulating ability of robotic mechanisms in positioning and orienting end-effectors and proposes a measure of manipulability. Some properties of this measure are obtained, the best postures of various types of manipulators are given, and a four-degree-of-freedom finger is considered from the viewpoint of the measure. The pos tures somewhat resemble those of human arms and fingers.",
      "accessed": {
       "date-parts": [
        [
         2023,
         12,
         14
        ]
       ]
      },
      "author": [
       {
        "family": "Yoshikawa",
        "given": "Tsuneo"
       }
      ],
      "container-title": "The International Journal of Robotics Research",
      "id": "16222978/B7SE9C3S",
      "issue": "2",
      "issued": {
       "date-parts": [
        [
         "1985"
        ]
       ]
      },
      "journalAbbreviation": "The International Journal of Robotics Research",
      "language": "en",
      "page": "3-9",
      "system_id": "zotero|16222978/B7SE9C3S",
      "title": "Manipulability of Robotic Mechanisms",
      "type": "article-journal",
      "volume": "4"
     },
     "16222978/PIMK7NG3": {
      "DOI": "10.48550/ARXIV.1711.08013",
      "URL": "https://arxiv.org/abs/1711.08013",
      "abstract": "We present a general-purpose solver for convex quadratic programs based on the alternating direction method of multipliers, employing a novel operator splitting technique that requires the solution of a quasi-definite linear system with the same coefficient matrix at almost every iteration. Our algorithm is very robust, placing no requirements on the problem data such as positive definiteness of the objective function or linear independence of the constraint functions. It can be configured to be division-free once an initial matrix factorization is carried out, making it suitable for real-time applications in embedded systems. In addition, our technique is the first operator splitting method for quadratic programs able to reliably detect primal and dual infeasible problems from the algorithm iterates. The method also supports factorization caching and warm starting, making it particularly efficient when solving parametrized problems arising in finance, control, and machine learning. Our open-source C implementation OSQP has a small footprint, is library-free, and has been extensively tested on many problem instances from a wide variety of application areas. It is typically ten times faster than competing interior-point methods, and sometimes much more when factorization caching or warm start is used. OSQP has already shown a large impact with tens of thousands of users both in academia and in large corporations.",
      "accessed": {
       "date-parts": [
        [
         2023,
         12,
         13
        ]
       ]
      },
      "author": [
       {
        "family": "Stellato",
        "given": "Bartolomeo"
       },
       {
        "family": "Banjac",
        "given": "Goran"
       },
       {
        "family": "Goulart",
        "given": "Paul"
       },
       {
        "family": "Bemporad",
        "given": "Alberto"
       },
       {
        "family": "Boyd",
        "given": "Stephen"
       }
      ],
      "id": "16222978/PIMK7NG3",
      "issued": {
       "date-parts": [
        [
         2017
        ]
       ]
      },
      "shortTitle": "OSQP",
      "system_id": "zotero|16222978/PIMK7NG3",
      "title": "OSQP: An Operator Splitting Solver for Quadratic Programs",
      "type": "article-journal"
     }
    }
   }
  },
  "kernelspec": {
   "display_name": "Python 3 (ipykernel)",
   "language": "python",
   "name": "python3"
  },
  "language_info": {
   "codemirror_mode": {
    "name": "ipython",
    "version": 3
   },
   "file_extension": ".py",
   "mimetype": "text/x-python",
   "name": "python",
   "nbconvert_exporter": "python",
   "pygments_lexer": "ipython3",
   "version": "3.11.4"
  }
 },
 "nbformat": 4,
 "nbformat_minor": 5
}
