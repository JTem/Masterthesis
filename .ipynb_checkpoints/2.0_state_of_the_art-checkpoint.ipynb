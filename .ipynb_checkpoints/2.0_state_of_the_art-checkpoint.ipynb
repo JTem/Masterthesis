{
 "cells": [
  {
   "cell_type": "markdown",
   "id": "e20bfbf0-76bd-45b8-9af9-a60d0bfb86c7",
   "metadata": {
    "citation-manager": {
     "citations": {
      "0yeem": [
       {
        "id": "16222978/WHL4UY7J",
        "source": "zotero"
       }
      ],
      "8adyb": [
       {
        "id": "16222978/UIFPWU6T",
        "source": "zotero"
       }
      ],
      "9xuo9": [
       {
        "id": "16222978/CX5ZL77E",
        "source": "zotero"
       }
      ],
      "cxdpo": [
       {
        "id": "16222978/W8EF482S",
        "source": "zotero"
       }
      ],
      "dtv7r": [
       {
        "id": "16222978/42TNDPMV",
        "source": "zotero"
       }
      ],
      "pblwl": [
       {
        "id": "16222978/PSIMY75M",
        "source": "zotero"
       }
      ],
      "x7lov": [
       {
        "id": "16222978/BPUMZXI3",
        "source": "zotero"
       }
      ],
      "zu78w": [
       {
        "id": "16222978/JTQ8HGEP",
        "source": "zotero"
       }
      ]
     }
    },
    "tags": []
   },
   "source": [
    "# State of the Art\n",
    "\n",
    "This chapter will cover the State of the art of current common solutions for trajectory tracking of redundant robots.It will show the state of the Art of Forward Kinematics, Differential Kinematics and the application of the differential kinematics to redundant robots. In the end of this chapter the application of Dual Quaternions to both problems and currently available literature is discussed and a comparison of the current state of the art will be shown, depicting the lack of robust sinularity handling during robot trajectory tracking.\n",
    "\n",
    "## Forward Kinematics\n",
    "\n",
    "At the base of each robotic systems the Forward Kinematic Convetion has to be chosen. Here, three common types can be found in literature, the well know Denevit-Hartenberg-Convention (DH-Convention) <cite id=\"dtv7r\"><a href=\"#zotero%7C16222978%2F42TNDPMV\">(Denavit &#38; Hartenberg, 1955)</a></cite> and its abbreviations like modified-DH <cite id=\"cxdpo\"><a href=\"#zotero%7C16222978%2FW8EF482S\">(A Chennakesava Reddy, 2014)</a></cite>, the matrix exponential approach which was made popular by Lynch and Park <cite id=\"8adyb\"><a href=\"#zotero%7C16222978%2FUIFPWU6T\">(Lynch &#38; Park, 2017)</a></cite> and the Elemental Transform Sequence (ETS) approach which was introduced by Jesse Haviland and Peter Corke <cite id=\"0yeem\"><a href=\"#zotero%7C16222978%2FWHL4UY7J\">(Haviland &#38; Corke, 2020)</a></cite>. \n",
    "These methods will be briefly introduced and compared. An extension to dual quaternions will also be discussed.\n",
    "\n",
    "#### Denavit-Hartenberg (DH) Convention\n",
    "The Denavit-Hartenberg (DH) Convention is a standardized and minimal representative method to express the kinematic geometry of robotic arms. This approach simplifies the complex kinematic structure of a robot into a series of simple transformations. Each joint and link of the robot is represented by four parameters: link length, link twist, link offset, and joint angle. These parameters define the transformation from one link to the next. The DH Convention has been widely adopted due to its systematic approach, allowing for a structured and simplified, yet restrictive representation of the robot's kinematics.\n",
    "\n",
    "#### Matrix Exponential Approach\n",
    "Moving beyond the traditional DH Convention, the matrix exponential approach offers a more versatile representation of kinematics. It is grounded in the concept of Lie groups and Lie algebras, where the kinematics are expressed in terms of exponential coordinates. This method is particularly effective in handling the kinematics of complex robotic systems, including those with closed chains and singular configurations. The matrix exponential approach provides a compact and elegant way to represent the kinematic equations, facilitating efficient computation and analysis.\n",
    "\n",
    "#### Elemental Transform Sequence\n",
    "The Elemental Transform Sequence is a modern approach that offers an alternative to the DH method. ETS breaks down the kinematics into a series of elementary transformations, which can be easily understood and visualized. This method provides a more intuitive way of representing robot kinematics, especially for those with complex or unconventional structures. Unlike the DH method, ETS does not impose a fixed order of transformations, granting more flexibility in defining the kinematic chain.\n",
    "\n",
    "## Inverse Kinematics\n",
    "\n",
    "Inverse Kinematics (IK) is a fundamental aspect of robotic control, central to the translation of desired end-effector positions and orientations into the necessary joint configurations. This subchapter explores the state of the Art of IK methodologies, from early analytical techniques to the contemporary landscape dominated by inverse differential kinematics, underscoring the pivotal advancements and diverse approaches that have shaped this field.\n",
    "\n",
    "#### Analytical/Geometric Inverse Kinematics\n",
    "For simpler robotic systems a lot of literature describes the IK problem if often solved using geometric or algebraic methods on position level <cite id=\"zu78w\"><a href=\"#zotero%7C16222978%2FJTQ8HGEP\">(Sun et al., 2017)</a></cite>, <cite id=\"pblwl\"><a href=\"#zotero%7C16222978%2FPSIMY75M\">(Wang et al., 2018)</a></cite>. These methods, while intuitive, are limited in scope and applicability, especially as robotic systems grew in complexity and the task requirements grew. Finding robust solutions for redundant robots is possible but the complexity of defining extra conditions grows exponentially as redundant robots often have infinite IK solutions in the case they are not singular.\n",
    "\n",
    "To fullfill these growing requirements, numerical methods have been derived, which are applicable for a variety of cobots, and dont have the requirements of intersecting / parallel axis, which is allows to find the IK solution for calibrated robots. These features give numerical methods a high value in industrial application, given their ease of use and their ability to fullfill the high accuracy requirements of modern applications.\n",
    "\n",
    "#### Numerical Inverse Kinematics\n",
    "To fullfill the growing requirements, numerical methods have been derived, particularly iterative techniques that use the Jacobian matrix to progressively converge to the desired end-effector position <cite id=\"x7lov\"><a href=\"#zotero%7C16222978%2FBPUMZXI3\">(Goldenberg et al., 1985)</a></cite>. These methods are generalizable and applicable to a broad range cobots, and do not have the requirement of intersecting axis, which are common in geometric/analytical approaches, allowing to also find the IK solution for calibrated robots. These features give numerical methods a high value in industrial applications, given their ease of use and their ability to fullfill the high requirements in accuracy and flexibility of modern applications.\n",
    "\n",
    "Optimization algorithms emerged as another powerful tool, framing the IK problem as an optimization task. This perspective allowed for the minimization of errors between the desired and actual end-effector positions, further expanding the utility of IK in complex robotic applications, as these methods offer the easy integration of boundary conditions and extra optimization critera. A common IK based on optimization is the well known TRAC-IK library <cite id=\"9xuo9\"><a href=\"#zotero%7C16222978%2FCX5ZL77E\">(Beeson &#38; Ames, 2015)</a></cite>.\n",
    "\n",
    "#### Inverse Differential Kinematics\n",
    "Inverse differential kinematics are based on the same concepts as the iterative IK algorithms. Instead of iteratively reducing the error between the current end-effector and the desired end-effektor position, the inverse differential kinematics shifts the focus to the robot's velocity level, computing the desired joint velocities based on the desired endeffektor velocity. Differential Kinematics are vital for dynamic tasks requiring real-time solutions. This method's integration into control systems has been instrumental in achieving smoother and more responsive robot movements. \n",
    "\n",
    "\n",
    "#### Redundant Cobots\n",
    "The issue of redundancy, particularly prevalent in robots with extra DoFs, brought additional challenges. Multiple solutions to the IK problem necessitated the development of strategies to identify optimal joint configurations, often prioritizing factors such as energy efficiency, manipulability or obstacle avoidance."
   ]
  },
  {
   "cell_type": "markdown",
   "id": "e5d15434-1615-4fa3-894c-f52b494d917a",
   "metadata": {},
   "source": [
    "weitere ideen: \n",
    "\n",
    "#### Extension to Dual Quaternions\n",
    "Dual quaternions extend the concept of quaternions from representing rotations to representing both rotations and translations in 3D space. This extension is particularly beneficial for expressing the kinematics of robotic systems. Dual quaternions offer a compact, non-singular representation for 3D transformations, providing advantages in computational efficiency and numerical stability. When integrated with forward kinematics, dual quaternions allow for a more robust and efficient handling of robot motions, especially in 3D space where rotations and translations are intertwined. This approach is gaining popularity in advanced robotic applications, such as those involving 6-DOF (Degrees of Freedom) manipulators, where precision and computational efficiency are paramount.\n",
    "\n",
    "\n",
    "\n",
    "In conclusion, the advancement from traditional DH Convention to modern approaches like matrix exponential, ETS, and the incorporation of dual quaternions, demonstrates the continuous evolution in the field of robot kinematics. These methodologies offer diverse ways to approach complex kinematic problems, each with its own set of advantages, catering to the specific needs of various robotic applications."
   ]
  },
  {
   "cell_type": "markdown",
   "id": "9590a669-710f-4a7e-97ed-cb5246adf407",
   "metadata": {
    "tags": []
   },
   "source": [
    "# State of the Art in Robot Differential Kinematics\n",
    "\n",
    "## Introduction\n",
    "\n",
    "Differential kinematics stands at the forefront of robotic research and development. It encapsulates the relationship between the velocities of a robot's joints and the motion of its end-effector. In this chapter, we delve into the current advancements, methodologies, and practical applications in this field, highlighting how these innovations are shaping the future of robotic movements and controls.\n",
    "\n",
    "## Theoretical Background\n",
    "\n",
    "### Kinematic Models\n",
    "\n",
    "Kinematic models are the foundation of understanding robot movement. \n",
    "\n",
    "- **Direct Kinematics:** This model focuses on determining the position and orientation of the robot's end-effector based on known joint variables. It's crucial for predicting the outcome of specific joint movements.\n",
    "  \n",
    "- **Inverse Kinematics:** In contrast, inverse kinematics deals with finding the necessary joint variables to achieve a desired end-effector position. This is particularly challenging due to potential multiple solutions or even the absence of a solution in certain configurations.\n",
    "\n",
    "- **Jacobian Matrix:** The Jacobian matrix is a cornerstone in differential kinematics. It linearly maps joint velocities to end-effector velocities and is pivotal in analyzing robot velocity, force, and manipulability.\n",
    "\n",
    "### Differential Kinematics\n",
    "\n",
    "- **Velocity Mapping:** A core aspect of differential kinematics is understanding how joint velocities translate into end-effector movements. This understanding is vital for smooth and precise robot operations.\n",
    "  \n",
    "- **Singularity Analysis:** Singularities occur when the Jacobian loses rank, leading to a loss in the robot's ability to move in certain directions. Managing these singularities is crucial for maintaining robot functionality and safety.\n",
    "\n",
    "## Technological Advancements\n",
    "\n",
    "### Computational Methods\n",
    "\n",
    "- **Numerical Optimization:** Advanced numerical methods are now employed to solve complex inverse kinematics problems, especially for robots with many degrees of freedom or redundant systems.\n",
    "\n",
    "- **Machine Learning Approaches:** Artificial intelligence, particularly machine learning, is increasingly being used to predict kinematic behaviors and optimize robot movements.\n",
    "\n",
    "### Sensor Integration\n",
    "\n",
    "- **Real-Time Feedback:** The integration of advanced sensors allows for real-time kinematic model adjustments. This enhances the accuracy and adaptability of robotic systems in dynamic environments.\n",
    "\n",
    "## Application Areas\n",
    "\n",
    "### Industrial Robotics\n",
    "\n",
    "- **High-Precision Tasks:** In manufacturing, robots perform tasks requiring high precision and repeatability. Differential kinematics is central to achieving these requirements.\n",
    "\n",
    "- **Path Planning:** Automated assembly lines utilize complex trajectory planning, where differential kinematics ensures efficient and accurate robot movements.\n",
    "\n",
    "### Medical Robotics\n",
    "\n",
    "- **Surgical Robots:** In minimally invasive surgeries, robots need precise control, which is provided through sophisticated differential kinematic models.\n",
    "\n",
    "- **Rehabilitation Robots:** These robots use customized kinematic solutions to cater to specific rehabilitation needs, adapting to different patient requirements.\n",
    "\n",
    "### Humanoid Robotics\n",
    "\n",
    "- **Bipedal Locomotion:** One of the most challenging areas in humanoid robotics is achieving stable and dynamic bipedal movement, which relies heavily on differential kinematics.\n",
    "\n",
    "- **Human-Robot Interaction:** Safe and natural interactions between humans and robots demand sophisticated kinematic models to mimic human movements accurately.\n",
    "\n",
    "## Challenges and Future Directions\n",
    "\n",
    "### Redundancy Resolution\n",
    "\n",
    "- **Optimization Techniques:** Efficiently managing redundant degrees of freedom in robotic systems remains a significant challenge, necessitating advanced optimization techniques.\n",
    "\n",
    "### Adaptive Control\n",
    "\n",
    "- **Learning-Based Models:** Adaptable control strategies are essential for robots operating in unpredictable environments, leading to an increased focus on learning-based kinematic models.\n",
    "\n",
    "### Collaborative Robotics\n",
    "\n",
    "- **Human Safety:** Ensuring human safety in environments where humans and robots collaborate closely is a growing area of focus. Advanced kinematic control systems are being developed to facilitate these interactions safely.\n",
    "\n",
    "## Conclusion\n",
    "\n",
    "The exploration into robot differential kinematics is an ever-evolving field, driven by both technological advances and the increasing complexity of robotic applications. The future points towards intelligent, adaptable, and human-centric robotic systems, where differential kinematics will play a crucial role in enabling these innovations.\n",
    "\n"
   ]
  },
  {
   "cell_type": "code",
   "execution_count": null,
   "id": "c1c71a9a-9117-4b95-8824-cddd4febaab4",
   "metadata": {},
   "outputs": [],
   "source": []
  }
 ],
 "metadata": {
  "citation-manager": {
   "items": {
    "zotero": {
     "16222978/42TNDPMV": {
      "DOI": "10.1115/1.4011045",
      "URL": "https://asmedigitalcollection.asme.org/appliedmechanics/article/22/2/215/1110292/A-Kinematic-Notation-for-Lower-Pair-Mechanisms",
      "abstract": "Abstract\n            A symbolic notation devised by Reuleaux to describe mechanisms did not recognize the necessary number of variables needed for complete description. A reconsideration of the problem leads to a symbolic notation which permits the complete description of the kinematic properties of all lower-pair mechanisms by means of equations. The symbolic notation also yields a method for studying lower-pair mechanisms by means of matrix algebra; two examples of application to space mechanisms are given.",
      "accessed": {
       "date-parts": [
        [
         2023,
         12,
         12
        ]
       ]
      },
      "author": [
       {
        "family": "Denavit",
        "given": "J."
       },
       {
        "family": "Hartenberg",
        "given": "R. S."
       }
      ],
      "container-title": "Journal of Applied Mechanics",
      "id": "16222978/42TNDPMV",
      "issue": "2",
      "issued": {
       "date-parts": [
        [
         1955,
         6,
         1
        ]
       ]
      },
      "language": "en",
      "page": "215-221",
      "system_id": "zotero|16222978/42TNDPMV",
      "title": "A Kinematic Notation for Lower-Pair Mechanisms Based on Matrices",
      "type": "article-journal",
      "volume": "22"
     },
     "16222978/BPUMZXI3": {
      "DOI": "10.1109/JRA.1985.1086995",
      "URL": "http://ieeexplore.ieee.org/document/1086995/",
      "accessed": {
       "date-parts": [
        [
         2023,
         12,
         12
        ]
       ]
      },
      "author": [
       {
        "family": "Goldenberg",
        "given": "A."
       },
       {
        "family": "Benhabib",
        "given": "B."
       },
       {
        "family": "Fenton",
        "given": "R."
       }
      ],
      "container-title": "IEEE Journal on Robotics and Automation",
      "id": "16222978/BPUMZXI3",
      "issue": "1",
      "issued": {
       "date-parts": [
        [
         1985
        ]
       ]
      },
      "journalAbbreviation": "IEEE J. Robot. Automat.",
      "page": "14-20",
      "system_id": "zotero|16222978/BPUMZXI3",
      "title": "A complete generalized solution to the inverse kinematics of robots",
      "type": "article-journal",
      "volume": "1"
     },
     "16222978/CX5ZL77E": {
      "DOI": "10.1109/HUMANOIDS.2015.7363472",
      "ISBN": "9781479968855",
      "URL": "http://ieeexplore.ieee.org/document/7363472/",
      "accessed": {
       "date-parts": [
        [
         2023,
         11,
         22
        ]
       ]
      },
      "author": [
       {
        "family": "Beeson",
        "given": "Patrick"
       },
       {
        "family": "Ames",
        "given": "Barrett"
       }
      ],
      "container-title": "2015 IEEE-RAS 15th International Conference on Humanoid Robots (Humanoids)",
      "event": "2015 IEEE-RAS 15th International Conference on Humanoid Robots (Humanoids)",
      "event-place": "Seoul, South Korea",
      "id": "16222978/CX5ZL77E",
      "issued": {
       "date-parts": [
        [
         "2015"
        ]
       ]
      },
      "page": "928-935",
      "publisher": "IEEE",
      "publisher-place": "Seoul, South Korea",
      "shortTitle": "TRAC-IK",
      "system_id": "zotero|16222978/CX5ZL77E",
      "title": "TRAC-IK: An open-source library for improved solving of generic inverse kinematics",
      "type": "paper-conference"
     },
     "16222978/JTQ8HGEP": {
      "DOI": "10.1109/URAI.2017.7992807",
      "ISBN": "978-1-5090-3056-9",
      "URL": "http://ieeexplore.ieee.org/document/7992807/",
      "accessed": {
       "date-parts": [
        [
         2023,
         12,
         12
        ]
       ]
      },
      "author": [
       {
        "family": "Sun",
        "given": "Jun-Di"
       },
       {
        "family": "Cao",
        "given": "Guang-Zhong"
       },
       {
        "family": "Li",
        "given": "Wen-Bo"
       },
       {
        "family": "Liang",
        "given": "Yu-Xin"
       },
       {
        "family": "Huang",
        "given": "Su-Dan"
       }
      ],
      "container-title": "2017 14th International Conference on Ubiquitous Robots and Ambient Intelligence (URAI)",
      "event": "2017 14th International Conference on Ubiquitous Robots and Ambient Intelligence (URAI)",
      "event-place": "Jeju",
      "id": "16222978/JTQ8HGEP",
      "issued": {
       "date-parts": [
        [
         "2017"
        ]
       ]
      },
      "page": "714-716",
      "publisher": "IEEE",
      "publisher-place": "Jeju",
      "system_id": "zotero|16222978/JTQ8HGEP",
      "title": "Analytical inverse kinematic solution using the D-H method for a 6-DOF robot",
      "type": "paper-conference"
     },
     "16222978/PSIMY75M": {
      "DOI": "10.1109/ROBIO.2018.8665317",
      "ISBN": "978-1-72810-377-8",
      "URL": "https://ieeexplore.ieee.org/document/8665317/",
      "accessed": {
       "date-parts": [
        [
         2023,
         12,
         12
        ]
       ]
      },
      "author": [
       {
        "family": "Wang",
        "given": "Jianyu"
       },
       {
        "family": "Shao",
        "given": "Zhenzhou"
       },
       {
        "family": "Kang",
        "given": "He"
       },
       {
        "family": "Zhao",
        "given": "Hongfa"
       },
       {
        "family": "Song",
        "given": "Guoli"
       },
       {
        "family": "Guan",
        "given": "Yong"
       }
      ],
      "container-title": "2018 IEEE International Conference on Robotics and Biomimetics (ROBIO)",
      "event": "2018 IEEE International Conference on Robotics and Biomimetics (ROBIO)",
      "event-place": "Kuala Lumpur, Malaysia",
      "id": "16222978/PSIMY75M",
      "issued": {
       "date-parts": [
        [
         "2018"
        ]
       ]
      },
      "page": "2508-2513",
      "publisher": "IEEE",
      "publisher-place": "Kuala Lumpur, Malaysia",
      "system_id": "zotero|16222978/PSIMY75M",
      "title": "Inverse Kinematics of 6-DOF Robot Manipulator via Analytic Solution with Conformal Geometric Algebra",
      "type": "paper-conference"
     },
     "16222978/UIFPWU6T": {
      "ISBN": "9781107156302 9781316609842",
      "author": [
       {
        "family": "Lynch",
        "given": "Kevin M."
       },
       {
        "family": "Park",
        "given": "Frank C."
       }
      ],
      "call-number": "TJ211 .L96 2017",
      "event-place": "Cambridge, UK",
      "id": "16222978/UIFPWU6T",
      "issued": {
       "date-parts": [
        [
         2017
        ]
       ]
      },
      "note": "OCLC: ocn983881868",
      "number-of-pages": "528",
      "publisher": "Cambridge University Press",
      "publisher-place": "Cambridge, UK",
      "shortTitle": "Modern robotics",
      "system_id": "zotero|16222978/UIFPWU6T",
      "title": "Modern robotics: mechanics, planning, and control",
      "type": "book"
     },
     "16222978/W8EF482S": {
      "DOI": "10.13140/2.1.2012.9607",
      "URL": "http://rgdoi.net/10.13140/2.1.2012.9607",
      "accessed": {
       "date-parts": [
        [
         2023,
         12,
         12
        ]
       ]
      },
      "author": [
       {
        "family": "A Chennakesava Reddy",
        "given": ""
       }
      ],
      "id": "16222978/W8EF482S",
      "issued": {
       "date-parts": [
        [
         2014
        ]
       ]
      },
      "language": "en",
      "note": "Publisher: Unpublished",
      "system_id": "zotero|16222978/W8EF482S",
      "title": "DIFFERENCE BETWEEN DENAVIT - HARTENBERG (D-H) CLASSICAL AND MODIFIED CONVENTIONS FOR FORWARD KINEMATICS OF ROBOTS WITH CASE STUDY",
      "type": "article-journal"
     },
     "16222978/WHL4UY7J": {
      "URL": "http://arxiv.org/abs/2010.08696",
      "abstract": "The elementary transform sequence (ETS) provides a universal method of describing the kinematics of any serial-link manipulator. The ETS notation is intuitive and easy to understand, while avoiding the complexity and limitations of Denvit-Hartenberg frame assignment. In this paper, we describe a systematic method for computing the manipulator Jacobian and Hessian (differential kinematics) using the ETS notation. Differential kinematics have many applications including numerical inverse kinematics, resolved-rate motion control and manipulability motion control. Furthermore, we provide an open-source Python library which implements our algorithm and can be interfaced with any serial-link manipulator (available at github.com/petercorke/robotics-toolbox-python).",
      "accessed": {
       "date-parts": [
        [
         2023,
         12,
         12
        ]
       ]
      },
      "author": [
       {
        "family": "Haviland",
        "given": "Jesse"
       },
       {
        "family": "Corke",
        "given": "Peter"
       }
      ],
      "id": "16222978/WHL4UY7J",
      "issued": {
       "date-parts": [
        [
         2020,
         10,
         16
        ]
       ]
      },
      "note": "arXiv:2010.08696 [cs]",
      "number": "arXiv:2010.08696",
      "publisher": "arXiv",
      "system_id": "zotero|16222978/WHL4UY7J",
      "title": "A Systematic Approach to Computing the Manipulator Jacobian and Hessian using the Elementary Transform Sequence",
      "type": "article"
     }
    }
   }
  },
  "kernelspec": {
   "display_name": "Python 3 (ipykernel)",
   "language": "python",
   "name": "python3"
  },
  "language_info": {
   "codemirror_mode": {
    "name": "ipython",
    "version": 3
   },
   "file_extension": ".py",
   "mimetype": "text/x-python",
   "name": "python",
   "nbconvert_exporter": "python",
   "pygments_lexer": "ipython3",
   "version": "3.11.4"
  }
 },
 "nbformat": 4,
 "nbformat_minor": 5
}
