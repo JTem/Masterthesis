{
 "cells": [
  {
   "cell_type": "code",
   "execution_count": 2,
   "id": "aad4e5bc-a8e2-4e35-b199-9612198bb7c3",
   "metadata": {
    "tags": []
   },
   "outputs": [],
   "source": [
    "%matplotlib widget\n",
    "from helper import *"
   ]
  },
  {
   "cell_type": "markdown",
   "id": "e13e2641-cf33-49e6-8e04-1b495fd16726",
   "metadata": {},
   "source": [
    "<h1>Dual Quaternion Differential Kinematics</h1>\n",
    "\n",
    "Differential Kinematics are an important concept in the field of robotics and automatin, dealing with the relationship between the joint velocity of the cobot and of its end effector or tool. This realationship is essential for controlling the motion of the cobot, particularly in tasks that require the path tracking in cartesian space. \n",
    "\n",
    "To derive the differential kinematics, first the cobots forward kinematics have to be defined, this is done on the example of MAiRA from Neura Robotics GmbH. These forward kinematics are then used to compute the matrix entries of the jacobian matrix $J$ which plays a pivotal role in the differential kinematics. The jacobian matrix provides a linear mapping between the joint velocoties and end-effektor velocities in the robots workspace, which is inversely used in practice to find the desired joint positions and velocities given a desired trajectory in cartesian space.\n",
    "\n",
    "The study of differential kinematics not only facilitates the understanding of the velocity kinematics of the robots motion, but also gives insights about the analysis of kinematic singularities and dexterity. Kinematic singularities are configurations of the cobot where the jacobian loses rank, and certain end-effector velocities become infeasible, which is critical for path planning and execution. \n",
    "\n",
    "In contrary to many classical approaches, the differential kinematics will be defined in the dual quaternion space $\\mathbb{H}$ to lever the benefits of dual quaternion algebra and the lack of representative singularities.\n",
    "\n",
    "In the context of this Thesis the differential kinematics play an important role as they are used in the newly developed advanced control methods which invole the model predictive controller (MPC).\n",
    "\n",
    "<h2>Screw Theoretic Forward Kinematics</h2>\n",
    "\n",
    "- replace picture with nicer more technical picture\n",
    "- find way to reference figure and table\n",
    "\n",
    "The fact that a screw transformation rotates any frame multiplied with the respecitve screw axis exponential map around the screw axis, can be leveraged to construct forward kinematics of a cobot. \n",
    "For the Forward Kinematics, each joint is represented by a screw axis, defined by its orientation and position in space, relative to the base coordinate system, in a defined and constant home position $\\underline{M}$. The homeposition and the position and orientation of the screw axis on the example of maira can be seen in Fig 3.2.1.\n",
    "\n",
    "<img src=\"./Resources/maira_screw_axis.png\" alt=\"calibration scheme\" style=\"max-width: 600px; width: 100%; display: block; margin-left: auto; margin-right: auto;margin-top: 10px;\">\n",
    "<p style=\"text-align: center; font-style: italic; margin-top: 10px;\">MAiRA robot.</p>\n",
    "    \n",
    "\n",
    "The home position typically denoted by the fact that all axis remain in their zero position, but can be chosen freely in practice. The corresponding positions and orientations of the screws as defined in the base frame of the robot can be found in table 3.1.\n",
    "\n",
    "<table>\n",
    "    <thead>\n",
    "      <tr>\n",
    "        <th>Link</th>\n",
    "        <th>rotation axis</th>\n",
    "        <th>position</th>\n",
    "      </tr>\n",
    "    </thead>\n",
    "    <tbody>\n",
    "      <tr>\n",
    "        <td>1</td>\n",
    "        <td>$(0,0,1)$</td>\n",
    "        <td>$(0,0,0)$</td>\n",
    "      </tr>\n",
    "      <tr>\n",
    "        <td>2</td>\n",
    "        <td>$(0,1,0)$</td>\n",
    "        <td>$(0,0,0.438)$</td>\n",
    "      </tr>\n",
    "      <tr>\n",
    "        <td>3</td>\n",
    "        <td>$(0,0,1)$</td>\n",
    "        <td>$(0,0,0.438)$</td>\n",
    "      </tr>\n",
    "      <tr>\n",
    "        <td>4</td>\n",
    "        <td>$(0,1,0)$</td>\n",
    "        <td>$(0,0,1.138)$</td>\n",
    "      </tr>\n",
    "      <tr>\n",
    "        <td>5</td>\n",
    "        <td>$(0,0,1)$</td>\n",
    "        <td>$(0,0,1.138)$</td>\n",
    "      </tr>\n",
    "      <tr>\n",
    "        <td>6</td>\n",
    "        <td>$(0,1,0)$</td>\n",
    "        <td>$(0,0,1.838)$</td>\n",
    "      </tr>\n",
    "      <tr>\n",
    "        <td>7</td>\n",
    "        <td>$(0,0,1)$</td>\n",
    "        <td>$(0,0,1.838)$</td>\n",
    "      </tr>\n",
    "    </tbody>\n",
    "  </table>\n",
    "  \n",
    "with the screws $\\bar{\\underline{s}}_i$ constructed from the table and the joint angles $\\theta_i$ we can now define the dual quaternion screw transformations: \n",
    "\n",
    "$$\n",
    "\\underline{\\xi}_i = e^{\\frac{\\theta_i}{2}\\bar{\\underline{s}}_i} \n",
    "$$\n",
    "\n",
    "with these transformations we can then define the transformation between the baseframe and the TCP $\\underline{\\xi}_{TCP}^0$\n",
    "\n",
    "$$ \n",
    "\\underline{\\xi}_{TCP}^0 = (\\Pi_{i = 0}^{n = 7} \\underline{\\xi}_i) \\underline{M}\n",
    "$$\n",
    "\n",
    "$\\underline{M}$"
   ]
  },
  {
   "cell_type": "code",
   "execution_count": 5,
   "id": "5183f724-b85a-4bed-951b-3a5beb0184ec",
   "metadata": {
    "tags": []
   },
   "outputs": [],
   "source": [
    "s1 = DualQuaternion.screwAxis(0,0,1, 0, 0, 0)\n",
    "s2 = DualQuaternion.screwAxis(0,1,0, 0, 0, 0.438)\n",
    "s3 = DualQuaternion.screwAxis(0,0,1, 0, 0, 0.438)\n",
    "s4 = DualQuaternion.screwAxis(0,1,0, 0, 0, 1.138)\n",
    "s5 = DualQuaternion.screwAxis(0,0,1, 0, 0, 1.138)\n",
    "s6 = DualQuaternion.screwAxis(0,1,0, 0, 0, 1.838)\n",
    "s7 = DualQuaternion.screwAxis(0,0,1, 0, 0, 1.838)\n",
    "\n",
    "M = DualQuaternion.fromQuatPos(Quaternion(1,0,0,0), [0, 0, 1.953)\n",
    "                                                     \n",
    "def forward_kinematics(theta):\n",
    "    x1 = DualQuaternion.exp(0.5*theta[0]*s1)\n",
    "    x2 = DualQuaternion.exp(0.5*theta[1]*s2)\n",
    "    x3 = DualQuaternion.exp(0.5*theta[2]*s3)\n",
    "    x4 = DualQuaternion.exp(0.5*theta[3]*s4)\n",
    "    x5 = DualQuaternion.exp(0.5*theta[4]*s5)\n",
    "    x6 = DualQuaternion.exp(0.5*theta[5]*s6)\n",
    "    x7 = DualQuaternion.exp(0.5*theta[6]*s7)\n",
    "    \n",
    "    return x1*x2*x3*x4*x5*x6*x7*M"
   ]
  },
  {
   "cell_type": "markdown",
   "id": "87aae26d-ecad-4602-826e-ccab83ae7138",
   "metadata": {},
   "source": [
    "\n",
    "<h2>The Geometric Jacobain</h2>\n",
    "<h2>The Jacobian in Dual Quaternion Space $\\mathbb{H}$</h2>"
   ]
  },
  {
   "cell_type": "code",
   "execution_count": null,
   "id": "20fb3644-16be-45a3-a65e-1675872b107c",
   "metadata": {},
   "outputs": [],
   "source": []
  }
 ],
 "metadata": {
  "citation-manager": {
   "items": {}
  },
  "kernelspec": {
   "display_name": "Python 3 (ipykernel)",
   "language": "python",
   "name": "python3"
  },
  "language_info": {
   "codemirror_mode": {
    "name": "ipython",
    "version": 3
   },
   "file_extension": ".py",
   "mimetype": "text/x-python",
   "name": "python",
   "nbconvert_exporter": "python",
   "pygments_lexer": "ipython3",
   "version": "3.11.4"
  }
 },
 "nbformat": 4,
 "nbformat_minor": 5
}
