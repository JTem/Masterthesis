{
 "cells": [
  {
   "cell_type": "code",
   "execution_count": 1,
   "id": "aad4e5bc-a8e2-4e35-b199-9612198bb7c3",
   "metadata": {
    "tags": []
   },
   "outputs": [],
   "source": [
    "%matplotlib widget\n",
    "from helper import *"
   ]
  },
  {
   "cell_type": "markdown",
   "id": "e13e2641-cf33-49e6-8e04-1b495fd16726",
   "metadata": {},
   "source": [
    "<h1>Dual Quaternion Differential Kinematics</h1>\n",
    "\n",
    "Differential Kinematics are an important concept in the field of robotics and automatin, dealing with the relationship between the joint velocity of the cobot and of its end effector or tool. This realationship is essential for controlling the motion of the cobot, particularly in tasks that require the path tracking in cartesian space. \n",
    "\n",
    "To derive the differential kinematics, first the cobots forward kinematics have to be defined, this is done on the example of MAiRA from Neura Robotics GmbH. These forward kinematics are then used to compute the matrix entries of the jacobian matrix $J$ which plays a pivotal role in the differential kinematics. The jacobian matrix provides a linear mapping between the joint velocoties and end-effektor velocities in the robots workspace, which is inversely used in practice to find the desired joint positions and velocities given a desired trajectory in cartesian space.\n",
    "\n",
    "The study of differential kinematics not only facilitates the understanding of the velocity kinematics of the robots motion, but also gives insights about the analysis of kinematic singularities and dexterity. Kinematic singularities are configurations of the cobot where the jacobian loses rank, and certain end-effector velocities become infeasible, which is critical for path planning and execution. \n",
    "\n",
    "In contrary to many classical approaches, the differential kinematics will be defined in the dual quaternion space $\\mathbb{H}$ to lever the benefits of dual quaternion algebra and the lack of representative singularities.\n",
    "\n",
    "In the context of this Thesis the differential kinematics play an important role as they are used in the newly developed advanced control methods which invole the model predictive controller (MPC).\n",
    "\n",
    "<h2>Screw Theoretic Forward Kinematics</h2>\n",
    "\n",
    "- replace picture with nicer more technical picture\n",
    "- find way to reference figure and table\n",
    "\n",
    "The fact that a screw transformation rotates any frame multiplied with the respecitve screw axis exponential map around the screw axis, can be leveraged to construct forward kinematics of a cobot. \n",
    "For the Forward Kinematics, each joint is represented by a screw axis, defined by its orientation and position in space, relative to the base coordinate system, in a defined and constant home position $\\underline{M}$. The homeposition and the position and orientation of the screw axis on the example of maira can be seen in Fig 3.2.1.\n",
    "\n",
    "<img src=\"./Resources/maira_screw_axis.png\" alt=\"calibration scheme\" style=\"max-width: 600px; width: 100%; display: block; margin-left: auto; margin-right: auto;margin-top: 10px;\">\n",
    "<p style=\"text-align: center; font-style: italic; margin-top: 10px;\">MAiRA robot.</p>\n",
    "    \n",
    "\n",
    "The home position typically defined as the spatial transformation returned by the forward kinematics if all joint angles are set to zero, but can be chosen freely in practice. The corresponding positions and orientations of the screws as defined in the base frame of the robot can be found in table 3.1.\n",
    "\n",
    "<table>\n",
    "    <thead>\n",
    "      <tr>\n",
    "        <th>Link</th>\n",
    "        <th>rotation axis</th>\n",
    "        <th>position</th>\n",
    "      </tr>\n",
    "    </thead>\n",
    "    <tbody>\n",
    "      <tr>\n",
    "        <td>1</td>\n",
    "        <td>$(0,0,1)$</td>\n",
    "        <td>$(0,0,0)$</td>\n",
    "      </tr>\n",
    "      <tr>\n",
    "        <td>2</td>\n",
    "        <td>$(0,1,0)$</td>\n",
    "        <td>$(0,0,0.438)$</td>\n",
    "      </tr>\n",
    "      <tr>\n",
    "        <td>3</td>\n",
    "        <td>$(0,0,1)$</td>\n",
    "        <td>$(0,0,0.438)$</td>\n",
    "      </tr>\n",
    "      <tr>\n",
    "        <td>4</td>\n",
    "        <td>$(0,1,0)$</td>\n",
    "        <td>$(0,0,1.138)$</td>\n",
    "      </tr>\n",
    "      <tr>\n",
    "        <td>5</td>\n",
    "        <td>$(0,0,1)$</td>\n",
    "        <td>$(0,0,1.138)$</td>\n",
    "      </tr>\n",
    "      <tr>\n",
    "        <td>6</td>\n",
    "        <td>$(0,1,0)$</td>\n",
    "        <td>$(0,0,1.838)$</td>\n",
    "      </tr>\n",
    "      <tr>\n",
    "        <td>7</td>\n",
    "        <td>$(0,0,1)$</td>\n",
    "        <td>$(0,0,1.838)$</td>\n",
    "      </tr>\n",
    "    </tbody>\n",
    "  </table>\n",
    "  \n",
    "with the screws $\\bar{\\underline{s}}_i$ constructed from the table and the joint angles $\\theta_i$ the unit dual quaternionic screw transformations can be defined: \n",
    "\n",
    "$$\n",
    "\\underline{\\xi}_i = e^{\\frac{\\theta_i}{2}\\bar{\\underline{s}}_i} \n",
    "$$\n",
    "\n",
    "with these transformations we can then define the transformation between the baseframe and the TCP:\n",
    "\n",
    "$$ \n",
    "{}_0\\underline{\\xi}^{TCP} = (\\Pi_{i = 0}^{n = 7} \\underline{\\xi}_i) \\underline{M}\n",
    "$$\n",
    "\n",
    "The homemposition $\\underline{M}$ is the transformed frame, it is rotated sucessively around each screw and represents the TCP transformation ${}_0\\underline{\\xi}^{TCP}$. For this example we choose the flange position of Maira, but any transformation could be given. The following code example shows how to set up the screw theory forward kinematics for MAiRA."
   ]
  },
  {
   "cell_type": "code",
   "execution_count": 2,
   "id": "5183f724-b85a-4bed-951b-3a5beb0184ec",
   "metadata": {
    "tags": []
   },
   "outputs": [
    {
     "name": "stdout",
     "output_type": "stream",
     "text": [
      "DualQuaternion(Real: Quaternion(0.109, 0.811, 0.540, -0.197), Dual: Quaternion(-0.226, -0.192, 0.437, 0.283))\n"
     ]
    }
   ],
   "source": [
    "s1 = DualQuaternion.screwAxis(0,0,1, 0,0,0)\n",
    "s2 = DualQuaternion.screwAxis(0,1,0, 0,0,0.438)\n",
    "s3 = DualQuaternion.screwAxis(0,0,1, 0,0,0.438)\n",
    "s4 = DualQuaternion.screwAxis(0,1,0, 0,0,1.138)\n",
    "s5 = DualQuaternion.screwAxis(0,0,1, 0,0,1.138)\n",
    "s6 = DualQuaternion.screwAxis(0,1,0, 0,0,1.838)\n",
    "s7 = DualQuaternion.screwAxis(0,0,1, 0,0,1.838)\n",
    "\n",
    "screws = [s1, s2, s3, s4, s5, s6, s7]\n",
    "\n",
    "M_flange = DualQuaternion.fromQuatPos(Quaternion(1,0,0,0), [0,0,1.953])\n",
    "\n",
    "def forward_kinematics(theta, screws_0, M):\n",
    "    x = DualQuaternion.basicConstructor(1,0,0,0, 0,0,0,0)\n",
    "    for i in range(len(theta)):\n",
    "        x = x*DualQuaternion.exp(0.5*theta[i]*screws_0[i])\n",
    "    \n",
    "    return x*M\n",
    "\n",
    "theta_example = [0, 0.2, 0.0, 1.56, -0.4, 1.6, 2]\n",
    "\n",
    "x_0_TCP = forward_kinematics(theta_example, screws, M_flange)\n",
    "print(x_0_TCP)"
   ]
  },
  {
   "cell_type": "markdown",
   "id": "87aae26d-ecad-4602-826e-ccab83ae7138",
   "metadata": {
    "citation-manager": {
     "citations": {
      "5y8oq": [
       {
        "id": "16222978/3S984H2Z",
        "source": "zotero"
       }
      ],
      "c1wxs": [
       {
        "id": "16222978/UIFPWU6T",
        "source": "zotero"
       }
      ]
     }
    },
    "tags": []
   },
   "source": [
    "<h2>The Jacobian</h2>\n",
    "\n",
    "- rename jacobian to $J_\\Omega$ or something, explain twist is different from cartesian velocity\n",
    "\n",
    "Screw Theory allows for an efficient and elegant way to compute the jacobian matrix $J$, when compared to classical Methods. Here, often numerical algorithms like <cite id=\"5y8oq\"><a href=\"#zotero%7C16222978%2F3S984H2Z\">(Yazdanpanah Abdolmalaki, 2017)</a></cite> are chosen, which involve the extraction of the rotation axes from the robots kinematic model, which define the rotational part of $J$ and a cross product computation for the translational part. In screw theory the columns of $J$ are transformed screws. In <cite id=\"c1wxs\"><a href=\"#zotero%7C16222978%2FUIFPWU6T\">(Lynch &#38; Park, 2017)</a></cite> general forward and velocity kinematics are differntiated into either <i>Body</i> or <i>Space</i> representation, the representation chosen for the thesis is the space representation. It differs mathematically from the usual geometric approach often used classical approaches, but can be applied the same in practice, if the space representation is chosen coherently for the velocity representation in the case of differential kinematics, or the error computation in the case of inverse kinematics.\n",
    "\n",
    "To find the space jacobian $J$, the line transformation operation and the exponential mapping of unit dual quaternions are needed. The computation can be found in the following code block.\n"
   ]
  },
  {
   "cell_type": "code",
   "execution_count": 3,
   "id": "250f9ea3-9b48-4538-beef-fe765019c57b",
   "metadata": {
    "tags": []
   },
   "outputs": [
    {
     "name": "stdout",
     "output_type": "stream",
     "text": [
      "[[   0.000    0.000    0.000    0.000    0.000   -0.000    0.000]\n",
      " [   0.000    0.000    0.199    0.000    0.982   -0.073   -0.202]\n",
      " [   0.000    1.000    0.000    1.000    0.000    0.921   -0.389]\n",
      " [   1.000    0.000    0.980    0.000   -0.188   -0.382   -0.899]\n",
      " [   0.000    0.000    0.000    0.000    0.000    0.000    0.000]\n",
      " [   0.000   -0.438    0.000   -1.124    0.000   -0.914    0.386]\n",
      " [   0.000    0.000    0.087    0.000    1.130    0.243    0.543]\n",
      " [   0.000    0.000    0.000    0.139    0.000    0.761   -0.322]]\n"
     ]
    }
   ],
   "source": [
    "def jacobian(theta, screws_0):\n",
    "    \n",
    "    # initialize transformation as identity transformation\n",
    "    x = DualQuaternion.basicConstructor(1,0,0,0, 0,0,0,0)\n",
    "    \n",
    "    # initialize jacobian with zeros\n",
    "    J = np.zeros((8, len(theta)))\n",
    "    \n",
    "    # loop over all joints\n",
    "    for i in range(len(theta)):\n",
    "        \n",
    "        # get screw (defined in base frame) from list\n",
    "        s_0 = screws_0[i]\n",
    "        \n",
    "        #transform screw with the line transformation\n",
    "        s_i = x*s_0*x.inverse()\n",
    "        \n",
    "        # progress transformation with screw and joint angle\n",
    "        x = x*DualQuaternion.exp(0.5*theta[i]*s_0)\n",
    "        \n",
    "        # assign transformed screw to Jacobian row\n",
    "        J[:, i] = s_i.asVector().flatten()\n",
    "    \n",
    "    return J\n",
    "\n",
    "J = jacobian(theta_example, screws)\n",
    "print(J)"
   ]
  },
  {
   "cell_type": "markdown",
   "id": "586b74cd-6c7f-4922-bd84-fd18df3c4353",
   "metadata": {
    "citation-manager": {
     "citations": {
      "tbcfd": [
       {
        "id": "16222978/63SGHUSV",
        "source": "zotero"
       }
      ]
     }
    },
    "tags": []
   },
   "source": [
    "Note that the Jacobian from this algorithm has the dimensionality of $J \\in \\mathbb{R}^{8 \\times DoF}$, which is caused by the quaternion dimension of eight. Whether the matrix should be $6 \\times DoF$ or $8 \\times DoF$ can be chosen depending on the use case. If the classic form factor is needed, the exclusion of the first and fith row will result in $J \\in \\mathbb{R}^{6 \\times DoF}$\n",
    "\n",
    "Besides the elegant and efficient computation, another benefit of the screw theoretic contemplation is that higher derivatives of $J$ are very easy and efficiently computeable when compared to classical approaches like the one found in <cite id=\"tbcfd\"><a href=\"#zotero%7C16222978%2F63SGHUSV\">(Angeles, 2014)</a></cite>. An example for the first jacobian derivative $\\dot{J}$ can be seen in the next code block. Note that we leverage the algebraic property of the exponential function to compute the screw transformation derivative, which is needed to find the derivative of the screw axis w.r.t time.\n",
    " \n",
    "$$\n",
    "\\frac{d}{dt} \\left(e^{\\frac{\\theta_i}{2}\\underline{\\bar{s}}_i}\\right) =  e^{\\frac{\\theta_i}{2}\\underline{\\bar{s}}_i} \\otimes \\frac{\\dot{\\theta}_i}{2}\\underline{\\bar{s}}_i\n",
    "$$\n",
    "\n",
    "The resulting Algorithm can be easily extended to further derivatives by application of the chain rule of differentiation. A unique feature of the screw theory approach!"
   ]
  },
  {
   "cell_type": "code",
   "execution_count": 10,
   "id": "c5eae14f-1a37-47bc-a531-0bdde4bd3eac",
   "metadata": {
    "tags": []
   },
   "outputs": [
    {
     "name": "stdout",
     "output_type": "stream",
     "text": [
      "[[   0.000    0.000    0.000    0.000    0.000    0.000    0.000]\n",
      " [   0.000   -1.000    0.980   -1.980   -0.564   -2.625   -4.025]\n",
      " [   0.000    0.000    0.199    0.000    1.982    0.710    1.643]\n",
      " [   0.000    0.000   -0.199    0.199   -2.946    2.212    0.192]\n",
      " [   0.000    0.000    0.000    0.000    0.000   -0.000    0.000]\n",
      " [   0.000    0.000   -0.087    0.139   -2.254    0.740   -3.859]\n",
      " [   0.000   -0.438    0.429   -2.253   -0.232   -4.161   -3.448]\n",
      " [   0.000    0.000    0.000    0.686    0.139    0.967    1.553]]\n"
     ]
    }
   ],
   "source": [
    "def jacobian_dot(theta, theta_dot, screws_0):\n",
    "    \n",
    "    # initialize transformation as identity transformation\n",
    "    x = DualQuaternion.basicConstructor(1,0,0,0, 0,0,0,0)\n",
    "    \n",
    "    # initialialize transformation derivative as zero\n",
    "    x_dot = DualQuaternion.basicConstructor(0,0,0,0, 0,0,0,0)\n",
    "    \n",
    "    # initialize Jacobian derivative with zeros\n",
    "    J_dot = np.zeros((8, len(theta)))\n",
    "    \n",
    "    # loop over all joints\n",
    "    for i in range(len(theta)):\n",
    "        # get screw (defined in base frame) from list\n",
    "        s_0 = screws_0[i]\n",
    "        \n",
    "        #compute screw derivative and transform\n",
    "        s_i_dot = x_dot*s_0*x.inverse() + x*s_0*x_dot.inverse()\n",
    "        \n",
    "        # compute temporary transformation via exponential map\n",
    "        x_temp = DualQuaternion.exp(0.5*theta[i]*s_0)\n",
    "        \n",
    "        # compute temporary transformation derivative via exponential derivative\n",
    "        x_dot_temp = DualQuaternion.exp(0.5*theta[i]*s_0)*(0.5*theta_dot[i]*s_0)\n",
    "        \n",
    "        # update transformation derivative\n",
    "        x_dot = x_dot*x_temp + x*x_dot_temp\n",
    "        \n",
    "        # update transformation\n",
    "        x = x*x_temp\n",
    "        \n",
    "        #assign screw derivative to jacobian derivative row\n",
    "        J_dot[:, i] = s_i_dot.asVector().flatten()\n",
    "    \n",
    "    return J_dot\n",
    "\n",
    "theta_dot = np.array([1, 1, 1, 2, 2, 2, 3])\n",
    "\n",
    "print(jacobian_dot(theta_example, theta_dot, screws))"
   ]
  },
  {
   "cell_type": "markdown",
   "id": "b3e6eb29-dc1d-4bec-b785-e888e1776aea",
   "metadata": {
    "citation-manager": {
     "citations": {
      "1vvyz": [
       {
        "id": "16222978/AFEHQ7QJ",
        "source": "zotero"
       }
      ],
      "slo2p": [
       {
        "id": "16222978/CX5ZL77E",
        "source": "zotero"
       }
      ]
     }
    },
    "tags": []
   },
   "source": [
    "<h2>The Jacobian in Dual Quaternion Space $\\mathbb{H}$</h2>\n",
    "\n",
    "The Jacobian relates changes in workspace and joint space. There are multiple ways how the workspace change (i.e. TCP-velocity) might be defined, e.g., rotational and translational velocites $(\\vec{\\omega}, \\vec{v})$, twist $\\vec{\\Omega}$ or the dual quaternion derivative $\\underline{\\dot{\\xi}}$. As the goal of the thesis is to leverage the dual quaternion algebra, it will be tested to compute the differential kinematics in the dual quaternion space $\\mathbb{H}$. This needs a transformation of the space jacobian $J$, which is twist based:\n",
    "\n",
    "$$\n",
    "\\vec{\\Omega} = J \\dot{\\vec{\\theta}}\n",
    "$$\n",
    "\n",
    "For this transformation into the dual quaternion space, the relation of the twist and the dual quaternion derivative is recalled. \n",
    "\n",
    "$$\n",
    "\\begin{align*}\n",
    "\\underline{\\dot{\\xi}} &= \\frac{1}{2} \\underline{\\bar{\\Omega}} \\otimes \\underline{\\xi}\\\\\n",
    "&= \\frac{1}{2} [\\underline{\\xi}]_R \\cdot \\underline{\\bar{\\Omega}}_{[vec]}\n",
    "\\end{align*}\n",
    "$$\n",
    "\n",
    "Substitution of $\\underline{\\bar{\\Omega}}_{[vec]}$ with $J \\dot{\\vec{\\theta}}$ gives then the Dual Quaternion Jacobian $J_\\mathbb{H}$:\n",
    "\n",
    "$$\n",
    "\\begin{align*}\n",
    "\\underline{\\dot{\\xi}} &= \\left(\\frac{1}{2} [\\underline{\\xi}]_R J \\right) \\dot{\\vec{\\theta}}\\\\\n",
    "&= J_\\mathbb{H}\\dot{\\vec{\\theta}}\n",
    "\\end{align*}\n",
    "$$\n",
    "\n",
    "as chosen before, the dimensionality of the newly derived jacobian is $J_\\mathbb{H} \\in \\mathbb{R}^{8 \\times DoF}$ which extends the normal six dimensional cartesian space by two further dimensions which are purely imaginary. In <cite id=\"1vvyz\"><a href=\"#zotero%7C16222978%2FAFEHQ7QJ\">(Dantam, 2021)</a></cite> this dual quaternion jacobian is used to solve the position level inverse kinematics which leveraged the efficient and elegant unit dual quaternion algebra to speed up the optimization compared to the classical implementation of \"TRACK-IK\" <cite id=\"slo2p\"><a href=\"#zotero%7C16222978%2FCX5ZL77E\">(Beeson &#38; Ames, 2015)</a></cite>. "
   ]
  },
  {
   "cell_type": "markdown",
   "id": "d8a73577-687d-48e9-9378-1554b4ff2d52",
   "metadata": {},
   "source": [
    "<h1> Literature </h1>\n",
    "<!-- BIBLIOGRAPHY START -->\n",
    "<div class=\"csl-bib-body\">\n",
    "  <div class=\"csl-entry\"><i id=\"zotero|16222978/63SGHUSV\"></i>Angeles, J. (2014). <i>Fundamentals of Robotic Mechanical Systems: Theory, Methods, and Algorithms</i> (Vol. 124). Springer International Publishing. <a href=\"https://doi.org/10.1007/978-3-319-01851-5\">https://doi.org/10.1007/978-3-319-01851-5</a></div>\n",
    "  <div class=\"csl-entry\"><i id=\"zotero|16222978/CX5ZL77E\"></i>Beeson, P., &#38; Ames, B. (2015). TRAC-IK: An open-source library for improved solving of generic inverse kinematics. <i>2015 IEEE-RAS 15th International Conference on Humanoid Robots (Humanoids)</i>, 928–935. <a href=\"https://doi.org/10.1109/HUMANOIDS.2015.7363472\">https://doi.org/10.1109/HUMANOIDS.2015.7363472</a></div>\n",
    "  <div class=\"csl-entry\"><i id=\"zotero|16222978/AFEHQ7QJ\"></i>Dantam, N. T. (2021). Robust and efficient forward, differential, and inverse kinematics using dual quaternions. <i>The International Journal of Robotics Research</i>, <i>40</i>(10–11), 1087–1105. <a href=\"https://doi.org/10.1177/0278364920931948\">https://doi.org/10.1177/0278364920931948</a></div>\n",
    "  <div class=\"csl-entry\"><i id=\"zotero|16222978/UIFPWU6T\"></i>Lynch, K. M., &#38; Park, F. C. (2017). <i>Modern robotics: mechanics, planning, and control</i>. Cambridge University Press.</div>\n",
    "  <div class=\"csl-entry\"><i id=\"zotero|16222978/3S984H2Z\"></i>Yazdanpanah Abdolmalaki, R. (2017). <i>Geometric Jacobians Derivation and Kinematic Singularity Analysis for Smokie Robot Manipulator &#38; the Barrett WAM</i>.</div>\n",
    "</div>\n",
    "<!-- BIBLIOGRAPHY END -->"
   ]
  }
 ],
 "metadata": {
  "citation-manager": {
   "items": {
    "zotero": {
     "16222978/3S984H2Z": {
      "abstract": "This paper discusses deriving geometric jacobians and identifying and analyzing the kinematic singularities for two 6 DOF arm robots. First we show the direct kinematics and D-H parameters derived for these two arms. The Geometric jacobian is computed for Barrett WAM and Smokie OUR. By analyzing the jacobian matrices we find the configurations at which J is rank deficient and derive the kinematic singularities through jacobian's determinent. Schematic are provided to show the singular configurations of both robots. Finally a survey is done on redundant kinematic allocation schemesfor 7 DoF Barrett WAM.",
      "author": [
       {
        "family": "Yazdanpanah Abdolmalaki",
        "given": "Reza"
       }
      ],
      "id": "16222978/3S984H2Z",
      "issued": {
       "date-parts": [
        [
         2017,
         7,
         16
        ]
       ]
      },
      "system_id": "zotero|16222978/3S984H2Z",
      "title": "Geometric Jacobians Derivation and Kinematic Singularity Analysis for Smokie Robot Manipulator & the Barrett WAM",
      "type": "article-journal"
     },
     "16222978/63SGHUSV": {
      "ISBN": "9783319018508 9783319018515",
      "URL": "https://link.springer.com/10.1007/978-3-319-01851-5",
      "accessed": {
       "date-parts": [
        [
         2023,
         11,
         22
        ]
       ]
      },
      "author": [
       {
        "family": "Angeles",
        "given": "Jorge"
       }
      ],
      "collection-title": "Mechanical Engineering Series",
      "event-place": "Cham",
      "id": "16222978/63SGHUSV",
      "issued": {
       "date-parts": [
        [
         2014
        ]
       ]
      },
      "language": "en",
      "note": "DOI: 10.1007/978-3-319-01851-5",
      "publisher": "Springer International Publishing",
      "publisher-place": "Cham",
      "shortTitle": "Fundamentals of Robotic Mechanical Systems",
      "system_id": "zotero|16222978/63SGHUSV",
      "title": "Fundamentals of Robotic Mechanical Systems: Theory, Methods, and Algorithms",
      "type": "book",
      "volume": "124"
     },
     "16222978/AFEHQ7QJ": {
      "DOI": "10.1177/0278364920931948",
      "URL": "http://journals.sagepub.com/doi/10.1177/0278364920931948",
      "abstract": "Modern approaches for robot kinematics employ the product of exponentials formulation, represented using homogeneous transformation matrices. Quaternions over dual numbers are an established alternative representation; however, their use presents certain challenges: the dual quaternion exponential and logarithm contain a zero-angle singularity, and many common operations are less efficient using dual quaternions than with matrices. We present a new derivation of the dual quaternion exponential and logarithm that removes the singularity, we show an implicit representation of dual quaternions offers analytical and empirical efficiency advantages compared with both matrices and explicit dual quaternions, and we derive efficient dual quaternion forms of differential and inverse position kinematics. Analytically, implicit dual quaternions are more compact and require fewer arithmetic instructions for common operations, including chaining and exponentials. Empirically, we demonstrate a 30–40% speedup on forward kinematics and a 300–500% speedup on inverse position kinematics. This work relates dual quaternions with modern exponential coordinates and demonstrates that dual quaternions are a robust and efficient representation for robot kinematics.",
      "accessed": {
       "date-parts": [
        [
         2023,
         11,
         19
        ]
       ]
      },
      "author": [
       {
        "family": "Dantam",
        "given": "Neil T"
       }
      ],
      "container-title": "The International Journal of Robotics Research",
      "id": "16222978/AFEHQ7QJ",
      "issue": "10-11",
      "issued": {
       "date-parts": [
        [
         "2021"
        ]
       ]
      },
      "journalAbbreviation": "The International Journal of Robotics Research",
      "language": "en",
      "page": "1087-1105",
      "system_id": "zotero|16222978/AFEHQ7QJ",
      "title": "Robust and efficient forward, differential, and inverse kinematics using dual quaternions",
      "type": "article-journal",
      "volume": "40"
     },
     "16222978/CX5ZL77E": {
      "DOI": "10.1109/HUMANOIDS.2015.7363472",
      "ISBN": "9781479968855",
      "URL": "http://ieeexplore.ieee.org/document/7363472/",
      "accessed": {
       "date-parts": [
        [
         2023,
         11,
         22
        ]
       ]
      },
      "author": [
       {
        "family": "Beeson",
        "given": "Patrick"
       },
       {
        "family": "Ames",
        "given": "Barrett"
       }
      ],
      "container-title": "2015 IEEE-RAS 15th International Conference on Humanoid Robots (Humanoids)",
      "event": "2015 IEEE-RAS 15th International Conference on Humanoid Robots (Humanoids)",
      "event-place": "Seoul, South Korea",
      "id": "16222978/CX5ZL77E",
      "issued": {
       "date-parts": [
        [
         "2015"
        ]
       ]
      },
      "page": "928-935",
      "publisher": "IEEE",
      "publisher-place": "Seoul, South Korea",
      "shortTitle": "TRAC-IK",
      "system_id": "zotero|16222978/CX5ZL77E",
      "title": "TRAC-IK: An open-source library for improved solving of generic inverse kinematics",
      "type": "paper-conference"
     },
     "16222978/UIFPWU6T": {
      "ISBN": "9781107156302 9781316609842",
      "author": [
       {
        "family": "Lynch",
        "given": "Kevin M."
       },
       {
        "family": "Park",
        "given": "Frank C."
       }
      ],
      "call-number": "TJ211 .L96 2017",
      "event-place": "Cambridge, UK",
      "id": "16222978/UIFPWU6T",
      "issued": {
       "date-parts": [
        [
         2017
        ]
       ]
      },
      "note": "OCLC: ocn983881868",
      "number-of-pages": "528",
      "publisher": "Cambridge University Press",
      "publisher-place": "Cambridge, UK",
      "shortTitle": "Modern robotics",
      "system_id": "zotero|16222978/UIFPWU6T",
      "title": "Modern robotics: mechanics, planning, and control",
      "type": "book"
     }
    }
   }
  },
  "kernelspec": {
   "display_name": "Python 3 (ipykernel)",
   "language": "python",
   "name": "python3"
  },
  "language_info": {
   "codemirror_mode": {
    "name": "ipython",
    "version": 3
   },
   "file_extension": ".py",
   "mimetype": "text/x-python",
   "name": "python",
   "nbconvert_exporter": "python",
   "pygments_lexer": "ipython3",
   "version": "3.11.4"
  }
 },
 "nbformat": 4,
 "nbformat_minor": 5
}
