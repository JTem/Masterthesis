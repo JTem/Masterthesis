{
 "cells": [
  {
   "cell_type": "markdown",
   "id": "bcd2ec27-cb59-4bfd-89b1-7987c8f2a99c",
   "metadata": {},
   "source": [
    "# Introduction to Quaternions\n",
    "write about quaternions"
   ]
  },
  {
   "cell_type": "code",
   "execution_count": 10,
   "id": "9e7a8ffe-c7fb-4499-b874-c1a9b045b661",
   "metadata": {
    "tags": []
   },
   "outputs": [
    {
     "data": {
      "text/html": [
       "<style>\n",
       ".jp-RenderedText, .jp-OutputArea-output {\n",
       "    font-family: 'Arial', sans-serif;\n",
       "    font-size: 12pt;\n",
       "    line-height: 1.5;\n",
       "    color: #333333;\n",
       "}\n",
       "\n",
       ".jp-MarkdownCell h1 {\n",
       "    font-size: 24pt;\n",
       "    color: #003366;\n",
       "    border-bottom: 2px solid #003366;\n",
       "    padding-bottom: 5px;\n",
       "    margin-top: 20px;\n",
       "    margin-bottom: 15px;\n",
       "}\n",
       "\n",
       ".jp-MarkdownCell h2 {\n",
       "    font-size: 20pt;\n",
       "    color: #003366;\n",
       "    margin-top: 15px;\n",
       "    margin-bottom: 10px;\n",
       "}\n",
       "\n",
       ".jp-MarkdownCell h3 {\n",
       "    font-size: 16pt;\n",
       "    color: #003366;\n",
       "    margin-top: 10px;\n",
       "    margin-bottom: 5px;\n",
       "}\n",
       "\n",
       ".jp-CodeCell {\n",
       "    background-color: #ffffff;\n",
       "    /*border: 1px solid #eaeaea;*/\n",
       "}\n",
       "\n",
       ".jp-CodeMirrorEditor .CodeMirror {\n",
       "    font-family: 'Consolas', monospace;\n",
       "    font-size: 11pt;\n",
       "    max-width: 994px; /* Setting max width for code editor */\n",
       "    margin-left: 20px; /* Center align the editor */\n",
       "}\n",
       "\n",
       ".jp-RenderedText, .jp-OutputArea-output, .jp-CodeCell, .jp-MarkdownCell {\n",
       "    max-width: 994px; /* A4 width in pixels */\n",
       "    margin-left: 20px; /* Center align the block */\n",
       "    /*margin-right: auto; /* Center align the block */\n",
       "}\n",
       "/*\n",
       ".jp-OutputArea-output {\n",
       "    background-color: #ffffff;\n",
       "    border: 1px solid #eaeaea;\n",
       "    padding: 10px;\n",
       "}\n",
       "*/\n",
       ".jp-OutputArea-output img {\n",
       "    max-width: 100%;\n",
       "    height: auto;\n",
       "}\n",
       "\n",
       ".jp-RenderedHTMLCommon table {\n",
       "    border-collapse: collapse;\n",
       "    width: 100%;\n",
       "}\n",
       "\n",
       ".jp-RenderedHTMLCommon th, .jp-RenderedHTMLCommon td {\n",
       "    border: 1px solid #dddddd;\n",
       "    text-align: left;\n",
       "    padding: 8px;\n",
       "}\n",
       "\n",
       ".jp-RenderedHTMLCommon tr:nth-child(even) {\n",
       "    background-color: #f2f2f2;\n",
       "}\n",
       "</style>"
      ],
      "text/plain": [
       "<IPython.core.display.HTML object>"
      ]
     },
     "execution_count": 10,
     "metadata": {},
     "output_type": "execute_result"
    }
   ],
   "source": [
    "from IPython.display import HTML\n",
    "\n",
    "\n",
    "def css_styling():\n",
    "    styles = open(\"./styles/custom.css\", \"r\").read()\n",
    "    return HTML(styles)\n",
    "css_styling()"
   ]
  },
  {
   "cell_type": "code",
   "execution_count": null,
   "id": "adad1e4d-cb23-424a-aa38-ef877dbe2626",
   "metadata": {},
   "outputs": [],
   "source": []
  },
  {
   "cell_type": "markdown",
   "id": "44c46e17-68a0-490c-bb36-c33249a49c00",
   "metadata": {},
   "source": [
    "### wser Limitations:\n",
    "\n",
    "Some browsers have strict policies regarding the execution of HTML and CSS within Markdown cells for security reasons. If you suspect this might be the case, try opening the notebook in a different web browser.\n",
    "Extension Conflicts:\n",
    "\n",
    "If you have JupyterLab extensions installed, one of them might be interfering with the CSS rendering. Consider any extensions you've installed that might affect notebook rendering.\n",
    "JupyterLab Version:\n",
    "\n",
    "Ensure that your JupyterLab is up to date. Older versions might have different behavior or bugs that affect CSS rendering.\n",
    "Alternative Approach:\n",
    "\n",
    "As a workaround, you can try using IPython's display HTML functionality. In a code cell, use the following:"
   ]
  },
  {
   "cell_type": "markdown",
   "id": "0c7eff58-c0d5-4b31-a6d9-92c577ff0fe5",
   "metadata": {},
   "source": [
    "## <h1 style=\"font-family: 'Times New Roman', Times, serif;\">Introduction to Quaternions</h1>\n",
    "<p style=\"font-family: 'Times New Roman', Times, serif; text-align: justify;\">\n",
    "    In the realm of three-dimensional space, representing orientations and rotations accurately and efficiently is a fundamental necessity. This is where quaternions, a concept that may seem esoteric at first, play a pivotal role. Quaternions extend the two-dimensional complex numbers to four dimensions, comprising one real part and three imaginary parts. This unique structure makes them an invaluable tool in 3D computer graphics, robotics, aerospace, and beyond.\n",
    "</p>\n",
    "<p style=\"font-family: 'Times New Roman', Times, serif; text-align: justify;\">\n",
    "    The journey of quaternions began in the mid-19th century with Sir William Rowan Hamilton. His quest for a way to extend complex numbers to higher dimensions culminated in the discovery of quaternions. Unlike traditional vector rotations that suffer from issues like gimbal lock, quaternions offer a robust and efficient way to represent spatial rotations. Their ability to interpolate smoothly between orientations (slerp) and the ease with which they handle compound rotations make them indispensable in many modern applications.\n",
    "</p>\n",
    "<p style=\"font-family: 'Times New Roman', Times, serif; text-align: justify;\">\n",
    "    At their core, quaternions consist of four components: one real and three imaginary. Typically denoted as <em>q = w + xi + yj + zk</em>, these components encapsulate the essence of 3D rotations. The real part, <em>w</em>, and the imaginary parts, <em>x, y,</em>wser Limitations:\n",
    "\n",
    "Some browsers have strict policies regarding the execution of HTML and CSS within Markdown cells for security reasons. If you suspect this might be the case, try opening the notebook in a different web browser.\n",
    "Extension Conflicts:\n",
    "\n",
    "If you have JupyterLab extensions installed, one of them might be interfering with the CSS rendering. Consider any extensions you've installed that might affect notebook rendering.\n",
    "JupyterLab Version:\n",
    "\n",
    "Ensure that your JupyterLab is up to date. Older versions might have different behavior or bugs that affect CSS rendering.\n",
    "Alternative Approach:\n",
    "\n",
    "As a workaround, you can try using IPython's display HTML functionality. In a code cell, use the following: and <em>z</em>, work in concert to define rotation in a way that is not just mathematically elegant but also computationally efficient.\n",
    "</p>\n",
    "<p style=\"font-family: 'Times New Roman', Times, serif; text-align: justify;\">\n",
    "    One of the most intriguing aspects of quaternion mathematics is the existence of quaternion units, where $i^2 = j^2 = k^2 = ijk = -1$ <em>i<sup>2</sup> = j<sup>2</sup> = k<sup>2</sup> = ijk = -1</em>. This property, reminiscent yet distinct from complex numbers, lays the foundation for quaternion algebra. Another noteworthy feature of quaternions is their antipodal property, where a quaternion and its negative represent the same orientation but different rotations. This duality is particularly useful in avoiding singularities and ensuring smooth rotational transitions.\n",
    "</p>\n",
    "<p style=\"font-family: 'Times New Roman', Times, serif; text-align: justify;\">\n",
    "    The use of unit quaternions, where the norm of the quaternion is one <em>(‖q‖ = 1)</em>, is especially prevalent in applications where maintaining the consistency of rotation magnitude is crucial. They are the standard in computer graphics and aerospace navigation, where precision and reliability in 3D rotation representation are paramount.\n",
    "</p>\n"
   ]
  },
  {
   "cell_type": "markdown",
   "id": "e1b9c8b7-12cb-40ab-9cf6-854cee96b137",
   "metadata": {},
   "source": [
    "<div style=\"font-family: 'Helvetica Neue', Arial, sans-serif;\">\n",
    "<h1>Introduction to Quaternions</h1>\n",
    "<p>\n",
    "    In the realm of three-dimensional space, representing orientations and rotations accurately and efficiently is a fundamental necessity. This is where quaternions, a concept that may seem esoteric at first, play a pivotal role. Quaternions extend the two-dimensional complex numbers to four dimensions, comprising one real part and three imaginary parts. This unique structure makes them an invaluable tool in 3D computer graphics, robotics, aerospace, and beyond.\n",
    "</p>\n",
    "<p>\n",
    "    The journey of quaternions began in the mid-19th century with Sir William Rowan Hamilton. His quest for a way to extend complex numbers to higher dimensions culminated in the discovery of quaternions. Unlike traditional vector rotations that suffer from issues like gimbal lock, quaternions offer a robust and efficient way to represent spatial rotations. Their ability to interpolate smoothly between orientations (slerp) and the ease with which they handle compound rotations make them indispensable in many modern applications.\n",
    "</p>\n",
    "<p>\n",
    "    At their core, quaternions consist of four components: one real and three imaginary. Typically denoted as <em>q = w + xi + yj + zk</em>, these components encapsulate the essence of 3D rotations. The real part, <em>w</em>, and the imaginary parts, <em>x, y,</em> and <em>z</em>, work in concert to define rotation in a way that is not just mathematically elegant but also computationally efficient.\n",
    "</p>\n",
    "<p>\n",
    "    One of the most intriguing aspects of quaternion mathematics is the existence of quaternion units, where $i^2 = j^2 = k^2 = ijk = -1$ <em>i<sup>2</sup> = j<sup>2</sup> = k<sup>2</sup> = ijk = -1</em>. This property, reminiscent yet distinct from complex numbers, lays the foundation for quaternion algebra. Another noteworthy feature of quaternions is their antipodal property, where a quaternion and its negative represent the same orientation but different rotations. This duality is particularly useful in avoiding singularities and ensuring smooth rotational transitions.\n",
    "</p>\n",
    "<p>\n",
    "    The use of unit quaternions, where the norm of the quaternion is one <em>(‖q‖ = 1)</em>, is especially prevalent in applications where maintaining the consistency of rotation magnitude is crucial. They are the standard in computer graphics and aerospace navigation, where precision and reliability in 3D rotation representation are paramount.\n",
    "</p>\n",
    "</div>\n",
    "​\n",
    "​"
   ]
  },
  {
   "cell_type": "markdown",
   "id": "c83174ce-6fbe-48eb-b227-12820f82bf37",
   "metadata": {
    "tags": []
   },
   "source": [
    "<div style=\"font-family: 'Helvetica Neue', Arial, sans-serif;\">\n",
    "<h1>Introduction to Quaternions</h1>\n",
    "<p>\n",
    "    In the realm of three-dimensional space, representing orientations and rotations accurately and efficiently is a fundamental necessity. This is where quaternions, a concept that may seem esoteric at first, play a pivotal role. Quaternions extend the two-dimensional complex numbers to four dimensions, comprising one real part and three imaginary parts. This unique structure makes them an invaluable tool in 3D computer graphics, robotics, aerospace, and beyond.\n",
    "</p>\n",
    "<p>\n",
    "    The journey of quaternions began in the mid-19th century with Sir William Rowan Hamilton. His quest for a way to extend complex numbers to higher dimensions culminated in the discovery of quaternions. Unlike traditional vector rotations that suffer from issues like gimbal lock, quaternions offer a robust and efficient way to represent spatial rotations. Their ability to interpolate smoothly between orientations (slerp) and the ease with which they handle compound rotations make them indispensable in many modern applications.\n",
    "</p>\n",
    "<p>\n",
    "    At their core, quaternions consist of four components: one real and three imaginary. Typically denoted as <em>q = w + xi + yj + zk</em>, these components encapsulate the essence of 3D rotations. The real part, <em>w</em>, and the imaginary parts, <em>x, y,</em> and <em>z</em>, work in concert to define rotation in a way that is not just mathematically elegant but also computationally efficient.\n",
    "</p>\n",
    "<p>\n",
    "    One of the most intriguing aspects of quaternion mathematics is the existence of quaternion units, where $i^2 = j^2 = k^2 = ijk = -1$ <em>i<sup>2</sup> = j<sup>2</sup> = k<sup>2</sup> = ijk = -1</em>. This property, reminiscent yet distinct from complex numbers, lays the foundation for quaternion algebra. Another noteworthy feature of quaternions is their antipodal property, where a quaternion and its negative represent the same orientation but different rotations. This duality is particularly useful in avoiding singularities and ensuring smooth rotational transitions.\n",
    "</p>\n",
    "<p>\n",
    "    The use of unit quaternions, where the norm of the quaternion is one <em>(‖q‖ = 1)</em>, is especially prevalent in applications where maintaining the consistency of rotation magnitude is crucial. They are the standard in computer graphics and aerospace navigation, where precision and reliability in 3D rotation representation are paramount.\n",
    "</p>\n",
    "</div>"
   ]
  },
  {
   "cell_type": "markdown",
   "id": "7d7acc1d-713b-49ca-b2a8-339d95a8274c",
   "metadata": {},
   "source": [
    "<p style=\"font-family: 'Times New Roman', Times, serif; text-align: justify;\">\n",
    "    Quaternions, a fundamental component in the mathematical representation of three-dimensional space, offer a comprehensive framework for understanding and manipulating orientations and rotations. At the heart of this lies a deep mathematical foundation, blending elements of algebra and geometry.\n",
    "</p>\n",
    "\n",
    "<h3 style=\"font-family: 'Times New Roman', Times, serif;\">Definition and Structure</h3>\n",
    "\n",
    "<p style=\"font-family: 'Times New Roman', Times, serif; text-align: justify;\">\n",
    "    A quaternion is a complex mathematical entity, consisting of a real part and three imaginary parts. Typically represented as <em>q = w + xi + yj + zk</em>, a quaternion encompasses both scalar and vector components, where <em>w</em> is the real part, and <em>x, y,</em> and <em>z</em> represent the imaginary parts, corresponding to the three dimensions of space.\n",
    "</p>\n",
    "\n",
    "<p style=\"font-family: 'Times New Roman', Times, serif; text-align: justify;\">\n",
    "    This unique structure provides an efficient and compact way to express rotations and orientations in 3D space, surpassing the limitations of traditional methods like Euler angles, which are susceptible to gimbal lock. The elegance of quaternions lies in their ability to smoothly interpolate between orientations, a process known as spherical linear interpolation or slerp, and in their capability to represent complex rotational sequences with relative ease.\n",
    "</p>\n",
    "\n",
    "<h3 style=\"font-family: 'Times New Roman', Times, serif;\">Quaternion Algebra</h3>\n",
    "\n",
    "<p style=\"font-family: 'Times New Roman', Times, serif; text-align: justify;\">\n",
    "    The algebra of quaternions is an extension of complex numbers. Each imaginary unit of a quaternion, denoted as <em>i, j,</em> and <em>k</em>, squares to -1, much like the imaginary unit in complex numbers. The rules governing quaternion multiplication are distinct, though, with each pair of imaginary units following specific multiplication rules: <em>ij = k, jk = i, ki = j</em>, and cyclic permutations thereof. This non-commutative nature of quaternion multiplication is crucial in accurately representing 3D rotational dynamics.\n",
    "</p>\n",
    "\n",
    "<p style=\"font-family: 'Times New Roman', Times, serif; text-align: justify;\">\n",
    "    In addition, the norm of a quaternion, defined as the square root of the sum of the squares of its components, plays a significant role in quaternion applications. Particularly, unit quaternions, where the norm equals one, are extensively used in 3D rotation scenarios due to their stability and efficiency in calculations.\n",
    "</p>"
   ]
  },
  {
   "cell_type": "code",
   "execution_count": 1,
   "id": "285b31ae-69ec-4c63-9036-019297d5cbf7",
   "metadata": {
    "tags": []
   },
   "outputs": [
    {
     "data": {
      "text/html": [
       "<style>\n",
       "/* Your CSS styles here */\n",
       ".jp-RenderedText, .jp-OutputArea-output {\n",
       "    font-family: 'Arial', sans-serif;\n",
       "    font-size: 12pt;\n",
       "    line-height: 1.5;\n",
       "    color: #333333;\n",
       "}\n",
       "/* Additional CSS */\n",
       "</style>\n"
      ],
      "text/plain": [
       "<IPython.core.display.HTML object>"
      ]
     },
     "metadata": {},
     "output_type": "display_data"
    }
   ],
   "source": []
  },
  {
   "cell_type": "code",
   "execution_count": null,
   "id": "acf4a255-509a-493f-9d9f-5f5f99a66277",
   "metadata": {},
   "outputs": [],
   "source": []
  }
 ],
 "metadata": {
  "kernelspec": {
   "display_name": "Python 3 (ipykernel)",
   "language": "python",
   "name": "python3"
  },
  "language_info": {
   "codemirror_mode": {
    "name": "ipython",
    "version": 3
   },
   "file_extension": ".py",
   "mimetype": "text/x-python",
   "name": "python",
   "nbconvert_exporter": "python",
   "pygments_lexer": "ipython3",
   "version": "3.11.4"
  }
 },
 "nbformat": 4,
 "nbformat_minor": 5
}
