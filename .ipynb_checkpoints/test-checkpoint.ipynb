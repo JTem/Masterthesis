{
 "cells": [
  {
   "cell_type": "code",
   "execution_count": 1,
   "id": "7920c77c-4ae0-4783-89c3-2d4362b62460",
   "metadata": {
    "tags": []
   },
   "outputs": [
    {
     "ename": "IndentationError",
     "evalue": "expected an indented block after 'for' statement on line 121 (ForwardKinematics.py, line 122)",
     "output_type": "error",
     "traceback": [
      "Traceback \u001b[1;36m(most recent call last)\u001b[0m:\n",
      "\u001b[0m  File \u001b[0;32m~\\anaconda3\\Lib\\site-packages\\IPython\\core\\interactiveshell.py:3505\u001b[0m in \u001b[0;35mrun_code\u001b[0m\n    exec(code_obj, self.user_global_ns, self.user_ns)\u001b[0m\n",
      "\u001b[1;36m  Cell \u001b[1;32mIn[1], line 1\u001b[1;36m\n\u001b[1;33m    from Simulation.ForwardKinematics import ForwardKinematics\u001b[1;36m\n",
      "\u001b[1;36m  File \u001b[1;32m~\\Documents\\GitHub\\Masterthesis\\Simulation\\ForwardKinematics.py:122\u001b[1;36m\u001b[0m\n\u001b[1;33m    theta_temp = theta.copy()\u001b[0m\n\u001b[1;37m    ^\u001b[0m\n\u001b[1;31mIndentationError\u001b[0m\u001b[1;31m:\u001b[0m expected an indented block after 'for' statement on line 121\n"
     ]
    }
   ],
   "source": [
    "from Simulation.ForwardKinematics import ForwardKinematics\n",
    "import numpy as np\n",
    "np.set_printoptions(precision=1, suppress=True, linewidth=200, formatter={'float': '{:8.5f}'.format})"
   ]
  },
  {
   "cell_type": "code",
   "execution_count": null,
   "id": "c2d5742e-b6ea-4ab8-ac74-549f8507a603",
   "metadata": {
    "tags": []
   },
   "outputs": [],
   "source": [
    "fk = ForwardKinematics()\n",
    "\n",
    "theta = np.array([1.0,1.0,1.0,1.0,1.0,1.0,1.0])\n",
    "theta_dot = np.array([1,1,1,1,1,1,1])\n",
    "print(fk.hessian2(theta, theta_dot))\n",
    "print(fk.jacobian_dot(theta, theta_dot))"
   ]
  },
  {
   "cell_type": "code",
   "execution_count": null,
   "id": "26d8691d-12c1-4c4e-9e72-3564245aae34",
   "metadata": {},
   "outputs": [],
   "source": []
  }
 ],
 "metadata": {
  "citation-manager": {
   "items": {}
  },
  "kernelspec": {
   "display_name": "Python 3 (ipykernel)",
   "language": "python",
   "name": "python3"
  },
  "language_info": {
   "codemirror_mode": {
    "name": "ipython",
    "version": 3
   },
   "file_extension": ".py",
   "mimetype": "text/x-python",
   "name": "python",
   "nbconvert_exporter": "python",
   "pygments_lexer": "ipython3",
   "version": "3.11.4"
  }
 },
 "nbformat": 4,
 "nbformat_minor": 5
}
