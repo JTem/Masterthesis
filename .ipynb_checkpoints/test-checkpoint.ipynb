{
 "cells": [
  {
   "cell_type": "code",
   "execution_count": 1,
   "id": "04734e6e-511a-4c03-ab69-57f096ed05c6",
   "metadata": {},
   "outputs": [],
   "source": [
    "from helper import *\n",
    "from Simulation.ForwardKinematics import ForwardKinematics\n",
    "from Simulation.DifferentialKinematics import DifferentialKinematics\n",
    "\n",
    "from neura_dual_quaternions import DualQuaternion, Quaternion\n",
    "from Simulation.LinearInterpolator import LinearInterpolator\n",
    "\n",
    "import roboticstoolbox as rtb\n",
    "import spatialmath as sm\n",
    "import spatialgeometry as sg\n",
    "import numpy as np\n",
    "from swift import Swift\n",
    "\n",
    "import time\n",
    "np.set_printoptions(precision=6, suppress=True, linewidth=1200, threshold=np.inf)"
   ]
  },
  {
   "cell_type": "code",
   "execution_count": 56,
   "id": "6341cc89-468e-4fe8-b922-0e7949fb1bac",
   "metadata": {
    "tags": []
   },
   "outputs": [
    {
     "name": "stdout",
     "output_type": "stream",
     "text": [
      "2.330531199593773\n",
      "1.815275461190397\n"
     ]
    }
   ],
   "source": [
    "x1 = DualQuaternion.fromQuatPos(Quaternion.fromAxisAngle(np.pi*0.5, np.array([0,1,0])), np.array([0.815,0,1.138]))\n",
    "x2 = DualQuaternion.fromQuatPos(Quaternion.fromAxisAngle(np.pi*0.5, np.array([0,1,0])), np.array([0.815,0.2,1.138]))   \n",
    "\n",
    "q0 = np.array([np.pi*0.5,np.pi*0.5,0,0,0,0,0])\n",
    "\n",
    "\n",
    "J = fk.jacobian_body(q0)\n",
    "\n",
    "\n",
    "# Compute the SVD\n",
    "U, S, Vt = np.linalg.svd(J)\n",
    "\n",
    "cartesian_direction = np.array([0,0,0, 0,0,0])  # Replace x, y, z with your direction components\n",
    "\n",
    "# Normalize the direction vector\n",
    "cartesian_direction = cartesian_direction / np.linalg.norm(cartesian_direction)\n",
    "\n",
    "# Project the Cartesian direction onto the left singular vectors and multiply by singular values\n",
    "manipulability_in_direction = np.dot(U*S,  cartesian_direction)\n",
    "print(np.linalg.norm(manipulability_in_direction))\n",
    "print(dk.dir_manipulability(q0, cartesian_direction))"
   ]
  },
  {
   "cell_type": "code",
   "execution_count": 24,
   "id": "b62569f1-6d62-499d-bacb-b9116246faff",
   "metadata": {
    "tags": []
   },
   "outputs": [
    {
     "name": "stdout",
     "output_type": "stream",
     "text": [
      "[-0.        0.308913 -0.563009 -0.006197  0.294582  0.44316  -0.026044]\n",
      "0.10185434494555715\n"
     ]
    }
   ],
   "source": [
    "q1 = np.array([-0.677,  0.208,  0.791,  1.547,  0.388, -0.141, -0.531])\n",
    "\n",
    "print(dk.dir_manipulability_gradient3(q1))\n",
    "\n",
    "print(dk.manipulability(q1))"
   ]
  },
  {
   "cell_type": "code",
   "execution_count": 4,
   "id": "321f274c-d4f0-438c-898d-0d11dbed6d85",
   "metadata": {
    "tags": []
   },
   "outputs": [
    {
     "name": "stdout",
     "output_type": "stream",
     "text": [
      "1.6903383455160006\n",
      "1.5173263542385491\n",
      "1.5821155398748201\n",
      "[ 0.       -6.668876  7.50717   4.017953 -2.83828   3.544385 -1.889526]\n",
      "[  0.       -86.416601 -96.089278 -47.177078 -95.924938   4.83087   -1.779227]\n",
      "[ -0.        30.92397   -1.49334   -1.994111  24.239465 -10.270669  -1.709053]\n",
      "[[ 0.002858  0.767771  0.014095 -0.061606  0.415122  0.483942]\n",
      " [ 0.692729 -0.157546  0.404186  0.500268  0.014395  0.285419]\n",
      " [ 0.470483 -0.001957 -0.875844  0.070411  0.075415 -0.029891]\n",
      " [ 0.492441 -0.033193  0.241136 -0.726192  0.287896 -0.296671]\n",
      " [-0.196489 -0.619898 -0.096665 -0.177246  0.473892  0.558376]\n",
      " [ 0.13288   0.018102 -0.042904 -0.426858 -0.717162  0.532584]]\n",
      "[3.767832 3.756263 2.100892 0.226468 0.190467 0.008089]\n",
      "[[ 0.491415  0.590226 -0.014414  0.072163  0.415946  0.481371]\n",
      " [ 0.431243 -0.561918 -0.407549 -0.499077  0.028328  0.286882]\n",
      " [ 0.364733 -0.304235  0.87341  -0.068311  0.077504 -0.029887]\n",
      " [ 0.357298 -0.338784 -0.243833  0.7332    0.267819 -0.297993]\n",
      " [-0.546809 -0.351587  0.097773  0.189623  0.472636  0.555415]\n",
      " [ 0.113352 -0.070246  0.042865  0.40928  -0.724616  0.536471]]\n",
      "[3.7621   3.757986 2.101508 0.225156 0.190805 0.00816 ]\n",
      "[[-0.724727 -0.254965 -0.014723  0.083796  0.416282  0.478785]\n",
      " [-0.080568  0.701589 -0.410917 -0.497407  0.043426  0.288322]\n",
      " [-0.158476  0.4525    0.87094  -0.065946  0.079694 -0.029882]\n",
      " [-0.132358  0.473007 -0.246543  0.74026   0.245772 -0.299289]\n",
      " [ 0.649556  0.020392  0.098879  0.203168  0.47055   0.552439]\n",
      " [-0.061019  0.117723  0.042821  0.389812 -0.732565  0.540351]]\n",
      "[3.764498 3.751579 2.102103 0.223891 0.191105 0.008232]\n"
     ]
    }
   ],
   "source": [
    "q1 = np.array([-0.677,  0.208,  0.791,  1.547,  0.388, -0.141, -0.531])\n",
    "q2 = np.array([-0.687,  0.21,   0.804,  1.547,  0.393, -0.142, -0.54])\n",
    "q3 = (q1 + q2)*0.5\n",
    "v = [1, 0, 0, 0, 1, 0]\n",
    "print(dk.dir_manipulability(q1, v))\n",
    "print(dk.dir_manipulability(q3, v))\n",
    "print(dk.dir_manipulability(q2, v))\n",
    "\n",
    "print(dk.dir_manipulability_gradient(q1, v))\n",
    "print(dk.dir_manipulability_gradient(q3, v))\n",
    "print(dk.dir_manipulability_gradient(q2, v))\n",
    "\n",
    "Jb = fk.jacobian_body(q1)\n",
    "U, S, Vh = np.linalg.svd(Jb@Jb.T)\n",
    "print(U)\n",
    "print(S)\n",
    "\n",
    "Jb = fk.jacobian_body(q3)\n",
    "U, S, Vh = np.linalg.svd(Jb@Jb.T)\n",
    "print(U)\n",
    "print(S)\n",
    "\n",
    "Jb = fk.jacobian_body(q2)\n",
    "U, S, Vh = np.linalg.svd(Jb@Jb.T)\n",
    "print(U)\n",
    "print(S)"
   ]
  },
  {
   "cell_type": "code",
   "execution_count": 5,
   "id": "ffe61dea-e080-411c-9b78-1faddfae014f",
   "metadata": {
    "tags": []
   },
   "outputs": [],
   "source": [
    "# env = Swift()\n",
    "# robot = rtb.models.URDF.Maira7M()\n",
    "\n",
    "# env.launch(realtime=True, browser=\"notebook\")\n",
    "# env.add(robot)\n",
    "\n",
    "# # end-effector axes\n",
    "# ee_axes = sg.Axes(0.1)\n",
    "\n",
    "# env.add(ee_axes)\n",
    "# np.set_printoptions(suppress=True, precision=3)\n",
    "\n",
    "# # Change the robot configuration to the ready position\n",
    "# robot.q = np.array([0, 0.0, 0, np.pi / 2, 0.00, -0.0, 0])\n",
    "# robot.qd = np.zeros(robot.n)\n",
    "\n",
    "\n",
    "\n",
    "\n",
    "# # Step the sim to view the robot in this configuration\n",
    "# env.step(0)\n",
    "\n",
    "# # Specify our desired end-effector velocity\n",
    "# ev = [0, 0.0, 0.0, 0, 0.0, 0]\n",
    "# ev2 = [1, 0.0, 0.0, 0.0, 0.0, 0.0]\n",
    "# # Specify our timestep\n",
    "# dt = 0.005\n",
    "\n",
    "\n",
    "# # Run the simulation for 4 seconds\n",
    "# for i in range(1000):\n",
    "\n",
    "#     # Work out the manipulator Jacobian, Hessian using the\n",
    "#     # current robot configuration\n",
    "#     J = fk.jacobian_body(robot.q)\n",
    "#     grad = dk.manipulability_gradient(robot.q)\n",
    "#     grad2 = dk.dir_manipulability_gradient(robot.q, ev2)\n",
    "#     print(dk.manipulability(robot.q), dk.dir_manipulability(robot.q, ev2))\n",
    "#     # Calculate δq, the change to qd\n",
    "#     pinv = np.linalg.pinv(J)\n",
    "#     v = pinv @ ev + 20*(np.eye(7) - pinv@J)@grad2\n",
    "\n",
    "#     #robot.qd = qd - δq\n",
    "#     robot.q += v*dt\n",
    "    \n",
    "#     # Update the ee axes\n",
    "#     ee_axes.T = fk.forward_kinematics(robot.q).asTransformation()\n",
    "\n",
    "#     # Step the simulator by dt seconds\n",
    "#     env.step(dt)"
   ]
  },
  {
   "cell_type": "code",
   "execution_count": null,
   "id": "c7c87cac-0925-4bd1-b8eb-6acabd30091e",
   "metadata": {},
   "outputs": [],
   "source": []
  },
  {
   "cell_type": "code",
   "execution_count": null,
   "id": "f5bd0f6c-1040-4f1e-88cf-a4419e2c2c12",
   "metadata": {},
   "outputs": [],
   "source": []
  }
 ],
 "metadata": {
  "citation-manager": {
   "items": {}
  },
  "kernelspec": {
   "display_name": "Python 3 (ipykernel)",
   "language": "python",
   "name": "python3"
  },
  "language_info": {
   "codemirror_mode": {
    "name": "ipython",
    "version": 3
   },
   "file_extension": ".py",
   "mimetype": "text/x-python",
   "name": "python",
   "nbconvert_exporter": "python",
   "pygments_lexer": "ipython3",
   "version": "3.11.4"
  }
 },
 "nbformat": 4,
 "nbformat_minor": 5
}
