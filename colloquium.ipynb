{
 "cells": [
  {
   "cell_type": "code",
   "execution_count": 1,
   "id": "5eb209b8-18d4-4e44-b80e-1ff6fb3c3d86",
   "metadata": {
    "editable": true,
    "slideshow": {
     "slide_type": ""
    },
    "tags": []
   },
   "outputs": [],
   "source": [
    "%matplotlib widget\n",
    "from helper import *"
   ]
  },
  {
   "cell_type": "markdown",
   "id": "0a924f87-a75e-479e-a99d-9300c466d366",
   "metadata": {
    "editable": true,
    "slideshow": {
     "slide_type": "slide"
    },
    "tags": []
   },
   "source": [
    "<div style=\"font-family: 'Helvetica Neue', Arial, sans-serif;padding: 10px; text-align: center;\">\n",
    "\n",
    "\n",
    "<div style=\"margin-top: 10px; display: flex;\">\n",
    "    <div style=\"max-width: 500px; margin-right: auto\">\n",
    "        <img src=\"./Resources/neura_logo_black.png\" alt=\"Neura Robotics Logo\" style=\"max-width: 100%; height: auto; object-fit: contain;\">\n",
    "    </div>\n",
    "    <div style=\"max-width: 600px; margin-left: auto\">\n",
    "        <img src=\"./Resources/rwth_igmr_de_rgb.png\" alt=\"Neura Robotics Logo\" style=\"max-width: 100%; height: auto; object-fit: contain;\">\n",
    "    </div>\n",
    "</div>   \n",
    "<div style=\"font-family: 'Helvetica Neue', Arial, sans-serif; max-width: 1500px; margin-left: auto; margin-right: auto \">\n",
    "<h2 style = \"text-align: center\">Exploiting Redundancies with Predictive Differential Kinematics in Dual-Quaternion-Space for Configuration-optimized and Singularity-robust Trajectory Tracking</h2>\n",
    "</div>\n",
    "\n",
    "<div style=\"margin-bottom: 40px;\">\n",
    "    <!-- Using the logo from the data folder and making it bigger -->\n",
    "    <img src=\"./Resources/maira.png\" alt=\"Neura Robotics Logo\" style=\"max-width: 1800px; width: 100%;\">\n",
    "</div>\n",
    "\n",
    "</div>"
   ]
  },
  {
   "cell_type": "markdown",
   "id": "e7a6c812-4e06-4685-80dc-e51995c74891",
   "metadata": {
    "editable": true,
    "slideshow": {
     "slide_type": "slide"
    },
    "tags": []
   },
   "source": [
    "# Problem Statement\n",
    "---\n",
    "$ q = (\\cos\\left(\\frac{\\theta}{2}\\right), \\sin\\left(\\frac{\\theta}{2}\\right)\\hat{\\mathbf{n}}) $\n"
   ]
  },
  {
   "cell_type": "markdown",
   "id": "dc8ef3e0-14e1-4f0f-883a-83f8a106f37c",
   "metadata": {
    "editable": true,
    "slideshow": {
     "slide_type": "slide"
    },
    "tags": []
   },
   "source": [
    "# Dual Quaternions\n",
    "---\n",
    "Three-dimensional rigid transformations are usually represented by homogeneous transformation matrices $T \\in \\mathcal{SE}(3)$. The *Special Euclidean Group* $\\mathcal{SE}(3)$ is given by the semi-direct product of rotation matrices and translation vectors:\n",
    "\n",
    "$$\n",
    "\\mathcal{SE}(3) = \\mathcal{SO}(3) \\ltimes \\mathbb{R}^{3}\n",
    "$$\n",
    "\n",
    "The unit *Dual Quaternion Space* is then given by the semi-direct product of $\\mathcal{S}^3$ and $\\mathbb{R}^{3}$: \n",
    "\n",
    "$$\n",
    "\\mathbb{H} = \\mathcal{S}^3 \\ltimes \\mathbb{R}^{3}\n",
    "$$\n",
    "\n",
    "With the space of unit quaternions $\\mathcal{S}^3$ and the translation vectors $\\mathbb{R}^{3}$."
   ]
  },
  {
   "cell_type": "markdown",
   "id": "7fbfdf69-4d2c-458a-9506-e845ee7e4692",
   "metadata": {
    "editable": true,
    "slideshow": {
     "slide_type": "slide"
    },
    "tags": []
   },
   "source": [
    "# Dual Quaternions\n",
    "---\n",
    "A unit dual quaternion $\\underline{\\xi} \\in \\mathbb{H}$ can be written as\n",
    "\n",
    "$$\n",
    "\\underline{\\xi} = \\hat{r} + \\epsilon \\frac{1}{2}\\bar{t} \\otimes \\hat{r}\n",
    "$$\n",
    "\n",
    "where:\n",
    "- unit quaternion $\\hat{r} \\in \\mathcal{S}^3$\n",
    "- pure quaternion $\\bar{t} \\in \\mathbb{R}^{3}$\n",
    "- dual unit $\\epsilon$, with $\\epsilon^2 = 0$ and  $\\epsilon \\neq 0$."
   ]
  },
  {
   "cell_type": "code",
   "execution_count": 8,
   "id": "c1b2e41f-9f32-40e4-8cef-1bc8b9380250",
   "metadata": {
    "editable": true,
    "slideshow": {
     "slide_type": ""
    },
    "tags": []
   },
   "outputs": [
    {
     "name": "stdout",
     "output_type": "stream",
     "text": [
      "DualQuaternion(Real: Quaternion(0.707, 0.707, 0.000, 0.000), Dual: Quaternion(-0.354, 0.354, 0.707, -0.707))\n"
     ]
    }
   ],
   "source": [
    "r = Quaternion(0.7071, 0.7071, 0, 0)\n",
    "t = Quaternion(0, 1, 2, 0)\n",
    "\n",
    "dual_quaternion = DualQuaternion(r, 0.5*t*r)\n",
    "print(dual_quaternion)"
   ]
  },
  {
   "cell_type": "markdown",
   "id": "bee1a64c-edd6-4d7e-972c-063ab399612b",
   "metadata": {
    "editable": true,
    "slideshow": {
     "slide_type": "slide"
    },
    "tags": []
   },
   "source": [
    "# Dual Quaternions: Double Cover Property\n",
    "---\n",
    "\n",
    "Dual Quaternions inherit all properties from the quaternions. These properties include:\n",
    "- The **Double Cover Property** (or *Antipodal Property*)\n",
    "- The **Singularity Free Representation**\n"
   ]
  },
  {
   "cell_type": "code",
   "execution_count": 2,
   "id": "07f1a302-06f3-43d6-84ee-9df7e2d69bf6",
   "metadata": {
    "editable": true,
    "slideshow": {
     "slide_type": ""
    },
    "tags": []
   },
   "outputs": [
    {
     "data": {
      "application/vnd.jupyter.widget-view+json": {
       "model_id": "1f099b275f90489e947d8c4149fa4442",
       "version_major": 2,
       "version_minor": 0
      },
      "text/plain": [
       "AppLayout(children=(VBox(children=(FloatSlider(value=0.0, description='s', layout=Layout(width='98%'), max=1.0…"
      ]
     },
     "execution_count": 2,
     "metadata": {},
     "output_type": "execute_result"
    }
   ],
   "source": [
    "#Example: Antipodal Property\n",
    "q_start = Quaternion(1,0,0,0)\n",
    "q_target = Quaternion(.900, 0.150, 0.000, 0.15).normalize()\n",
    "q_target_antipodal = -1.0*q_target\n",
    "\n",
    "fig, ax = create_3d_plot(q_target)\n",
    "\n",
    "s_slider = create_slider(\"s\", 0, 0, 1)\n",
    "x_axis1, y_axis1, z_axis1 = draw_frame(ax, [0,0,0], q_start.asRotationMatrix())\n",
    "x_axis2, y_axis2, z_axis2 = draw_frame(ax, [0,0,0], q_start.asRotationMatrix())\n",
    "\n",
    "def update_plot(change):\n",
    "    global x_axis1, y_axis1, z_axis1\n",
    "    global x_axis2, y_axis2, z_axis2\n",
    "    \n",
    "    x_axis1.remove()\n",
    "    y_axis1.remove()\n",
    "    z_axis1.remove()\n",
    "\n",
    "    x_axis2.remove()\n",
    "    y_axis2.remove()\n",
    "    z_axis2.remove()\n",
    "    \n",
    "    q_interpolated1 = Quaternion.slerp(q_start, q_target, s_slider.value)    \n",
    "    q_interpolated2 = Quaternion.slerp(q_start, q_target_antipodal, s_slider.value)  \n",
    "    \n",
    "    x_axis1, y_axis1, z_axis1 = draw_frame(ax, [0,0,0], q_interpolated1.asRotationMatrix())\n",
    "    x_axis2, y_axis2, z_axis2 = draw_frame(ax, [0,0,0], q_interpolated2.asRotationMatrix())\n",
    "\n",
    "    fig.canvas.draw()\n",
    "    fig.canvas.flush_events()\n",
    "\n",
    "    \n",
    "s_slider.observe(update_plot, names = 'value')\n",
    "\n",
    "widgets.AppLayout(\n",
    "    center=fig.canvas,\n",
    "    footer=widgets.VBox([s_slider]),\n",
    "    pane_heights=[0, 3, 1]\n",
    ")"
   ]
  },
  {
   "cell_type": "markdown",
   "id": "a66694b1-1178-404e-b7ea-2a720a45c45f",
   "metadata": {
    "editable": true,
    "slideshow": {
     "slide_type": "slide"
    },
    "tags": []
   },
   "source": [
    "# Dual Quaternions: Screw Transformation\n",
    "---\n",
    "<div style=\"font-family: 'Helvetica Neue', Arial, sans-serif; display: flex; justify-content: space-between;\">\n",
    "\n",
    "<!-- Left column for text -->\n",
    "<div style=\"width: 48%;\">\n",
    "\n",
    "The screw axis $\\vec{s} \\in \\mathbb{R}^6$ is defined from a unit rotation axis $\\tilde{r}$ and a position $\\vec{p}$\n",
    "\n",
    "$$ \n",
    "\\vec{s} = (\\tilde{r}, \\vec{p} \\times \\tilde{r}) = (\\tilde{r}, \\vec{m})\n",
    "$$\n",
    "\n",
    "Here, $\\vec{m} = \\vec{p} \\times \\tilde{r}$ is called the moment of the line.\n",
    "\n",
    "As exponent for the screw transformation, the screw axis is often represented by the respective *Pure Dual Quaternion* $\\underline{\\bar{s}} = (0, \\tilde{r}) + \\epsilon (0, \\vec{m}).$\n",
    "    \n",
    "</div>\n",
    "\n",
    "<!-- Right column for image -->\n",
    "<div style=\"width: 48%;\">\n",
    "    <img src=\"./Resources/screw.png\" alt=\"calibration scheme\" style=\"max-width: 500px; width: 100%; display: block; margin-left: auto; margin-right: auto;margin-top: 100px;\">\n",
    "    <p style=\"text-align: center; font-style: italic; margin-top: 10px;\">Screw Axis example.</p>\n",
    "</div>"
   ]
  },
  {
   "cell_type": "markdown",
   "id": "2d6429c8-5d89-46cc-8764-f089169512b4",
   "metadata": {
    "editable": true,
    "slideshow": {
     "slide_type": "slide"
    },
    "tags": []
   },
   "source": [
    "# Dual Quaternions: Screw Transformation\n",
    "---\n",
    "A unit dual quaternion $ \\underline{\\xi} $ can then be computed from screw parameters with exponential mapping:\n",
    "\n",
    "$$\n",
    "\\underline{\\xi} = e^{\\frac{\\underline{\\theta}}{2}\\bar{\\underline{s}}} = \\cos(\\frac{\\underline{\\theta}}{2}) + \\bar{\\underline{s}} \\sin(\\frac{\\underline{\\theta}}{2})\n",
    "$$\n",
    "\n",
    "with dual angle $\\underline{\\theta} = \\theta + \\epsilon d$ and pure dual quaternion (dual vector) $\\bar{\\underline{s}} = (0,\\tilde{r}) + \\epsilon (0,\\vec{m})$.\n",
    "\n",
    "dual angle:\n",
    "\n",
    "- $\\theta$: Angle of rotation around screw axis\n",
    "- $d$: translation along screw axis ($d = 0$ for revolute joints)\n"
   ]
  },
  {
   "cell_type": "code",
   "execution_count": 2,
   "id": "82e4bee9-e600-41ec-8fe9-4b4ccc9001aa",
   "metadata": {
    "editable": true,
    "slideshow": {
     "slide_type": ""
    },
    "tags": []
   },
   "outputs": [
    {
     "data": {
      "application/vnd.jupyter.widget-view+json": {
       "model_id": "19212f2930ea44db8f31c5ad5da80131",
       "version_major": 2,
       "version_minor": 0
      },
      "text/plain": [
       "AppLayout(children=(VBox(children=(Text(value='', description='screw', layout=Layout(width='98%')), FloatSlide…"
      ]
     },
     "execution_count": 2,
     "metadata": {},
     "output_type": "execute_result"
    }
   ],
   "source": [
    "fig, ax = create_3d_plot()\n",
    "\n",
    "quaternion_display = create_textbox(\"screw\")\n",
    "\n",
    "angle_slider = create_slider(\"theta\", 0, -2*np.pi, 2*np.pi)\n",
    "azimuth_slider = create_slider(\"azimuth\", 0.5, -2*np.pi, 2*np.pi)\n",
    "elevation_slider = create_slider(\"elevation\",1.2, -np.pi, np.pi)\n",
    "\n",
    "x_slider = create_slider(\"x\", .2, -1, 1)\n",
    "y_slider = create_slider(\"y\", .3, -1, 1)\n",
    "z_slider = create_slider(\"z\", 0, -1, 1)\n",
    "\n",
    "rotation_axis = create_quiver(ax, [0,0,0], [1,0,0], 1, 'grey', \"rotation_axis\")\n",
    "x_axis2, y_axis2, z_axis2 = draw_frame(ax, [0.1,.2,.1], np.eye(3))\n",
    "dq_frame = DualQuaternion.fromQuatPos(Quaternion(1,0,0,0), [0.1,.2,.1])\n",
    "\n",
    "rot_axis = ax.plot([-2, 2], [0,0], [0,0], \"--\", linewidth = 1, c = \"k\")\n",
    "moment = ax.plot([0,0], [0,0], [0,0], \"--\", linewidth = 1, c = \"k\")\n",
    "\n",
    "# Update function for the sliders\n",
    "def update_plot(change):\n",
    "\n",
    "    global rotation_axis, x_axis2, y_axis2, z_axis2, rot_axis, moment\n",
    "    rotation_axis.remove()\n",
    "    x_axis2.remove()\n",
    "    y_axis2.remove()\n",
    "    z_axis2.remove()\n",
    "    rot_axis[0].remove()\n",
    "    moment[0].remove()\n",
    "    \n",
    "    direction = spherical_coordinates(azimuth_slider.value, elevation_slider.value)\n",
    "    \n",
    "    # set position vector\n",
    "    pos = [x_slider.value, y_slider.value, z_slider.value]\n",
    "    \n",
    "    screw_axis = DualQuaternion.screwAxis(*direction, *pos)\n",
    "    \n",
    "    theta = angle_slider.value\n",
    "    d = 0.2*angle_slider.value\n",
    "   \n",
    "    exponent = DualQuaternion(screw_axis.real*theta, screw_axis.dual*theta + screw_axis.real*d)\n",
    "    dq = DualQuaternion.exp(0.5*exponent)*dq_frame\n",
    "    \n",
    "    # update displays\n",
    "    quaternion_display.value = str(screw_axis)\n",
    "    \n",
    "    # update the drawn vectors and the arc\n",
    "    rotation_axis = create_quiver(ax, pos, direction,1, 'grey', \"rotation_axis\")\n",
    "    \n",
    "    rot_axis = ax.plot([pos[0]-direction[0]*2, pos[0]+direction[0]*2], [pos[1]-direction[1]*2, pos[1]+direction[1]*2], [pos[2]-direction[2]*2, pos[2]+direction[2]*2], \"--\", linewidth = 1, c = \"black\")\n",
    "    moment = ax.plot([0, pos[0]], [0, pos[1]], [0, pos[2]], \"--\", linewidth = 1, c = \"k\")\n",
    " \n",
    "    x_axis2, y_axis2, z_axis2 = draw_frame(ax, dq.getPosition().flatten(), dq.real.asRotationMatrix()*0.5)\n",
    "    \n",
    "    fig.canvas.draw()\n",
    "    fig.canvas.flush_events()\n",
    "\n",
    "\n",
    "angle_slider.observe(update_plot, names = 'value')\n",
    "azimuth_slider.observe(update_plot, names='value')\n",
    "elevation_slider.observe(update_plot, names='value')\n",
    "x_slider.observe(update_plot, names='value')\n",
    "y_slider.observe(update_plot, names='value')\n",
    "z_slider.observe(update_plot, names='value')\n",
    "\n",
    "widgets.AppLayout(\n",
    "    center=fig.canvas,\n",
    "    footer=widgets.VBox([quaternion_display, angle_slider, azimuth_slider, elevation_slider, x_slider, y_slider, z_slider]),\n",
    "    pane_heights=[0, 2, 1])"
   ]
  },
  {
   "cell_type": "markdown",
   "id": "b2aa8953-b17b-4cf3-af0b-58ee1248080e",
   "metadata": {
    "editable": true,
    "slideshow": {
     "slide_type": "slide"
    },
    "tags": []
   },
   "source": [
    "# State of the Art: Online Motion Control\n",
    "---"
   ]
  },
  {
   "cell_type": "markdown",
   "id": "30275964-173f-442a-96a3-2f179b84f541",
   "metadata": {
    "editable": true,
    "slideshow": {
     "slide_type": ""
    },
    "tags": []
   },
   "source": [
    "<a id=\"table21\"></a>\n",
    "\n",
    "<table>\n",
    "    <thead>\n",
    "      <tr>\n",
    "        <th style=\"width: 200px\";>Feature</th>\n",
    "        <th>analytic IK</th>\n",
    "        <th>iterative IK</th>\n",
    "        <th>IDK (classic)</th>\n",
    "        <th>IDK (QP)</th>\n",
    "        <th>MPC</th>\n",
    "        <th>NMPC</th>\n",
    "      </tr>\n",
    "    </thead>\n",
    "    <tbody>\n",
    "      <tr>\n",
    "        <td>real-time applicable</td>\n",
    "        <td>yes</td>\n",
    "        <td>no</td>\n",
    "        <td>yes</td>\n",
    "        <td>yes</td>\n",
    "        <td>no</td>\n",
    "        <td>no</td>\n",
    "      </tr>\n",
    "      <tr>\n",
    "        <td>predictive approach</td>\n",
    "        <td>no</td>\n",
    "        <td>no</td>\n",
    "        <td>no</td>\n",
    "        <td>no</td>\n",
    "        <td>yes</td>\n",
    "        <td>yes</td>\n",
    "      </tr>\n",
    "      <tr>\n",
    "        <td>nullspace projection</td>\n",
    "        <td>no</td>\n",
    "        <td>yes</td>\n",
    "        <td>yes</td>\n",
    "        <td>yes</td>\n",
    "        <td>yes</td>\n",
    "        <td>yes</td>\n",
    "      </tr>\n",
    "      <tr>\n",
    "        <td>extra constraints</td>\n",
    "        <td>no</td>\n",
    "        <td>no</td>\n",
    "        <td>no</td>\n",
    "        <td>yes</td>\n",
    "        <td>yes</td>\n",
    "        <td>yes</td>\n",
    "      </tr>\n",
    "      <tr>\n",
    "        <td>locally smooth</td>\n",
    "        <td>no</td>\n",
    "        <td>no</td>\n",
    "        <td>yes</td>\n",
    "        <td>yes</td>\n",
    "        <td>yes</td>\n",
    "        <td>yes</td>\n",
    "      </tr>\n",
    "    </tbody>\n",
    "  </table>\n",
    "  \n",
    "<p style=\"text-align: center;\"><strong>Table 2.1</strong>: Comparison of common inverse kinematic methods.</p>"
   ]
  },
  {
   "cell_type": "markdown",
   "id": "92b00ee2-4fb1-4c8f-885a-bfcee6e5699c",
   "metadata": {
    "editable": true,
    "slideshow": {
     "slide_type": "slide"
    },
    "tags": []
   },
   "source": [
    "# State of the Art: Dual Quaternion Interpolation\n",
    "---"
   ]
  },
  {
   "cell_type": "markdown",
   "id": "26a4d720-9945-4160-89ff-ce9c96a8208f",
   "metadata": {
    "editable": true,
    "slideshow": {
     "slide_type": ""
    },
    "tags": []
   },
   "source": [
    "<a id=\"table22\"></a>\n",
    "\n",
    "<table>\n",
    "    <thead>\n",
    "      <tr>\n",
    "        <th style=\"width: 200px\";>Feature</th>\n",
    "        <th>DLB</th>\n",
    "        <th>ScLERP</th>\n",
    "        <th>SEP(LERP)</th>\n",
    "        <th>Bezier</th>\n",
    "        <th>SCB</th>\n",
    "      </tr>\n",
    "    </thead>\n",
    "    <tbody>\n",
    "      <tr>\n",
    "        <td>decoupled interpolation</td>\n",
    "        <td>no</td>\n",
    "        <td>no</td>\n",
    "        <td>yes</td>\n",
    "        <td>yes</td>\n",
    "        <td>-</td>\n",
    "      </tr>\n",
    "      <tr>\n",
    "        <td>multipoint interpolation</td>\n",
    "        <td>no</td>\n",
    "        <td>no</td>\n",
    "        <td>no</td>\n",
    "        <td>yes</td>\n",
    "        <td>yes</td>\n",
    "      </tr>\n",
    "      <tr>\n",
    "        <td>definable motion profiles</td>\n",
    "        <td>no</td>\n",
    "        <td>no</td>\n",
    "        <td>yes</td>\n",
    "        <td>no</td>\n",
    "        <td>-</td>\n",
    "      </tr>\n",
    "      <tr>\n",
    "        <td>constant velocity</td>\n",
    "        <td>no</td>\n",
    "        <td>yes</td>\n",
    "        <td>yes</td>\n",
    "        <td>yes</td>\n",
    "        <td>yes</td>\n",
    "      </tr>\n",
    "      <tr>\n",
    "        <td>$\\mathcal{C}^2$ continuity</td>\n",
    "        <td>no</td>\n",
    "        <td>no</td>\n",
    "        <td>no</td>\n",
    "        <td>no</td>\n",
    "        <td>yes</td>\n",
    "      </tr>\n",
    "      <tr>\n",
    "        <td>translation interpolation</td>\n",
    "        <td>yes</td>\n",
    "        <td>yes</td>\n",
    "        <td>yes</td>\n",
    "        <td>yes</td>\n",
    "        <td>no</td>\n",
    "      </tr>\n",
    "      <tr>\n",
    "        <td>orientation interpolation</td>\n",
    "        <td>yes</td>\n",
    "        <td>yes</td>\n",
    "        <td>yes</td>\n",
    "        <td>yes</td>\n",
    "        <td>yes</td>\n",
    "      </tr>\n",
    "    </tbody>\n",
    "  </table>\n",
    "  \n",
    "  <p style=\"text-align: center\"><strong>Table 2.2</strong>: Comparison of common dual quaternion interpolation methods</p>"
   ]
  },
  {
   "cell_type": "markdown",
   "id": "3a9d066d-d458-4104-b84e-dbe22345de2c",
   "metadata": {
    "editable": true,
    "slideshow": {
     "slide_type": "slide"
    },
    "tags": []
   },
   "source": [
    "# Dual Quaternion Jacobian\n",
    "---\n",
    "The relation of the twist and the dual quaternion derivative is recalled for this transformation into the dual quaternion space. \n",
    "\n",
    "$$\n",
    "\\begin{align*}\n",
    "\\underline{\\dot{\\xi}} &= \\frac{1}{2} \\underline{\\bar{\\Omega}}_s \\otimes \\underline{\\xi}\\\\\n",
    "&= \\frac{1}{2} [\\underline{\\xi}]_R \\cdot \\underline{\\bar{\\Omega}}_{s[vec]}\n",
    "\\end{align*}\n",
    "$$\n",
    "\n",
    "Substitution of the twist $\\vec{\\Omega}_s = J_s \\dot{\\vec{\\theta}}$ with the space Jacobian and reformulation yields gives the *Unit Dual Quaternion Jacobian* $J_\\mathbb{H}$:\n",
    "\n",
    "$$\n",
    "\\begin{align*}\n",
    "\\underline{\\dot{\\xi}} &= \\left(\\frac{1}{2} [\\underline{\\xi}]_R J_s \\right) \\dot{\\vec{\\theta}}\\\\\n",
    "&= J_\\mathbb{H}\\dot{\\vec{\\theta}}\n",
    "\\end{align*}\n",
    "$$"
   ]
  },
  {
   "cell_type": "markdown",
   "id": "048cf421-cc71-439a-a895-8b1eeae66638",
   "metadata": {
    "editable": true,
    "slideshow": {
     "slide_type": "slide"
    },
    "tags": []
   },
   "source": [
    "# Predictive Differential Kinematics: Quadratic Formulation\n",
    "---\n",
    "\n",
    "\n",
    "$$\n",
    "\\begin{align*}\n",
    "\\min_{x}& \\; f(x) = \\frac{1}{2} x^T P x + q^T x \\\\\n",
    "\\textrm{subject to}& \\; l \\leq Ax \\leq u \\\\\n",
    "\\end{align*}\n",
    "$$\n"
   ]
  },
  {
   "cell_type": "markdown",
   "id": "ea1756a0-e1e4-4754-b806-5ac389bf6b78",
   "metadata": {
    "editable": true,
    "slideshow": {
     "slide_type": "slide"
    },
    "tags": []
   },
   "source": [
    "# Predictive Differential Kinematics: Yoshikawa Manipulability Optimization\n",
    "---\n",
    "\n",
    "Yoshikawa manipulability Measure:\n",
    "\n",
    "$$\n",
    "m(\\theta) = \\sqrt{\\det \\left( J(\\theta)J(\\theta)^T \\right)}\n",
    "$$\n",
    "\n",
    "Yoshikawa Manipulability gradient: \n",
    "\n",
    "$$\n",
    "\\dot{m}(\\theta) = \\frac{d m(\\theta)}{d\\vec{\\theta}}\\dot{\\vec{\\theta}} = J_m^T\\dot{\\vec{\\theta}}\n",
    "$$\n",
    "\n",
    "with the formulation from Corke and Haviland:\n",
    "\n",
    "$$\n",
    "J_m(\\theta) = \\sqrt{ \\det \\left( J(\\theta)J(\\theta)^T \\right)}\n",
    "\\begin{bmatrix}\n",
    "\\text{vec}(J(\\theta)H_1(\\theta)^T) & \\text{vec}((J(\\theta)J(\\theta)^T)^{-1}) \\\\\n",
    "\\text{vec}(J(\\theta)H_2(\\theta)^T) & \\text{vec}((J(\\theta)J(\\theta)^T)^{-1}) \\\\\n",
    "\\vdots & \\vdots \\\\\n",
    "\\text{vec}(J(\\theta)H_{DoF}(\\theta)^T) & \\text{vec}((J(\\theta)J(\\theta)^T)^{-1})\n",
    "\\end{bmatrix}\n",
    "$$"
   ]
  },
  {
   "cell_type": "markdown",
   "id": "f4bec84e-6522-4ae3-ba27-bb7405339cdd",
   "metadata": {
    "editable": true,
    "slideshow": {
     "slide_type": "slide"
    },
    "tags": []
   },
   "source": [
    "# Predictive Differential Kinematics: Directional Manipulability Optimization\n",
    "---\n",
    "\n",
    "With the direction which is computed from the dual quaternionic body twist, \n",
    "\n",
    "$$\n",
    " dir = \\left( o_x, o_y, o_z, t_x, t_y, t_z \\right) = \\underline{\\bar{\\Omega}}_{b[6vec]} = \\left[ \\underline{\\xi}_{des}^*\\otimes \\underline{\\dot{\\xi}}_{des}\\right]_{6vec}\n",
    "$$\n",
    "\n",
    "The directional Gradient can be computed via weighing and regularization of the classic formulation of the manipulability gradient:\n",
    "\n",
    "$$\n",
    "J_{dir}(\\theta) = \n",
    "\\begin{bmatrix}\n",
    "\\text{vec}(\\color{red}{W_{dir}}\\color{black}{} J(\\theta)H_1(\\theta)^T) & \\text{vec}((J(\\theta)J(\\theta)^T  + \\color{blue}{\\lambda I}\\color{black}{})^{-1}) \\\\\n",
    "\\text{vec}(\\color{red}{W_{dir}}\\color{black}{} J(\\theta)H_2(\\theta)^T) & \\text{vec}((J(\\theta)J(\\theta)^T + \\color{blue}{\\lambda I}\\color{black}{})^{-1}) \\\\\n",
    "\\vdots & \\vdots \\\\\n",
    "\\text{vec}(\\color{red}{W_{dir}}\\color{black}{} J(\\theta)H_{DoF}(\\theta)^T) & \\text{vec}((J(\\theta)J(\\theta)^T + \\color{blue}{\\lambda I}\\color{black}{})^{-1}) \n",
    "\\end{bmatrix}\n",
    "$$"
   ]
  },
  {
   "cell_type": "markdown",
   "id": "05bcdec9-8da9-400e-bd17-8e7ca5575db1",
   "metadata": {
    "editable": true,
    "slideshow": {
     "slide_type": "slide"
    },
    "tags": []
   },
   "source": [
    "# Predictive Differential Kinematics: Prediction\n",
    "---\n",
    "\n",
    "$$\n",
    "dir_{pred}(t) = \\frac{ dir_0 + 2 \\sum_{i=0}^{n} \\left| \\left[ \\underline{\\xi}_{des}^*(t + i \\Delta t)\\otimes \\underline{\\dot{\\xi}}_{des}(t + i \\Delta t)\\right]_{6vec}\\right|}{ \\left\\| dir_0 + 2 \\sum_{i=0}^{n} \\left[ \\underline{\\xi}_{des}^*(t + i \\Delta t)\\otimes \\underline{\\dot{\\xi}}_{des}(t + i \\Delta t)\\right]_{6vec}\\right\\|} \n",
    "$$\n"
   ]
  },
  {
   "cell_type": "markdown",
   "id": "0280f006-20f5-4b2b-a319-33451f96e7c1",
   "metadata": {
    "editable": true,
    "slideshow": {
     "slide_type": "slide"
    },
    "tags": []
   },
   "source": [
    "# Predictive Differential Kinematics: proposed Method\n",
    "---\n",
    "\n",
    "$$\n",
    "\\begin{align*}\n",
    "\\min_{x} \\; f(x) = &\\frac{1}{2} \n",
    "\\begin{bmatrix}\n",
    "\\dot{\\theta}\\\\\n",
    "\\ddot{\\theta}\\\\\n",
    "s\n",
    "\\end{bmatrix}^T \n",
    "\\begin{bmatrix}\n",
    "W_{\\dot{\\theta}} & 0 & 0\\\\\n",
    "0 & W_{\\ddot{\\theta}} & 0\\\\\n",
    "0 & 0 & \\lambda_s\n",
    "\\end{bmatrix}\n",
    "\\begin{bmatrix}\n",
    "\\dot{\\theta}\\\\\n",
    "\\ddot{\\theta}\\\\\n",
    "s\n",
    "\\end{bmatrix} + \n",
    "\\begin{bmatrix}\n",
    "(W_p \\theta + \\lambda_l J_l(\\theta) - \\lambda_{dir}J_{dir}(\\theta, dir))\\\\\n",
    "W_v \\dot{\\theta} \\\\\n",
    "-2\\lambda_s\n",
    "\\end{bmatrix}^T \n",
    "\\begin{bmatrix}\n",
    "\\dot{\\theta}\\\\\n",
    "\\ddot{\\theta}\\\\\n",
    "s\n",
    "\\end{bmatrix}\\\\\n",
    "\\\\\n",
    "\\textrm{subject to}& \\; \n",
    "\\begin{bmatrix}\n",
    "0_{8 \\times 1}\\\\\n",
    "\\dot{\\theta}_{k-1}\\\\\n",
    "\\dot{\\theta}_m\\\\\n",
    "-inf\\\\\n",
    "0\n",
    "\\end{bmatrix} \n",
    "\\leq \n",
    "\\begin{bmatrix}\n",
    "J_\\mathbb{H}(\\theta) & 0_{8 \\times DoF} &-[\\dot{\\underline{\\xi}}_{des} + k_p\\left(\\underline{\\xi}_{des} - fk(\\theta)\\right)]_{vec}\\\\\n",
    "I_{DoF \\times DoF} & -\\Delta t I_{DoF \\times DoF} & 0_{DoF \\times 1}\\\\\n",
    "I_{DoF \\times DoF} & 0_{DoF \\times DoF} & 0_{DoF \\times 1}\\\\\n",
    "0_{DoF \\times DoF} & I_{DoF \\times DoF} & 0_{DoF \\times 1}\\\\\n",
    "0_{1 \\times DoF} & 0_{1 \\times DoF} & 1\\\\\n",
    "\\end{bmatrix} \n",
    "\\begin{bmatrix}\n",
    "\\dot{\\theta}\\\\\n",
    "\\ddot{\\theta}\\\\\n",
    "s\n",
    "\\end{bmatrix} \\leq \n",
    "\\begin{bmatrix}\n",
    "0_{8 \\times 1}\\\\\n",
    "\\dot{\\theta}_{k-1}\\\\\n",
    "\\dot{\\theta}_M\\\\\n",
    "inf\\\\\n",
    "1\n",
    "\\end{bmatrix} \n",
    "\\end{align*}\n",
    "$$"
   ]
  },
  {
   "cell_type": "markdown",
   "id": "b4d99a49-26a1-4651-8efd-5e99141c9713",
   "metadata": {
    "editable": true,
    "slideshow": {
     "slide_type": "slide"
    },
    "tags": []
   },
   "source": [
    "# Predictive Differential Kinematics: Comparison to Yoshikawa manipulability\n",
    "---\n"
   ]
  },
  {
   "cell_type": "markdown",
   "id": "b14945a3-61b2-41b2-ba5e-42b49fcd0a5e",
   "metadata": {
    "editable": true,
    "slideshow": {
     "slide_type": "slide"
    },
    "tags": []
   },
   "source": [
    "# Predictive Differential Kinematics\n",
    "---\n"
   ]
  },
  {
   "cell_type": "markdown",
   "id": "fb8dda13-99ad-4232-a2df-3cdd850a6bd9",
   "metadata": {
    "editable": true,
    "slideshow": {
     "slide_type": "slide"
    },
    "tags": []
   },
   "source": [
    "<div style=\"font-family: 'Helvetica Neue', Arial, sans-serif;\">\n",
    "<h1 style=\"border-bottom: 2px solid #ddd; padding-bottom: 10px;\">Orientation Representation with Unit Quaternions: Axis Angle</h1>\n",
    "    \n",
    "<p>Given an unit-length axis $ \\hat{\\mathbf{n}} = [n_x, n_y, n_z] $ and an angle $ \\theta $, the corresponding quaternion $ q =(w, \\mathbf{v}) $ is given by:</p>\n",
    "<p>$$ q = (\\cos\\left(\\frac{\\theta}{2}\\right), \\sin\\left(\\frac{\\theta}{2}\\right)\\hat{\\mathbf{n}}) $$</p>\n",
    "</div>"
   ]
  },
  {
   "cell_type": "markdown",
   "id": "63b3fd5d-be40-4167-929a-1fb1d6fcb7a6",
   "metadata": {
    "editable": true,
    "slideshow": {
     "slide_type": "slide"
    },
    "tags": []
   },
   "source": [
    "<div style=\"font-family: 'Helvetica Neue', Arial, sans-serif;\">\n",
    "<h1 style=\"border-bottom: 2px solid #ddd; padding-bottom: 10px;\">Orientation Representation with Unit Quaternions: Axis Angle</h1>\n",
    "    \n",
    "<p>Given an unit-length axis $ \\hat{\\mathbf{n}} = [n_x, n_y, n_z] $ and an angle $ \\theta $, the corresponding quaternion $ q =(w, \\mathbf{v}) $ is given by:</p>\n",
    "<p>$$ q = (\\cos\\left(\\frac{\\theta}{2}\\right), \\sin\\left(\\frac{\\theta}{2}\\right)\\hat{\\mathbf{n}}) $$</p>\n",
    "</div>"
   ]
  },
  {
   "cell_type": "markdown",
   "id": "2866633f-57e1-4058-a6f9-81b2485b140f",
   "metadata": {
    "editable": true,
    "slideshow": {
     "slide_type": "slide"
    },
    "tags": []
   },
   "source": [
    "<div style=\"font-family: 'Helvetica Neue', Arial, sans-serif;\">\n",
    "<h1 style=\"border-bottom: 2px solid #ddd; padding-bottom: 10px;\">Orientation Representation with Unit Quaternions: Axis Angle</h1>\n",
    "    \n",
    "<p>Given an unit-length axis $ \\hat{\\mathbf{n}} = [n_x, n_y, n_z] $ and an angle $ \\theta $, the corresponding quaternion $ q =(w, \\mathbf{v}) $ is given by:</p>\n",
    "<p>$$ q = (\\cos\\left(\\frac{\\theta}{2}\\right), \\sin\\left(\\frac{\\theta}{2}\\right)\\hat{\\mathbf{n}}) $$</p>\n",
    "</div>"
   ]
  },
  {
   "cell_type": "markdown",
   "id": "9ebb394b-c40e-4933-9003-c21800d14a11",
   "metadata": {
    "editable": true,
    "slideshow": {
     "slide_type": "slide"
    },
    "tags": []
   },
   "source": [
    "<div style=\"font-family: 'Helvetica Neue', Arial, sans-serif;\">\n",
    "<h1 style=\"border-bottom: 2px solid #ddd; padding-bottom: 10px;\">Orientation Representation with Unit Quaternions: Axis Angle</h1>\n",
    "    \n",
    "<p>Given an unit-length axis $ \\hat{\\mathbf{n}} = [n_x, n_y, n_z] $ and an angle $ \\theta $, the corresponding quaternion $ q =(w, \\mathbf{v}) $ is given by:</p>\n",
    "<p>$$ q = (\\cos\\left(\\frac{\\theta}{2}\\right), \\sin\\left(\\frac{\\theta}{2}\\right)\\hat{\\mathbf{n}}) $$</p>\n",
    "</div>"
   ]
  },
  {
   "cell_type": "markdown",
   "id": "07c356af-794a-4cc6-98ff-5c3cc2c05c70",
   "metadata": {
    "editable": true,
    "slideshow": {
     "slide_type": "slide"
    },
    "tags": []
   },
   "source": [
    "<div style=\"font-family: 'Helvetica Neue', Arial, sans-serif;\">\n",
    "<h1 style=\"border-bottom: 2px solid #ddd; padding-bottom: 10px;\">Orientation Representation with Unit Quaternions: Axis Angle</h1>\n",
    "    \n",
    "<p>Given an unit-length axis $ \\hat{\\mathbf{n}} = [n_x, n_y, n_z] $ and an angle $ \\theta $, the corresponding quaternion $ q =(w, \\mathbf{v}) $ is given by:</p>\n",
    "<p>$$ q = (\\cos\\left(\\frac{\\theta}{2}\\right), \\sin\\left(\\frac{\\theta}{2}\\right)\\hat{\\mathbf{n}}) $$</p>\n",
    "</div>"
   ]
  },
  {
   "cell_type": "markdown",
   "id": "e01efd74-2c44-47cc-89c5-e20454ce4e83",
   "metadata": {
    "editable": true,
    "slideshow": {
     "slide_type": "slide"
    },
    "tags": []
   },
   "source": [
    "<div style=\"font-family: 'Helvetica Neue', Arial, sans-serif;\">\n",
    "<h1 style=\"border-bottom: 2px solid #ddd; padding-bottom: 10px;\">Orientation Representation with Unit Quaternions: Axis Angle</h1>\n",
    "    \n",
    "<p>Given an unit-length axis $ \\hat{\\mathbf{n}} = [n_x, n_y, n_z] $ and an angle $ \\theta $, the corresponding quaternion $ q =(w, \\mathbf{v}) $ is given by:</p>\n",
    "<p>$$ q = (\\cos\\left(\\frac{\\theta}{2}\\right), \\sin\\left(\\frac{\\theta}{2}\\right)\\hat{\\mathbf{n}}) $$</p>\n",
    "</div>"
   ]
  },
  {
   "cell_type": "code",
   "execution_count": null,
   "id": "bd90e845-9310-418b-a421-79775ad759d7",
   "metadata": {
    "editable": true,
    "slideshow": {
     "slide_type": ""
    },
    "tags": []
   },
   "outputs": [],
   "source": []
  },
  {
   "cell_type": "code",
   "execution_count": null,
   "id": "9d387336-f632-471d-a16c-8b834828b0a0",
   "metadata": {
    "editable": true,
    "slideshow": {
     "slide_type": ""
    },
    "tags": []
   },
   "outputs": [],
   "source": []
  },
  {
   "cell_type": "code",
   "execution_count": null,
   "id": "7f1a43c1-018f-4d0f-9c0a-ef2187a72f12",
   "metadata": {
    "editable": true,
    "slideshow": {
     "slide_type": ""
    },
    "tags": []
   },
   "outputs": [],
   "source": []
  },
  {
   "cell_type": "code",
   "execution_count": null,
   "id": "27f628d9-d91e-4914-a111-cb5c12dd0440",
   "metadata": {
    "editable": true,
    "slideshow": {
     "slide_type": ""
    },
    "tags": []
   },
   "outputs": [],
   "source": []
  },
  {
   "cell_type": "code",
   "execution_count": null,
   "id": "14c2ef9c-1446-444c-95b1-aba6d69242a9",
   "metadata": {
    "editable": true,
    "slideshow": {
     "slide_type": ""
    },
    "tags": []
   },
   "outputs": [],
   "source": []
  },
  {
   "cell_type": "code",
   "execution_count": null,
   "id": "6363878b-9062-4b36-aef0-f064a6fd1481",
   "metadata": {
    "editable": true,
    "slideshow": {
     "slide_type": ""
    },
    "tags": []
   },
   "outputs": [],
   "source": []
  }
 ],
 "metadata": {
  "citation-manager": {
   "items": {}
  },
  "kernelspec": {
   "display_name": "Python 3 (ipykernel)",
   "language": "python",
   "name": "python3"
  },
  "language_info": {
   "codemirror_mode": {
    "name": "ipython",
    "version": 3
   },
   "file_extension": ".py",
   "mimetype": "text/x-python",
   "name": "python",
   "nbconvert_exporter": "python",
   "pygments_lexer": "ipython3",
   "version": "3.11.4"
  }
 },
 "nbformat": 4,
 "nbformat_minor": 5
}
