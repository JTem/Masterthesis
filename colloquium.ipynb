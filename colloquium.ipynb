{
 "cells": [
  {
   "cell_type": "markdown",
   "id": "0a924f87-a75e-479e-a99d-9300c466d366",
   "metadata": {
    "editable": true,
    "slideshow": {
     "slide_type": "slide"
    },
    "tags": []
   },
   "source": [
    "<div style=\"font-family: 'Helvetica Neue', Arial, sans-serif;padding: 10px; text-align: center;\">\n",
    "\n",
    "\n",
    "<div style=\"margin-top: 40px; display: flex;\">\n",
    "    <div style=\"max-width: 600px; margin-right: auto\">\n",
    "        <img src=\"./Resources/neura_logo_black.png\" alt=\"Neura Robotics Logo\" style=\"max-width: 100%; height: auto; object-fit: contain;\">\n",
    "    </div>\n",
    "    <div style=\"max-width: 700px; margin-left: auto\">\n",
    "        <img src=\"./Resources/rwth_igmr_de_rgb.png\" alt=\"Neura Robotics Logo\" style=\"max-width: 100%; height: auto; object-fit: contain;\">\n",
    "    </div>\n",
    "</div>\n",
    "\n",
    "    \n",
    "<div style=\"margin-bottom: 40px; margin-top: 40px;\">\n",
    "    <p style = \"text-align: center\">This Thesis was submitted to the Institute of Mechanism Theory, Machine Dynamics and Robotics\n",
    "</div>\n",
    "    \n",
    "\n",
    "<div style=\"font-family: 'Helvetica Neue', Arial, sans-serif; max-width: 1500px; margin-left: auto; margin-right: auto \">\n",
    "<h2 style = \"text-align: center\">Exploiting Redundancies with Predictive Differential Kinematics in Dual-Quaternion-Space for Configuration-optimized and Singularity-robust Trajectory Tracking</h2>\n",
    "</div>\n",
    "\n",
    "<div style=\"margin-bottom: 40px;\">\n",
    "    <!-- Using the logo from the data folder and making it bigger -->\n",
    "    <img src=\"./Resources/maira.png\" alt=\"Neura Robotics Logo\" style=\"max-width: 1800px; width: 100%;\">\n",
    "</div>\n",
    "\n",
    "\n",
    "\n",
    "</div>"
   ]
  },
  {
   "cell_type": "markdown",
   "id": "bba02fdf-4246-4ce8-9e41-e88bf2b62919",
   "metadata": {
    "editable": true,
    "slideshow": {
     "slide_type": "slide"
    },
    "tags": []
   },
   "source": [
    "<div style=\"font-family: 'Helvetica Neue', Arial, sans-serif;\">\n",
    "<h1 style=\"border-bottom: 2px solid #ddd; padding-bottom: 10px;\">Orientation Representation with Unit Quaternions: Axis Angle</h1>\n",
    "    \n",
    "<p>Given an unit-length axis $ \\hat{\\mathbf{n}} = [n_x, n_y, n_z] $ and an angle $ \\theta $, the corresponding quaternion $ q =(w, \\mathbf{v}) $ is given by:</p>\n",
    "<p>$$ q = (\\cos\\left(\\frac{\\theta}{2}\\right), \\sin\\left(\\frac{\\theta}{2}\\right)\\hat{\\mathbf{n}}) $$</p>\n",
    "</div>"
   ]
  },
  {
   "cell_type": "markdown",
   "id": "e7a6c812-4e06-4685-80dc-e51995c74891",
   "metadata": {
    "editable": true,
    "slideshow": {
     "slide_type": "slide"
    },
    "tags": []
   },
   "source": [
    "## Header\n",
    "---\n",
    "$ q = (\\cos\\left(\\frac{\\theta}{2}\\right), \\sin\\left(\\frac{\\theta}{2}\\right)\\hat{\\mathbf{n}}) $\n"
   ]
  },
  {
   "cell_type": "markdown",
   "id": "fb8dda13-99ad-4232-a2df-3cdd850a6bd9",
   "metadata": {
    "editable": true,
    "slideshow": {
     "slide_type": "slide"
    },
    "tags": []
   },
   "source": [
    "<div style=\"font-family: 'Helvetica Neue', Arial, sans-serif;\">\n",
    "<h1 style=\"border-bottom: 2px solid #ddd; padding-bottom: 10px;\">Orientation Representation with Unit Quaternions: Axis Angle</h1>\n",
    "    \n",
    "<p>Given an unit-length axis $ \\hat{\\mathbf{n}} = [n_x, n_y, n_z] $ and an angle $ \\theta $, the corresponding quaternion $ q =(w, \\mathbf{v}) $ is given by:</p>\n",
    "<p>$$ q = (\\cos\\left(\\frac{\\theta}{2}\\right), \\sin\\left(\\frac{\\theta}{2}\\right)\\hat{\\mathbf{n}}) $$</p>\n",
    "</div>"
   ]
  },
  {
   "cell_type": "markdown",
   "id": "63b3fd5d-be40-4167-929a-1fb1d6fcb7a6",
   "metadata": {
    "editable": true,
    "slideshow": {
     "slide_type": "slide"
    },
    "tags": []
   },
   "source": [
    "<div style=\"font-family: 'Helvetica Neue', Arial, sans-serif;\">\n",
    "<h1 style=\"border-bottom: 2px solid #ddd; padding-bottom: 10px;\">Orientation Representation with Unit Quaternions: Axis Angle</h1>\n",
    "    \n",
    "<p>Given an unit-length axis $ \\hat{\\mathbf{n}} = [n_x, n_y, n_z] $ and an angle $ \\theta $, the corresponding quaternion $ q =(w, \\mathbf{v}) $ is given by:</p>\n",
    "<p>$$ q = (\\cos\\left(\\frac{\\theta}{2}\\right), \\sin\\left(\\frac{\\theta}{2}\\right)\\hat{\\mathbf{n}}) $$</p>\n",
    "</div>"
   ]
  },
  {
   "cell_type": "markdown",
   "id": "2866633f-57e1-4058-a6f9-81b2485b140f",
   "metadata": {
    "editable": true,
    "slideshow": {
     "slide_type": "slide"
    },
    "tags": []
   },
   "source": [
    "<div style=\"font-family: 'Helvetica Neue', Arial, sans-serif;\">\n",
    "<h1 style=\"border-bottom: 2px solid #ddd; padding-bottom: 10px;\">Orientation Representation with Unit Quaternions: Axis Angle</h1>\n",
    "    \n",
    "<p>Given an unit-length axis $ \\hat{\\mathbf{n}} = [n_x, n_y, n_z] $ and an angle $ \\theta $, the corresponding quaternion $ q =(w, \\mathbf{v}) $ is given by:</p>\n",
    "<p>$$ q = (\\cos\\left(\\frac{\\theta}{2}\\right), \\sin\\left(\\frac{\\theta}{2}\\right)\\hat{\\mathbf{n}}) $$</p>\n",
    "</div>"
   ]
  },
  {
   "cell_type": "markdown",
   "id": "9ebb394b-c40e-4933-9003-c21800d14a11",
   "metadata": {
    "editable": true,
    "slideshow": {
     "slide_type": "slide"
    },
    "tags": []
   },
   "source": [
    "<div style=\"font-family: 'Helvetica Neue', Arial, sans-serif;\">\n",
    "<h1 style=\"border-bottom: 2px solid #ddd; padding-bottom: 10px;\">Orientation Representation with Unit Quaternions: Axis Angle</h1>\n",
    "    \n",
    "<p>Given an unit-length axis $ \\hat{\\mathbf{n}} = [n_x, n_y, n_z] $ and an angle $ \\theta $, the corresponding quaternion $ q =(w, \\mathbf{v}) $ is given by:</p>\n",
    "<p>$$ q = (\\cos\\left(\\frac{\\theta}{2}\\right), \\sin\\left(\\frac{\\theta}{2}\\right)\\hat{\\mathbf{n}}) $$</p>\n",
    "</div>"
   ]
  },
  {
   "cell_type": "markdown",
   "id": "07c356af-794a-4cc6-98ff-5c3cc2c05c70",
   "metadata": {
    "editable": true,
    "slideshow": {
     "slide_type": "slide"
    },
    "tags": []
   },
   "source": [
    "<div style=\"font-family: 'Helvetica Neue', Arial, sans-serif;\">\n",
    "<h1 style=\"border-bottom: 2px solid #ddd; padding-bottom: 10px;\">Orientation Representation with Unit Quaternions: Axis Angle</h1>\n",
    "    \n",
    "<p>Given an unit-length axis $ \\hat{\\mathbf{n}} = [n_x, n_y, n_z] $ and an angle $ \\theta $, the corresponding quaternion $ q =(w, \\mathbf{v}) $ is given by:</p>\n",
    "<p>$$ q = (\\cos\\left(\\frac{\\theta}{2}\\right), \\sin\\left(\\frac{\\theta}{2}\\right)\\hat{\\mathbf{n}}) $$</p>\n",
    "</div>"
   ]
  },
  {
   "cell_type": "markdown",
   "id": "e01efd74-2c44-47cc-89c5-e20454ce4e83",
   "metadata": {
    "editable": true,
    "slideshow": {
     "slide_type": "slide"
    },
    "tags": []
   },
   "source": [
    "<div style=\"font-family: 'Helvetica Neue', Arial, sans-serif;\">\n",
    "<h1 style=\"border-bottom: 2px solid #ddd; padding-bottom: 10px;\">Orientation Representation with Unit Quaternions: Axis Angle</h1>\n",
    "    \n",
    "<p>Given an unit-length axis $ \\hat{\\mathbf{n}} = [n_x, n_y, n_z] $ and an angle $ \\theta $, the corresponding quaternion $ q =(w, \\mathbf{v}) $ is given by:</p>\n",
    "<p>$$ q = (\\cos\\left(\\frac{\\theta}{2}\\right), \\sin\\left(\\frac{\\theta}{2}\\right)\\hat{\\mathbf{n}}) $$</p>\n",
    "</div>"
   ]
  },
  {
   "cell_type": "code",
   "execution_count": null,
   "id": "bd90e845-9310-418b-a421-79775ad759d7",
   "metadata": {
    "editable": true,
    "slideshow": {
     "slide_type": ""
    },
    "tags": []
   },
   "outputs": [],
   "source": []
  },
  {
   "cell_type": "code",
   "execution_count": null,
   "id": "9d387336-f632-471d-a16c-8b834828b0a0",
   "metadata": {
    "editable": true,
    "slideshow": {
     "slide_type": ""
    },
    "tags": []
   },
   "outputs": [],
   "source": []
  },
  {
   "cell_type": "code",
   "execution_count": null,
   "id": "7f1a43c1-018f-4d0f-9c0a-ef2187a72f12",
   "metadata": {
    "editable": true,
    "slideshow": {
     "slide_type": ""
    },
    "tags": []
   },
   "outputs": [],
   "source": []
  },
  {
   "cell_type": "code",
   "execution_count": null,
   "id": "27f628d9-d91e-4914-a111-cb5c12dd0440",
   "metadata": {
    "editable": true,
    "slideshow": {
     "slide_type": ""
    },
    "tags": []
   },
   "outputs": [],
   "source": []
  },
  {
   "cell_type": "code",
   "execution_count": null,
   "id": "14c2ef9c-1446-444c-95b1-aba6d69242a9",
   "metadata": {
    "editable": true,
    "slideshow": {
     "slide_type": ""
    },
    "tags": []
   },
   "outputs": [],
   "source": []
  },
  {
   "cell_type": "code",
   "execution_count": null,
   "id": "6363878b-9062-4b36-aef0-f064a6fd1481",
   "metadata": {
    "editable": true,
    "slideshow": {
     "slide_type": ""
    },
    "tags": []
   },
   "outputs": [],
   "source": []
  }
 ],
 "metadata": {
  "citation-manager": {
   "items": {}
  },
  "kernelspec": {
   "display_name": "Python 3 (ipykernel)",
   "language": "python",
   "name": "python3"
  },
  "language_info": {
   "codemirror_mode": {
    "name": "ipython",
    "version": 3
   },
   "file_extension": ".py",
   "mimetype": "text/x-python",
   "name": "python",
   "nbconvert_exporter": "python",
   "pygments_lexer": "ipython3",
   "version": "3.11.4"
  }
 },
 "nbformat": 4,
 "nbformat_minor": 5
}
